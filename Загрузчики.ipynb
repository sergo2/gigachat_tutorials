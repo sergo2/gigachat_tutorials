{
  "nbformat": 4,
  "nbformat_minor": 0,
  "metadata": {
    "colab": {
      "provenance": [],
      "include_colab_link": true
    },
    "kernelspec": {
      "name": "python3",
      "display_name": "Python 3"
    },
    "language_info": {
      "name": "python"
    },
    "widgets": {
      "application/vnd.jupyter.widget-state+json": {
        "a3f9442a666447e0b58f7725258bfca5": {
          "model_module": "@jupyter-widgets/controls",
          "model_name": "HBoxModel",
          "model_module_version": "1.5.0",
          "state": {
            "_dom_classes": [],
            "_model_module": "@jupyter-widgets/controls",
            "_model_module_version": "1.5.0",
            "_model_name": "HBoxModel",
            "_view_count": null,
            "_view_module": "@jupyter-widgets/controls",
            "_view_module_version": "1.5.0",
            "_view_name": "HBoxView",
            "box_style": "",
            "children": [
              "IPY_MODEL_2b8c84c0b7c44d619d94d2449f10b991",
              "IPY_MODEL_01aa0079aa7143b18ee1c6bdbc4ced14",
              "IPY_MODEL_a709ce26b40440e79316934e53403d76"
            ],
            "layout": "IPY_MODEL_660469826c38423ba0f07a27083eb768"
          }
        },
        "2b8c84c0b7c44d619d94d2449f10b991": {
          "model_module": "@jupyter-widgets/controls",
          "model_name": "HTMLModel",
          "model_module_version": "1.5.0",
          "state": {
            "_dom_classes": [],
            "_model_module": "@jupyter-widgets/controls",
            "_model_module_version": "1.5.0",
            "_model_name": "HTMLModel",
            "_view_count": null,
            "_view_module": "@jupyter-widgets/controls",
            "_view_module_version": "1.5.0",
            "_view_name": "HTMLView",
            "description": "",
            "description_tooltip": null,
            "layout": "IPY_MODEL_1cd4e2541b8e4efeb51703311bf6b3e2",
            "placeholder": "​",
            "style": "IPY_MODEL_69c553505e2a42a182aca597b8b4b743",
            "value": "modules.json: 100%"
          }
        },
        "01aa0079aa7143b18ee1c6bdbc4ced14": {
          "model_module": "@jupyter-widgets/controls",
          "model_name": "FloatProgressModel",
          "model_module_version": "1.5.0",
          "state": {
            "_dom_classes": [],
            "_model_module": "@jupyter-widgets/controls",
            "_model_module_version": "1.5.0",
            "_model_name": "FloatProgressModel",
            "_view_count": null,
            "_view_module": "@jupyter-widgets/controls",
            "_view_module_version": "1.5.0",
            "_view_name": "ProgressView",
            "bar_style": "success",
            "description": "",
            "description_tooltip": null,
            "layout": "IPY_MODEL_2d884538f8554d98a736aac0d52b1911",
            "max": 229,
            "min": 0,
            "orientation": "horizontal",
            "style": "IPY_MODEL_8cccd71dc7734fceacd63c0b89c39331",
            "value": 229
          }
        },
        "a709ce26b40440e79316934e53403d76": {
          "model_module": "@jupyter-widgets/controls",
          "model_name": "HTMLModel",
          "model_module_version": "1.5.0",
          "state": {
            "_dom_classes": [],
            "_model_module": "@jupyter-widgets/controls",
            "_model_module_version": "1.5.0",
            "_model_name": "HTMLModel",
            "_view_count": null,
            "_view_module": "@jupyter-widgets/controls",
            "_view_module_version": "1.5.0",
            "_view_name": "HTMLView",
            "description": "",
            "description_tooltip": null,
            "layout": "IPY_MODEL_96de0e722913406495c46a87b8445fec",
            "placeholder": "​",
            "style": "IPY_MODEL_366f2122502b419dab9f1fe798535d7d",
            "value": " 229/229 [00:00&lt;00:00, 9.56kB/s]"
          }
        },
        "660469826c38423ba0f07a27083eb768": {
          "model_module": "@jupyter-widgets/base",
          "model_name": "LayoutModel",
          "model_module_version": "1.2.0",
          "state": {
            "_model_module": "@jupyter-widgets/base",
            "_model_module_version": "1.2.0",
            "_model_name": "LayoutModel",
            "_view_count": null,
            "_view_module": "@jupyter-widgets/base",
            "_view_module_version": "1.2.0",
            "_view_name": "LayoutView",
            "align_content": null,
            "align_items": null,
            "align_self": null,
            "border": null,
            "bottom": null,
            "display": null,
            "flex": null,
            "flex_flow": null,
            "grid_area": null,
            "grid_auto_columns": null,
            "grid_auto_flow": null,
            "grid_auto_rows": null,
            "grid_column": null,
            "grid_gap": null,
            "grid_row": null,
            "grid_template_areas": null,
            "grid_template_columns": null,
            "grid_template_rows": null,
            "height": null,
            "justify_content": null,
            "justify_items": null,
            "left": null,
            "margin": null,
            "max_height": null,
            "max_width": null,
            "min_height": null,
            "min_width": null,
            "object_fit": null,
            "object_position": null,
            "order": null,
            "overflow": null,
            "overflow_x": null,
            "overflow_y": null,
            "padding": null,
            "right": null,
            "top": null,
            "visibility": null,
            "width": null
          }
        },
        "1cd4e2541b8e4efeb51703311bf6b3e2": {
          "model_module": "@jupyter-widgets/base",
          "model_name": "LayoutModel",
          "model_module_version": "1.2.0",
          "state": {
            "_model_module": "@jupyter-widgets/base",
            "_model_module_version": "1.2.0",
            "_model_name": "LayoutModel",
            "_view_count": null,
            "_view_module": "@jupyter-widgets/base",
            "_view_module_version": "1.2.0",
            "_view_name": "LayoutView",
            "align_content": null,
            "align_items": null,
            "align_self": null,
            "border": null,
            "bottom": null,
            "display": null,
            "flex": null,
            "flex_flow": null,
            "grid_area": null,
            "grid_auto_columns": null,
            "grid_auto_flow": null,
            "grid_auto_rows": null,
            "grid_column": null,
            "grid_gap": null,
            "grid_row": null,
            "grid_template_areas": null,
            "grid_template_columns": null,
            "grid_template_rows": null,
            "height": null,
            "justify_content": null,
            "justify_items": null,
            "left": null,
            "margin": null,
            "max_height": null,
            "max_width": null,
            "min_height": null,
            "min_width": null,
            "object_fit": null,
            "object_position": null,
            "order": null,
            "overflow": null,
            "overflow_x": null,
            "overflow_y": null,
            "padding": null,
            "right": null,
            "top": null,
            "visibility": null,
            "width": null
          }
        },
        "69c553505e2a42a182aca597b8b4b743": {
          "model_module": "@jupyter-widgets/controls",
          "model_name": "DescriptionStyleModel",
          "model_module_version": "1.5.0",
          "state": {
            "_model_module": "@jupyter-widgets/controls",
            "_model_module_version": "1.5.0",
            "_model_name": "DescriptionStyleModel",
            "_view_count": null,
            "_view_module": "@jupyter-widgets/base",
            "_view_module_version": "1.2.0",
            "_view_name": "StyleView",
            "description_width": ""
          }
        },
        "2d884538f8554d98a736aac0d52b1911": {
          "model_module": "@jupyter-widgets/base",
          "model_name": "LayoutModel",
          "model_module_version": "1.2.0",
          "state": {
            "_model_module": "@jupyter-widgets/base",
            "_model_module_version": "1.2.0",
            "_model_name": "LayoutModel",
            "_view_count": null,
            "_view_module": "@jupyter-widgets/base",
            "_view_module_version": "1.2.0",
            "_view_name": "LayoutView",
            "align_content": null,
            "align_items": null,
            "align_self": null,
            "border": null,
            "bottom": null,
            "display": null,
            "flex": null,
            "flex_flow": null,
            "grid_area": null,
            "grid_auto_columns": null,
            "grid_auto_flow": null,
            "grid_auto_rows": null,
            "grid_column": null,
            "grid_gap": null,
            "grid_row": null,
            "grid_template_areas": null,
            "grid_template_columns": null,
            "grid_template_rows": null,
            "height": null,
            "justify_content": null,
            "justify_items": null,
            "left": null,
            "margin": null,
            "max_height": null,
            "max_width": null,
            "min_height": null,
            "min_width": null,
            "object_fit": null,
            "object_position": null,
            "order": null,
            "overflow": null,
            "overflow_x": null,
            "overflow_y": null,
            "padding": null,
            "right": null,
            "top": null,
            "visibility": null,
            "width": null
          }
        },
        "8cccd71dc7734fceacd63c0b89c39331": {
          "model_module": "@jupyter-widgets/controls",
          "model_name": "ProgressStyleModel",
          "model_module_version": "1.5.0",
          "state": {
            "_model_module": "@jupyter-widgets/controls",
            "_model_module_version": "1.5.0",
            "_model_name": "ProgressStyleModel",
            "_view_count": null,
            "_view_module": "@jupyter-widgets/base",
            "_view_module_version": "1.2.0",
            "_view_name": "StyleView",
            "bar_color": null,
            "description_width": ""
          }
        },
        "96de0e722913406495c46a87b8445fec": {
          "model_module": "@jupyter-widgets/base",
          "model_name": "LayoutModel",
          "model_module_version": "1.2.0",
          "state": {
            "_model_module": "@jupyter-widgets/base",
            "_model_module_version": "1.2.0",
            "_model_name": "LayoutModel",
            "_view_count": null,
            "_view_module": "@jupyter-widgets/base",
            "_view_module_version": "1.2.0",
            "_view_name": "LayoutView",
            "align_content": null,
            "align_items": null,
            "align_self": null,
            "border": null,
            "bottom": null,
            "display": null,
            "flex": null,
            "flex_flow": null,
            "grid_area": null,
            "grid_auto_columns": null,
            "grid_auto_flow": null,
            "grid_auto_rows": null,
            "grid_column": null,
            "grid_gap": null,
            "grid_row": null,
            "grid_template_areas": null,
            "grid_template_columns": null,
            "grid_template_rows": null,
            "height": null,
            "justify_content": null,
            "justify_items": null,
            "left": null,
            "margin": null,
            "max_height": null,
            "max_width": null,
            "min_height": null,
            "min_width": null,
            "object_fit": null,
            "object_position": null,
            "order": null,
            "overflow": null,
            "overflow_x": null,
            "overflow_y": null,
            "padding": null,
            "right": null,
            "top": null,
            "visibility": null,
            "width": null
          }
        },
        "366f2122502b419dab9f1fe798535d7d": {
          "model_module": "@jupyter-widgets/controls",
          "model_name": "DescriptionStyleModel",
          "model_module_version": "1.5.0",
          "state": {
            "_model_module": "@jupyter-widgets/controls",
            "_model_module_version": "1.5.0",
            "_model_name": "DescriptionStyleModel",
            "_view_count": null,
            "_view_module": "@jupyter-widgets/base",
            "_view_module_version": "1.2.0",
            "_view_name": "StyleView",
            "description_width": ""
          }
        },
        "83fd1c2b32214f038d5fa23bd70f3a54": {
          "model_module": "@jupyter-widgets/controls",
          "model_name": "HBoxModel",
          "model_module_version": "1.5.0",
          "state": {
            "_dom_classes": [],
            "_model_module": "@jupyter-widgets/controls",
            "_model_module_version": "1.5.0",
            "_model_name": "HBoxModel",
            "_view_count": null,
            "_view_module": "@jupyter-widgets/controls",
            "_view_module_version": "1.5.0",
            "_view_name": "HBoxView",
            "box_style": "",
            "children": [
              "IPY_MODEL_81c2086b00ba4531aa6957d8dd92fda5",
              "IPY_MODEL_f5b06c2d80c24332945ec8bad44d263e",
              "IPY_MODEL_06e246e9dfea422997ef797c58906e16"
            ],
            "layout": "IPY_MODEL_b25d022d7cc7421ab4cd6129f4238096"
          }
        },
        "81c2086b00ba4531aa6957d8dd92fda5": {
          "model_module": "@jupyter-widgets/controls",
          "model_name": "HTMLModel",
          "model_module_version": "1.5.0",
          "state": {
            "_dom_classes": [],
            "_model_module": "@jupyter-widgets/controls",
            "_model_module_version": "1.5.0",
            "_model_name": "HTMLModel",
            "_view_count": null,
            "_view_module": "@jupyter-widgets/controls",
            "_view_module_version": "1.5.0",
            "_view_name": "HTMLView",
            "description": "",
            "description_tooltip": null,
            "layout": "IPY_MODEL_109058366b26488b8c82f64174819874",
            "placeholder": "​",
            "style": "IPY_MODEL_48d9479fa9c74dec917f8f6785b6b616",
            "value": "config_sentence_transformers.json: 100%"
          }
        },
        "f5b06c2d80c24332945ec8bad44d263e": {
          "model_module": "@jupyter-widgets/controls",
          "model_name": "FloatProgressModel",
          "model_module_version": "1.5.0",
          "state": {
            "_dom_classes": [],
            "_model_module": "@jupyter-widgets/controls",
            "_model_module_version": "1.5.0",
            "_model_name": "FloatProgressModel",
            "_view_count": null,
            "_view_module": "@jupyter-widgets/controls",
            "_view_module_version": "1.5.0",
            "_view_name": "ProgressView",
            "bar_style": "success",
            "description": "",
            "description_tooltip": null,
            "layout": "IPY_MODEL_d81e362c3ca548a7957b207f9cfb0e6f",
            "max": 122,
            "min": 0,
            "orientation": "horizontal",
            "style": "IPY_MODEL_63f5b3b45f0d4d61ae77856fe8e71315",
            "value": 122
          }
        },
        "06e246e9dfea422997ef797c58906e16": {
          "model_module": "@jupyter-widgets/controls",
          "model_name": "HTMLModel",
          "model_module_version": "1.5.0",
          "state": {
            "_dom_classes": [],
            "_model_module": "@jupyter-widgets/controls",
            "_model_module_version": "1.5.0",
            "_model_name": "HTMLModel",
            "_view_count": null,
            "_view_module": "@jupyter-widgets/controls",
            "_view_module_version": "1.5.0",
            "_view_name": "HTMLView",
            "description": "",
            "description_tooltip": null,
            "layout": "IPY_MODEL_e2ad5d99e8ab4d9993e4a565c6012817",
            "placeholder": "​",
            "style": "IPY_MODEL_97a44f3e2e95446b9c13295c57beaf18",
            "value": " 122/122 [00:00&lt;00:00, 6.44kB/s]"
          }
        },
        "b25d022d7cc7421ab4cd6129f4238096": {
          "model_module": "@jupyter-widgets/base",
          "model_name": "LayoutModel",
          "model_module_version": "1.2.0",
          "state": {
            "_model_module": "@jupyter-widgets/base",
            "_model_module_version": "1.2.0",
            "_model_name": "LayoutModel",
            "_view_count": null,
            "_view_module": "@jupyter-widgets/base",
            "_view_module_version": "1.2.0",
            "_view_name": "LayoutView",
            "align_content": null,
            "align_items": null,
            "align_self": null,
            "border": null,
            "bottom": null,
            "display": null,
            "flex": null,
            "flex_flow": null,
            "grid_area": null,
            "grid_auto_columns": null,
            "grid_auto_flow": null,
            "grid_auto_rows": null,
            "grid_column": null,
            "grid_gap": null,
            "grid_row": null,
            "grid_template_areas": null,
            "grid_template_columns": null,
            "grid_template_rows": null,
            "height": null,
            "justify_content": null,
            "justify_items": null,
            "left": null,
            "margin": null,
            "max_height": null,
            "max_width": null,
            "min_height": null,
            "min_width": null,
            "object_fit": null,
            "object_position": null,
            "order": null,
            "overflow": null,
            "overflow_x": null,
            "overflow_y": null,
            "padding": null,
            "right": null,
            "top": null,
            "visibility": null,
            "width": null
          }
        },
        "109058366b26488b8c82f64174819874": {
          "model_module": "@jupyter-widgets/base",
          "model_name": "LayoutModel",
          "model_module_version": "1.2.0",
          "state": {
            "_model_module": "@jupyter-widgets/base",
            "_model_module_version": "1.2.0",
            "_model_name": "LayoutModel",
            "_view_count": null,
            "_view_module": "@jupyter-widgets/base",
            "_view_module_version": "1.2.0",
            "_view_name": "LayoutView",
            "align_content": null,
            "align_items": null,
            "align_self": null,
            "border": null,
            "bottom": null,
            "display": null,
            "flex": null,
            "flex_flow": null,
            "grid_area": null,
            "grid_auto_columns": null,
            "grid_auto_flow": null,
            "grid_auto_rows": null,
            "grid_column": null,
            "grid_gap": null,
            "grid_row": null,
            "grid_template_areas": null,
            "grid_template_columns": null,
            "grid_template_rows": null,
            "height": null,
            "justify_content": null,
            "justify_items": null,
            "left": null,
            "margin": null,
            "max_height": null,
            "max_width": null,
            "min_height": null,
            "min_width": null,
            "object_fit": null,
            "object_position": null,
            "order": null,
            "overflow": null,
            "overflow_x": null,
            "overflow_y": null,
            "padding": null,
            "right": null,
            "top": null,
            "visibility": null,
            "width": null
          }
        },
        "48d9479fa9c74dec917f8f6785b6b616": {
          "model_module": "@jupyter-widgets/controls",
          "model_name": "DescriptionStyleModel",
          "model_module_version": "1.5.0",
          "state": {
            "_model_module": "@jupyter-widgets/controls",
            "_model_module_version": "1.5.0",
            "_model_name": "DescriptionStyleModel",
            "_view_count": null,
            "_view_module": "@jupyter-widgets/base",
            "_view_module_version": "1.2.0",
            "_view_name": "StyleView",
            "description_width": ""
          }
        },
        "d81e362c3ca548a7957b207f9cfb0e6f": {
          "model_module": "@jupyter-widgets/base",
          "model_name": "LayoutModel",
          "model_module_version": "1.2.0",
          "state": {
            "_model_module": "@jupyter-widgets/base",
            "_model_module_version": "1.2.0",
            "_model_name": "LayoutModel",
            "_view_count": null,
            "_view_module": "@jupyter-widgets/base",
            "_view_module_version": "1.2.0",
            "_view_name": "LayoutView",
            "align_content": null,
            "align_items": null,
            "align_self": null,
            "border": null,
            "bottom": null,
            "display": null,
            "flex": null,
            "flex_flow": null,
            "grid_area": null,
            "grid_auto_columns": null,
            "grid_auto_flow": null,
            "grid_auto_rows": null,
            "grid_column": null,
            "grid_gap": null,
            "grid_row": null,
            "grid_template_areas": null,
            "grid_template_columns": null,
            "grid_template_rows": null,
            "height": null,
            "justify_content": null,
            "justify_items": null,
            "left": null,
            "margin": null,
            "max_height": null,
            "max_width": null,
            "min_height": null,
            "min_width": null,
            "object_fit": null,
            "object_position": null,
            "order": null,
            "overflow": null,
            "overflow_x": null,
            "overflow_y": null,
            "padding": null,
            "right": null,
            "top": null,
            "visibility": null,
            "width": null
          }
        },
        "63f5b3b45f0d4d61ae77856fe8e71315": {
          "model_module": "@jupyter-widgets/controls",
          "model_name": "ProgressStyleModel",
          "model_module_version": "1.5.0",
          "state": {
            "_model_module": "@jupyter-widgets/controls",
            "_model_module_version": "1.5.0",
            "_model_name": "ProgressStyleModel",
            "_view_count": null,
            "_view_module": "@jupyter-widgets/base",
            "_view_module_version": "1.2.0",
            "_view_name": "StyleView",
            "bar_color": null,
            "description_width": ""
          }
        },
        "e2ad5d99e8ab4d9993e4a565c6012817": {
          "model_module": "@jupyter-widgets/base",
          "model_name": "LayoutModel",
          "model_module_version": "1.2.0",
          "state": {
            "_model_module": "@jupyter-widgets/base",
            "_model_module_version": "1.2.0",
            "_model_name": "LayoutModel",
            "_view_count": null,
            "_view_module": "@jupyter-widgets/base",
            "_view_module_version": "1.2.0",
            "_view_name": "LayoutView",
            "align_content": null,
            "align_items": null,
            "align_self": null,
            "border": null,
            "bottom": null,
            "display": null,
            "flex": null,
            "flex_flow": null,
            "grid_area": null,
            "grid_auto_columns": null,
            "grid_auto_flow": null,
            "grid_auto_rows": null,
            "grid_column": null,
            "grid_gap": null,
            "grid_row": null,
            "grid_template_areas": null,
            "grid_template_columns": null,
            "grid_template_rows": null,
            "height": null,
            "justify_content": null,
            "justify_items": null,
            "left": null,
            "margin": null,
            "max_height": null,
            "max_width": null,
            "min_height": null,
            "min_width": null,
            "object_fit": null,
            "object_position": null,
            "order": null,
            "overflow": null,
            "overflow_x": null,
            "overflow_y": null,
            "padding": null,
            "right": null,
            "top": null,
            "visibility": null,
            "width": null
          }
        },
        "97a44f3e2e95446b9c13295c57beaf18": {
          "model_module": "@jupyter-widgets/controls",
          "model_name": "DescriptionStyleModel",
          "model_module_version": "1.5.0",
          "state": {
            "_model_module": "@jupyter-widgets/controls",
            "_model_module_version": "1.5.0",
            "_model_name": "DescriptionStyleModel",
            "_view_count": null,
            "_view_module": "@jupyter-widgets/base",
            "_view_module_version": "1.2.0",
            "_view_name": "StyleView",
            "description_width": ""
          }
        },
        "c1747586f7df42db868682c86d3c2e3e": {
          "model_module": "@jupyter-widgets/controls",
          "model_name": "HBoxModel",
          "model_module_version": "1.5.0",
          "state": {
            "_dom_classes": [],
            "_model_module": "@jupyter-widgets/controls",
            "_model_module_version": "1.5.0",
            "_model_name": "HBoxModel",
            "_view_count": null,
            "_view_module": "@jupyter-widgets/controls",
            "_view_module_version": "1.5.0",
            "_view_name": "HBoxView",
            "box_style": "",
            "children": [
              "IPY_MODEL_522dc9e63c6b485db10018661b94570a",
              "IPY_MODEL_ff60f3e0e0134e91a9f8cc8ea8673686",
              "IPY_MODEL_c8bb24c4d0324cdaa4b27ffe2fdb5a99"
            ],
            "layout": "IPY_MODEL_6af573ec76a749a78a1749fdbd7d4bbd"
          }
        },
        "522dc9e63c6b485db10018661b94570a": {
          "model_module": "@jupyter-widgets/controls",
          "model_name": "HTMLModel",
          "model_module_version": "1.5.0",
          "state": {
            "_dom_classes": [],
            "_model_module": "@jupyter-widgets/controls",
            "_model_module_version": "1.5.0",
            "_model_name": "HTMLModel",
            "_view_count": null,
            "_view_module": "@jupyter-widgets/controls",
            "_view_module_version": "1.5.0",
            "_view_name": "HTMLView",
            "description": "",
            "description_tooltip": null,
            "layout": "IPY_MODEL_5f22bb3d9e3a425487109151683c7bf0",
            "placeholder": "​",
            "style": "IPY_MODEL_866498e2d89c4a9c971227664e97d452",
            "value": "README.md: 100%"
          }
        },
        "ff60f3e0e0134e91a9f8cc8ea8673686": {
          "model_module": "@jupyter-widgets/controls",
          "model_name": "FloatProgressModel",
          "model_module_version": "1.5.0",
          "state": {
            "_dom_classes": [],
            "_model_module": "@jupyter-widgets/controls",
            "_model_module_version": "1.5.0",
            "_model_name": "FloatProgressModel",
            "_view_count": null,
            "_view_module": "@jupyter-widgets/controls",
            "_view_module_version": "1.5.0",
            "_view_name": "ProgressView",
            "bar_style": "success",
            "description": "",
            "description_tooltip": null,
            "layout": "IPY_MODEL_9d737c04f898492eaf85bd59c847f4c5",
            "max": 4126,
            "min": 0,
            "orientation": "horizontal",
            "style": "IPY_MODEL_77617026db454146a41576fdcb3feb7b",
            "value": 4126
          }
        },
        "c8bb24c4d0324cdaa4b27ffe2fdb5a99": {
          "model_module": "@jupyter-widgets/controls",
          "model_name": "HTMLModel",
          "model_module_version": "1.5.0",
          "state": {
            "_dom_classes": [],
            "_model_module": "@jupyter-widgets/controls",
            "_model_module_version": "1.5.0",
            "_model_name": "HTMLModel",
            "_view_count": null,
            "_view_module": "@jupyter-widgets/controls",
            "_view_module_version": "1.5.0",
            "_view_name": "HTMLView",
            "description": "",
            "description_tooltip": null,
            "layout": "IPY_MODEL_00106d3c93a842db8727c6e2de6dcc3e",
            "placeholder": "​",
            "style": "IPY_MODEL_300e6ddd18c94e00b4d1d636e60e4b04",
            "value": " 4.13k/4.13k [00:00&lt;00:00, 299kB/s]"
          }
        },
        "6af573ec76a749a78a1749fdbd7d4bbd": {
          "model_module": "@jupyter-widgets/base",
          "model_name": "LayoutModel",
          "model_module_version": "1.2.0",
          "state": {
            "_model_module": "@jupyter-widgets/base",
            "_model_module_version": "1.2.0",
            "_model_name": "LayoutModel",
            "_view_count": null,
            "_view_module": "@jupyter-widgets/base",
            "_view_module_version": "1.2.0",
            "_view_name": "LayoutView",
            "align_content": null,
            "align_items": null,
            "align_self": null,
            "border": null,
            "bottom": null,
            "display": null,
            "flex": null,
            "flex_flow": null,
            "grid_area": null,
            "grid_auto_columns": null,
            "grid_auto_flow": null,
            "grid_auto_rows": null,
            "grid_column": null,
            "grid_gap": null,
            "grid_row": null,
            "grid_template_areas": null,
            "grid_template_columns": null,
            "grid_template_rows": null,
            "height": null,
            "justify_content": null,
            "justify_items": null,
            "left": null,
            "margin": null,
            "max_height": null,
            "max_width": null,
            "min_height": null,
            "min_width": null,
            "object_fit": null,
            "object_position": null,
            "order": null,
            "overflow": null,
            "overflow_x": null,
            "overflow_y": null,
            "padding": null,
            "right": null,
            "top": null,
            "visibility": null,
            "width": null
          }
        },
        "5f22bb3d9e3a425487109151683c7bf0": {
          "model_module": "@jupyter-widgets/base",
          "model_name": "LayoutModel",
          "model_module_version": "1.2.0",
          "state": {
            "_model_module": "@jupyter-widgets/base",
            "_model_module_version": "1.2.0",
            "_model_name": "LayoutModel",
            "_view_count": null,
            "_view_module": "@jupyter-widgets/base",
            "_view_module_version": "1.2.0",
            "_view_name": "LayoutView",
            "align_content": null,
            "align_items": null,
            "align_self": null,
            "border": null,
            "bottom": null,
            "display": null,
            "flex": null,
            "flex_flow": null,
            "grid_area": null,
            "grid_auto_columns": null,
            "grid_auto_flow": null,
            "grid_auto_rows": null,
            "grid_column": null,
            "grid_gap": null,
            "grid_row": null,
            "grid_template_areas": null,
            "grid_template_columns": null,
            "grid_template_rows": null,
            "height": null,
            "justify_content": null,
            "justify_items": null,
            "left": null,
            "margin": null,
            "max_height": null,
            "max_width": null,
            "min_height": null,
            "min_width": null,
            "object_fit": null,
            "object_position": null,
            "order": null,
            "overflow": null,
            "overflow_x": null,
            "overflow_y": null,
            "padding": null,
            "right": null,
            "top": null,
            "visibility": null,
            "width": null
          }
        },
        "866498e2d89c4a9c971227664e97d452": {
          "model_module": "@jupyter-widgets/controls",
          "model_name": "DescriptionStyleModel",
          "model_module_version": "1.5.0",
          "state": {
            "_model_module": "@jupyter-widgets/controls",
            "_model_module_version": "1.5.0",
            "_model_name": "DescriptionStyleModel",
            "_view_count": null,
            "_view_module": "@jupyter-widgets/base",
            "_view_module_version": "1.2.0",
            "_view_name": "StyleView",
            "description_width": ""
          }
        },
        "9d737c04f898492eaf85bd59c847f4c5": {
          "model_module": "@jupyter-widgets/base",
          "model_name": "LayoutModel",
          "model_module_version": "1.2.0",
          "state": {
            "_model_module": "@jupyter-widgets/base",
            "_model_module_version": "1.2.0",
            "_model_name": "LayoutModel",
            "_view_count": null,
            "_view_module": "@jupyter-widgets/base",
            "_view_module_version": "1.2.0",
            "_view_name": "LayoutView",
            "align_content": null,
            "align_items": null,
            "align_self": null,
            "border": null,
            "bottom": null,
            "display": null,
            "flex": null,
            "flex_flow": null,
            "grid_area": null,
            "grid_auto_columns": null,
            "grid_auto_flow": null,
            "grid_auto_rows": null,
            "grid_column": null,
            "grid_gap": null,
            "grid_row": null,
            "grid_template_areas": null,
            "grid_template_columns": null,
            "grid_template_rows": null,
            "height": null,
            "justify_content": null,
            "justify_items": null,
            "left": null,
            "margin": null,
            "max_height": null,
            "max_width": null,
            "min_height": null,
            "min_width": null,
            "object_fit": null,
            "object_position": null,
            "order": null,
            "overflow": null,
            "overflow_x": null,
            "overflow_y": null,
            "padding": null,
            "right": null,
            "top": null,
            "visibility": null,
            "width": null
          }
        },
        "77617026db454146a41576fdcb3feb7b": {
          "model_module": "@jupyter-widgets/controls",
          "model_name": "ProgressStyleModel",
          "model_module_version": "1.5.0",
          "state": {
            "_model_module": "@jupyter-widgets/controls",
            "_model_module_version": "1.5.0",
            "_model_name": "ProgressStyleModel",
            "_view_count": null,
            "_view_module": "@jupyter-widgets/base",
            "_view_module_version": "1.2.0",
            "_view_name": "StyleView",
            "bar_color": null,
            "description_width": ""
          }
        },
        "00106d3c93a842db8727c6e2de6dcc3e": {
          "model_module": "@jupyter-widgets/base",
          "model_name": "LayoutModel",
          "model_module_version": "1.2.0",
          "state": {
            "_model_module": "@jupyter-widgets/base",
            "_model_module_version": "1.2.0",
            "_model_name": "LayoutModel",
            "_view_count": null,
            "_view_module": "@jupyter-widgets/base",
            "_view_module_version": "1.2.0",
            "_view_name": "LayoutView",
            "align_content": null,
            "align_items": null,
            "align_self": null,
            "border": null,
            "bottom": null,
            "display": null,
            "flex": null,
            "flex_flow": null,
            "grid_area": null,
            "grid_auto_columns": null,
            "grid_auto_flow": null,
            "grid_auto_rows": null,
            "grid_column": null,
            "grid_gap": null,
            "grid_row": null,
            "grid_template_areas": null,
            "grid_template_columns": null,
            "grid_template_rows": null,
            "height": null,
            "justify_content": null,
            "justify_items": null,
            "left": null,
            "margin": null,
            "max_height": null,
            "max_width": null,
            "min_height": null,
            "min_width": null,
            "object_fit": null,
            "object_position": null,
            "order": null,
            "overflow": null,
            "overflow_x": null,
            "overflow_y": null,
            "padding": null,
            "right": null,
            "top": null,
            "visibility": null,
            "width": null
          }
        },
        "300e6ddd18c94e00b4d1d636e60e4b04": {
          "model_module": "@jupyter-widgets/controls",
          "model_name": "DescriptionStyleModel",
          "model_module_version": "1.5.0",
          "state": {
            "_model_module": "@jupyter-widgets/controls",
            "_model_module_version": "1.5.0",
            "_model_name": "DescriptionStyleModel",
            "_view_count": null,
            "_view_module": "@jupyter-widgets/base",
            "_view_module_version": "1.2.0",
            "_view_name": "StyleView",
            "description_width": ""
          }
        },
        "fb1e7929a81840f4b8c37f14712f6a10": {
          "model_module": "@jupyter-widgets/controls",
          "model_name": "HBoxModel",
          "model_module_version": "1.5.0",
          "state": {
            "_dom_classes": [],
            "_model_module": "@jupyter-widgets/controls",
            "_model_module_version": "1.5.0",
            "_model_name": "HBoxModel",
            "_view_count": null,
            "_view_module": "@jupyter-widgets/controls",
            "_view_module_version": "1.5.0",
            "_view_name": "HBoxView",
            "box_style": "",
            "children": [
              "IPY_MODEL_b9307ff2d46a4458924986e7a64e7fa1",
              "IPY_MODEL_876839e9bbdc48b1b32823092671ac3d",
              "IPY_MODEL_da808ffdd6014fa3b3aa85901be53daa"
            ],
            "layout": "IPY_MODEL_c6d539e0591a4657a10ff31be5a9c84b"
          }
        },
        "b9307ff2d46a4458924986e7a64e7fa1": {
          "model_module": "@jupyter-widgets/controls",
          "model_name": "HTMLModel",
          "model_module_version": "1.5.0",
          "state": {
            "_dom_classes": [],
            "_model_module": "@jupyter-widgets/controls",
            "_model_module_version": "1.5.0",
            "_model_name": "HTMLModel",
            "_view_count": null,
            "_view_module": "@jupyter-widgets/controls",
            "_view_module_version": "1.5.0",
            "_view_name": "HTMLView",
            "description": "",
            "description_tooltip": null,
            "layout": "IPY_MODEL_63dff925d9024f6d9a92e530683edf20",
            "placeholder": "​",
            "style": "IPY_MODEL_fd6bb3d7601e4089a8d153b9d4530735",
            "value": "sentence_bert_config.json: 100%"
          }
        },
        "876839e9bbdc48b1b32823092671ac3d": {
          "model_module": "@jupyter-widgets/controls",
          "model_name": "FloatProgressModel",
          "model_module_version": "1.5.0",
          "state": {
            "_dom_classes": [],
            "_model_module": "@jupyter-widgets/controls",
            "_model_module_version": "1.5.0",
            "_model_name": "FloatProgressModel",
            "_view_count": null,
            "_view_module": "@jupyter-widgets/controls",
            "_view_module_version": "1.5.0",
            "_view_name": "ProgressView",
            "bar_style": "success",
            "description": "",
            "description_tooltip": null,
            "layout": "IPY_MODEL_c617b9a2b3364fac847c646443ef9dec",
            "max": 53,
            "min": 0,
            "orientation": "horizontal",
            "style": "IPY_MODEL_4190664af3624882921c09d4551a121a",
            "value": 53
          }
        },
        "da808ffdd6014fa3b3aa85901be53daa": {
          "model_module": "@jupyter-widgets/controls",
          "model_name": "HTMLModel",
          "model_module_version": "1.5.0",
          "state": {
            "_dom_classes": [],
            "_model_module": "@jupyter-widgets/controls",
            "_model_module_version": "1.5.0",
            "_model_name": "HTMLModel",
            "_view_count": null,
            "_view_module": "@jupyter-widgets/controls",
            "_view_module_version": "1.5.0",
            "_view_name": "HTMLView",
            "description": "",
            "description_tooltip": null,
            "layout": "IPY_MODEL_964b68e3c24f4ede840134de2681c96f",
            "placeholder": "​",
            "style": "IPY_MODEL_0162858bdf3240fe909e34806dffe3a8",
            "value": " 53.0/53.0 [00:00&lt;00:00, 2.39kB/s]"
          }
        },
        "c6d539e0591a4657a10ff31be5a9c84b": {
          "model_module": "@jupyter-widgets/base",
          "model_name": "LayoutModel",
          "model_module_version": "1.2.0",
          "state": {
            "_model_module": "@jupyter-widgets/base",
            "_model_module_version": "1.2.0",
            "_model_name": "LayoutModel",
            "_view_count": null,
            "_view_module": "@jupyter-widgets/base",
            "_view_module_version": "1.2.0",
            "_view_name": "LayoutView",
            "align_content": null,
            "align_items": null,
            "align_self": null,
            "border": null,
            "bottom": null,
            "display": null,
            "flex": null,
            "flex_flow": null,
            "grid_area": null,
            "grid_auto_columns": null,
            "grid_auto_flow": null,
            "grid_auto_rows": null,
            "grid_column": null,
            "grid_gap": null,
            "grid_row": null,
            "grid_template_areas": null,
            "grid_template_columns": null,
            "grid_template_rows": null,
            "height": null,
            "justify_content": null,
            "justify_items": null,
            "left": null,
            "margin": null,
            "max_height": null,
            "max_width": null,
            "min_height": null,
            "min_width": null,
            "object_fit": null,
            "object_position": null,
            "order": null,
            "overflow": null,
            "overflow_x": null,
            "overflow_y": null,
            "padding": null,
            "right": null,
            "top": null,
            "visibility": null,
            "width": null
          }
        },
        "63dff925d9024f6d9a92e530683edf20": {
          "model_module": "@jupyter-widgets/base",
          "model_name": "LayoutModel",
          "model_module_version": "1.2.0",
          "state": {
            "_model_module": "@jupyter-widgets/base",
            "_model_module_version": "1.2.0",
            "_model_name": "LayoutModel",
            "_view_count": null,
            "_view_module": "@jupyter-widgets/base",
            "_view_module_version": "1.2.0",
            "_view_name": "LayoutView",
            "align_content": null,
            "align_items": null,
            "align_self": null,
            "border": null,
            "bottom": null,
            "display": null,
            "flex": null,
            "flex_flow": null,
            "grid_area": null,
            "grid_auto_columns": null,
            "grid_auto_flow": null,
            "grid_auto_rows": null,
            "grid_column": null,
            "grid_gap": null,
            "grid_row": null,
            "grid_template_areas": null,
            "grid_template_columns": null,
            "grid_template_rows": null,
            "height": null,
            "justify_content": null,
            "justify_items": null,
            "left": null,
            "margin": null,
            "max_height": null,
            "max_width": null,
            "min_height": null,
            "min_width": null,
            "object_fit": null,
            "object_position": null,
            "order": null,
            "overflow": null,
            "overflow_x": null,
            "overflow_y": null,
            "padding": null,
            "right": null,
            "top": null,
            "visibility": null,
            "width": null
          }
        },
        "fd6bb3d7601e4089a8d153b9d4530735": {
          "model_module": "@jupyter-widgets/controls",
          "model_name": "DescriptionStyleModel",
          "model_module_version": "1.5.0",
          "state": {
            "_model_module": "@jupyter-widgets/controls",
            "_model_module_version": "1.5.0",
            "_model_name": "DescriptionStyleModel",
            "_view_count": null,
            "_view_module": "@jupyter-widgets/base",
            "_view_module_version": "1.2.0",
            "_view_name": "StyleView",
            "description_width": ""
          }
        },
        "c617b9a2b3364fac847c646443ef9dec": {
          "model_module": "@jupyter-widgets/base",
          "model_name": "LayoutModel",
          "model_module_version": "1.2.0",
          "state": {
            "_model_module": "@jupyter-widgets/base",
            "_model_module_version": "1.2.0",
            "_model_name": "LayoutModel",
            "_view_count": null,
            "_view_module": "@jupyter-widgets/base",
            "_view_module_version": "1.2.0",
            "_view_name": "LayoutView",
            "align_content": null,
            "align_items": null,
            "align_self": null,
            "border": null,
            "bottom": null,
            "display": null,
            "flex": null,
            "flex_flow": null,
            "grid_area": null,
            "grid_auto_columns": null,
            "grid_auto_flow": null,
            "grid_auto_rows": null,
            "grid_column": null,
            "grid_gap": null,
            "grid_row": null,
            "grid_template_areas": null,
            "grid_template_columns": null,
            "grid_template_rows": null,
            "height": null,
            "justify_content": null,
            "justify_items": null,
            "left": null,
            "margin": null,
            "max_height": null,
            "max_width": null,
            "min_height": null,
            "min_width": null,
            "object_fit": null,
            "object_position": null,
            "order": null,
            "overflow": null,
            "overflow_x": null,
            "overflow_y": null,
            "padding": null,
            "right": null,
            "top": null,
            "visibility": null,
            "width": null
          }
        },
        "4190664af3624882921c09d4551a121a": {
          "model_module": "@jupyter-widgets/controls",
          "model_name": "ProgressStyleModel",
          "model_module_version": "1.5.0",
          "state": {
            "_model_module": "@jupyter-widgets/controls",
            "_model_module_version": "1.5.0",
            "_model_name": "ProgressStyleModel",
            "_view_count": null,
            "_view_module": "@jupyter-widgets/base",
            "_view_module_version": "1.2.0",
            "_view_name": "StyleView",
            "bar_color": null,
            "description_width": ""
          }
        },
        "964b68e3c24f4ede840134de2681c96f": {
          "model_module": "@jupyter-widgets/base",
          "model_name": "LayoutModel",
          "model_module_version": "1.2.0",
          "state": {
            "_model_module": "@jupyter-widgets/base",
            "_model_module_version": "1.2.0",
            "_model_name": "LayoutModel",
            "_view_count": null,
            "_view_module": "@jupyter-widgets/base",
            "_view_module_version": "1.2.0",
            "_view_name": "LayoutView",
            "align_content": null,
            "align_items": null,
            "align_self": null,
            "border": null,
            "bottom": null,
            "display": null,
            "flex": null,
            "flex_flow": null,
            "grid_area": null,
            "grid_auto_columns": null,
            "grid_auto_flow": null,
            "grid_auto_rows": null,
            "grid_column": null,
            "grid_gap": null,
            "grid_row": null,
            "grid_template_areas": null,
            "grid_template_columns": null,
            "grid_template_rows": null,
            "height": null,
            "justify_content": null,
            "justify_items": null,
            "left": null,
            "margin": null,
            "max_height": null,
            "max_width": null,
            "min_height": null,
            "min_width": null,
            "object_fit": null,
            "object_position": null,
            "order": null,
            "overflow": null,
            "overflow_x": null,
            "overflow_y": null,
            "padding": null,
            "right": null,
            "top": null,
            "visibility": null,
            "width": null
          }
        },
        "0162858bdf3240fe909e34806dffe3a8": {
          "model_module": "@jupyter-widgets/controls",
          "model_name": "DescriptionStyleModel",
          "model_module_version": "1.5.0",
          "state": {
            "_model_module": "@jupyter-widgets/controls",
            "_model_module_version": "1.5.0",
            "_model_name": "DescriptionStyleModel",
            "_view_count": null,
            "_view_module": "@jupyter-widgets/base",
            "_view_module_version": "1.2.0",
            "_view_name": "StyleView",
            "description_width": ""
          }
        },
        "ddd232bdd2ee450f97ab56b0516b8e53": {
          "model_module": "@jupyter-widgets/controls",
          "model_name": "HBoxModel",
          "model_module_version": "1.5.0",
          "state": {
            "_dom_classes": [],
            "_model_module": "@jupyter-widgets/controls",
            "_model_module_version": "1.5.0",
            "_model_name": "HBoxModel",
            "_view_count": null,
            "_view_module": "@jupyter-widgets/controls",
            "_view_module_version": "1.5.0",
            "_view_name": "HBoxView",
            "box_style": "",
            "children": [
              "IPY_MODEL_762abfa8de9849fb92c7e453ecba4c67",
              "IPY_MODEL_9b43612593a84e87bbdea742da1cd379",
              "IPY_MODEL_ba1c2d1bee0b488aa3861215ab52b1b1"
            ],
            "layout": "IPY_MODEL_8ac163e8ea7b4c7eb25ed86de2cf007b"
          }
        },
        "762abfa8de9849fb92c7e453ecba4c67": {
          "model_module": "@jupyter-widgets/controls",
          "model_name": "HTMLModel",
          "model_module_version": "1.5.0",
          "state": {
            "_dom_classes": [],
            "_model_module": "@jupyter-widgets/controls",
            "_model_module_version": "1.5.0",
            "_model_name": "HTMLModel",
            "_view_count": null,
            "_view_module": "@jupyter-widgets/controls",
            "_view_module_version": "1.5.0",
            "_view_name": "HTMLView",
            "description": "",
            "description_tooltip": null,
            "layout": "IPY_MODEL_7f5ba7246d4042fe8166a07ccf7994d9",
            "placeholder": "​",
            "style": "IPY_MODEL_ccbd0856a46b41ad9b96b8136845ce30",
            "value": "config.json: 100%"
          }
        },
        "9b43612593a84e87bbdea742da1cd379": {
          "model_module": "@jupyter-widgets/controls",
          "model_name": "FloatProgressModel",
          "model_module_version": "1.5.0",
          "state": {
            "_dom_classes": [],
            "_model_module": "@jupyter-widgets/controls",
            "_model_module_version": "1.5.0",
            "_model_name": "FloatProgressModel",
            "_view_count": null,
            "_view_module": "@jupyter-widgets/controls",
            "_view_module_version": "1.5.0",
            "_view_name": "ProgressView",
            "bar_style": "success",
            "description": "",
            "description_tooltip": null,
            "layout": "IPY_MODEL_c26a93bb68eb4e95b52e2c0404d23869",
            "max": 723,
            "min": 0,
            "orientation": "horizontal",
            "style": "IPY_MODEL_4737d85e71b045358bda0bae33dbf43e",
            "value": 723
          }
        },
        "ba1c2d1bee0b488aa3861215ab52b1b1": {
          "model_module": "@jupyter-widgets/controls",
          "model_name": "HTMLModel",
          "model_module_version": "1.5.0",
          "state": {
            "_dom_classes": [],
            "_model_module": "@jupyter-widgets/controls",
            "_model_module_version": "1.5.0",
            "_model_name": "HTMLModel",
            "_view_count": null,
            "_view_module": "@jupyter-widgets/controls",
            "_view_module_version": "1.5.0",
            "_view_name": "HTMLView",
            "description": "",
            "description_tooltip": null,
            "layout": "IPY_MODEL_e8c40f6dd859498688ab4e82a6a028f9",
            "placeholder": "​",
            "style": "IPY_MODEL_dc5187e7f7964ad4806081a49090e013",
            "value": " 723/723 [00:00&lt;00:00, 42.1kB/s]"
          }
        },
        "8ac163e8ea7b4c7eb25ed86de2cf007b": {
          "model_module": "@jupyter-widgets/base",
          "model_name": "LayoutModel",
          "model_module_version": "1.2.0",
          "state": {
            "_model_module": "@jupyter-widgets/base",
            "_model_module_version": "1.2.0",
            "_model_name": "LayoutModel",
            "_view_count": null,
            "_view_module": "@jupyter-widgets/base",
            "_view_module_version": "1.2.0",
            "_view_name": "LayoutView",
            "align_content": null,
            "align_items": null,
            "align_self": null,
            "border": null,
            "bottom": null,
            "display": null,
            "flex": null,
            "flex_flow": null,
            "grid_area": null,
            "grid_auto_columns": null,
            "grid_auto_flow": null,
            "grid_auto_rows": null,
            "grid_column": null,
            "grid_gap": null,
            "grid_row": null,
            "grid_template_areas": null,
            "grid_template_columns": null,
            "grid_template_rows": null,
            "height": null,
            "justify_content": null,
            "justify_items": null,
            "left": null,
            "margin": null,
            "max_height": null,
            "max_width": null,
            "min_height": null,
            "min_width": null,
            "object_fit": null,
            "object_position": null,
            "order": null,
            "overflow": null,
            "overflow_x": null,
            "overflow_y": null,
            "padding": null,
            "right": null,
            "top": null,
            "visibility": null,
            "width": null
          }
        },
        "7f5ba7246d4042fe8166a07ccf7994d9": {
          "model_module": "@jupyter-widgets/base",
          "model_name": "LayoutModel",
          "model_module_version": "1.2.0",
          "state": {
            "_model_module": "@jupyter-widgets/base",
            "_model_module_version": "1.2.0",
            "_model_name": "LayoutModel",
            "_view_count": null,
            "_view_module": "@jupyter-widgets/base",
            "_view_module_version": "1.2.0",
            "_view_name": "LayoutView",
            "align_content": null,
            "align_items": null,
            "align_self": null,
            "border": null,
            "bottom": null,
            "display": null,
            "flex": null,
            "flex_flow": null,
            "grid_area": null,
            "grid_auto_columns": null,
            "grid_auto_flow": null,
            "grid_auto_rows": null,
            "grid_column": null,
            "grid_gap": null,
            "grid_row": null,
            "grid_template_areas": null,
            "grid_template_columns": null,
            "grid_template_rows": null,
            "height": null,
            "justify_content": null,
            "justify_items": null,
            "left": null,
            "margin": null,
            "max_height": null,
            "max_width": null,
            "min_height": null,
            "min_width": null,
            "object_fit": null,
            "object_position": null,
            "order": null,
            "overflow": null,
            "overflow_x": null,
            "overflow_y": null,
            "padding": null,
            "right": null,
            "top": null,
            "visibility": null,
            "width": null
          }
        },
        "ccbd0856a46b41ad9b96b8136845ce30": {
          "model_module": "@jupyter-widgets/controls",
          "model_name": "DescriptionStyleModel",
          "model_module_version": "1.5.0",
          "state": {
            "_model_module": "@jupyter-widgets/controls",
            "_model_module_version": "1.5.0",
            "_model_name": "DescriptionStyleModel",
            "_view_count": null,
            "_view_module": "@jupyter-widgets/base",
            "_view_module_version": "1.2.0",
            "_view_name": "StyleView",
            "description_width": ""
          }
        },
        "c26a93bb68eb4e95b52e2c0404d23869": {
          "model_module": "@jupyter-widgets/base",
          "model_name": "LayoutModel",
          "model_module_version": "1.2.0",
          "state": {
            "_model_module": "@jupyter-widgets/base",
            "_model_module_version": "1.2.0",
            "_model_name": "LayoutModel",
            "_view_count": null,
            "_view_module": "@jupyter-widgets/base",
            "_view_module_version": "1.2.0",
            "_view_name": "LayoutView",
            "align_content": null,
            "align_items": null,
            "align_self": null,
            "border": null,
            "bottom": null,
            "display": null,
            "flex": null,
            "flex_flow": null,
            "grid_area": null,
            "grid_auto_columns": null,
            "grid_auto_flow": null,
            "grid_auto_rows": null,
            "grid_column": null,
            "grid_gap": null,
            "grid_row": null,
            "grid_template_areas": null,
            "grid_template_columns": null,
            "grid_template_rows": null,
            "height": null,
            "justify_content": null,
            "justify_items": null,
            "left": null,
            "margin": null,
            "max_height": null,
            "max_width": null,
            "min_height": null,
            "min_width": null,
            "object_fit": null,
            "object_position": null,
            "order": null,
            "overflow": null,
            "overflow_x": null,
            "overflow_y": null,
            "padding": null,
            "right": null,
            "top": null,
            "visibility": null,
            "width": null
          }
        },
        "4737d85e71b045358bda0bae33dbf43e": {
          "model_module": "@jupyter-widgets/controls",
          "model_name": "ProgressStyleModel",
          "model_module_version": "1.5.0",
          "state": {
            "_model_module": "@jupyter-widgets/controls",
            "_model_module_version": "1.5.0",
            "_model_name": "ProgressStyleModel",
            "_view_count": null,
            "_view_module": "@jupyter-widgets/base",
            "_view_module_version": "1.2.0",
            "_view_name": "StyleView",
            "bar_color": null,
            "description_width": ""
          }
        },
        "e8c40f6dd859498688ab4e82a6a028f9": {
          "model_module": "@jupyter-widgets/base",
          "model_name": "LayoutModel",
          "model_module_version": "1.2.0",
          "state": {
            "_model_module": "@jupyter-widgets/base",
            "_model_module_version": "1.2.0",
            "_model_name": "LayoutModel",
            "_view_count": null,
            "_view_module": "@jupyter-widgets/base",
            "_view_module_version": "1.2.0",
            "_view_name": "LayoutView",
            "align_content": null,
            "align_items": null,
            "align_self": null,
            "border": null,
            "bottom": null,
            "display": null,
            "flex": null,
            "flex_flow": null,
            "grid_area": null,
            "grid_auto_columns": null,
            "grid_auto_flow": null,
            "grid_auto_rows": null,
            "grid_column": null,
            "grid_gap": null,
            "grid_row": null,
            "grid_template_areas": null,
            "grid_template_columns": null,
            "grid_template_rows": null,
            "height": null,
            "justify_content": null,
            "justify_items": null,
            "left": null,
            "margin": null,
            "max_height": null,
            "max_width": null,
            "min_height": null,
            "min_width": null,
            "object_fit": null,
            "object_position": null,
            "order": null,
            "overflow": null,
            "overflow_x": null,
            "overflow_y": null,
            "padding": null,
            "right": null,
            "top": null,
            "visibility": null,
            "width": null
          }
        },
        "dc5187e7f7964ad4806081a49090e013": {
          "model_module": "@jupyter-widgets/controls",
          "model_name": "DescriptionStyleModel",
          "model_module_version": "1.5.0",
          "state": {
            "_model_module": "@jupyter-widgets/controls",
            "_model_module_version": "1.5.0",
            "_model_name": "DescriptionStyleModel",
            "_view_count": null,
            "_view_module": "@jupyter-widgets/base",
            "_view_module_version": "1.2.0",
            "_view_name": "StyleView",
            "description_width": ""
          }
        },
        "13f578eacdb54174bec5bfff4c71e471": {
          "model_module": "@jupyter-widgets/controls",
          "model_name": "HBoxModel",
          "model_module_version": "1.5.0",
          "state": {
            "_dom_classes": [],
            "_model_module": "@jupyter-widgets/controls",
            "_model_module_version": "1.5.0",
            "_model_name": "HBoxModel",
            "_view_count": null,
            "_view_module": "@jupyter-widgets/controls",
            "_view_module_version": "1.5.0",
            "_view_name": "HBoxView",
            "box_style": "",
            "children": [
              "IPY_MODEL_80818a5167e24df1b8d6198a793b6c54",
              "IPY_MODEL_6b98b36042974d70a77bbbe2ef9527e2",
              "IPY_MODEL_b1cd993f4346461eb0fac3a9366f28b0"
            ],
            "layout": "IPY_MODEL_5435e8641a50447fb6cf9efa0c57cd41"
          }
        },
        "80818a5167e24df1b8d6198a793b6c54": {
          "model_module": "@jupyter-widgets/controls",
          "model_name": "HTMLModel",
          "model_module_version": "1.5.0",
          "state": {
            "_dom_classes": [],
            "_model_module": "@jupyter-widgets/controls",
            "_model_module_version": "1.5.0",
            "_model_name": "HTMLModel",
            "_view_count": null,
            "_view_module": "@jupyter-widgets/controls",
            "_view_module_version": "1.5.0",
            "_view_name": "HTMLView",
            "description": "",
            "description_tooltip": null,
            "layout": "IPY_MODEL_805770c27a174038a7c05d4aa165ea48",
            "placeholder": "​",
            "style": "IPY_MODEL_71a5a5b71e7f43f99d64b0cfaf2aa9a5",
            "value": "model.safetensors: 100%"
          }
        },
        "6b98b36042974d70a77bbbe2ef9527e2": {
          "model_module": "@jupyter-widgets/controls",
          "model_name": "FloatProgressModel",
          "model_module_version": "1.5.0",
          "state": {
            "_dom_classes": [],
            "_model_module": "@jupyter-widgets/controls",
            "_model_module_version": "1.5.0",
            "_model_name": "FloatProgressModel",
            "_view_count": null,
            "_view_module": "@jupyter-widgets/controls",
            "_view_module_version": "1.5.0",
            "_view_name": "ProgressView",
            "bar_style": "success",
            "description": "",
            "description_tooltip": null,
            "layout": "IPY_MODEL_697304c8df2847559087938082882a1e",
            "max": 1112201288,
            "min": 0,
            "orientation": "horizontal",
            "style": "IPY_MODEL_4d9dd60837854dcb9b055959b1a10e99",
            "value": 1112201288
          }
        },
        "b1cd993f4346461eb0fac3a9366f28b0": {
          "model_module": "@jupyter-widgets/controls",
          "model_name": "HTMLModel",
          "model_module_version": "1.5.0",
          "state": {
            "_dom_classes": [],
            "_model_module": "@jupyter-widgets/controls",
            "_model_module_version": "1.5.0",
            "_model_name": "HTMLModel",
            "_view_count": null,
            "_view_module": "@jupyter-widgets/controls",
            "_view_module_version": "1.5.0",
            "_view_name": "HTMLView",
            "description": "",
            "description_tooltip": null,
            "layout": "IPY_MODEL_fb1c92be3d4c40e2b14e09f21c2438ee",
            "placeholder": "​",
            "style": "IPY_MODEL_7f96d9bd224a42bcadf8860739e3f977",
            "value": " 1.11G/1.11G [00:08&lt;00:00, 125MB/s]"
          }
        },
        "5435e8641a50447fb6cf9efa0c57cd41": {
          "model_module": "@jupyter-widgets/base",
          "model_name": "LayoutModel",
          "model_module_version": "1.2.0",
          "state": {
            "_model_module": "@jupyter-widgets/base",
            "_model_module_version": "1.2.0",
            "_model_name": "LayoutModel",
            "_view_count": null,
            "_view_module": "@jupyter-widgets/base",
            "_view_module_version": "1.2.0",
            "_view_name": "LayoutView",
            "align_content": null,
            "align_items": null,
            "align_self": null,
            "border": null,
            "bottom": null,
            "display": null,
            "flex": null,
            "flex_flow": null,
            "grid_area": null,
            "grid_auto_columns": null,
            "grid_auto_flow": null,
            "grid_auto_rows": null,
            "grid_column": null,
            "grid_gap": null,
            "grid_row": null,
            "grid_template_areas": null,
            "grid_template_columns": null,
            "grid_template_rows": null,
            "height": null,
            "justify_content": null,
            "justify_items": null,
            "left": null,
            "margin": null,
            "max_height": null,
            "max_width": null,
            "min_height": null,
            "min_width": null,
            "object_fit": null,
            "object_position": null,
            "order": null,
            "overflow": null,
            "overflow_x": null,
            "overflow_y": null,
            "padding": null,
            "right": null,
            "top": null,
            "visibility": null,
            "width": null
          }
        },
        "805770c27a174038a7c05d4aa165ea48": {
          "model_module": "@jupyter-widgets/base",
          "model_name": "LayoutModel",
          "model_module_version": "1.2.0",
          "state": {
            "_model_module": "@jupyter-widgets/base",
            "_model_module_version": "1.2.0",
            "_model_name": "LayoutModel",
            "_view_count": null,
            "_view_module": "@jupyter-widgets/base",
            "_view_module_version": "1.2.0",
            "_view_name": "LayoutView",
            "align_content": null,
            "align_items": null,
            "align_self": null,
            "border": null,
            "bottom": null,
            "display": null,
            "flex": null,
            "flex_flow": null,
            "grid_area": null,
            "grid_auto_columns": null,
            "grid_auto_flow": null,
            "grid_auto_rows": null,
            "grid_column": null,
            "grid_gap": null,
            "grid_row": null,
            "grid_template_areas": null,
            "grid_template_columns": null,
            "grid_template_rows": null,
            "height": null,
            "justify_content": null,
            "justify_items": null,
            "left": null,
            "margin": null,
            "max_height": null,
            "max_width": null,
            "min_height": null,
            "min_width": null,
            "object_fit": null,
            "object_position": null,
            "order": null,
            "overflow": null,
            "overflow_x": null,
            "overflow_y": null,
            "padding": null,
            "right": null,
            "top": null,
            "visibility": null,
            "width": null
          }
        },
        "71a5a5b71e7f43f99d64b0cfaf2aa9a5": {
          "model_module": "@jupyter-widgets/controls",
          "model_name": "DescriptionStyleModel",
          "model_module_version": "1.5.0",
          "state": {
            "_model_module": "@jupyter-widgets/controls",
            "_model_module_version": "1.5.0",
            "_model_name": "DescriptionStyleModel",
            "_view_count": null,
            "_view_module": "@jupyter-widgets/base",
            "_view_module_version": "1.2.0",
            "_view_name": "StyleView",
            "description_width": ""
          }
        },
        "697304c8df2847559087938082882a1e": {
          "model_module": "@jupyter-widgets/base",
          "model_name": "LayoutModel",
          "model_module_version": "1.2.0",
          "state": {
            "_model_module": "@jupyter-widgets/base",
            "_model_module_version": "1.2.0",
            "_model_name": "LayoutModel",
            "_view_count": null,
            "_view_module": "@jupyter-widgets/base",
            "_view_module_version": "1.2.0",
            "_view_name": "LayoutView",
            "align_content": null,
            "align_items": null,
            "align_self": null,
            "border": null,
            "bottom": null,
            "display": null,
            "flex": null,
            "flex_flow": null,
            "grid_area": null,
            "grid_auto_columns": null,
            "grid_auto_flow": null,
            "grid_auto_rows": null,
            "grid_column": null,
            "grid_gap": null,
            "grid_row": null,
            "grid_template_areas": null,
            "grid_template_columns": null,
            "grid_template_rows": null,
            "height": null,
            "justify_content": null,
            "justify_items": null,
            "left": null,
            "margin": null,
            "max_height": null,
            "max_width": null,
            "min_height": null,
            "min_width": null,
            "object_fit": null,
            "object_position": null,
            "order": null,
            "overflow": null,
            "overflow_x": null,
            "overflow_y": null,
            "padding": null,
            "right": null,
            "top": null,
            "visibility": null,
            "width": null
          }
        },
        "4d9dd60837854dcb9b055959b1a10e99": {
          "model_module": "@jupyter-widgets/controls",
          "model_name": "ProgressStyleModel",
          "model_module_version": "1.5.0",
          "state": {
            "_model_module": "@jupyter-widgets/controls",
            "_model_module_version": "1.5.0",
            "_model_name": "ProgressStyleModel",
            "_view_count": null,
            "_view_module": "@jupyter-widgets/base",
            "_view_module_version": "1.2.0",
            "_view_name": "StyleView",
            "bar_color": null,
            "description_width": ""
          }
        },
        "fb1c92be3d4c40e2b14e09f21c2438ee": {
          "model_module": "@jupyter-widgets/base",
          "model_name": "LayoutModel",
          "model_module_version": "1.2.0",
          "state": {
            "_model_module": "@jupyter-widgets/base",
            "_model_module_version": "1.2.0",
            "_model_name": "LayoutModel",
            "_view_count": null,
            "_view_module": "@jupyter-widgets/base",
            "_view_module_version": "1.2.0",
            "_view_name": "LayoutView",
            "align_content": null,
            "align_items": null,
            "align_self": null,
            "border": null,
            "bottom": null,
            "display": null,
            "flex": null,
            "flex_flow": null,
            "grid_area": null,
            "grid_auto_columns": null,
            "grid_auto_flow": null,
            "grid_auto_rows": null,
            "grid_column": null,
            "grid_gap": null,
            "grid_row": null,
            "grid_template_areas": null,
            "grid_template_columns": null,
            "grid_template_rows": null,
            "height": null,
            "justify_content": null,
            "justify_items": null,
            "left": null,
            "margin": null,
            "max_height": null,
            "max_width": null,
            "min_height": null,
            "min_width": null,
            "object_fit": null,
            "object_position": null,
            "order": null,
            "overflow": null,
            "overflow_x": null,
            "overflow_y": null,
            "padding": null,
            "right": null,
            "top": null,
            "visibility": null,
            "width": null
          }
        },
        "7f96d9bd224a42bcadf8860739e3f977": {
          "model_module": "@jupyter-widgets/controls",
          "model_name": "DescriptionStyleModel",
          "model_module_version": "1.5.0",
          "state": {
            "_model_module": "@jupyter-widgets/controls",
            "_model_module_version": "1.5.0",
            "_model_name": "DescriptionStyleModel",
            "_view_count": null,
            "_view_module": "@jupyter-widgets/base",
            "_view_module_version": "1.2.0",
            "_view_name": "StyleView",
            "description_width": ""
          }
        },
        "4394f657ef744d80a196c56df0cef6c7": {
          "model_module": "@jupyter-widgets/controls",
          "model_name": "HBoxModel",
          "model_module_version": "1.5.0",
          "state": {
            "_dom_classes": [],
            "_model_module": "@jupyter-widgets/controls",
            "_model_module_version": "1.5.0",
            "_model_name": "HBoxModel",
            "_view_count": null,
            "_view_module": "@jupyter-widgets/controls",
            "_view_module_version": "1.5.0",
            "_view_name": "HBoxView",
            "box_style": "",
            "children": [
              "IPY_MODEL_dce122156be144a9ade398726a7715ec",
              "IPY_MODEL_e0f43123f08e4eb09358132d138d5301",
              "IPY_MODEL_2e1e277e46134bd3befc52cba2952911"
            ],
            "layout": "IPY_MODEL_2bd6ca1730b44026a2b46389e22a0390"
          }
        },
        "dce122156be144a9ade398726a7715ec": {
          "model_module": "@jupyter-widgets/controls",
          "model_name": "HTMLModel",
          "model_module_version": "1.5.0",
          "state": {
            "_dom_classes": [],
            "_model_module": "@jupyter-widgets/controls",
            "_model_module_version": "1.5.0",
            "_model_name": "HTMLModel",
            "_view_count": null,
            "_view_module": "@jupyter-widgets/controls",
            "_view_module_version": "1.5.0",
            "_view_name": "HTMLView",
            "description": "",
            "description_tooltip": null,
            "layout": "IPY_MODEL_510adf86abf4491a8b2807a0e794d1df",
            "placeholder": "​",
            "style": "IPY_MODEL_9f2e66bf6b654603b38bedc2e3545570",
            "value": "tokenizer_config.json: 100%"
          }
        },
        "e0f43123f08e4eb09358132d138d5301": {
          "model_module": "@jupyter-widgets/controls",
          "model_name": "FloatProgressModel",
          "model_module_version": "1.5.0",
          "state": {
            "_dom_classes": [],
            "_model_module": "@jupyter-widgets/controls",
            "_model_module_version": "1.5.0",
            "_model_name": "FloatProgressModel",
            "_view_count": null,
            "_view_module": "@jupyter-widgets/controls",
            "_view_module_version": "1.5.0",
            "_view_name": "ProgressView",
            "bar_style": "success",
            "description": "",
            "description_tooltip": null,
            "layout": "IPY_MODEL_4215011b5bbd4ad885d32100be2672f5",
            "max": 402,
            "min": 0,
            "orientation": "horizontal",
            "style": "IPY_MODEL_6e24ea6d2d7d4a0783e82593a5061b55",
            "value": 402
          }
        },
        "2e1e277e46134bd3befc52cba2952911": {
          "model_module": "@jupyter-widgets/controls",
          "model_name": "HTMLModel",
          "model_module_version": "1.5.0",
          "state": {
            "_dom_classes": [],
            "_model_module": "@jupyter-widgets/controls",
            "_model_module_version": "1.5.0",
            "_model_name": "HTMLModel",
            "_view_count": null,
            "_view_module": "@jupyter-widgets/controls",
            "_view_module_version": "1.5.0",
            "_view_name": "HTMLView",
            "description": "",
            "description_tooltip": null,
            "layout": "IPY_MODEL_55e8d3ce0af946cf927a4b0678a9b091",
            "placeholder": "​",
            "style": "IPY_MODEL_47ac027ef9a04fe2862b74b4097caa3e",
            "value": " 402/402 [00:00&lt;00:00, 22.3kB/s]"
          }
        },
        "2bd6ca1730b44026a2b46389e22a0390": {
          "model_module": "@jupyter-widgets/base",
          "model_name": "LayoutModel",
          "model_module_version": "1.2.0",
          "state": {
            "_model_module": "@jupyter-widgets/base",
            "_model_module_version": "1.2.0",
            "_model_name": "LayoutModel",
            "_view_count": null,
            "_view_module": "@jupyter-widgets/base",
            "_view_module_version": "1.2.0",
            "_view_name": "LayoutView",
            "align_content": null,
            "align_items": null,
            "align_self": null,
            "border": null,
            "bottom": null,
            "display": null,
            "flex": null,
            "flex_flow": null,
            "grid_area": null,
            "grid_auto_columns": null,
            "grid_auto_flow": null,
            "grid_auto_rows": null,
            "grid_column": null,
            "grid_gap": null,
            "grid_row": null,
            "grid_template_areas": null,
            "grid_template_columns": null,
            "grid_template_rows": null,
            "height": null,
            "justify_content": null,
            "justify_items": null,
            "left": null,
            "margin": null,
            "max_height": null,
            "max_width": null,
            "min_height": null,
            "min_width": null,
            "object_fit": null,
            "object_position": null,
            "order": null,
            "overflow": null,
            "overflow_x": null,
            "overflow_y": null,
            "padding": null,
            "right": null,
            "top": null,
            "visibility": null,
            "width": null
          }
        },
        "510adf86abf4491a8b2807a0e794d1df": {
          "model_module": "@jupyter-widgets/base",
          "model_name": "LayoutModel",
          "model_module_version": "1.2.0",
          "state": {
            "_model_module": "@jupyter-widgets/base",
            "_model_module_version": "1.2.0",
            "_model_name": "LayoutModel",
            "_view_count": null,
            "_view_module": "@jupyter-widgets/base",
            "_view_module_version": "1.2.0",
            "_view_name": "LayoutView",
            "align_content": null,
            "align_items": null,
            "align_self": null,
            "border": null,
            "bottom": null,
            "display": null,
            "flex": null,
            "flex_flow": null,
            "grid_area": null,
            "grid_auto_columns": null,
            "grid_auto_flow": null,
            "grid_auto_rows": null,
            "grid_column": null,
            "grid_gap": null,
            "grid_row": null,
            "grid_template_areas": null,
            "grid_template_columns": null,
            "grid_template_rows": null,
            "height": null,
            "justify_content": null,
            "justify_items": null,
            "left": null,
            "margin": null,
            "max_height": null,
            "max_width": null,
            "min_height": null,
            "min_width": null,
            "object_fit": null,
            "object_position": null,
            "order": null,
            "overflow": null,
            "overflow_x": null,
            "overflow_y": null,
            "padding": null,
            "right": null,
            "top": null,
            "visibility": null,
            "width": null
          }
        },
        "9f2e66bf6b654603b38bedc2e3545570": {
          "model_module": "@jupyter-widgets/controls",
          "model_name": "DescriptionStyleModel",
          "model_module_version": "1.5.0",
          "state": {
            "_model_module": "@jupyter-widgets/controls",
            "_model_module_version": "1.5.0",
            "_model_name": "DescriptionStyleModel",
            "_view_count": null,
            "_view_module": "@jupyter-widgets/base",
            "_view_module_version": "1.2.0",
            "_view_name": "StyleView",
            "description_width": ""
          }
        },
        "4215011b5bbd4ad885d32100be2672f5": {
          "model_module": "@jupyter-widgets/base",
          "model_name": "LayoutModel",
          "model_module_version": "1.2.0",
          "state": {
            "_model_module": "@jupyter-widgets/base",
            "_model_module_version": "1.2.0",
            "_model_name": "LayoutModel",
            "_view_count": null,
            "_view_module": "@jupyter-widgets/base",
            "_view_module_version": "1.2.0",
            "_view_name": "LayoutView",
            "align_content": null,
            "align_items": null,
            "align_self": null,
            "border": null,
            "bottom": null,
            "display": null,
            "flex": null,
            "flex_flow": null,
            "grid_area": null,
            "grid_auto_columns": null,
            "grid_auto_flow": null,
            "grid_auto_rows": null,
            "grid_column": null,
            "grid_gap": null,
            "grid_row": null,
            "grid_template_areas": null,
            "grid_template_columns": null,
            "grid_template_rows": null,
            "height": null,
            "justify_content": null,
            "justify_items": null,
            "left": null,
            "margin": null,
            "max_height": null,
            "max_width": null,
            "min_height": null,
            "min_width": null,
            "object_fit": null,
            "object_position": null,
            "order": null,
            "overflow": null,
            "overflow_x": null,
            "overflow_y": null,
            "padding": null,
            "right": null,
            "top": null,
            "visibility": null,
            "width": null
          }
        },
        "6e24ea6d2d7d4a0783e82593a5061b55": {
          "model_module": "@jupyter-widgets/controls",
          "model_name": "ProgressStyleModel",
          "model_module_version": "1.5.0",
          "state": {
            "_model_module": "@jupyter-widgets/controls",
            "_model_module_version": "1.5.0",
            "_model_name": "ProgressStyleModel",
            "_view_count": null,
            "_view_module": "@jupyter-widgets/base",
            "_view_module_version": "1.2.0",
            "_view_name": "StyleView",
            "bar_color": null,
            "description_width": ""
          }
        },
        "55e8d3ce0af946cf927a4b0678a9b091": {
          "model_module": "@jupyter-widgets/base",
          "model_name": "LayoutModel",
          "model_module_version": "1.2.0",
          "state": {
            "_model_module": "@jupyter-widgets/base",
            "_model_module_version": "1.2.0",
            "_model_name": "LayoutModel",
            "_view_count": null,
            "_view_module": "@jupyter-widgets/base",
            "_view_module_version": "1.2.0",
            "_view_name": "LayoutView",
            "align_content": null,
            "align_items": null,
            "align_self": null,
            "border": null,
            "bottom": null,
            "display": null,
            "flex": null,
            "flex_flow": null,
            "grid_area": null,
            "grid_auto_columns": null,
            "grid_auto_flow": null,
            "grid_auto_rows": null,
            "grid_column": null,
            "grid_gap": null,
            "grid_row": null,
            "grid_template_areas": null,
            "grid_template_columns": null,
            "grid_template_rows": null,
            "height": null,
            "justify_content": null,
            "justify_items": null,
            "left": null,
            "margin": null,
            "max_height": null,
            "max_width": null,
            "min_height": null,
            "min_width": null,
            "object_fit": null,
            "object_position": null,
            "order": null,
            "overflow": null,
            "overflow_x": null,
            "overflow_y": null,
            "padding": null,
            "right": null,
            "top": null,
            "visibility": null,
            "width": null
          }
        },
        "47ac027ef9a04fe2862b74b4097caa3e": {
          "model_module": "@jupyter-widgets/controls",
          "model_name": "DescriptionStyleModel",
          "model_module_version": "1.5.0",
          "state": {
            "_model_module": "@jupyter-widgets/controls",
            "_model_module_version": "1.5.0",
            "_model_name": "DescriptionStyleModel",
            "_view_count": null,
            "_view_module": "@jupyter-widgets/base",
            "_view_module_version": "1.2.0",
            "_view_name": "StyleView",
            "description_width": ""
          }
        },
        "44f98c15614d4aef9d4e923770f35a67": {
          "model_module": "@jupyter-widgets/controls",
          "model_name": "HBoxModel",
          "model_module_version": "1.5.0",
          "state": {
            "_dom_classes": [],
            "_model_module": "@jupyter-widgets/controls",
            "_model_module_version": "1.5.0",
            "_model_name": "HBoxModel",
            "_view_count": null,
            "_view_module": "@jupyter-widgets/controls",
            "_view_module_version": "1.5.0",
            "_view_name": "HBoxView",
            "box_style": "",
            "children": [
              "IPY_MODEL_9fadb61d1dcf4ceda2b7bb8bdda408b8",
              "IPY_MODEL_55df708ad4944d36a51833be7e16c7ad",
              "IPY_MODEL_a2225ad406b942d1b659b264c88a8e2f"
            ],
            "layout": "IPY_MODEL_0654e94dad68410cba2933fb3f190355"
          }
        },
        "9fadb61d1dcf4ceda2b7bb8bdda408b8": {
          "model_module": "@jupyter-widgets/controls",
          "model_name": "HTMLModel",
          "model_module_version": "1.5.0",
          "state": {
            "_dom_classes": [],
            "_model_module": "@jupyter-widgets/controls",
            "_model_module_version": "1.5.0",
            "_model_name": "HTMLModel",
            "_view_count": null,
            "_view_module": "@jupyter-widgets/controls",
            "_view_module_version": "1.5.0",
            "_view_name": "HTMLView",
            "description": "",
            "description_tooltip": null,
            "layout": "IPY_MODEL_81e02c67ea614db68df047ac9e69ebe9",
            "placeholder": "​",
            "style": "IPY_MODEL_aa0dd4ce9acc4b758f3361996ed2c062",
            "value": "sentencepiece.bpe.model: 100%"
          }
        },
        "55df708ad4944d36a51833be7e16c7ad": {
          "model_module": "@jupyter-widgets/controls",
          "model_name": "FloatProgressModel",
          "model_module_version": "1.5.0",
          "state": {
            "_dom_classes": [],
            "_model_module": "@jupyter-widgets/controls",
            "_model_module_version": "1.5.0",
            "_model_name": "FloatProgressModel",
            "_view_count": null,
            "_view_module": "@jupyter-widgets/controls",
            "_view_module_version": "1.5.0",
            "_view_name": "ProgressView",
            "bar_style": "success",
            "description": "",
            "description_tooltip": null,
            "layout": "IPY_MODEL_368b74432f7b4f0b863975f5278e54b2",
            "max": 5069051,
            "min": 0,
            "orientation": "horizontal",
            "style": "IPY_MODEL_659eaa2b73ba442593fa24b871462c80",
            "value": 5069051
          }
        },
        "a2225ad406b942d1b659b264c88a8e2f": {
          "model_module": "@jupyter-widgets/controls",
          "model_name": "HTMLModel",
          "model_module_version": "1.5.0",
          "state": {
            "_dom_classes": [],
            "_model_module": "@jupyter-widgets/controls",
            "_model_module_version": "1.5.0",
            "_model_name": "HTMLModel",
            "_view_count": null,
            "_view_module": "@jupyter-widgets/controls",
            "_view_module_version": "1.5.0",
            "_view_name": "HTMLView",
            "description": "",
            "description_tooltip": null,
            "layout": "IPY_MODEL_bbb77971dcbc4b88ba2e5d7cf0f933ce",
            "placeholder": "​",
            "style": "IPY_MODEL_5dc6f8a0721d4ad198c1cb289d217c4d",
            "value": " 5.07M/5.07M [00:00&lt;00:00, 74.2MB/s]"
          }
        },
        "0654e94dad68410cba2933fb3f190355": {
          "model_module": "@jupyter-widgets/base",
          "model_name": "LayoutModel",
          "model_module_version": "1.2.0",
          "state": {
            "_model_module": "@jupyter-widgets/base",
            "_model_module_version": "1.2.0",
            "_model_name": "LayoutModel",
            "_view_count": null,
            "_view_module": "@jupyter-widgets/base",
            "_view_module_version": "1.2.0",
            "_view_name": "LayoutView",
            "align_content": null,
            "align_items": null,
            "align_self": null,
            "border": null,
            "bottom": null,
            "display": null,
            "flex": null,
            "flex_flow": null,
            "grid_area": null,
            "grid_auto_columns": null,
            "grid_auto_flow": null,
            "grid_auto_rows": null,
            "grid_column": null,
            "grid_gap": null,
            "grid_row": null,
            "grid_template_areas": null,
            "grid_template_columns": null,
            "grid_template_rows": null,
            "height": null,
            "justify_content": null,
            "justify_items": null,
            "left": null,
            "margin": null,
            "max_height": null,
            "max_width": null,
            "min_height": null,
            "min_width": null,
            "object_fit": null,
            "object_position": null,
            "order": null,
            "overflow": null,
            "overflow_x": null,
            "overflow_y": null,
            "padding": null,
            "right": null,
            "top": null,
            "visibility": null,
            "width": null
          }
        },
        "81e02c67ea614db68df047ac9e69ebe9": {
          "model_module": "@jupyter-widgets/base",
          "model_name": "LayoutModel",
          "model_module_version": "1.2.0",
          "state": {
            "_model_module": "@jupyter-widgets/base",
            "_model_module_version": "1.2.0",
            "_model_name": "LayoutModel",
            "_view_count": null,
            "_view_module": "@jupyter-widgets/base",
            "_view_module_version": "1.2.0",
            "_view_name": "LayoutView",
            "align_content": null,
            "align_items": null,
            "align_self": null,
            "border": null,
            "bottom": null,
            "display": null,
            "flex": null,
            "flex_flow": null,
            "grid_area": null,
            "grid_auto_columns": null,
            "grid_auto_flow": null,
            "grid_auto_rows": null,
            "grid_column": null,
            "grid_gap": null,
            "grid_row": null,
            "grid_template_areas": null,
            "grid_template_columns": null,
            "grid_template_rows": null,
            "height": null,
            "justify_content": null,
            "justify_items": null,
            "left": null,
            "margin": null,
            "max_height": null,
            "max_width": null,
            "min_height": null,
            "min_width": null,
            "object_fit": null,
            "object_position": null,
            "order": null,
            "overflow": null,
            "overflow_x": null,
            "overflow_y": null,
            "padding": null,
            "right": null,
            "top": null,
            "visibility": null,
            "width": null
          }
        },
        "aa0dd4ce9acc4b758f3361996ed2c062": {
          "model_module": "@jupyter-widgets/controls",
          "model_name": "DescriptionStyleModel",
          "model_module_version": "1.5.0",
          "state": {
            "_model_module": "@jupyter-widgets/controls",
            "_model_module_version": "1.5.0",
            "_model_name": "DescriptionStyleModel",
            "_view_count": null,
            "_view_module": "@jupyter-widgets/base",
            "_view_module_version": "1.2.0",
            "_view_name": "StyleView",
            "description_width": ""
          }
        },
        "368b74432f7b4f0b863975f5278e54b2": {
          "model_module": "@jupyter-widgets/base",
          "model_name": "LayoutModel",
          "model_module_version": "1.2.0",
          "state": {
            "_model_module": "@jupyter-widgets/base",
            "_model_module_version": "1.2.0",
            "_model_name": "LayoutModel",
            "_view_count": null,
            "_view_module": "@jupyter-widgets/base",
            "_view_module_version": "1.2.0",
            "_view_name": "LayoutView",
            "align_content": null,
            "align_items": null,
            "align_self": null,
            "border": null,
            "bottom": null,
            "display": null,
            "flex": null,
            "flex_flow": null,
            "grid_area": null,
            "grid_auto_columns": null,
            "grid_auto_flow": null,
            "grid_auto_rows": null,
            "grid_column": null,
            "grid_gap": null,
            "grid_row": null,
            "grid_template_areas": null,
            "grid_template_columns": null,
            "grid_template_rows": null,
            "height": null,
            "justify_content": null,
            "justify_items": null,
            "left": null,
            "margin": null,
            "max_height": null,
            "max_width": null,
            "min_height": null,
            "min_width": null,
            "object_fit": null,
            "object_position": null,
            "order": null,
            "overflow": null,
            "overflow_x": null,
            "overflow_y": null,
            "padding": null,
            "right": null,
            "top": null,
            "visibility": null,
            "width": null
          }
        },
        "659eaa2b73ba442593fa24b871462c80": {
          "model_module": "@jupyter-widgets/controls",
          "model_name": "ProgressStyleModel",
          "model_module_version": "1.5.0",
          "state": {
            "_model_module": "@jupyter-widgets/controls",
            "_model_module_version": "1.5.0",
            "_model_name": "ProgressStyleModel",
            "_view_count": null,
            "_view_module": "@jupyter-widgets/base",
            "_view_module_version": "1.2.0",
            "_view_name": "StyleView",
            "bar_color": null,
            "description_width": ""
          }
        },
        "bbb77971dcbc4b88ba2e5d7cf0f933ce": {
          "model_module": "@jupyter-widgets/base",
          "model_name": "LayoutModel",
          "model_module_version": "1.2.0",
          "state": {
            "_model_module": "@jupyter-widgets/base",
            "_model_module_version": "1.2.0",
            "_model_name": "LayoutModel",
            "_view_count": null,
            "_view_module": "@jupyter-widgets/base",
            "_view_module_version": "1.2.0",
            "_view_name": "LayoutView",
            "align_content": null,
            "align_items": null,
            "align_self": null,
            "border": null,
            "bottom": null,
            "display": null,
            "flex": null,
            "flex_flow": null,
            "grid_area": null,
            "grid_auto_columns": null,
            "grid_auto_flow": null,
            "grid_auto_rows": null,
            "grid_column": null,
            "grid_gap": null,
            "grid_row": null,
            "grid_template_areas": null,
            "grid_template_columns": null,
            "grid_template_rows": null,
            "height": null,
            "justify_content": null,
            "justify_items": null,
            "left": null,
            "margin": null,
            "max_height": null,
            "max_width": null,
            "min_height": null,
            "min_width": null,
            "object_fit": null,
            "object_position": null,
            "order": null,
            "overflow": null,
            "overflow_x": null,
            "overflow_y": null,
            "padding": null,
            "right": null,
            "top": null,
            "visibility": null,
            "width": null
          }
        },
        "5dc6f8a0721d4ad198c1cb289d217c4d": {
          "model_module": "@jupyter-widgets/controls",
          "model_name": "DescriptionStyleModel",
          "model_module_version": "1.5.0",
          "state": {
            "_model_module": "@jupyter-widgets/controls",
            "_model_module_version": "1.5.0",
            "_model_name": "DescriptionStyleModel",
            "_view_count": null,
            "_view_module": "@jupyter-widgets/base",
            "_view_module_version": "1.2.0",
            "_view_name": "StyleView",
            "description_width": ""
          }
        },
        "7f23a7a6b1194c9e9125b988e98f6e79": {
          "model_module": "@jupyter-widgets/controls",
          "model_name": "HBoxModel",
          "model_module_version": "1.5.0",
          "state": {
            "_dom_classes": [],
            "_model_module": "@jupyter-widgets/controls",
            "_model_module_version": "1.5.0",
            "_model_name": "HBoxModel",
            "_view_count": null,
            "_view_module": "@jupyter-widgets/controls",
            "_view_module_version": "1.5.0",
            "_view_name": "HBoxView",
            "box_style": "",
            "children": [
              "IPY_MODEL_958b689ad4c6493584ad187eb913c152",
              "IPY_MODEL_23fd8e0927ee4029923dfe223b753ae2",
              "IPY_MODEL_a28270eb0bc445f6bb266662bf59cdf8"
            ],
            "layout": "IPY_MODEL_9a9b43cb27cd4a079f175b625e4382c9"
          }
        },
        "958b689ad4c6493584ad187eb913c152": {
          "model_module": "@jupyter-widgets/controls",
          "model_name": "HTMLModel",
          "model_module_version": "1.5.0",
          "state": {
            "_dom_classes": [],
            "_model_module": "@jupyter-widgets/controls",
            "_model_module_version": "1.5.0",
            "_model_name": "HTMLModel",
            "_view_count": null,
            "_view_module": "@jupyter-widgets/controls",
            "_view_module_version": "1.5.0",
            "_view_name": "HTMLView",
            "description": "",
            "description_tooltip": null,
            "layout": "IPY_MODEL_0c9e9dfdf6e6494287c99cbfaa8504be",
            "placeholder": "​",
            "style": "IPY_MODEL_8036655edcea45dba741d45a63a49f4e",
            "value": "tokenizer.json: 100%"
          }
        },
        "23fd8e0927ee4029923dfe223b753ae2": {
          "model_module": "@jupyter-widgets/controls",
          "model_name": "FloatProgressModel",
          "model_module_version": "1.5.0",
          "state": {
            "_dom_classes": [],
            "_model_module": "@jupyter-widgets/controls",
            "_model_module_version": "1.5.0",
            "_model_name": "FloatProgressModel",
            "_view_count": null,
            "_view_module": "@jupyter-widgets/controls",
            "_view_module_version": "1.5.0",
            "_view_name": "ProgressView",
            "bar_style": "success",
            "description": "",
            "description_tooltip": null,
            "layout": "IPY_MODEL_363c446219924ed4b6f44130928136ce",
            "max": 9081518,
            "min": 0,
            "orientation": "horizontal",
            "style": "IPY_MODEL_bf8771ad7c30458ca8729c8d656a1eea",
            "value": 9081518
          }
        },
        "a28270eb0bc445f6bb266662bf59cdf8": {
          "model_module": "@jupyter-widgets/controls",
          "model_name": "HTMLModel",
          "model_module_version": "1.5.0",
          "state": {
            "_dom_classes": [],
            "_model_module": "@jupyter-widgets/controls",
            "_model_module_version": "1.5.0",
            "_model_name": "HTMLModel",
            "_view_count": null,
            "_view_module": "@jupyter-widgets/controls",
            "_view_module_version": "1.5.0",
            "_view_name": "HTMLView",
            "description": "",
            "description_tooltip": null,
            "layout": "IPY_MODEL_6df50148dffe4ae1a6ec0d6d63df5c58",
            "placeholder": "​",
            "style": "IPY_MODEL_d96a2147f69b466582a69db2073f2740",
            "value": " 9.08M/9.08M [00:00&lt;00:00, 17.6MB/s]"
          }
        },
        "9a9b43cb27cd4a079f175b625e4382c9": {
          "model_module": "@jupyter-widgets/base",
          "model_name": "LayoutModel",
          "model_module_version": "1.2.0",
          "state": {
            "_model_module": "@jupyter-widgets/base",
            "_model_module_version": "1.2.0",
            "_model_name": "LayoutModel",
            "_view_count": null,
            "_view_module": "@jupyter-widgets/base",
            "_view_module_version": "1.2.0",
            "_view_name": "LayoutView",
            "align_content": null,
            "align_items": null,
            "align_self": null,
            "border": null,
            "bottom": null,
            "display": null,
            "flex": null,
            "flex_flow": null,
            "grid_area": null,
            "grid_auto_columns": null,
            "grid_auto_flow": null,
            "grid_auto_rows": null,
            "grid_column": null,
            "grid_gap": null,
            "grid_row": null,
            "grid_template_areas": null,
            "grid_template_columns": null,
            "grid_template_rows": null,
            "height": null,
            "justify_content": null,
            "justify_items": null,
            "left": null,
            "margin": null,
            "max_height": null,
            "max_width": null,
            "min_height": null,
            "min_width": null,
            "object_fit": null,
            "object_position": null,
            "order": null,
            "overflow": null,
            "overflow_x": null,
            "overflow_y": null,
            "padding": null,
            "right": null,
            "top": null,
            "visibility": null,
            "width": null
          }
        },
        "0c9e9dfdf6e6494287c99cbfaa8504be": {
          "model_module": "@jupyter-widgets/base",
          "model_name": "LayoutModel",
          "model_module_version": "1.2.0",
          "state": {
            "_model_module": "@jupyter-widgets/base",
            "_model_module_version": "1.2.0",
            "_model_name": "LayoutModel",
            "_view_count": null,
            "_view_module": "@jupyter-widgets/base",
            "_view_module_version": "1.2.0",
            "_view_name": "LayoutView",
            "align_content": null,
            "align_items": null,
            "align_self": null,
            "border": null,
            "bottom": null,
            "display": null,
            "flex": null,
            "flex_flow": null,
            "grid_area": null,
            "grid_auto_columns": null,
            "grid_auto_flow": null,
            "grid_auto_rows": null,
            "grid_column": null,
            "grid_gap": null,
            "grid_row": null,
            "grid_template_areas": null,
            "grid_template_columns": null,
            "grid_template_rows": null,
            "height": null,
            "justify_content": null,
            "justify_items": null,
            "left": null,
            "margin": null,
            "max_height": null,
            "max_width": null,
            "min_height": null,
            "min_width": null,
            "object_fit": null,
            "object_position": null,
            "order": null,
            "overflow": null,
            "overflow_x": null,
            "overflow_y": null,
            "padding": null,
            "right": null,
            "top": null,
            "visibility": null,
            "width": null
          }
        },
        "8036655edcea45dba741d45a63a49f4e": {
          "model_module": "@jupyter-widgets/controls",
          "model_name": "DescriptionStyleModel",
          "model_module_version": "1.5.0",
          "state": {
            "_model_module": "@jupyter-widgets/controls",
            "_model_module_version": "1.5.0",
            "_model_name": "DescriptionStyleModel",
            "_view_count": null,
            "_view_module": "@jupyter-widgets/base",
            "_view_module_version": "1.2.0",
            "_view_name": "StyleView",
            "description_width": ""
          }
        },
        "363c446219924ed4b6f44130928136ce": {
          "model_module": "@jupyter-widgets/base",
          "model_name": "LayoutModel",
          "model_module_version": "1.2.0",
          "state": {
            "_model_module": "@jupyter-widgets/base",
            "_model_module_version": "1.2.0",
            "_model_name": "LayoutModel",
            "_view_count": null,
            "_view_module": "@jupyter-widgets/base",
            "_view_module_version": "1.2.0",
            "_view_name": "LayoutView",
            "align_content": null,
            "align_items": null,
            "align_self": null,
            "border": null,
            "bottom": null,
            "display": null,
            "flex": null,
            "flex_flow": null,
            "grid_area": null,
            "grid_auto_columns": null,
            "grid_auto_flow": null,
            "grid_auto_rows": null,
            "grid_column": null,
            "grid_gap": null,
            "grid_row": null,
            "grid_template_areas": null,
            "grid_template_columns": null,
            "grid_template_rows": null,
            "height": null,
            "justify_content": null,
            "justify_items": null,
            "left": null,
            "margin": null,
            "max_height": null,
            "max_width": null,
            "min_height": null,
            "min_width": null,
            "object_fit": null,
            "object_position": null,
            "order": null,
            "overflow": null,
            "overflow_x": null,
            "overflow_y": null,
            "padding": null,
            "right": null,
            "top": null,
            "visibility": null,
            "width": null
          }
        },
        "bf8771ad7c30458ca8729c8d656a1eea": {
          "model_module": "@jupyter-widgets/controls",
          "model_name": "ProgressStyleModel",
          "model_module_version": "1.5.0",
          "state": {
            "_model_module": "@jupyter-widgets/controls",
            "_model_module_version": "1.5.0",
            "_model_name": "ProgressStyleModel",
            "_view_count": null,
            "_view_module": "@jupyter-widgets/base",
            "_view_module_version": "1.2.0",
            "_view_name": "StyleView",
            "bar_color": null,
            "description_width": ""
          }
        },
        "6df50148dffe4ae1a6ec0d6d63df5c58": {
          "model_module": "@jupyter-widgets/base",
          "model_name": "LayoutModel",
          "model_module_version": "1.2.0",
          "state": {
            "_model_module": "@jupyter-widgets/base",
            "_model_module_version": "1.2.0",
            "_model_name": "LayoutModel",
            "_view_count": null,
            "_view_module": "@jupyter-widgets/base",
            "_view_module_version": "1.2.0",
            "_view_name": "LayoutView",
            "align_content": null,
            "align_items": null,
            "align_self": null,
            "border": null,
            "bottom": null,
            "display": null,
            "flex": null,
            "flex_flow": null,
            "grid_area": null,
            "grid_auto_columns": null,
            "grid_auto_flow": null,
            "grid_auto_rows": null,
            "grid_column": null,
            "grid_gap": null,
            "grid_row": null,
            "grid_template_areas": null,
            "grid_template_columns": null,
            "grid_template_rows": null,
            "height": null,
            "justify_content": null,
            "justify_items": null,
            "left": null,
            "margin": null,
            "max_height": null,
            "max_width": null,
            "min_height": null,
            "min_width": null,
            "object_fit": null,
            "object_position": null,
            "order": null,
            "overflow": null,
            "overflow_x": null,
            "overflow_y": null,
            "padding": null,
            "right": null,
            "top": null,
            "visibility": null,
            "width": null
          }
        },
        "d96a2147f69b466582a69db2073f2740": {
          "model_module": "@jupyter-widgets/controls",
          "model_name": "DescriptionStyleModel",
          "model_module_version": "1.5.0",
          "state": {
            "_model_module": "@jupyter-widgets/controls",
            "_model_module_version": "1.5.0",
            "_model_name": "DescriptionStyleModel",
            "_view_count": null,
            "_view_module": "@jupyter-widgets/base",
            "_view_module_version": "1.2.0",
            "_view_name": "StyleView",
            "description_width": ""
          }
        },
        "fdd0d04867584e688ee5e58beb3fbb0c": {
          "model_module": "@jupyter-widgets/controls",
          "model_name": "HBoxModel",
          "model_module_version": "1.5.0",
          "state": {
            "_dom_classes": [],
            "_model_module": "@jupyter-widgets/controls",
            "_model_module_version": "1.5.0",
            "_model_name": "HBoxModel",
            "_view_count": null,
            "_view_module": "@jupyter-widgets/controls",
            "_view_module_version": "1.5.0",
            "_view_name": "HBoxView",
            "box_style": "",
            "children": [
              "IPY_MODEL_07e91c7ef67d4ae69e7622e1deda599b",
              "IPY_MODEL_d4e62dcdf4e74fa2b3efd510445e53b3",
              "IPY_MODEL_61e2b1375d844959ae790f63fbae7911"
            ],
            "layout": "IPY_MODEL_12fea432327645baa0499dab95c19331"
          }
        },
        "07e91c7ef67d4ae69e7622e1deda599b": {
          "model_module": "@jupyter-widgets/controls",
          "model_name": "HTMLModel",
          "model_module_version": "1.5.0",
          "state": {
            "_dom_classes": [],
            "_model_module": "@jupyter-widgets/controls",
            "_model_module_version": "1.5.0",
            "_model_name": "HTMLModel",
            "_view_count": null,
            "_view_module": "@jupyter-widgets/controls",
            "_view_module_version": "1.5.0",
            "_view_name": "HTMLView",
            "description": "",
            "description_tooltip": null,
            "layout": "IPY_MODEL_32c1c29ddc2a43fcbae762e8663b25be",
            "placeholder": "​",
            "style": "IPY_MODEL_3c29e867a7984c18a351bb17f00d2059",
            "value": "special_tokens_map.json: 100%"
          }
        },
        "d4e62dcdf4e74fa2b3efd510445e53b3": {
          "model_module": "@jupyter-widgets/controls",
          "model_name": "FloatProgressModel",
          "model_module_version": "1.5.0",
          "state": {
            "_dom_classes": [],
            "_model_module": "@jupyter-widgets/controls",
            "_model_module_version": "1.5.0",
            "_model_name": "FloatProgressModel",
            "_view_count": null,
            "_view_module": "@jupyter-widgets/controls",
            "_view_module_version": "1.5.0",
            "_view_name": "ProgressView",
            "bar_style": "success",
            "description": "",
            "description_tooltip": null,
            "layout": "IPY_MODEL_83a6337ede874071af0fe8e34bc8717e",
            "max": 239,
            "min": 0,
            "orientation": "horizontal",
            "style": "IPY_MODEL_9b51268c081140e2a5b3a7cdc10a4fc7",
            "value": 239
          }
        },
        "61e2b1375d844959ae790f63fbae7911": {
          "model_module": "@jupyter-widgets/controls",
          "model_name": "HTMLModel",
          "model_module_version": "1.5.0",
          "state": {
            "_dom_classes": [],
            "_model_module": "@jupyter-widgets/controls",
            "_model_module_version": "1.5.0",
            "_model_name": "HTMLModel",
            "_view_count": null,
            "_view_module": "@jupyter-widgets/controls",
            "_view_module_version": "1.5.0",
            "_view_name": "HTMLView",
            "description": "",
            "description_tooltip": null,
            "layout": "IPY_MODEL_a28480eb6dfe40ef98a01cc0311e89ff",
            "placeholder": "​",
            "style": "IPY_MODEL_a79f5a4c6498486bbf740b814c5a088b",
            "value": " 239/239 [00:00&lt;00:00, 10.5kB/s]"
          }
        },
        "12fea432327645baa0499dab95c19331": {
          "model_module": "@jupyter-widgets/base",
          "model_name": "LayoutModel",
          "model_module_version": "1.2.0",
          "state": {
            "_model_module": "@jupyter-widgets/base",
            "_model_module_version": "1.2.0",
            "_model_name": "LayoutModel",
            "_view_count": null,
            "_view_module": "@jupyter-widgets/base",
            "_view_module_version": "1.2.0",
            "_view_name": "LayoutView",
            "align_content": null,
            "align_items": null,
            "align_self": null,
            "border": null,
            "bottom": null,
            "display": null,
            "flex": null,
            "flex_flow": null,
            "grid_area": null,
            "grid_auto_columns": null,
            "grid_auto_flow": null,
            "grid_auto_rows": null,
            "grid_column": null,
            "grid_gap": null,
            "grid_row": null,
            "grid_template_areas": null,
            "grid_template_columns": null,
            "grid_template_rows": null,
            "height": null,
            "justify_content": null,
            "justify_items": null,
            "left": null,
            "margin": null,
            "max_height": null,
            "max_width": null,
            "min_height": null,
            "min_width": null,
            "object_fit": null,
            "object_position": null,
            "order": null,
            "overflow": null,
            "overflow_x": null,
            "overflow_y": null,
            "padding": null,
            "right": null,
            "top": null,
            "visibility": null,
            "width": null
          }
        },
        "32c1c29ddc2a43fcbae762e8663b25be": {
          "model_module": "@jupyter-widgets/base",
          "model_name": "LayoutModel",
          "model_module_version": "1.2.0",
          "state": {
            "_model_module": "@jupyter-widgets/base",
            "_model_module_version": "1.2.0",
            "_model_name": "LayoutModel",
            "_view_count": null,
            "_view_module": "@jupyter-widgets/base",
            "_view_module_version": "1.2.0",
            "_view_name": "LayoutView",
            "align_content": null,
            "align_items": null,
            "align_self": null,
            "border": null,
            "bottom": null,
            "display": null,
            "flex": null,
            "flex_flow": null,
            "grid_area": null,
            "grid_auto_columns": null,
            "grid_auto_flow": null,
            "grid_auto_rows": null,
            "grid_column": null,
            "grid_gap": null,
            "grid_row": null,
            "grid_template_areas": null,
            "grid_template_columns": null,
            "grid_template_rows": null,
            "height": null,
            "justify_content": null,
            "justify_items": null,
            "left": null,
            "margin": null,
            "max_height": null,
            "max_width": null,
            "min_height": null,
            "min_width": null,
            "object_fit": null,
            "object_position": null,
            "order": null,
            "overflow": null,
            "overflow_x": null,
            "overflow_y": null,
            "padding": null,
            "right": null,
            "top": null,
            "visibility": null,
            "width": null
          }
        },
        "3c29e867a7984c18a351bb17f00d2059": {
          "model_module": "@jupyter-widgets/controls",
          "model_name": "DescriptionStyleModel",
          "model_module_version": "1.5.0",
          "state": {
            "_model_module": "@jupyter-widgets/controls",
            "_model_module_version": "1.5.0",
            "_model_name": "DescriptionStyleModel",
            "_view_count": null,
            "_view_module": "@jupyter-widgets/base",
            "_view_module_version": "1.2.0",
            "_view_name": "StyleView",
            "description_width": ""
          }
        },
        "83a6337ede874071af0fe8e34bc8717e": {
          "model_module": "@jupyter-widgets/base",
          "model_name": "LayoutModel",
          "model_module_version": "1.2.0",
          "state": {
            "_model_module": "@jupyter-widgets/base",
            "_model_module_version": "1.2.0",
            "_model_name": "LayoutModel",
            "_view_count": null,
            "_view_module": "@jupyter-widgets/base",
            "_view_module_version": "1.2.0",
            "_view_name": "LayoutView",
            "align_content": null,
            "align_items": null,
            "align_self": null,
            "border": null,
            "bottom": null,
            "display": null,
            "flex": null,
            "flex_flow": null,
            "grid_area": null,
            "grid_auto_columns": null,
            "grid_auto_flow": null,
            "grid_auto_rows": null,
            "grid_column": null,
            "grid_gap": null,
            "grid_row": null,
            "grid_template_areas": null,
            "grid_template_columns": null,
            "grid_template_rows": null,
            "height": null,
            "justify_content": null,
            "justify_items": null,
            "left": null,
            "margin": null,
            "max_height": null,
            "max_width": null,
            "min_height": null,
            "min_width": null,
            "object_fit": null,
            "object_position": null,
            "order": null,
            "overflow": null,
            "overflow_x": null,
            "overflow_y": null,
            "padding": null,
            "right": null,
            "top": null,
            "visibility": null,
            "width": null
          }
        },
        "9b51268c081140e2a5b3a7cdc10a4fc7": {
          "model_module": "@jupyter-widgets/controls",
          "model_name": "ProgressStyleModel",
          "model_module_version": "1.5.0",
          "state": {
            "_model_module": "@jupyter-widgets/controls",
            "_model_module_version": "1.5.0",
            "_model_name": "ProgressStyleModel",
            "_view_count": null,
            "_view_module": "@jupyter-widgets/base",
            "_view_module_version": "1.2.0",
            "_view_name": "StyleView",
            "bar_color": null,
            "description_width": ""
          }
        },
        "a28480eb6dfe40ef98a01cc0311e89ff": {
          "model_module": "@jupyter-widgets/base",
          "model_name": "LayoutModel",
          "model_module_version": "1.2.0",
          "state": {
            "_model_module": "@jupyter-widgets/base",
            "_model_module_version": "1.2.0",
            "_model_name": "LayoutModel",
            "_view_count": null,
            "_view_module": "@jupyter-widgets/base",
            "_view_module_version": "1.2.0",
            "_view_name": "LayoutView",
            "align_content": null,
            "align_items": null,
            "align_self": null,
            "border": null,
            "bottom": null,
            "display": null,
            "flex": null,
            "flex_flow": null,
            "grid_area": null,
            "grid_auto_columns": null,
            "grid_auto_flow": null,
            "grid_auto_rows": null,
            "grid_column": null,
            "grid_gap": null,
            "grid_row": null,
            "grid_template_areas": null,
            "grid_template_columns": null,
            "grid_template_rows": null,
            "height": null,
            "justify_content": null,
            "justify_items": null,
            "left": null,
            "margin": null,
            "max_height": null,
            "max_width": null,
            "min_height": null,
            "min_width": null,
            "object_fit": null,
            "object_position": null,
            "order": null,
            "overflow": null,
            "overflow_x": null,
            "overflow_y": null,
            "padding": null,
            "right": null,
            "top": null,
            "visibility": null,
            "width": null
          }
        },
        "a79f5a4c6498486bbf740b814c5a088b": {
          "model_module": "@jupyter-widgets/controls",
          "model_name": "DescriptionStyleModel",
          "model_module_version": "1.5.0",
          "state": {
            "_model_module": "@jupyter-widgets/controls",
            "_model_module_version": "1.5.0",
            "_model_name": "DescriptionStyleModel",
            "_view_count": null,
            "_view_module": "@jupyter-widgets/base",
            "_view_module_version": "1.2.0",
            "_view_name": "StyleView",
            "description_width": ""
          }
        },
        "bf3efd6a8c554744b5ae7aa9b4b8f2f4": {
          "model_module": "@jupyter-widgets/controls",
          "model_name": "HBoxModel",
          "model_module_version": "1.5.0",
          "state": {
            "_dom_classes": [],
            "_model_module": "@jupyter-widgets/controls",
            "_model_module_version": "1.5.0",
            "_model_name": "HBoxModel",
            "_view_count": null,
            "_view_module": "@jupyter-widgets/controls",
            "_view_module_version": "1.5.0",
            "_view_name": "HBoxView",
            "box_style": "",
            "children": [
              "IPY_MODEL_6240ffd48ce84a31b4b9f72370a8ba37",
              "IPY_MODEL_d3902bdff429453599783fa9e7b96676",
              "IPY_MODEL_a5ba1b47f5a84e60a167fa13041e0b96"
            ],
            "layout": "IPY_MODEL_90b26816e8bc46a5acf759d952d1e06b"
          }
        },
        "6240ffd48ce84a31b4b9f72370a8ba37": {
          "model_module": "@jupyter-widgets/controls",
          "model_name": "HTMLModel",
          "model_module_version": "1.5.0",
          "state": {
            "_dom_classes": [],
            "_model_module": "@jupyter-widgets/controls",
            "_model_module_version": "1.5.0",
            "_model_name": "HTMLModel",
            "_view_count": null,
            "_view_module": "@jupyter-widgets/controls",
            "_view_module_version": "1.5.0",
            "_view_name": "HTMLView",
            "description": "",
            "description_tooltip": null,
            "layout": "IPY_MODEL_91a77f84f8684845bf49635dd68e6573",
            "placeholder": "​",
            "style": "IPY_MODEL_f39ed20da65547b890dce036224b1fa0",
            "value": "1_Pooling/config.json: 100%"
          }
        },
        "d3902bdff429453599783fa9e7b96676": {
          "model_module": "@jupyter-widgets/controls",
          "model_name": "FloatProgressModel",
          "model_module_version": "1.5.0",
          "state": {
            "_dom_classes": [],
            "_model_module": "@jupyter-widgets/controls",
            "_model_module_version": "1.5.0",
            "_model_name": "FloatProgressModel",
            "_view_count": null,
            "_view_module": "@jupyter-widgets/controls",
            "_view_module_version": "1.5.0",
            "_view_name": "ProgressView",
            "bar_style": "success",
            "description": "",
            "description_tooltip": null,
            "layout": "IPY_MODEL_f6a10f4f9d514217af2baa16c81d3052",
            "max": 190,
            "min": 0,
            "orientation": "horizontal",
            "style": "IPY_MODEL_d0d3463d21d64c1ebc56ce913a7fcdce",
            "value": 190
          }
        },
        "a5ba1b47f5a84e60a167fa13041e0b96": {
          "model_module": "@jupyter-widgets/controls",
          "model_name": "HTMLModel",
          "model_module_version": "1.5.0",
          "state": {
            "_dom_classes": [],
            "_model_module": "@jupyter-widgets/controls",
            "_model_module_version": "1.5.0",
            "_model_name": "HTMLModel",
            "_view_count": null,
            "_view_module": "@jupyter-widgets/controls",
            "_view_module_version": "1.5.0",
            "_view_name": "HTMLView",
            "description": "",
            "description_tooltip": null,
            "layout": "IPY_MODEL_02f1e0f9bc334605af45cb7dfeb70c93",
            "placeholder": "​",
            "style": "IPY_MODEL_079a45f5199142cdb05528365ff13383",
            "value": " 190/190 [00:00&lt;00:00, 7.43kB/s]"
          }
        },
        "90b26816e8bc46a5acf759d952d1e06b": {
          "model_module": "@jupyter-widgets/base",
          "model_name": "LayoutModel",
          "model_module_version": "1.2.0",
          "state": {
            "_model_module": "@jupyter-widgets/base",
            "_model_module_version": "1.2.0",
            "_model_name": "LayoutModel",
            "_view_count": null,
            "_view_module": "@jupyter-widgets/base",
            "_view_module_version": "1.2.0",
            "_view_name": "LayoutView",
            "align_content": null,
            "align_items": null,
            "align_self": null,
            "border": null,
            "bottom": null,
            "display": null,
            "flex": null,
            "flex_flow": null,
            "grid_area": null,
            "grid_auto_columns": null,
            "grid_auto_flow": null,
            "grid_auto_rows": null,
            "grid_column": null,
            "grid_gap": null,
            "grid_row": null,
            "grid_template_areas": null,
            "grid_template_columns": null,
            "grid_template_rows": null,
            "height": null,
            "justify_content": null,
            "justify_items": null,
            "left": null,
            "margin": null,
            "max_height": null,
            "max_width": null,
            "min_height": null,
            "min_width": null,
            "object_fit": null,
            "object_position": null,
            "order": null,
            "overflow": null,
            "overflow_x": null,
            "overflow_y": null,
            "padding": null,
            "right": null,
            "top": null,
            "visibility": null,
            "width": null
          }
        },
        "91a77f84f8684845bf49635dd68e6573": {
          "model_module": "@jupyter-widgets/base",
          "model_name": "LayoutModel",
          "model_module_version": "1.2.0",
          "state": {
            "_model_module": "@jupyter-widgets/base",
            "_model_module_version": "1.2.0",
            "_model_name": "LayoutModel",
            "_view_count": null,
            "_view_module": "@jupyter-widgets/base",
            "_view_module_version": "1.2.0",
            "_view_name": "LayoutView",
            "align_content": null,
            "align_items": null,
            "align_self": null,
            "border": null,
            "bottom": null,
            "display": null,
            "flex": null,
            "flex_flow": null,
            "grid_area": null,
            "grid_auto_columns": null,
            "grid_auto_flow": null,
            "grid_auto_rows": null,
            "grid_column": null,
            "grid_gap": null,
            "grid_row": null,
            "grid_template_areas": null,
            "grid_template_columns": null,
            "grid_template_rows": null,
            "height": null,
            "justify_content": null,
            "justify_items": null,
            "left": null,
            "margin": null,
            "max_height": null,
            "max_width": null,
            "min_height": null,
            "min_width": null,
            "object_fit": null,
            "object_position": null,
            "order": null,
            "overflow": null,
            "overflow_x": null,
            "overflow_y": null,
            "padding": null,
            "right": null,
            "top": null,
            "visibility": null,
            "width": null
          }
        },
        "f39ed20da65547b890dce036224b1fa0": {
          "model_module": "@jupyter-widgets/controls",
          "model_name": "DescriptionStyleModel",
          "model_module_version": "1.5.0",
          "state": {
            "_model_module": "@jupyter-widgets/controls",
            "_model_module_version": "1.5.0",
            "_model_name": "DescriptionStyleModel",
            "_view_count": null,
            "_view_module": "@jupyter-widgets/base",
            "_view_module_version": "1.2.0",
            "_view_name": "StyleView",
            "description_width": ""
          }
        },
        "f6a10f4f9d514217af2baa16c81d3052": {
          "model_module": "@jupyter-widgets/base",
          "model_name": "LayoutModel",
          "model_module_version": "1.2.0",
          "state": {
            "_model_module": "@jupyter-widgets/base",
            "_model_module_version": "1.2.0",
            "_model_name": "LayoutModel",
            "_view_count": null,
            "_view_module": "@jupyter-widgets/base",
            "_view_module_version": "1.2.0",
            "_view_name": "LayoutView",
            "align_content": null,
            "align_items": null,
            "align_self": null,
            "border": null,
            "bottom": null,
            "display": null,
            "flex": null,
            "flex_flow": null,
            "grid_area": null,
            "grid_auto_columns": null,
            "grid_auto_flow": null,
            "grid_auto_rows": null,
            "grid_column": null,
            "grid_gap": null,
            "grid_row": null,
            "grid_template_areas": null,
            "grid_template_columns": null,
            "grid_template_rows": null,
            "height": null,
            "justify_content": null,
            "justify_items": null,
            "left": null,
            "margin": null,
            "max_height": null,
            "max_width": null,
            "min_height": null,
            "min_width": null,
            "object_fit": null,
            "object_position": null,
            "order": null,
            "overflow": null,
            "overflow_x": null,
            "overflow_y": null,
            "padding": null,
            "right": null,
            "top": null,
            "visibility": null,
            "width": null
          }
        },
        "d0d3463d21d64c1ebc56ce913a7fcdce": {
          "model_module": "@jupyter-widgets/controls",
          "model_name": "ProgressStyleModel",
          "model_module_version": "1.5.0",
          "state": {
            "_model_module": "@jupyter-widgets/controls",
            "_model_module_version": "1.5.0",
            "_model_name": "ProgressStyleModel",
            "_view_count": null,
            "_view_module": "@jupyter-widgets/base",
            "_view_module_version": "1.2.0",
            "_view_name": "StyleView",
            "bar_color": null,
            "description_width": ""
          }
        },
        "02f1e0f9bc334605af45cb7dfeb70c93": {
          "model_module": "@jupyter-widgets/base",
          "model_name": "LayoutModel",
          "model_module_version": "1.2.0",
          "state": {
            "_model_module": "@jupyter-widgets/base",
            "_model_module_version": "1.2.0",
            "_model_name": "LayoutModel",
            "_view_count": null,
            "_view_module": "@jupyter-widgets/base",
            "_view_module_version": "1.2.0",
            "_view_name": "LayoutView",
            "align_content": null,
            "align_items": null,
            "align_self": null,
            "border": null,
            "bottom": null,
            "display": null,
            "flex": null,
            "flex_flow": null,
            "grid_area": null,
            "grid_auto_columns": null,
            "grid_auto_flow": null,
            "grid_auto_rows": null,
            "grid_column": null,
            "grid_gap": null,
            "grid_row": null,
            "grid_template_areas": null,
            "grid_template_columns": null,
            "grid_template_rows": null,
            "height": null,
            "justify_content": null,
            "justify_items": null,
            "left": null,
            "margin": null,
            "max_height": null,
            "max_width": null,
            "min_height": null,
            "min_width": null,
            "object_fit": null,
            "object_position": null,
            "order": null,
            "overflow": null,
            "overflow_x": null,
            "overflow_y": null,
            "padding": null,
            "right": null,
            "top": null,
            "visibility": null,
            "width": null
          }
        },
        "079a45f5199142cdb05528365ff13383": {
          "model_module": "@jupyter-widgets/controls",
          "model_name": "DescriptionStyleModel",
          "model_module_version": "1.5.0",
          "state": {
            "_model_module": "@jupyter-widgets/controls",
            "_model_module_version": "1.5.0",
            "_model_name": "DescriptionStyleModel",
            "_view_count": null,
            "_view_module": "@jupyter-widgets/base",
            "_view_module_version": "1.2.0",
            "_view_name": "StyleView",
            "description_width": ""
          }
        }
      }
    }
  },
  "cells": [
    {
      "cell_type": "markdown",
      "metadata": {
        "id": "view-in-github",
        "colab_type": "text"
      },
      "source": [
        "<a href=\"https://colab.research.google.com/github/sergo2/gigachat_tutorials/blob/main/%D0%97%D0%B0%D0%B3%D1%80%D1%83%D0%B7%D1%87%D0%B8%D0%BA%D0%B8.ipynb\" target=\"_parent\"><img src=\"https://colab.research.google.com/assets/colab-badge.svg\" alt=\"Open In Colab\"/></a>"
      ]
    },
    {
      "cell_type": "markdown",
      "source": [
        "# Загрузчики документов для RAG и других цепочек GigaChain/LangChain\n",
        "\n",
        "Создание вопросно-ответных систем или иных приложений, где большая языковая модель взаимодействует с контекстом, нужны подготовленные тексты из внешних источников. Очень часто источниками этих текстов являются файлы различных форматов. В этом туториале мы познакомимся с работой некоторых загрузчиков, которые есть в библиотеке GigaChain/LangChain, позволяющих извлекать тексты из файлов. Мы рассмотрим примеры как обычных текстовых файлов, так и табличных документов. Загрузчики представляют собой интеграции внешних библиотек. В результате при работе с любыми источниками используется один и тот же интерфейс и единый формат выдаваемых на выходе данных, что облегчает разработку приложений.\n",
        "\n",
        "На основе извлеченных текстовых данных мы создадим векторные базы данных с эмбеддингами, а затем сделаем ряд запросов к этим базам данных, чтобы проверить, насколько возвращаемые фрагменты релевантны запросам.\n",
        "\n",
        "Давайте приступим!"
      ],
      "metadata": {
        "id": "1vUstIlJXqv7"
      }
    },
    {
      "cell_type": "markdown",
      "source": [
        "## Установим необходимые библиотеки"
      ],
      "metadata": {
        "id": "SdSXDJaAWzmg"
      }
    },
    {
      "cell_type": "code",
      "execution_count": 15,
      "metadata": {
        "id": "2Wtz2wO9JMHc"
      },
      "outputs": [],
      "source": [
        "!pip install gigachain gigachain-community unstructured[all-docs] faiss-cpu sentence-transformers --quiet"
      ]
    },
    {
      "cell_type": "markdown",
      "source": [
        "## Текстовые данные\n",
        "В этом разделе мы рассмотрим загрузчики для текстовых данных: PDF и DOCX файлов.\n",
        "\n",
        "В арсенале GigaChain есть несколько загрузчиков под каждый из этих типов файлов. Мы воспользуемся `UnstructuredWordDocumentLoader` и `UnstructuredPDFLoader` для DOCX и PDF соответственно. Другие варианты загрузчиков можно посмотреть по ссылкам:\n",
        "- [DOCX](https://python.langchain.com/v0.1/docs/integrations/document_loaders/microsoft_word/);\n",
        "- [PDF](https://python.langchain.com/v0.1/docs/modules/data_connection/document_loaders/pdf/).\n",
        "\n",
        "В качестве текстов используем статью:\n",
        "\n",
        "*Голиков А.А., Акимов Д.А., Романовский М.С., Тращенков С.В. — Аспекты создания корпоративной вопросно-ответной системы с использованием генеративных предобученных языковых моделей // Litera. – 2023. – No 12. – С. 190 - 205. DOI: 10.25136/2409-8698.2023.12.69353 EDN: FSTHRW URL: https://nbpublish.com/library_read_article.php?id=69353*\n"
      ],
      "metadata": {
        "id": "WrBSAV6nW-ys"
      }
    },
    {
      "cell_type": "markdown",
      "source": [
        "### Создание фрагментов на основе PDF\n",
        "\n",
        "Для подготовки фрагментов используем `RecursiveCharacterTextSplitter`. Зададим приблизительный размер фрагмента и количество символов перекрытия. Сплиттер можно передать в метод `load_and_split()`. На выходе получим список документов `Document`."
      ],
      "metadata": {
        "id": "KLQrEuJE3Zuc"
      }
    },
    {
      "cell_type": "code",
      "source": [
        "from langchain_community.document_loaders import PyPDFLoader\n",
        "from langchain.text_splitter import RecursiveCharacterTextSplitter\n",
        "\n",
        "text_splitter = RecursiveCharacterTextSplitter(chunk_size=1000,\n",
        "                                              chunk_overlap=100)\n",
        "loader = PyPDFLoader(\"http://192.168.1.100/SKUV.pdf\")\n",
        "\n",
        "splitted_data = loader.load_and_split(text_splitter)"
      ],
      "metadata": {
        "colab": {
          "base_uri": "https://localhost:8080/",
          "height": 633
        },
        "id": "RHCxpBtI1E7R",
        "outputId": "999f3d68-3250-44fd-d1ef-756403ed4511"
      },
      "execution_count": 19,
      "outputs": [
        {
          "output_type": "error",
          "ename": "ConnectTimeout",
          "evalue": "HTTPConnectionPool(host='192.168.1.100', port=80): Max retries exceeded with url: /SKUV.pdf (Caused by ConnectTimeoutError(<urllib3.connection.HTTPConnection object at 0x7b7c847c0850>, 'Connection to 192.168.1.100 timed out. (connect timeout=None)'))",
          "traceback": [
            "\u001b[0;31m---------------------------------------------------------------------------\u001b[0m",
            "\u001b[0;31mTimeoutError\u001b[0m                              Traceback (most recent call last)",
            "\u001b[0;32m/usr/local/lib/python3.10/dist-packages/urllib3/connection.py\u001b[0m in \u001b[0;36m_new_conn\u001b[0;34m(self)\u001b[0m\n\u001b[1;32m    198\u001b[0m         \u001b[0;32mtry\u001b[0m\u001b[0;34m:\u001b[0m\u001b[0;34m\u001b[0m\u001b[0;34m\u001b[0m\u001b[0m\n\u001b[0;32m--> 199\u001b[0;31m             sock = connection.create_connection(\n\u001b[0m\u001b[1;32m    200\u001b[0m                 \u001b[0;34m(\u001b[0m\u001b[0mself\u001b[0m\u001b[0;34m.\u001b[0m\u001b[0m_dns_host\u001b[0m\u001b[0;34m,\u001b[0m \u001b[0mself\u001b[0m\u001b[0;34m.\u001b[0m\u001b[0mport\u001b[0m\u001b[0;34m)\u001b[0m\u001b[0;34m,\u001b[0m\u001b[0;34m\u001b[0m\u001b[0;34m\u001b[0m\u001b[0m\n",
            "\u001b[0;32m/usr/local/lib/python3.10/dist-packages/urllib3/util/connection.py\u001b[0m in \u001b[0;36mcreate_connection\u001b[0;34m(address, timeout, source_address, socket_options)\u001b[0m\n\u001b[1;32m     84\u001b[0m         \u001b[0;32mtry\u001b[0m\u001b[0;34m:\u001b[0m\u001b[0;34m\u001b[0m\u001b[0;34m\u001b[0m\u001b[0m\n\u001b[0;32m---> 85\u001b[0;31m             \u001b[0;32mraise\u001b[0m \u001b[0merr\u001b[0m\u001b[0;34m\u001b[0m\u001b[0;34m\u001b[0m\u001b[0m\n\u001b[0m\u001b[1;32m     86\u001b[0m         \u001b[0;32mfinally\u001b[0m\u001b[0;34m:\u001b[0m\u001b[0;34m\u001b[0m\u001b[0;34m\u001b[0m\u001b[0m\n",
            "\u001b[0;32m/usr/local/lib/python3.10/dist-packages/urllib3/util/connection.py\u001b[0m in \u001b[0;36mcreate_connection\u001b[0;34m(address, timeout, source_address, socket_options)\u001b[0m\n\u001b[1;32m     72\u001b[0m                 \u001b[0msock\u001b[0m\u001b[0;34m.\u001b[0m\u001b[0mbind\u001b[0m\u001b[0;34m(\u001b[0m\u001b[0msource_address\u001b[0m\u001b[0;34m)\u001b[0m\u001b[0;34m\u001b[0m\u001b[0;34m\u001b[0m\u001b[0m\n\u001b[0;32m---> 73\u001b[0;31m             \u001b[0msock\u001b[0m\u001b[0;34m.\u001b[0m\u001b[0mconnect\u001b[0m\u001b[0;34m(\u001b[0m\u001b[0msa\u001b[0m\u001b[0;34m)\u001b[0m\u001b[0;34m\u001b[0m\u001b[0;34m\u001b[0m\u001b[0m\n\u001b[0m\u001b[1;32m     74\u001b[0m             \u001b[0;31m# Break explicitly a reference cycle\u001b[0m\u001b[0;34m\u001b[0m\u001b[0;34m\u001b[0m\u001b[0m\n",
            "\u001b[0;31mTimeoutError\u001b[0m: [Errno 110] Connection timed out",
            "\nThe above exception was the direct cause of the following exception:\n",
            "\u001b[0;31mConnectTimeoutError\u001b[0m                       Traceback (most recent call last)",
            "\u001b[0;32m/usr/local/lib/python3.10/dist-packages/urllib3/connectionpool.py\u001b[0m in \u001b[0;36murlopen\u001b[0;34m(self, method, url, body, headers, retries, redirect, assert_same_host, timeout, pool_timeout, release_conn, chunked, body_pos, preload_content, decode_content, **response_kw)\u001b[0m\n\u001b[1;32m    788\u001b[0m             \u001b[0;31m# Make the request on the HTTPConnection object\u001b[0m\u001b[0;34m\u001b[0m\u001b[0;34m\u001b[0m\u001b[0m\n\u001b[0;32m--> 789\u001b[0;31m             response = self._make_request(\n\u001b[0m\u001b[1;32m    790\u001b[0m                 \u001b[0mconn\u001b[0m\u001b[0;34m,\u001b[0m\u001b[0;34m\u001b[0m\u001b[0;34m\u001b[0m\u001b[0m\n",
            "\u001b[0;32m/usr/local/lib/python3.10/dist-packages/urllib3/connectionpool.py\u001b[0m in \u001b[0;36m_make_request\u001b[0;34m(self, conn, method, url, body, headers, retries, timeout, chunked, response_conn, preload_content, decode_content, enforce_content_length)\u001b[0m\n\u001b[1;32m    494\u001b[0m         \u001b[0;32mtry\u001b[0m\u001b[0;34m:\u001b[0m\u001b[0;34m\u001b[0m\u001b[0;34m\u001b[0m\u001b[0m\n\u001b[0;32m--> 495\u001b[0;31m             conn.request(\n\u001b[0m\u001b[1;32m    496\u001b[0m                 \u001b[0mmethod\u001b[0m\u001b[0;34m,\u001b[0m\u001b[0;34m\u001b[0m\u001b[0;34m\u001b[0m\u001b[0m\n",
            "\u001b[0;32m/usr/local/lib/python3.10/dist-packages/urllib3/connection.py\u001b[0m in \u001b[0;36mrequest\u001b[0;34m(self, method, url, body, headers, chunked, preload_content, decode_content, enforce_content_length)\u001b[0m\n\u001b[1;32m    440\u001b[0m             \u001b[0mself\u001b[0m\u001b[0;34m.\u001b[0m\u001b[0mputheader\u001b[0m\u001b[0;34m(\u001b[0m\u001b[0mheader\u001b[0m\u001b[0;34m,\u001b[0m \u001b[0mvalue\u001b[0m\u001b[0;34m)\u001b[0m\u001b[0;34m\u001b[0m\u001b[0;34m\u001b[0m\u001b[0m\n\u001b[0;32m--> 441\u001b[0;31m         \u001b[0mself\u001b[0m\u001b[0;34m.\u001b[0m\u001b[0mendheaders\u001b[0m\u001b[0;34m(\u001b[0m\u001b[0;34m)\u001b[0m\u001b[0;34m\u001b[0m\u001b[0;34m\u001b[0m\u001b[0m\n\u001b[0m\u001b[1;32m    442\u001b[0m \u001b[0;34m\u001b[0m\u001b[0m\n",
            "\u001b[0;32m/usr/lib/python3.10/http/client.py\u001b[0m in \u001b[0;36mendheaders\u001b[0;34m(self, message_body, encode_chunked)\u001b[0m\n\u001b[1;32m   1277\u001b[0m             \u001b[0;32mraise\u001b[0m \u001b[0mCannotSendHeader\u001b[0m\u001b[0;34m(\u001b[0m\u001b[0;34m)\u001b[0m\u001b[0;34m\u001b[0m\u001b[0;34m\u001b[0m\u001b[0m\n\u001b[0;32m-> 1278\u001b[0;31m         \u001b[0mself\u001b[0m\u001b[0;34m.\u001b[0m\u001b[0m_send_output\u001b[0m\u001b[0;34m(\u001b[0m\u001b[0mmessage_body\u001b[0m\u001b[0;34m,\u001b[0m \u001b[0mencode_chunked\u001b[0m\u001b[0;34m=\u001b[0m\u001b[0mencode_chunked\u001b[0m\u001b[0;34m)\u001b[0m\u001b[0;34m\u001b[0m\u001b[0;34m\u001b[0m\u001b[0m\n\u001b[0m\u001b[1;32m   1279\u001b[0m \u001b[0;34m\u001b[0m\u001b[0m\n",
            "\u001b[0;32m/usr/lib/python3.10/http/client.py\u001b[0m in \u001b[0;36m_send_output\u001b[0;34m(self, message_body, encode_chunked)\u001b[0m\n\u001b[1;32m   1037\u001b[0m         \u001b[0;32mdel\u001b[0m \u001b[0mself\u001b[0m\u001b[0;34m.\u001b[0m\u001b[0m_buffer\u001b[0m\u001b[0;34m[\u001b[0m\u001b[0;34m:\u001b[0m\u001b[0;34m]\u001b[0m\u001b[0;34m\u001b[0m\u001b[0;34m\u001b[0m\u001b[0m\n\u001b[0;32m-> 1038\u001b[0;31m         \u001b[0mself\u001b[0m\u001b[0;34m.\u001b[0m\u001b[0msend\u001b[0m\u001b[0;34m(\u001b[0m\u001b[0mmsg\u001b[0m\u001b[0;34m)\u001b[0m\u001b[0;34m\u001b[0m\u001b[0;34m\u001b[0m\u001b[0m\n\u001b[0m\u001b[1;32m   1039\u001b[0m \u001b[0;34m\u001b[0m\u001b[0m\n",
            "\u001b[0;32m/usr/lib/python3.10/http/client.py\u001b[0m in \u001b[0;36msend\u001b[0;34m(self, data)\u001b[0m\n\u001b[1;32m    975\u001b[0m             \u001b[0;32mif\u001b[0m \u001b[0mself\u001b[0m\u001b[0;34m.\u001b[0m\u001b[0mauto_open\u001b[0m\u001b[0;34m:\u001b[0m\u001b[0;34m\u001b[0m\u001b[0;34m\u001b[0m\u001b[0m\n\u001b[0;32m--> 976\u001b[0;31m                 \u001b[0mself\u001b[0m\u001b[0;34m.\u001b[0m\u001b[0mconnect\u001b[0m\u001b[0;34m(\u001b[0m\u001b[0;34m)\u001b[0m\u001b[0;34m\u001b[0m\u001b[0;34m\u001b[0m\u001b[0m\n\u001b[0m\u001b[1;32m    977\u001b[0m             \u001b[0;32melse\u001b[0m\u001b[0;34m:\u001b[0m\u001b[0;34m\u001b[0m\u001b[0;34m\u001b[0m\u001b[0m\n",
            "\u001b[0;32m/usr/local/lib/python3.10/dist-packages/urllib3/connection.py\u001b[0m in \u001b[0;36mconnect\u001b[0;34m(self)\u001b[0m\n\u001b[1;32m    278\u001b[0m     \u001b[0;32mdef\u001b[0m \u001b[0mconnect\u001b[0m\u001b[0;34m(\u001b[0m\u001b[0mself\u001b[0m\u001b[0;34m)\u001b[0m \u001b[0;34m->\u001b[0m \u001b[0;32mNone\u001b[0m\u001b[0;34m:\u001b[0m\u001b[0;34m\u001b[0m\u001b[0;34m\u001b[0m\u001b[0m\n\u001b[0;32m--> 279\u001b[0;31m         \u001b[0mself\u001b[0m\u001b[0;34m.\u001b[0m\u001b[0msock\u001b[0m \u001b[0;34m=\u001b[0m \u001b[0mself\u001b[0m\u001b[0;34m.\u001b[0m\u001b[0m_new_conn\u001b[0m\u001b[0;34m(\u001b[0m\u001b[0;34m)\u001b[0m\u001b[0;34m\u001b[0m\u001b[0;34m\u001b[0m\u001b[0m\n\u001b[0m\u001b[1;32m    280\u001b[0m         \u001b[0;32mif\u001b[0m \u001b[0mself\u001b[0m\u001b[0;34m.\u001b[0m\u001b[0m_tunnel_host\u001b[0m\u001b[0;34m:\u001b[0m\u001b[0;34m\u001b[0m\u001b[0;34m\u001b[0m\u001b[0m\n",
            "\u001b[0;32m/usr/local/lib/python3.10/dist-packages/urllib3/connection.py\u001b[0m in \u001b[0;36m_new_conn\u001b[0;34m(self)\u001b[0m\n\u001b[1;32m    207\u001b[0m         \u001b[0;32mexcept\u001b[0m \u001b[0mSocketTimeout\u001b[0m \u001b[0;32mas\u001b[0m \u001b[0me\u001b[0m\u001b[0;34m:\u001b[0m\u001b[0;34m\u001b[0m\u001b[0;34m\u001b[0m\u001b[0m\n\u001b[0;32m--> 208\u001b[0;31m             raise ConnectTimeoutError(\n\u001b[0m\u001b[1;32m    209\u001b[0m                 \u001b[0mself\u001b[0m\u001b[0;34m,\u001b[0m\u001b[0;34m\u001b[0m\u001b[0;34m\u001b[0m\u001b[0m\n",
            "\u001b[0;31mConnectTimeoutError\u001b[0m: (<urllib3.connection.HTTPConnection object at 0x7b7c847c0850>, 'Connection to 192.168.1.100 timed out. (connect timeout=None)')",
            "\nThe above exception was the direct cause of the following exception:\n",
            "\u001b[0;31mMaxRetryError\u001b[0m                             Traceback (most recent call last)",
            "\u001b[0;32m/usr/local/lib/python3.10/dist-packages/requests/adapters.py\u001b[0m in \u001b[0;36msend\u001b[0;34m(self, request, stream, timeout, verify, cert, proxies)\u001b[0m\n\u001b[1;32m    666\u001b[0m         \u001b[0;32mtry\u001b[0m\u001b[0;34m:\u001b[0m\u001b[0;34m\u001b[0m\u001b[0;34m\u001b[0m\u001b[0m\n\u001b[0;32m--> 667\u001b[0;31m             resp = conn.urlopen(\n\u001b[0m\u001b[1;32m    668\u001b[0m                 \u001b[0mmethod\u001b[0m\u001b[0;34m=\u001b[0m\u001b[0mrequest\u001b[0m\u001b[0;34m.\u001b[0m\u001b[0mmethod\u001b[0m\u001b[0;34m,\u001b[0m\u001b[0;34m\u001b[0m\u001b[0;34m\u001b[0m\u001b[0m\n",
            "\u001b[0;32m/usr/local/lib/python3.10/dist-packages/urllib3/connectionpool.py\u001b[0m in \u001b[0;36murlopen\u001b[0;34m(self, method, url, body, headers, retries, redirect, assert_same_host, timeout, pool_timeout, release_conn, chunked, body_pos, preload_content, decode_content, **response_kw)\u001b[0m\n\u001b[1;32m    842\u001b[0m \u001b[0;34m\u001b[0m\u001b[0m\n\u001b[0;32m--> 843\u001b[0;31m             retries = retries.increment(\n\u001b[0m\u001b[1;32m    844\u001b[0m                 \u001b[0mmethod\u001b[0m\u001b[0;34m,\u001b[0m \u001b[0murl\u001b[0m\u001b[0;34m,\u001b[0m \u001b[0merror\u001b[0m\u001b[0;34m=\u001b[0m\u001b[0mnew_e\u001b[0m\u001b[0;34m,\u001b[0m \u001b[0m_pool\u001b[0m\u001b[0;34m=\u001b[0m\u001b[0mself\u001b[0m\u001b[0;34m,\u001b[0m \u001b[0m_stacktrace\u001b[0m\u001b[0;34m=\u001b[0m\u001b[0msys\u001b[0m\u001b[0;34m.\u001b[0m\u001b[0mexc_info\u001b[0m\u001b[0;34m(\u001b[0m\u001b[0;34m)\u001b[0m\u001b[0;34m[\u001b[0m\u001b[0;36m2\u001b[0m\u001b[0;34m]\u001b[0m\u001b[0;34m\u001b[0m\u001b[0;34m\u001b[0m\u001b[0m\n",
            "\u001b[0;32m/usr/local/lib/python3.10/dist-packages/urllib3/util/retry.py\u001b[0m in \u001b[0;36mincrement\u001b[0;34m(self, method, url, response, error, _pool, _stacktrace)\u001b[0m\n\u001b[1;32m    518\u001b[0m             \u001b[0mreason\u001b[0m \u001b[0;34m=\u001b[0m \u001b[0merror\u001b[0m \u001b[0;32mor\u001b[0m \u001b[0mResponseError\u001b[0m\u001b[0;34m(\u001b[0m\u001b[0mcause\u001b[0m\u001b[0;34m)\u001b[0m\u001b[0;34m\u001b[0m\u001b[0;34m\u001b[0m\u001b[0m\n\u001b[0;32m--> 519\u001b[0;31m             \u001b[0;32mraise\u001b[0m \u001b[0mMaxRetryError\u001b[0m\u001b[0;34m(\u001b[0m\u001b[0m_pool\u001b[0m\u001b[0;34m,\u001b[0m \u001b[0murl\u001b[0m\u001b[0;34m,\u001b[0m \u001b[0mreason\u001b[0m\u001b[0;34m)\u001b[0m \u001b[0;32mfrom\u001b[0m \u001b[0mreason\u001b[0m  \u001b[0;31m# type: ignore[arg-type]\u001b[0m\u001b[0;34m\u001b[0m\u001b[0;34m\u001b[0m\u001b[0m\n\u001b[0m\u001b[1;32m    520\u001b[0m \u001b[0;34m\u001b[0m\u001b[0m\n",
            "\u001b[0;31mMaxRetryError\u001b[0m: HTTPConnectionPool(host='192.168.1.100', port=80): Max retries exceeded with url: /SKUV.pdf (Caused by ConnectTimeoutError(<urllib3.connection.HTTPConnection object at 0x7b7c847c0850>, 'Connection to 192.168.1.100 timed out. (connect timeout=None)'))",
            "\nDuring handling of the above exception, another exception occurred:\n",
            "\u001b[0;31mConnectTimeout\u001b[0m                            Traceback (most recent call last)",
            "\u001b[0;32m<ipython-input-19-7b79cb183c03>\u001b[0m in \u001b[0;36m<cell line: 6>\u001b[0;34m()\u001b[0m\n\u001b[1;32m      4\u001b[0m text_splitter = RecursiveCharacterTextSplitter(chunk_size=1000,\n\u001b[1;32m      5\u001b[0m                                               chunk_overlap=100)\n\u001b[0;32m----> 6\u001b[0;31m \u001b[0mloader\u001b[0m \u001b[0;34m=\u001b[0m \u001b[0mPyPDFLoader\u001b[0m\u001b[0;34m(\u001b[0m\u001b[0;34m\"http://192.168.1.100/SKUV.pdf\"\u001b[0m\u001b[0;34m)\u001b[0m\u001b[0;34m\u001b[0m\u001b[0;34m\u001b[0m\u001b[0m\n\u001b[0m\u001b[1;32m      7\u001b[0m \u001b[0;34m\u001b[0m\u001b[0m\n\u001b[1;32m      8\u001b[0m \u001b[0msplitted_data\u001b[0m \u001b[0;34m=\u001b[0m \u001b[0mloader\u001b[0m\u001b[0;34m.\u001b[0m\u001b[0mload_and_split\u001b[0m\u001b[0;34m(\u001b[0m\u001b[0mtext_splitter\u001b[0m\u001b[0;34m)\u001b[0m\u001b[0;34m\u001b[0m\u001b[0;34m\u001b[0m\u001b[0m\n",
            "\u001b[0;32m/usr/local/lib/python3.10/dist-packages/langchain_community/document_loaders/pdf.py\u001b[0m in \u001b[0;36m__init__\u001b[0;34m(self, file_path, password, headers, extract_images, extraction_mode, extraction_kwargs)\u001b[0m\n\u001b[1;32m    239\u001b[0m                 \u001b[0;34m\"pypdf package not found, please install it with `pip install pypdf`\"\u001b[0m\u001b[0;34m\u001b[0m\u001b[0;34m\u001b[0m\u001b[0m\n\u001b[1;32m    240\u001b[0m             )\n\u001b[0;32m--> 241\u001b[0;31m         \u001b[0msuper\u001b[0m\u001b[0;34m(\u001b[0m\u001b[0;34m)\u001b[0m\u001b[0;34m.\u001b[0m\u001b[0m__init__\u001b[0m\u001b[0;34m(\u001b[0m\u001b[0mfile_path\u001b[0m\u001b[0;34m,\u001b[0m \u001b[0mheaders\u001b[0m\u001b[0;34m=\u001b[0m\u001b[0mheaders\u001b[0m\u001b[0;34m)\u001b[0m\u001b[0;34m\u001b[0m\u001b[0;34m\u001b[0m\u001b[0m\n\u001b[0m\u001b[1;32m    242\u001b[0m         self.parser = PyPDFParser(\n\u001b[1;32m    243\u001b[0m             \u001b[0mpassword\u001b[0m\u001b[0;34m=\u001b[0m\u001b[0mpassword\u001b[0m\u001b[0;34m,\u001b[0m\u001b[0;34m\u001b[0m\u001b[0;34m\u001b[0m\u001b[0m\n",
            "\u001b[0;32m/usr/local/lib/python3.10/dist-packages/langchain_community/document_loaders/pdf.py\u001b[0m in \u001b[0;36m__init__\u001b[0;34m(self, file_path, headers)\u001b[0m\n\u001b[1;32m    104\u001b[0m             \u001b[0mself\u001b[0m\u001b[0;34m.\u001b[0m\u001b[0mweb_path\u001b[0m \u001b[0;34m=\u001b[0m \u001b[0mself\u001b[0m\u001b[0;34m.\u001b[0m\u001b[0mfile_path\u001b[0m\u001b[0;34m\u001b[0m\u001b[0;34m\u001b[0m\u001b[0m\n\u001b[1;32m    105\u001b[0m             \u001b[0;32mif\u001b[0m \u001b[0;32mnot\u001b[0m \u001b[0mself\u001b[0m\u001b[0;34m.\u001b[0m\u001b[0m_is_s3_url\u001b[0m\u001b[0;34m(\u001b[0m\u001b[0mself\u001b[0m\u001b[0;34m.\u001b[0m\u001b[0mfile_path\u001b[0m\u001b[0;34m)\u001b[0m\u001b[0;34m:\u001b[0m\u001b[0;34m\u001b[0m\u001b[0;34m\u001b[0m\u001b[0m\n\u001b[0;32m--> 106\u001b[0;31m                 \u001b[0mr\u001b[0m \u001b[0;34m=\u001b[0m \u001b[0mrequests\u001b[0m\u001b[0;34m.\u001b[0m\u001b[0mget\u001b[0m\u001b[0;34m(\u001b[0m\u001b[0mself\u001b[0m\u001b[0;34m.\u001b[0m\u001b[0mfile_path\u001b[0m\u001b[0;34m,\u001b[0m \u001b[0mheaders\u001b[0m\u001b[0;34m=\u001b[0m\u001b[0mself\u001b[0m\u001b[0;34m.\u001b[0m\u001b[0mheaders\u001b[0m\u001b[0;34m)\u001b[0m\u001b[0;34m\u001b[0m\u001b[0;34m\u001b[0m\u001b[0m\n\u001b[0m\u001b[1;32m    107\u001b[0m                 \u001b[0;32mif\u001b[0m \u001b[0mr\u001b[0m\u001b[0;34m.\u001b[0m\u001b[0mstatus_code\u001b[0m \u001b[0;34m!=\u001b[0m \u001b[0;36m200\u001b[0m\u001b[0;34m:\u001b[0m\u001b[0;34m\u001b[0m\u001b[0;34m\u001b[0m\u001b[0m\n\u001b[1;32m    108\u001b[0m                     raise ValueError(\n",
            "\u001b[0;32m/usr/local/lib/python3.10/dist-packages/requests/api.py\u001b[0m in \u001b[0;36mget\u001b[0;34m(url, params, **kwargs)\u001b[0m\n\u001b[1;32m     71\u001b[0m     \"\"\"\n\u001b[1;32m     72\u001b[0m \u001b[0;34m\u001b[0m\u001b[0m\n\u001b[0;32m---> 73\u001b[0;31m     \u001b[0;32mreturn\u001b[0m \u001b[0mrequest\u001b[0m\u001b[0;34m(\u001b[0m\u001b[0;34m\"get\"\u001b[0m\u001b[0;34m,\u001b[0m \u001b[0murl\u001b[0m\u001b[0;34m,\u001b[0m \u001b[0mparams\u001b[0m\u001b[0;34m=\u001b[0m\u001b[0mparams\u001b[0m\u001b[0;34m,\u001b[0m \u001b[0;34m**\u001b[0m\u001b[0mkwargs\u001b[0m\u001b[0;34m)\u001b[0m\u001b[0;34m\u001b[0m\u001b[0;34m\u001b[0m\u001b[0m\n\u001b[0m\u001b[1;32m     74\u001b[0m \u001b[0;34m\u001b[0m\u001b[0m\n\u001b[1;32m     75\u001b[0m \u001b[0;34m\u001b[0m\u001b[0m\n",
            "\u001b[0;32m/usr/local/lib/python3.10/dist-packages/requests/api.py\u001b[0m in \u001b[0;36mrequest\u001b[0;34m(method, url, **kwargs)\u001b[0m\n\u001b[1;32m     57\u001b[0m     \u001b[0;31m# cases, and look like a memory leak in others.\u001b[0m\u001b[0;34m\u001b[0m\u001b[0;34m\u001b[0m\u001b[0m\n\u001b[1;32m     58\u001b[0m     \u001b[0;32mwith\u001b[0m \u001b[0msessions\u001b[0m\u001b[0;34m.\u001b[0m\u001b[0mSession\u001b[0m\u001b[0;34m(\u001b[0m\u001b[0;34m)\u001b[0m \u001b[0;32mas\u001b[0m \u001b[0msession\u001b[0m\u001b[0;34m:\u001b[0m\u001b[0;34m\u001b[0m\u001b[0;34m\u001b[0m\u001b[0m\n\u001b[0;32m---> 59\u001b[0;31m         \u001b[0;32mreturn\u001b[0m \u001b[0msession\u001b[0m\u001b[0;34m.\u001b[0m\u001b[0mrequest\u001b[0m\u001b[0;34m(\u001b[0m\u001b[0mmethod\u001b[0m\u001b[0;34m=\u001b[0m\u001b[0mmethod\u001b[0m\u001b[0;34m,\u001b[0m \u001b[0murl\u001b[0m\u001b[0;34m=\u001b[0m\u001b[0murl\u001b[0m\u001b[0;34m,\u001b[0m \u001b[0;34m**\u001b[0m\u001b[0mkwargs\u001b[0m\u001b[0;34m)\u001b[0m\u001b[0;34m\u001b[0m\u001b[0;34m\u001b[0m\u001b[0m\n\u001b[0m\u001b[1;32m     60\u001b[0m \u001b[0;34m\u001b[0m\u001b[0m\n\u001b[1;32m     61\u001b[0m \u001b[0;34m\u001b[0m\u001b[0m\n",
            "\u001b[0;32m/usr/local/lib/python3.10/dist-packages/requests/sessions.py\u001b[0m in \u001b[0;36mrequest\u001b[0;34m(self, method, url, params, data, headers, cookies, files, auth, timeout, allow_redirects, proxies, hooks, stream, verify, cert, json)\u001b[0m\n\u001b[1;32m    587\u001b[0m         }\n\u001b[1;32m    588\u001b[0m         \u001b[0msend_kwargs\u001b[0m\u001b[0;34m.\u001b[0m\u001b[0mupdate\u001b[0m\u001b[0;34m(\u001b[0m\u001b[0msettings\u001b[0m\u001b[0;34m)\u001b[0m\u001b[0;34m\u001b[0m\u001b[0;34m\u001b[0m\u001b[0m\n\u001b[0;32m--> 589\u001b[0;31m         \u001b[0mresp\u001b[0m \u001b[0;34m=\u001b[0m \u001b[0mself\u001b[0m\u001b[0;34m.\u001b[0m\u001b[0msend\u001b[0m\u001b[0;34m(\u001b[0m\u001b[0mprep\u001b[0m\u001b[0;34m,\u001b[0m \u001b[0;34m**\u001b[0m\u001b[0msend_kwargs\u001b[0m\u001b[0;34m)\u001b[0m\u001b[0;34m\u001b[0m\u001b[0;34m\u001b[0m\u001b[0m\n\u001b[0m\u001b[1;32m    590\u001b[0m \u001b[0;34m\u001b[0m\u001b[0m\n\u001b[1;32m    591\u001b[0m         \u001b[0;32mreturn\u001b[0m \u001b[0mresp\u001b[0m\u001b[0;34m\u001b[0m\u001b[0;34m\u001b[0m\u001b[0m\n",
            "\u001b[0;32m/usr/local/lib/python3.10/dist-packages/requests/sessions.py\u001b[0m in \u001b[0;36msend\u001b[0;34m(self, request, **kwargs)\u001b[0m\n\u001b[1;32m    701\u001b[0m \u001b[0;34m\u001b[0m\u001b[0m\n\u001b[1;32m    702\u001b[0m         \u001b[0;31m# Send the request\u001b[0m\u001b[0;34m\u001b[0m\u001b[0;34m\u001b[0m\u001b[0m\n\u001b[0;32m--> 703\u001b[0;31m         \u001b[0mr\u001b[0m \u001b[0;34m=\u001b[0m \u001b[0madapter\u001b[0m\u001b[0;34m.\u001b[0m\u001b[0msend\u001b[0m\u001b[0;34m(\u001b[0m\u001b[0mrequest\u001b[0m\u001b[0;34m,\u001b[0m \u001b[0;34m**\u001b[0m\u001b[0mkwargs\u001b[0m\u001b[0;34m)\u001b[0m\u001b[0;34m\u001b[0m\u001b[0;34m\u001b[0m\u001b[0m\n\u001b[0m\u001b[1;32m    704\u001b[0m \u001b[0;34m\u001b[0m\u001b[0m\n\u001b[1;32m    705\u001b[0m         \u001b[0;31m# Total elapsed time of the request (approximately)\u001b[0m\u001b[0;34m\u001b[0m\u001b[0;34m\u001b[0m\u001b[0m\n",
            "\u001b[0;32m/usr/local/lib/python3.10/dist-packages/requests/adapters.py\u001b[0m in \u001b[0;36msend\u001b[0;34m(self, request, stream, timeout, verify, cert, proxies)\u001b[0m\n\u001b[1;32m    686\u001b[0m                 \u001b[0;31m# TODO: Remove this in 3.0.0: see #2811\u001b[0m\u001b[0;34m\u001b[0m\u001b[0;34m\u001b[0m\u001b[0m\n\u001b[1;32m    687\u001b[0m                 \u001b[0;32mif\u001b[0m \u001b[0;32mnot\u001b[0m \u001b[0misinstance\u001b[0m\u001b[0;34m(\u001b[0m\u001b[0me\u001b[0m\u001b[0;34m.\u001b[0m\u001b[0mreason\u001b[0m\u001b[0;34m,\u001b[0m \u001b[0mNewConnectionError\u001b[0m\u001b[0;34m)\u001b[0m\u001b[0;34m:\u001b[0m\u001b[0;34m\u001b[0m\u001b[0;34m\u001b[0m\u001b[0m\n\u001b[0;32m--> 688\u001b[0;31m                     \u001b[0;32mraise\u001b[0m \u001b[0mConnectTimeout\u001b[0m\u001b[0;34m(\u001b[0m\u001b[0me\u001b[0m\u001b[0;34m,\u001b[0m \u001b[0mrequest\u001b[0m\u001b[0;34m=\u001b[0m\u001b[0mrequest\u001b[0m\u001b[0;34m)\u001b[0m\u001b[0;34m\u001b[0m\u001b[0;34m\u001b[0m\u001b[0m\n\u001b[0m\u001b[1;32m    689\u001b[0m \u001b[0;34m\u001b[0m\u001b[0m\n\u001b[1;32m    690\u001b[0m             \u001b[0;32mif\u001b[0m \u001b[0misinstance\u001b[0m\u001b[0;34m(\u001b[0m\u001b[0me\u001b[0m\u001b[0;34m.\u001b[0m\u001b[0mreason\u001b[0m\u001b[0;34m,\u001b[0m \u001b[0mResponseError\u001b[0m\u001b[0;34m)\u001b[0m\u001b[0;34m:\u001b[0m\u001b[0;34m\u001b[0m\u001b[0;34m\u001b[0m\u001b[0m\n",
            "\u001b[0;31mConnectTimeout\u001b[0m: HTTPConnectionPool(host='192.168.1.100', port=80): Max retries exceeded with url: /SKUV.pdf (Caused by ConnectTimeoutError(<urllib3.connection.HTTPConnection object at 0x7b7c847c0850>, 'Connection to 192.168.1.100 timed out. (connect timeout=None)'))"
          ]
        }
      ]
    },
    {
      "cell_type": "markdown",
      "source": [
        "Посмотрим сколько фрагментов получилось."
      ],
      "metadata": {
        "id": "Iqexlawv51qE"
      }
    },
    {
      "cell_type": "code",
      "source": [
        "len(splitted_data)"
      ],
      "metadata": {
        "colab": {
          "base_uri": "https://localhost:8080/"
        },
        "id": "_gMkoSUn57Th",
        "outputId": "ba084713-c821-4c92-bc45-dcb3624ce2b2"
      },
      "execution_count": 12,
      "outputs": [
        {
          "output_type": "execute_result",
          "data": {
            "text/plain": [
              "54"
            ]
          },
          "metadata": {},
          "execution_count": 12
        }
      ]
    },
    {
      "cell_type": "markdown",
      "source": [
        "Выведем на экран два соседних фрагмента, чтобы показать перекрытие."
      ],
      "metadata": {
        "id": "XxD1KOcL6Iwz"
      }
    },
    {
      "cell_type": "code",
      "source": [
        "splitted_data[10]"
      ],
      "metadata": {
        "colab": {
          "base_uri": "https://localhost:8080/"
        },
        "id": "Fftykec16N0o",
        "outputId": "e39f15df-a507-44cd-b297-f9cfaadc824f"
      },
      "execution_count": 13,
      "outputs": [
        {
          "output_type": "execute_result",
          "data": {
            "text/plain": [
              "Document(metadata={'source': 'https://arxiv.org/pdf/2103.15348.pdf', 'page': 2}, page_content='reproducibility and reusability in the ﬁeld of DL. Libraries like Dectectron2 [ 35],\\n6 The number shown is obtained by specifying the search type as ‘code’.\\n7 https://ocr-d.de/en/about\\n8 https://github.com/BobLd/DocumentLayoutAnalysis\\n9 https://github.com/leonlulu/DeepLayout\\n10 https://github.com/hpanwar08/detectron2\\n11 https://github.com/JaidedAI/EasyOCR\\n12 https://github.com/PaddlePaddle/PaddleOCR')"
            ]
          },
          "metadata": {},
          "execution_count": 13
        }
      ]
    },
    {
      "cell_type": "code",
      "source": [
        "splitted_data[11]"
      ],
      "metadata": {
        "colab": {
          "base_uri": "https://localhost:8080/"
        },
        "id": "0p5PqXzW61zQ",
        "outputId": "997078a6-4ed1-463d-d005-7ff0846b964c"
      },
      "execution_count": null,
      "outputs": [
        {
          "output_type": "execute_result",
          "data": {
            "text/plain": [
              "Document(page_content='запросу частей текста, а затемсинтез ответа из найденных частей текста с использованием т.н. ридера (дляэкстрактивной вопросно-ответной системы) или генератора (для генеративной вопросно-ответной системы).При этом для более эффективного поиска целесообразно предварительно провести т.н.индексацию документа или набора документов, по которым предполагается производитьпоиск. Под индексацией подразумевается выявление и сохранение некоей ключевойинформации о частях документов, с помощью которой в дальнейшем удобно определить,насколько та или иная часть текста соответствует поисковому запросу (рисунок 1).', metadata={'source': 'aspekty-sozdaniya-korporativnoy-voprosno-otvetnoy-sistemy-s-ispolzovaniem-generativnyh-predobuchennyh-yazykovyh-modeley.pdf'})"
            ]
          },
          "metadata": {},
          "execution_count": 6
        }
      ]
    },
    {
      "cell_type": "markdown",
      "source": [
        "### Создание векторных представлений и векторного хранилища\n",
        "\n",
        "В этом туториале опять используем модель [`paraphrase-multilingual-mpnet-base-v2`](https://huggingface.co/sentence-transformers/paraphrase-multilingual-mpnet-base-v2) для векторизации фрагментов.\n",
        "\n",
        "В качестве хранилища опять используем `FAISS`. Помимо этой векторной БД в GigaChain/LangChain есть большое количество интеграций с векторными хранилищами, как локальными так и облачными.\n",
        "Перечень доступных векторных хранилищ можно посмотреть [здесь](https://python.langchain.com/v0.2/docs/integrations/vectorstores/)."
      ],
      "metadata": {
        "id": "MGM698e75TXw"
      }
    },
    {
      "cell_type": "code",
      "source": [
        "from langchain.embeddings import HuggingFaceEmbeddings\n",
        "from langchain.vectorstores.faiss import FAISS"
      ],
      "metadata": {
        "id": "zYVkZulb2vIq"
      },
      "execution_count": null,
      "outputs": []
    },
    {
      "cell_type": "code",
      "source": [
        "%%time\n",
        "model_name = \"sentence-transformers/paraphrase-multilingual-mpnet-base-v2\"\n",
        "model_kwargs = {'device': 'cpu'}\n",
        "encode_kwargs = {'normalize_embeddings': False}\n",
        "embedding = HuggingFaceEmbeddings(model_name=model_name,\n",
        "                                  model_kwargs=model_kwargs,\n",
        "                                  encode_kwargs=encode_kwargs)\n",
        "\n",
        "vector_store = FAISS.from_documents(splitted_data, embedding=embedding)"
      ],
      "metadata": {
        "colab": {
          "base_uri": "https://localhost:8080/",
          "height": 597,
          "referenced_widgets": [
            "a3f9442a666447e0b58f7725258bfca5",
            "2b8c84c0b7c44d619d94d2449f10b991",
            "01aa0079aa7143b18ee1c6bdbc4ced14",
            "a709ce26b40440e79316934e53403d76",
            "660469826c38423ba0f07a27083eb768",
            "1cd4e2541b8e4efeb51703311bf6b3e2",
            "69c553505e2a42a182aca597b8b4b743",
            "2d884538f8554d98a736aac0d52b1911",
            "8cccd71dc7734fceacd63c0b89c39331",
            "96de0e722913406495c46a87b8445fec",
            "366f2122502b419dab9f1fe798535d7d",
            "83fd1c2b32214f038d5fa23bd70f3a54",
            "81c2086b00ba4531aa6957d8dd92fda5",
            "f5b06c2d80c24332945ec8bad44d263e",
            "06e246e9dfea422997ef797c58906e16",
            "b25d022d7cc7421ab4cd6129f4238096",
            "109058366b26488b8c82f64174819874",
            "48d9479fa9c74dec917f8f6785b6b616",
            "d81e362c3ca548a7957b207f9cfb0e6f",
            "63f5b3b45f0d4d61ae77856fe8e71315",
            "e2ad5d99e8ab4d9993e4a565c6012817",
            "97a44f3e2e95446b9c13295c57beaf18",
            "c1747586f7df42db868682c86d3c2e3e",
            "522dc9e63c6b485db10018661b94570a",
            "ff60f3e0e0134e91a9f8cc8ea8673686",
            "c8bb24c4d0324cdaa4b27ffe2fdb5a99",
            "6af573ec76a749a78a1749fdbd7d4bbd",
            "5f22bb3d9e3a425487109151683c7bf0",
            "866498e2d89c4a9c971227664e97d452",
            "9d737c04f898492eaf85bd59c847f4c5",
            "77617026db454146a41576fdcb3feb7b",
            "00106d3c93a842db8727c6e2de6dcc3e",
            "300e6ddd18c94e00b4d1d636e60e4b04",
            "fb1e7929a81840f4b8c37f14712f6a10",
            "b9307ff2d46a4458924986e7a64e7fa1",
            "876839e9bbdc48b1b32823092671ac3d",
            "da808ffdd6014fa3b3aa85901be53daa",
            "c6d539e0591a4657a10ff31be5a9c84b",
            "63dff925d9024f6d9a92e530683edf20",
            "fd6bb3d7601e4089a8d153b9d4530735",
            "c617b9a2b3364fac847c646443ef9dec",
            "4190664af3624882921c09d4551a121a",
            "964b68e3c24f4ede840134de2681c96f",
            "0162858bdf3240fe909e34806dffe3a8",
            "ddd232bdd2ee450f97ab56b0516b8e53",
            "762abfa8de9849fb92c7e453ecba4c67",
            "9b43612593a84e87bbdea742da1cd379",
            "ba1c2d1bee0b488aa3861215ab52b1b1",
            "8ac163e8ea7b4c7eb25ed86de2cf007b",
            "7f5ba7246d4042fe8166a07ccf7994d9",
            "ccbd0856a46b41ad9b96b8136845ce30",
            "c26a93bb68eb4e95b52e2c0404d23869",
            "4737d85e71b045358bda0bae33dbf43e",
            "e8c40f6dd859498688ab4e82a6a028f9",
            "dc5187e7f7964ad4806081a49090e013",
            "13f578eacdb54174bec5bfff4c71e471",
            "80818a5167e24df1b8d6198a793b6c54",
            "6b98b36042974d70a77bbbe2ef9527e2",
            "b1cd993f4346461eb0fac3a9366f28b0",
            "5435e8641a50447fb6cf9efa0c57cd41",
            "805770c27a174038a7c05d4aa165ea48",
            "71a5a5b71e7f43f99d64b0cfaf2aa9a5",
            "697304c8df2847559087938082882a1e",
            "4d9dd60837854dcb9b055959b1a10e99",
            "fb1c92be3d4c40e2b14e09f21c2438ee",
            "7f96d9bd224a42bcadf8860739e3f977",
            "4394f657ef744d80a196c56df0cef6c7",
            "dce122156be144a9ade398726a7715ec",
            "e0f43123f08e4eb09358132d138d5301",
            "2e1e277e46134bd3befc52cba2952911",
            "2bd6ca1730b44026a2b46389e22a0390",
            "510adf86abf4491a8b2807a0e794d1df",
            "9f2e66bf6b654603b38bedc2e3545570",
            "4215011b5bbd4ad885d32100be2672f5",
            "6e24ea6d2d7d4a0783e82593a5061b55",
            "55e8d3ce0af946cf927a4b0678a9b091",
            "47ac027ef9a04fe2862b74b4097caa3e",
            "44f98c15614d4aef9d4e923770f35a67",
            "9fadb61d1dcf4ceda2b7bb8bdda408b8",
            "55df708ad4944d36a51833be7e16c7ad",
            "a2225ad406b942d1b659b264c88a8e2f",
            "0654e94dad68410cba2933fb3f190355",
            "81e02c67ea614db68df047ac9e69ebe9",
            "aa0dd4ce9acc4b758f3361996ed2c062",
            "368b74432f7b4f0b863975f5278e54b2",
            "659eaa2b73ba442593fa24b871462c80",
            "bbb77971dcbc4b88ba2e5d7cf0f933ce",
            "5dc6f8a0721d4ad198c1cb289d217c4d",
            "7f23a7a6b1194c9e9125b988e98f6e79",
            "958b689ad4c6493584ad187eb913c152",
            "23fd8e0927ee4029923dfe223b753ae2",
            "a28270eb0bc445f6bb266662bf59cdf8",
            "9a9b43cb27cd4a079f175b625e4382c9",
            "0c9e9dfdf6e6494287c99cbfaa8504be",
            "8036655edcea45dba741d45a63a49f4e",
            "363c446219924ed4b6f44130928136ce",
            "bf8771ad7c30458ca8729c8d656a1eea",
            "6df50148dffe4ae1a6ec0d6d63df5c58",
            "d96a2147f69b466582a69db2073f2740",
            "fdd0d04867584e688ee5e58beb3fbb0c",
            "07e91c7ef67d4ae69e7622e1deda599b",
            "d4e62dcdf4e74fa2b3efd510445e53b3",
            "61e2b1375d844959ae790f63fbae7911",
            "12fea432327645baa0499dab95c19331",
            "32c1c29ddc2a43fcbae762e8663b25be",
            "3c29e867a7984c18a351bb17f00d2059",
            "83a6337ede874071af0fe8e34bc8717e",
            "9b51268c081140e2a5b3a7cdc10a4fc7",
            "a28480eb6dfe40ef98a01cc0311e89ff",
            "a79f5a4c6498486bbf740b814c5a088b",
            "bf3efd6a8c554744b5ae7aa9b4b8f2f4",
            "6240ffd48ce84a31b4b9f72370a8ba37",
            "d3902bdff429453599783fa9e7b96676",
            "a5ba1b47f5a84e60a167fa13041e0b96",
            "90b26816e8bc46a5acf759d952d1e06b",
            "91a77f84f8684845bf49635dd68e6573",
            "f39ed20da65547b890dce036224b1fa0",
            "f6a10f4f9d514217af2baa16c81d3052",
            "d0d3463d21d64c1ebc56ce913a7fcdce",
            "02f1e0f9bc334605af45cb7dfeb70c93",
            "079a45f5199142cdb05528365ff13383"
          ]
        },
        "id": "76dycmMy22OP",
        "outputId": "be02e810-9c88-49e4-f016-7a1f5eda5000",
        "collapsed": true
      },
      "execution_count": null,
      "outputs": [
        {
          "output_type": "stream",
          "name": "stderr",
          "text": [
            "/usr/local/lib/python3.10/dist-packages/sentence_transformers/cross_encoder/CrossEncoder.py:11: TqdmExperimentalWarning: Using `tqdm.autonotebook.tqdm` in notebook mode. Use `tqdm.tqdm` instead to force console mode (e.g. in jupyter console)\n",
            "  from tqdm.autonotebook import tqdm, trange\n",
            "/usr/local/lib/python3.10/dist-packages/huggingface_hub/utils/_token.py:89: UserWarning: \n",
            "The secret `HF_TOKEN` does not exist in your Colab secrets.\n",
            "To authenticate with the Hugging Face Hub, create a token in your settings tab (https://huggingface.co/settings/tokens), set it as secret in your Google Colab and restart your session.\n",
            "You will be able to reuse this secret in all of your notebooks.\n",
            "Please note that authentication is recommended but still optional to access public models or datasets.\n",
            "  warnings.warn(\n"
          ]
        },
        {
          "output_type": "display_data",
          "data": {
            "text/plain": [
              "modules.json:   0%|          | 0.00/229 [00:00<?, ?B/s]"
            ],
            "application/vnd.jupyter.widget-view+json": {
              "version_major": 2,
              "version_minor": 0,
              "model_id": "a3f9442a666447e0b58f7725258bfca5"
            }
          },
          "metadata": {}
        },
        {
          "output_type": "display_data",
          "data": {
            "text/plain": [
              "config_sentence_transformers.json:   0%|          | 0.00/122 [00:00<?, ?B/s]"
            ],
            "application/vnd.jupyter.widget-view+json": {
              "version_major": 2,
              "version_minor": 0,
              "model_id": "83fd1c2b32214f038d5fa23bd70f3a54"
            }
          },
          "metadata": {}
        },
        {
          "output_type": "display_data",
          "data": {
            "text/plain": [
              "README.md:   0%|          | 0.00/4.13k [00:00<?, ?B/s]"
            ],
            "application/vnd.jupyter.widget-view+json": {
              "version_major": 2,
              "version_minor": 0,
              "model_id": "c1747586f7df42db868682c86d3c2e3e"
            }
          },
          "metadata": {}
        },
        {
          "output_type": "display_data",
          "data": {
            "text/plain": [
              "sentence_bert_config.json:   0%|          | 0.00/53.0 [00:00<?, ?B/s]"
            ],
            "application/vnd.jupyter.widget-view+json": {
              "version_major": 2,
              "version_minor": 0,
              "model_id": "fb1e7929a81840f4b8c37f14712f6a10"
            }
          },
          "metadata": {}
        },
        {
          "output_type": "stream",
          "name": "stderr",
          "text": [
            "/usr/local/lib/python3.10/dist-packages/huggingface_hub/file_download.py:1132: FutureWarning: `resume_download` is deprecated and will be removed in version 1.0.0. Downloads always resume when possible. If you want to force a new download, use `force_download=True`.\n",
            "  warnings.warn(\n"
          ]
        },
        {
          "output_type": "display_data",
          "data": {
            "text/plain": [
              "config.json:   0%|          | 0.00/723 [00:00<?, ?B/s]"
            ],
            "application/vnd.jupyter.widget-view+json": {
              "version_major": 2,
              "version_minor": 0,
              "model_id": "ddd232bdd2ee450f97ab56b0516b8e53"
            }
          },
          "metadata": {}
        },
        {
          "output_type": "display_data",
          "data": {
            "text/plain": [
              "model.safetensors:   0%|          | 0.00/1.11G [00:00<?, ?B/s]"
            ],
            "application/vnd.jupyter.widget-view+json": {
              "version_major": 2,
              "version_minor": 0,
              "model_id": "13f578eacdb54174bec5bfff4c71e471"
            }
          },
          "metadata": {}
        },
        {
          "output_type": "display_data",
          "data": {
            "text/plain": [
              "tokenizer_config.json:   0%|          | 0.00/402 [00:00<?, ?B/s]"
            ],
            "application/vnd.jupyter.widget-view+json": {
              "version_major": 2,
              "version_minor": 0,
              "model_id": "4394f657ef744d80a196c56df0cef6c7"
            }
          },
          "metadata": {}
        },
        {
          "output_type": "display_data",
          "data": {
            "text/plain": [
              "sentencepiece.bpe.model:   0%|          | 0.00/5.07M [00:00<?, ?B/s]"
            ],
            "application/vnd.jupyter.widget-view+json": {
              "version_major": 2,
              "version_minor": 0,
              "model_id": "44f98c15614d4aef9d4e923770f35a67"
            }
          },
          "metadata": {}
        },
        {
          "output_type": "display_data",
          "data": {
            "text/plain": [
              "tokenizer.json:   0%|          | 0.00/9.08M [00:00<?, ?B/s]"
            ],
            "application/vnd.jupyter.widget-view+json": {
              "version_major": 2,
              "version_minor": 0,
              "model_id": "7f23a7a6b1194c9e9125b988e98f6e79"
            }
          },
          "metadata": {}
        },
        {
          "output_type": "display_data",
          "data": {
            "text/plain": [
              "special_tokens_map.json:   0%|          | 0.00/239 [00:00<?, ?B/s]"
            ],
            "application/vnd.jupyter.widget-view+json": {
              "version_major": 2,
              "version_minor": 0,
              "model_id": "fdd0d04867584e688ee5e58beb3fbb0c"
            }
          },
          "metadata": {}
        },
        {
          "output_type": "display_data",
          "data": {
            "text/plain": [
              "1_Pooling/config.json:   0%|          | 0.00/190 [00:00<?, ?B/s]"
            ],
            "application/vnd.jupyter.widget-view+json": {
              "version_major": 2,
              "version_minor": 0,
              "model_id": "bf3efd6a8c554744b5ae7aa9b4b8f2f4"
            }
          },
          "metadata": {}
        },
        {
          "output_type": "stream",
          "name": "stdout",
          "text": [
            "CPU times: user 31.7 s, sys: 9.34 s, total: 41 s\n",
            "Wall time: 55.3 s\n"
          ]
        }
      ]
    },
    {
      "cell_type": "markdown",
      "source": [
        "### Поиск по векторной БД релевантных фрагментов для запросов пользователя\n",
        "Зададим несколько вопросов по тексту статьи.\n",
        "\n",
        "- Какой размер чанков показал наибольшую точность ответов при использовании фреймворка Haystack?\n",
        "- Какие метрики использовались для оценки эффективности использования генеративных предобученных языковых моделей в статье?\n",
        "- Имя какого английского писателя упомянается в статье?"
      ],
      "metadata": {
        "id": "Xy92s6gR-Cit"
      }
    },
    {
      "cell_type": "code",
      "source": [
        "q1 = 'Какой размер чанков показал наибольшую точность ответов при использовании фреймворка Haystack?'\n",
        "q2 = 'Какие метрики использовались для оценки эффективности использования генеративных предобученных языковых моделей в статье?'\n",
        "q3 = 'Имя какого английского писателя упоминается в статье?'"
      ],
      "metadata": {
        "id": "F7UZ0Fhv-tXf"
      },
      "execution_count": null,
      "outputs": []
    },
    {
      "cell_type": "markdown",
      "source": [
        "#### Вопрос 1\n",
        "Какой размер чанков показал наибольшую точность ответов при использовании фреймворка Haystack?\n",
        "\n",
        "#### Правильный ответ\n",
        "Размер чанков 100, 200 и 1000 токенов показал одинаковую наибольшую точность ответов (0.7) при использовании фреймворка Haystack."
      ],
      "metadata": {
        "id": "OeoGnhoSA1pG"
      }
    },
    {
      "cell_type": "code",
      "source": [
        "vector_store.similarity_search(q1)"
      ],
      "metadata": {
        "colab": {
          "base_uri": "https://localhost:8080/"
        },
        "id": "TgpSKvGm9aI9",
        "outputId": "0621d6ba-976a-43ca-c93b-4995bdafb1d4"
      },
      "execution_count": null,
      "outputs": [
        {
          "output_type": "execute_result",
          "data": {
            "text/plain": [
              "[Document(page_content='при помощи фреймворка Haystack прилучших настройках позволяет получить несколько бо́льшую точность ответов, чемиспользование фреймворка LlamaIndex (0.7 против 0.67 при лучших настройках). 3.Использование фреймворка Haystack более инвариантно относительно точности ответовс точки зрения количества токенов в чанке. 4. В среднем использование фреймворкаHaystack более затратно по числу токенов (примерно в 4 раза), чем фреймворкаLlamaIndex. 5. Режимы генерации ответа «create and refine» и «tree summarize» дляфреймворка LlamaIndex являются примерно одинаковыми с точки зрения точностиполучаемых ответов, однако для режима «tree summarize» требуется больше токенов.Ключевые слова:генеративные языковые модели, информационная поисковая система, вопросно-ответная система, индексация, Haystack, LlamaIndex, чанк, точность, токен, ретривер10.25136/2409-8698.2023.12.69353Litera, 2023 - 12191', metadata={'source': 'aspekty-sozdaniya-korporativnoy-voprosno-otvetnoy-sistemy-s-ispolzovaniem-generativnyh-predobuchennyh-yazykovyh-modeley.pdf'}),\n",
              " Document(page_content='Haystack более инвариантно относительно точностиответов с точки зрения количества токенов в чанке – для количества токенов в чанке100, 200 и 1000 точность ответов была одинакова и составила 0.7.4. В среднем использование фреймворка Haystack более затратно по числу токенов(примерно в 4 раза), чем фреймворка LlamaIndex.5. Режимы генерации ответа «create and refine» и «tree summarize» для фреймворкаLlamaIndex являются примерно одинаковыми с точки зрения точности получаемыхответов, однако для режима «tree summarize» требуется больше токенов.Таким образом, применение open source фреймворка Haystack при лучших настройкахпозволяет получить более точные ответы при построении корпоративной вопросно-ответной системы по сравнению с open source фреймворком LlamaIndex, однако требуетиспользования в среднем несколько бо́льшего числа токенов.Библиография1.Simmons R. F., Klein S., McConlogue K. Indexing and dependency logic for answeringEnglish questions // American Documentation. – 1964. – Т. 15. –', metadata={'source': 'aspekty-sozdaniya-korporativnoy-voprosno-otvetnoy-sistemy-s-ispolzovaniem-generativnyh-predobuchennyh-yazykovyh-modeley.pdf'}),\n",
              " Document(page_content='не производился. В работеучитывались только токены, задействованные при генерации ответа с использованиемболее дорогого подвида модели GPT-3 davinci-003». Полученные в ходе анализа данныеструктурированы в табличный вид, сведение данных в единый блок оправдано. Стандартоформления выдержан, необходимые пометы сделаны: например, «Рисунок 6: Доляправильных ответов при различных настройках вопросно-ответной системы (синий цвет –фреймворк Haystack, оранжевый – LlamaIndex, отсутствие штриховки – режим генерацииответа «create and refine», штриховка – режим генерации ответа «tree summarize»)» ит.д. Итоги работы сведены к следующему: «генеративные предобученные языковыемодели (такие как ChatGPT) произвели революцию в области обработки естественногоязыка. Однако их существенным ограничением является их лимит по числу входныхтокенов, который может быть преодолен путем использования индексных структурданных. В работе было рассмотрено создание вопросно-ответной системы сиспользованием генеративных', metadata={'source': 'aspekty-sozdaniya-korporativnoy-voprosno-otvetnoy-sistemy-s-ispolzovaniem-generativnyh-predobuchennyh-yazykovyh-modeley.pdf'}),\n",
              " Document(page_content='Рисунок 7: Количество затраченных токенов ответов при различных настройкахвопросно-ответной системы (синий цвет – фреймворк Haystack, оранжевый – LlamaIndex,отсутствие штриховки – режим генерации ответа «create and refine», штриховка – режимгенерации ответа «tree summarize»)Таким образом, наибольшую точность ответов продемонстрировала вопросно-ответнаясистема, использующая open-source фреймворк Haystack, при количестве токенов вчанке 100, 200, 1000 (для всех трех случаев точность одинаковая и составляет 0.7). Приэтом, как видим из рисунка 7, чем больше токенов в чанке, тем больше требуется10.25136/2409-8698.2023.12.69353Litera, 2023 - 12201', metadata={'source': 'aspekty-sozdaniya-korporativnoy-voprosno-otvetnoy-sistemy-s-ispolzovaniem-generativnyh-predobuchennyh-yazykovyh-modeley.pdf'})]"
            ]
          },
          "metadata": {},
          "execution_count": 10
        }
      ]
    },
    {
      "cell_type": "markdown",
      "source": [
        "#### Вопрос 2\n",
        "Какие метрики использовались для оценки эффективности использования генеративных предобученных языковых моделей в статье?\n",
        "\n",
        "#### Правильный ответ\n",
        "Для оценки эффективности использования генеративных предобученных языковых моделей использовалась метрика EM (exact match)."
      ],
      "metadata": {
        "id": "rrciD8VlBQxE"
      }
    },
    {
      "cell_type": "code",
      "source": [
        "vector_store.similarity_search(q2)"
      ],
      "metadata": {
        "colab": {
          "base_uri": "https://localhost:8080/"
        },
        "id": "g9n9aPtu_lzo",
        "outputId": "65aa5580-e888-4dcd-eb9e-2a5683ab0fd8"
      },
      "execution_count": null,
      "outputs": [
        {
          "output_type": "execute_result",
          "data": {
            "text/plain": [
              "[Document(page_content='фреймворкомLlamaIndex, однако требует использования в среднем несколько бо́льшего числатокенов. В статье использовался сравнительный анализ для оценки эффективностииспользования генеративных предобученных языковых моделей в корпоративныхвопросно-ответных системах с помощью фреймворков Haystack и Llamaindex. Оценкаполученных результатов осуществлялась с использованием метрики EM (exact match).Основными выводами проведенного исследования по созданию вопросно-ответныхсистем с использованием генеративных предобученных языковых моделей являются: 1.Использование иерархической индексации на текущий момент чрезвычайно затратно сточки зрения числа используемых токенов (около 160000 токенов для иерархическойиндексации против 30000 токенов в среднем для последовательной индексации),поскольку ответ генерируется путем последовательной обработки родительских идочерних узлов. 2. Обработка информации при помощи фреймворка Haystack прилучших настройках позволяет получить несколько бо́льшую точность', metadata={'source': 'aspekty-sozdaniya-korporativnoy-voprosno-otvetnoy-sistemy-s-ispolzovaniem-generativnyh-predobuchennyh-yazykovyh-modeley.pdf'}),\n",
              " Document(page_content='достаточно дляраскрытия темы, обозначения аргументационной базы, манифестации суждений /выводов / умозаключений. Автор подробно рассматривает вопросно-ответный механизм,который является основной генеративных предобученных языковых моделей, таких какChatGPT, выверяет / систематизирует основной блок критических источников, оцениваетпродуктивность указанной формы. Стиль работы ориентирован на собственно научныйтип; статья дифференцирована на смысловые блоки, общая аналитическая логикавыровнена на протяжении всего труда. Материал достаточно информативен: «основнымспособом построения вопросно-ответных систем является использование ретривера дляопределения наиболее релевантных запросу частей текста, а затем синтез ответа изнайденных частей текста с использованием т.н. ридера (для экстрактивной вопросно-ответной системы) или генератора (для генеративной вопросно-ответной системы)».Цитатный пласт сопровождается комментарием; считаю, что работа может быть полезнапри формировании новых', metadata={'source': 'aspekty-sozdaniya-korporativnoy-voprosno-otvetnoy-sistemy-s-ispolzovaniem-generativnyh-predobuchennyh-yazykovyh-modeley.pdf'}),\n",
              " Document(page_content='FSTHRWДата направления статьи в редакцию:17-12-2023Дата публикации:25-12-2023Аннотация: В статье описаны различные способы использования генеративныхпредобученных языковых моделей для построения корпоративной вопросно-ответнойсистемы. Существенным ограничением текущих генеративных предобученных языковыхмоделей является лимит по числу входных токенов, не позволяющий им работать «изкоробки» с большим количеством документов или с документом большого размера. Дляпреодоления данного ограничения в работе рассмотрена индексация документов споследующим поисковым запросом и генерацией ответа на базе двух наиболеепопулярных на текущий момент open source решений – фреймворков Haystack,LlamaIndex. Было показано, что применение open source фреймворка Haystack прилучших настройках позволяет получить более точные ответы при построениикорпоративной вопросно-ответной системы по сравнению с open source фреймворкомLlamaIndex, однако требует использования в среднем несколько бо́льшего числатокенов. В', metadata={'source': 'aspekty-sozdaniya-korporativnoy-voprosno-otvetnoy-sistemy-s-ispolzovaniem-generativnyh-predobuchennyh-yazykovyh-modeley.pdf'}),\n",
              " Document(page_content='касается вопроса использования вопросно-ответной системы в рамках платформгенеративных предобученных языковых моделей. Как отмечается в началеисследования, «вопросно-ответные системы появились в 1960-х годах, и, как и другиеобласти компьютерной лингвистики, с развитием технологий машинного обучения впоследние годы претерпели существенные изменения. Вопросно-ответные системыбывают двух видов – экстрактивные и генеративные. Экстрактивные вопросно-ответныесистемы в общем случае в качестве ответа выдают короткий ответ на заданный вопрос,часто в виде цитаты из поданного на вход набора документов», «интерес кгенеративным языковым моделям (и генеративным вопросно-ответным системам, вчастности) резко возрос после появления больших предобученных моделей GPT-3 иChatGPT [3], впечатляющих своей «эрудицией» и способностью к сложнымрассуждениям». Статья грамотно структурирована, ее наличного объема достаточно дляраскрытия темы, обозначения аргументационной базы, манифестации суждений /выводов /', metadata={'source': 'aspekty-sozdaniya-korporativnoy-voprosno-otvetnoy-sistemy-s-ispolzovaniem-generativnyh-predobuchennyh-yazykovyh-modeley.pdf'})]"
            ]
          },
          "metadata": {},
          "execution_count": 11
        }
      ]
    },
    {
      "cell_type": "markdown",
      "source": [
        "#### Вопрос 3\n",
        "Имя какого английского писателя упоминается в статье?\n",
        "\n",
        "#### Правильный ответ\n",
        "В статье упоминается английский писатель Джордж Гордон Байрон (лорд Байрон)."
      ],
      "metadata": {
        "id": "onZZn-OZBcrb"
      }
    },
    {
      "cell_type": "code",
      "source": [
        "vector_store.similarity_search(q3)"
      ],
      "metadata": {
        "colab": {
          "base_uri": "https://localhost:8080/"
        },
        "id": "HtRgmETn_qHp",
        "outputId": "35ce85de-d709-4435-a2b2-43d675f696cb"
      },
      "execution_count": null,
      "outputs": [
        {
          "output_type": "execute_result",
          "data": {
            "text/plain": [
              "[Document(page_content='.Тема рецензируемой статьи, безусловно, является актуальной; автор данного труда10.25136/2409-8698.2023.12.69353Litera, 2023 - 12203', metadata={'source': 'aspekty-sozdaniya-korporativnoy-voprosno-otvetnoy-sistemy-s-ispolzovaniem-generativnyh-predobuchennyh-yazykovyh-modeley.pdf'}),\n",
              " Document(page_content='слов: для каждой части текста сохраняются ключевые термины, о которых идет речь, идалее при поисковом запросе будет выполнено сопоставление терминов запроса исохраненных ключевых слов участков текста. Так, при поиске по странице «Википедии»,посвященной лорду Байрону, при поисковом запросе «В каком году родился лордБайрон?» по ключевым словам «рождение», «родиться» ретривером может быть найденучасток текста «Джордж Гордон Байрон родился 22 января 1788 года». И далее задачаридера будет заключаться в извлечении из найденного участка текста требуемойинформации – т.е. «1788 год» в данном случае.Очевидно, что подобный пример индексации с использованием ключевых слов хотя инесложен, но в то же время не слишком эффективен, поскольку в данном случае несовсем ясно, какие слова считать ключевыми. Одним из более предпочтительных вбольшинстве случаев способов индексации является индексация с использованиемстатистической меры TF-IDF, отражающей важность слова в корпусе, или же вариацииTF-IDF –', metadata={'source': 'aspekty-sozdaniya-korporativnoy-voprosno-otvetnoy-sistemy-s-ispolzovaniem-generativnyh-predobuchennyh-yazykovyh-modeley.pdf'}),\n",
              " Document(page_content='. Экстрактивные вопросно-ответные системы вобщем случае в качестве ответа выдают короткий ответ на заданный вопрос, часто ввиде цитаты из поданного на вход набора документов. Например, на вопрос «в какомгоду родился лорд Байрон?» подобная система может ответить «в 1788 году», еслиданной системе были поданы для обработки материалы, содержащие биографию лордаБайрона, которые, скорее всего, включали в себя предложение «Лорд Байрон родился в1788 году». Стоит отметить, что аналогичной функцией обладают и многие поисковыесистемы: например, «Google» выдаст подобный точный ответ выше различных ссылок наразличные сайты.Интерес к генеративным языковым моделям (и генеративным вопросно-ответнымсистемам, в частности) резко возрос после появления больших предобученных моделейGPT-3 и ChatGPT [3]', metadata={'source': 'aspekty-sozdaniya-korporativnoy-voprosno-otvetnoy-sistemy-s-ispolzovaniem-generativnyh-predobuchennyh-yazykovyh-modeley.pdf'}),\n",
              " Document(page_content='процедуры рецензирования статьиВ связи с политикой двойного слепого рецензирования личность рецензента нераскрывается. Со списком рецензентов издательства можно ознакомиться здесь', metadata={'source': 'aspekty-sozdaniya-korporativnoy-voprosno-otvetnoy-sistemy-s-ispolzovaniem-generativnyh-predobuchennyh-yazykovyh-modeley.pdf'})]"
            ]
          },
          "metadata": {},
          "execution_count": 12
        }
      ]
    },
    {
      "cell_type": "code",
      "source": [],
      "metadata": {
        "id": "9v4aphLIAE8Y"
      },
      "execution_count": null,
      "outputs": []
    },
    {
      "cell_type": "markdown",
      "source": [
        "### Создание фрагментов на основе DOCX\n",
        "Используем эту же статью, но в формате DOCX. В качестве загрузчика у нас будет `UnstructuredWordDocumentLoader`."
      ],
      "metadata": {
        "id": "l4T_Pc0WAFRs"
      }
    },
    {
      "cell_type": "code",
      "source": [
        "from langchain_community.document_loaders import UnstructuredWordDocumentLoader\n",
        "loader = UnstructuredWordDocumentLoader('aspekty-sozdaniya-korporativnoy-voprosno-otvetnoy-sistemy-s-ispolzovaniem-generativnyh-predobuchennyh-yazykovyh-modeley.docx')\n",
        "splitted_docx = loader.load_and_split(text_splitter)"
      ],
      "metadata": {
        "id": "jEsFNsPCE2cr"
      },
      "execution_count": null,
      "outputs": []
    },
    {
      "cell_type": "markdown",
      "source": [
        "Проверим, сколько вышло фрагментов."
      ],
      "metadata": {
        "id": "jYiv0DiWHTOA"
      }
    },
    {
      "cell_type": "code",
      "source": [
        "len(splitted_docx)"
      ],
      "metadata": {
        "colab": {
          "base_uri": "https://localhost:8080/"
        },
        "id": "74a15Z5uCV5s",
        "outputId": "75a2fa89-9096-4a3a-fc1b-5c437bfeb96a"
      },
      "execution_count": null,
      "outputs": [
        {
          "output_type": "execute_result",
          "data": {
            "text/plain": [
              "45"
            ]
          },
          "metadata": {},
          "execution_count": 14
        }
      ]
    },
    {
      "cell_type": "markdown",
      "source": [
        "Видим, что количество фрагментов не совпадает. Сравним содержимое фрагментов из pdf и docx."
      ],
      "metadata": {
        "id": "mlcIQC3HHcrU"
      }
    },
    {
      "cell_type": "code",
      "source": [
        "splitted_data[10]"
      ],
      "metadata": {
        "colab": {
          "base_uri": "https://localhost:8080/"
        },
        "id": "mDevCzCADTU5",
        "outputId": "d985f2b2-bf2d-4074-e874-aaf722b481f2"
      },
      "execution_count": null,
      "outputs": [
        {
          "output_type": "execute_result",
          "data": {
            "text/plain": [
              "Document(page_content='. Автор вышеупомянутой диссертации даже создалотдельный сервис (https://demo.caire.ust.hk/), работающий как генеративная вопросно-ответная система по большому количеству статей о коронавирусе. Однако, отдаваядолжное автору вышеупомянутых диссертации и сервиса, стоит сказать, что в настоящеевремя, в частности, за счет появившихся уже после релиза ChatGPT фреймворковLlamaIndex, а также возможности использования фреймворка Haystack совместно с GPT-3 для построения генеративной вопросно-ответной системы, создание подобной системыстало значительно проще и доступнее, а потому сравнение фреймворков и их настроекактуально и представляет значительный интерес.2 Расширение возможностей применения больших языковых моделей путемиспользования индексации документовОсновным способом построения вопросно-ответных систем является использованиеретривера для определения наиболее релевантных запросу частей текста, а затемсинтез ответа из найденных частей текста с использованием т.н. ридера', metadata={'source': 'aspekty-sozdaniya-korporativnoy-voprosno-otvetnoy-sistemy-s-ispolzovaniem-generativnyh-predobuchennyh-yazykovyh-modeley.pdf'})"
            ]
          },
          "metadata": {},
          "execution_count": 15
        }
      ]
    },
    {
      "cell_type": "code",
      "source": [
        "splitted_docx[10]"
      ],
      "metadata": {
        "colab": {
          "base_uri": "https://localhost:8080/"
        },
        "id": "nsOhnlpnDUaq",
        "outputId": "da8c5e81-dd02-42a6-9654-69337c98d0e6"
      },
      "execution_count": null,
      "outputs": [
        {
          "output_type": "execute_result",
          "data": {
            "text/plain": [
              "Document(page_content='или иным способом до объема менее 4000 токенов, однако, очевидно, что значительная часть информации в таком случае будет потеряна. Во многих случаях наиболее привлекательным способом решения вопроса является индексация', metadata={'source': 'aspekty-sozdaniya-korporativnoy-voprosno-otvetnoy-sistemy-s-ispolzovaniem-generativnyh-predobuchennyh-yazykovyh-modeley.docx'})"
            ]
          },
          "metadata": {},
          "execution_count": 16
        }
      ]
    },
    {
      "cell_type": "code",
      "source": [
        "splitted_docx[12]"
      ],
      "metadata": {
        "colab": {
          "base_uri": "https://localhost:8080/"
        },
        "id": "bKcpKj-JDgeA",
        "outputId": "333c900c-5721-4ecf-cab9-7ee08eeecc26"
      },
      "execution_count": null,
      "outputs": [
        {
          "output_type": "execute_result",
          "data": {
            "text/plain": [
              "Document(page_content='Стоит отметить, что исследованиям в области вопросно-ответных систем посвящено множество публикаций, однако в большинстве своем они посвящены экстрактивным вопросно-ответным системам, поскольку достаточно качественные генеративные большие языковые модели появились позже. Из наиболее свежих и релевантных научных материалов, касающихся в том числе генеративных вопросно-ответных систем, можно выделить статьи [4-6] и диссертацию [7]. Автор вышеупомянутой диссертации даже создал отдельный сервис (https://demo.caire.ust.hk/), работающий как генеративная вопросно- ответная система по большому количеству статей о коронавирусе. Однако, отдавая должное автору вышеупомянутых диссертации и сервиса, стоит сказать, что в настоящее время, в частности, за счет появившихся уже после релиза ChatGPT фреймворков LlamaIndex, а также возможности использования фреймворка Haystack совместно с GPT- 3 для построения генеративной вопросно-ответной системы, создание подобной системы стало значительно проще и', metadata={'source': 'aspekty-sozdaniya-korporativnoy-voprosno-otvetnoy-sistemy-s-ispolzovaniem-generativnyh-predobuchennyh-yazykovyh-modeley.docx'})"
            ]
          },
          "metadata": {},
          "execution_count": 17
        }
      ]
    },
    {
      "cell_type": "code",
      "source": [
        "docs = embedding.embed_documents([splitted_data[10].page_content, splitted_docx[12].page_content])"
      ],
      "metadata": {
        "id": "q_F-WRhG7IbX"
      },
      "execution_count": null,
      "outputs": []
    },
    {
      "cell_type": "code",
      "source": [
        "docs"
      ],
      "metadata": {
        "colab": {
          "base_uri": "https://localhost:8080/"
        },
        "id": "OmFMajO-qK2s",
        "outputId": "5db9ab06-88bb-4825-a316-e27606793bf3"
      },
      "execution_count": null,
      "outputs": [
        {
          "output_type": "execute_result",
          "data": {
            "text/plain": [
              "[[0.008951683528721333,\n",
              "  0.13602659106254578,\n",
              "  -0.01078121643513441,\n",
              "  0.005982115399092436,\n",
              "  -0.023294484242796898,\n",
              "  0.06577566266059875,\n",
              "  0.15637962520122528,\n",
              "  0.05735860392451286,\n",
              "  0.03467786684632301,\n",
              "  -0.029316941276192665,\n",
              "  0.16848066449165344,\n",
              "  0.055822547525167465,\n",
              "  0.003838876262307167,\n",
              "  -0.05944221466779709,\n",
              "  0.08486774563789368,\n",
              "  -0.10907694697380066,\n",
              "  0.06572281569242477,\n",
              "  0.0546577088534832,\n",
              "  -0.025797586888074875,\n",
              "  0.05429495871067047,\n",
              "  0.11603781580924988,\n",
              "  -0.019520800560712814,\n",
              "  0.05233471095561981,\n",
              "  0.054645687341690063,\n",
              "  -0.06036115810275078,\n",
              "  -0.060792334377765656,\n",
              "  -0.052016496658325195,\n",
              "  -0.03358055278658867,\n",
              "  0.07728233933448792,\n",
              "  -0.03454596549272537,\n",
              "  0.030566954985260963,\n",
              "  0.1216118112206459,\n",
              "  0.039400260895490646,\n",
              "  0.06916099786758423,\n",
              "  0.07300259172916412,\n",
              "  -0.005192926619201899,\n",
              "  -0.024102987721562386,\n",
              "  0.06088732182979584,\n",
              "  -0.046460650861263275,\n",
              "  0.04642333462834358,\n",
              "  0.3130835294723511,\n",
              "  0.12919700145721436,\n",
              "  0.033435046672821045,\n",
              "  -0.023983635008335114,\n",
              "  -0.15113991498947144,\n",
              "  -0.05890820175409317,\n",
              "  -0.03152482956647873,\n",
              "  -0.008927791379392147,\n",
              "  -0.009036112576723099,\n",
              "  0.03502563014626503,\n",
              "  0.03271514177322388,\n",
              "  0.11633628606796265,\n",
              "  0.010419216006994247,\n",
              "  0.03713524341583252,\n",
              "  0.12595856189727783,\n",
              "  -0.13608025014400482,\n",
              "  -0.06227441504597664,\n",
              "  0.07824967801570892,\n",
              "  0.11024255305528641,\n",
              "  0.05130179226398468,\n",
              "  0.019052919000387192,\n",
              "  0.08700437843799591,\n",
              "  0.04015207663178444,\n",
              "  -0.04839631915092468,\n",
              "  -0.0110243558883667,\n",
              "  -0.053198251873254776,\n",
              "  -0.19761747121810913,\n",
              "  -0.06037088856101036,\n",
              "  -0.12276946753263474,\n",
              "  -0.09064880013465881,\n",
              "  0.27732938528060913,\n",
              "  -0.026694821193814278,\n",
              "  0.0007040923228487372,\n",
              "  0.054824814200401306,\n",
              "  0.014357678592205048,\n",
              "  0.05128147080540657,\n",
              "  0.038377415388822556,\n",
              "  -0.11963183432817459,\n",
              "  -0.05249566584825516,\n",
              "  -0.0246402770280838,\n",
              "  0.16017484664916992,\n",
              "  -0.09716078639030457,\n",
              "  -0.03775511682033539,\n",
              "  -0.07030016928911209,\n",
              "  0.011692975647747517,\n",
              "  0.03895891085267067,\n",
              "  0.0012511867098510265,\n",
              "  0.10344379395246506,\n",
              "  0.0056196702644228935,\n",
              "  0.02664882130920887,\n",
              "  0.0650615245103836,\n",
              "  -0.06397608667612076,\n",
              "  -0.02786865644156933,\n",
              "  -0.07037682831287384,\n",
              "  0.013111187145113945,\n",
              "  -0.023595303297042847,\n",
              "  0.02710515260696411,\n",
              "  -0.09864256531000137,\n",
              "  0.18292546272277832,\n",
              "  0.016768384724855423,\n",
              "  0.026642300188541412,\n",
              "  0.00034487282391637564,\n",
              "  0.07358437776565552,\n",
              "  0.006769477389752865,\n",
              "  0.18348656594753265,\n",
              "  -0.06676265597343445,\n",
              "  -0.1359986960887909,\n",
              "  0.1492922008037567,\n",
              "  0.05074036121368408,\n",
              "  -0.0047866408713161945,\n",
              "  -0.016930624842643738,\n",
              "  -0.037251219153404236,\n",
              "  -0.07170641422271729,\n",
              "  0.010264911688864231,\n",
              "  0.0739063173532486,\n",
              "  0.0983571708202362,\n",
              "  -0.03539484739303589,\n",
              "  0.05214438959956169,\n",
              "  0.03618825599551201,\n",
              "  -0.057164084166288376,\n",
              "  0.017960891127586365,\n",
              "  0.08166507631540298,\n",
              "  -0.0901375487446785,\n",
              "  0.049600228667259216,\n",
              "  0.031224288046360016,\n",
              "  0.02737565152347088,\n",
              "  0.0011685492936521769,\n",
              "  -0.0005439505912363529,\n",
              "  0.002547619631513953,\n",
              "  -5.010073073208332e-05,\n",
              "  -0.037827055901288986,\n",
              "  -0.10354119539260864,\n",
              "  -0.0257427841424942,\n",
              "  -0.05986398458480835,\n",
              "  0.0083207618445158,\n",
              "  -0.09506060183048248,\n",
              "  0.062154918909072876,\n",
              "  -0.08671170473098755,\n",
              "  0.07000847905874252,\n",
              "  -0.06569946557283401,\n",
              "  0.049252964556217194,\n",
              "  -0.023197896778583527,\n",
              "  -0.0849301740527153,\n",
              "  -0.06588993221521378,\n",
              "  0.009223425760865211,\n",
              "  -0.012502980418503284,\n",
              "  -0.03274017572402954,\n",
              "  0.12076786905527115,\n",
              "  -0.07366722077131271,\n",
              "  0.01369468867778778,\n",
              "  -0.15448011457920074,\n",
              "  0.06925390660762787,\n",
              "  -0.14298340678215027,\n",
              "  -0.022839732468128204,\n",
              "  0.023222986608743668,\n",
              "  0.010283876210451126,\n",
              "  0.19754798710346222,\n",
              "  -0.10711049288511276,\n",
              "  -0.11711326986551285,\n",
              "  -0.01166526973247528,\n",
              "  -0.008904199115931988,\n",
              "  -0.015502912923693657,\n",
              "  -0.018322717398405075,\n",
              "  -0.023471657186746597,\n",
              "  0.0016441158950328827,\n",
              "  0.07065390050411224,\n",
              "  -0.008383847773075104,\n",
              "  0.06388198584318161,\n",
              "  0.05660846084356308,\n",
              "  -0.04106613248586655,\n",
              "  -0.21941883862018585,\n",
              "  0.07094903290271759,\n",
              "  -0.038296353071928024,\n",
              "  0.19717824459075928,\n",
              "  0.00899242702871561,\n",
              "  0.05093569681048393,\n",
              "  0.14809004962444305,\n",
              "  -0.119791179895401,\n",
              "  0.11139155924320221,\n",
              "  0.009124272502958775,\n",
              "  -0.07312482595443726,\n",
              "  0.09292371571063995,\n",
              "  0.019914284348487854,\n",
              "  0.10131911188364029,\n",
              "  -0.173590287566185,\n",
              "  0.016583340242505074,\n",
              "  -0.07111062109470367,\n",
              "  -0.041244812309741974,\n",
              "  -0.07658006995916367,\n",
              "  0.031363531947135925,\n",
              "  0.03179965913295746,\n",
              "  -0.05763831362128258,\n",
              "  -0.14388570189476013,\n",
              "  0.0022998335771262646,\n",
              "  0.03145555779337883,\n",
              "  -0.03407900780439377,\n",
              "  0.025343863293528557,\n",
              "  -0.16864001750946045,\n",
              "  0.03154522180557251,\n",
              "  -0.032588452100753784,\n",
              "  -0.018568797037005424,\n",
              "  -0.12580053508281708,\n",
              "  0.05719898268580437,\n",
              "  0.07599211484193802,\n",
              "  0.053078193217515945,\n",
              "  -0.042781926691532135,\n",
              "  -0.10687944293022156,\n",
              "  0.0005303989164531231,\n",
              "  0.15297181904315948,\n",
              "  0.04628072679042816,\n",
              "  0.2999999225139618,\n",
              "  -0.03999822959303856,\n",
              "  -0.06528644263744354,\n",
              "  0.06891649961471558,\n",
              "  0.10021109879016876,\n",
              "  -0.05055082589387894,\n",
              "  0.04996844381093979,\n",
              "  0.017801256850361824,\n",
              "  -0.06316249817609787,\n",
              "  0.06939885765314102,\n",
              "  -0.07038066536188126,\n",
              "  0.021832261234521866,\n",
              "  0.08765652030706406,\n",
              "  -0.02054460719227791,\n",
              "  -0.01495243888348341,\n",
              "  -0.0228876955807209,\n",
              "  -0.019100520759820938,\n",
              "  0.010009724646806717,\n",
              "  0.11158303916454315,\n",
              "  -0.021502738818526268,\n",
              "  -0.021926842629909515,\n",
              "  0.02727990411221981,\n",
              "  0.060668252408504486,\n",
              "  0.007411682512611151,\n",
              "  0.02272801846265793,\n",
              "  -0.06115802749991417,\n",
              "  0.0853981301188469,\n",
              "  0.014575405046343803,\n",
              "  0.024330969899892807,\n",
              "  -0.08125311881303787,\n",
              "  -0.002280811546370387,\n",
              "  0.04123685881495476,\n",
              "  -0.034671299159526825,\n",
              "  0.06614237278699875,\n",
              "  0.012670896016061306,\n",
              "  0.017339514568448067,\n",
              "  0.011200753040611744,\n",
              "  -0.050011634826660156,\n",
              "  0.020449921488761902,\n",
              "  -0.0543515719473362,\n",
              "  0.05085913464426994,\n",
              "  0.0007691237842664123,\n",
              "  0.0007263758452609181,\n",
              "  0.033241305500268936,\n",
              "  0.022515499964356422,\n",
              "  0.1857350468635559,\n",
              "  -0.07471060007810593,\n",
              "  -0.05722726136445999,\n",
              "  0.07949136197566986,\n",
              "  0.013272237032651901,\n",
              "  -0.03838278725743294,\n",
              "  0.01582282781600952,\n",
              "  -0.06825421750545502,\n",
              "  -0.025140855461359024,\n",
              "  -0.03613501042127609,\n",
              "  0.049301452934741974,\n",
              "  0.05990301072597504,\n",
              "  -0.17961284518241882,\n",
              "  0.033188410103321075,\n",
              "  0.037975795567035675,\n",
              "  -0.0016158062499016523,\n",
              "  0.02110193856060505,\n",
              "  -0.02056971564888954,\n",
              "  -0.04635927081108093,\n",
              "  -0.04422031342983246,\n",
              "  -0.022114651277661324,\n",
              "  -0.005268428940325975,\n",
              "  0.14234299957752228,\n",
              "  -0.0784754753112793,\n",
              "  0.07773997634649277,\n",
              "  -0.012427604757249355,\n",
              "  -0.08919158577919006,\n",
              "  -0.07459542155265808,\n",
              "  0.01110641285777092,\n",
              "  -0.028894100338220596,\n",
              "  0.04348422959446907,\n",
              "  0.024319572374224663,\n",
              "  -0.15117290616035461,\n",
              "  0.04708671569824219,\n",
              "  0.002977801486849785,\n",
              "  -0.027396701276302338,\n",
              "  0.06735728681087494,\n",
              "  0.07538767904043198,\n",
              "  -0.015204782597720623,\n",
              "  -0.030015811324119568,\n",
              "  -0.06338896602392197,\n",
              "  -0.012581843882799149,\n",
              "  -0.018533367663621902,\n",
              "  0.029715001583099365,\n",
              "  0.0656622052192688,\n",
              "  0.0516292043030262,\n",
              "  -0.05308967083692551,\n",
              "  -0.04948313161730766,\n",
              "  0.05385514348745346,\n",
              "  -0.10979853570461273,\n",
              "  -0.02192644774913788,\n",
              "  0.10419395565986633,\n",
              "  -0.061188288033008575,\n",
              "  0.09222400188446045,\n",
              "  0.03289587423205376,\n",
              "  0.05488688498735428,\n",
              "  0.044564388692379,\n",
              "  0.002372690476477146,\n",
              "  0.2441892921924591,\n",
              "  -0.014467732980847359,\n",
              "  -0.016901683062314987,\n",
              "  0.12987905740737915,\n",
              "  -0.08564739674329758,\n",
              "  -0.011652080342173576,\n",
              "  -0.004694409668445587,\n",
              "  0.021896712481975555,\n",
              "  -0.1283963918685913,\n",
              "  0.018182020634412766,\n",
              "  -0.04667776823043823,\n",
              "  -0.07663406431674957,\n",
              "  -0.09819123148918152,\n",
              "  -0.03372158855199814,\n",
              "  -0.03849416598677635,\n",
              "  -0.030652116984128952,\n",
              "  0.0075173163786530495,\n",
              "  -0.020300643518567085,\n",
              "  -0.005038037896156311,\n",
              "  0.16687454283237457,\n",
              "  0.005060245282948017,\n",
              "  -0.05232871696352959,\n",
              "  -0.0246722474694252,\n",
              "  0.03828997164964676,\n",
              "  0.03421338275074959,\n",
              "  -0.06783023476600647,\n",
              "  0.006732908543199301,\n",
              "  -0.03937873989343643,\n",
              "  -0.029422277584671974,\n",
              "  0.04621483013033867,\n",
              "  0.021970778703689575,\n",
              "  0.06270451098680496,\n",
              "  0.03684338554739952,\n",
              "  0.08577312529087067,\n",
              "  0.13628879189491272,\n",
              "  0.07987271249294281,\n",
              "  -0.01733873039484024,\n",
              "  0.05590149015188217,\n",
              "  -0.034459188580513,\n",
              "  -0.037232108414173126,\n",
              "  -0.07699310034513474,\n",
              "  0.03846937417984009,\n",
              "  -0.1095849797129631,\n",
              "  -0.005063910968601704,\n",
              "  -0.071555957198143,\n",
              "  -0.06638973206281662,\n",
              "  0.01639142446219921,\n",
              "  0.027512546628713608,\n",
              "  -0.03687708452343941,\n",
              "  0.07537177950143814,\n",
              "  0.06359025835990906,\n",
              "  -0.043163150548934937,\n",
              "  -0.021984457969665527,\n",
              "  0.006116035394370556,\n",
              "  0.051193177700042725,\n",
              "  -0.13591009378433228,\n",
              "  0.04371439665555954,\n",
              "  -0.024771016091108322,\n",
              "  -0.044501375406980515,\n",
              "  -0.07131674885749817,\n",
              "  0.03520818427205086,\n",
              "  0.15048441290855408,\n",
              "  -0.10230069607496262,\n",
              "  0.02343469113111496,\n",
              "  -0.1546664535999298,\n",
              "  -0.11931298673152924,\n",
              "  -0.00021566427312791348,\n",
              "  0.12744766473770142,\n",
              "  -0.0317661352455616,\n",
              "  0.14843207597732544,\n",
              "  -0.03620436042547226,\n",
              "  -0.06540297716856003,\n",
              "  -0.13059639930725098,\n",
              "  -0.058630455285310745,\n",
              "  -0.0378265306353569,\n",
              "  0.16634812951087952,\n",
              "  0.14876031875610352,\n",
              "  -0.030534476041793823,\n",
              "  -0.12159715592861176,\n",
              "  0.1736658364534378,\n",
              "  -0.12741011381149292,\n",
              "  0.042478494346141815,\n",
              "  0.019331064075231552,\n",
              "  -0.08337445557117462,\n",
              "  0.03875238448381424,\n",
              "  0.012657929211854935,\n",
              "  0.04712006449699402,\n",
              "  -0.021506289020180702,\n",
              "  -0.026266461238265038,\n",
              "  -0.09683529287576675,\n",
              "  -0.03315604478120804,\n",
              "  0.10446363687515259,\n",
              "  0.00013461062917485833,\n",
              "  0.023938333615660667,\n",
              "  0.05170321464538574,\n",
              "  -0.01476961374282837,\n",
              "  -0.13827987015247345,\n",
              "  0.07585720717906952,\n",
              "  -0.04293692857027054,\n",
              "  -0.08417455852031708,\n",
              "  -0.03144470602273941,\n",
              "  0.12402330338954926,\n",
              "  0.009836393408477306,\n",
              "  -0.012498343363404274,\n",
              "  -0.06299386918544769,\n",
              "  -0.010347170755267143,\n",
              "  -0.015515861101448536,\n",
              "  0.05610169097781181,\n",
              "  -0.05458015576004982,\n",
              "  -0.006245163269340992,\n",
              "  -0.09419256448745728,\n",
              "  -0.036208346486091614,\n",
              "  -0.07359931617975235,\n",
              "  0.04901464655995369,\n",
              "  0.05388692021369934,\n",
              "  -0.00955399964004755,\n",
              "  0.03868388757109642,\n",
              "  -0.020310869440436363,\n",
              "  -0.08022904396057129,\n",
              "  -0.07639402896165848,\n",
              "  0.06880411505699158,\n",
              "  0.08401550352573395,\n",
              "  0.00396386906504631,\n",
              "  -0.07595521211624146,\n",
              "  -0.0506792888045311,\n",
              "  0.047645263373851776,\n",
              "  -0.0290273018181324,\n",
              "  -0.01095634140074253,\n",
              "  0.11553288996219635,\n",
              "  0.07846278697252274,\n",
              "  -0.04433143138885498,\n",
              "  0.05011289566755295,\n",
              "  0.044664375483989716,\n",
              "  -0.027856744825839996,\n",
              "  -0.14330847561359406,\n",
              "  -0.08928434550762177,\n",
              "  0.08467364311218262,\n",
              "  -0.021091805770993233,\n",
              "  -0.021927347406744957,\n",
              "  -0.1120079904794693,\n",
              "  0.02593011036515236,\n",
              "  0.04243312031030655,\n",
              "  -0.025668751448392868,\n",
              "  0.07880395650863647,\n",
              "  -0.1285848319530487,\n",
              "  0.00015666335821151733,\n",
              "  0.12438372522592545,\n",
              "  0.02914842590689659,\n",
              "  0.3498486876487732,\n",
              "  -0.09471452981233597,\n",
              "  -0.005252209957689047,\n",
              "  -0.010684099979698658,\n",
              "  -0.10657545179128647,\n",
              "  0.2115708887577057,\n",
              "  -0.07161009311676025,\n",
              "  -0.0077316639944911,\n",
              "  -0.08484991639852524,\n",
              "  -0.050173237919807434,\n",
              "  0.019555004313588142,\n",
              "  0.017836902290582657,\n",
              "  0.1133219376206398,\n",
              "  -0.12004761397838593,\n",
              "  -0.03086942806839943,\n",
              "  -0.04843664914369583,\n",
              "  0.03903203457593918,\n",
              "  0.10749202221632004,\n",
              "  0.013853171840310097,\n",
              "  0.06588380038738251,\n",
              "  0.11874419450759888,\n",
              "  0.04456743225455284,\n",
              "  0.02790939062833786,\n",
              "  -0.008002078160643578,\n",
              "  -0.053002577275037766,\n",
              "  0.0411667637526989,\n",
              "  -0.01891820691525936,\n",
              "  -0.07970628142356873,\n",
              "  -0.12067939341068268,\n",
              "  -0.058735042810440063,\n",
              "  -0.03143344447016716,\n",
              "  -0.005834418348968029,\n",
              "  0.08325064182281494,\n",
              "  -0.06821158528327942,\n",
              "  -0.016523584723472595,\n",
              "  -0.018717417493462563,\n",
              "  0.1021091565489769,\n",
              "  -0.10359179973602295,\n",
              "  0.04758555814623833,\n",
              "  0.04618052393198013,\n",
              "  -0.05959884822368622,\n",
              "  0.11186690628528595,\n",
              "  -0.02240188792347908,\n",
              "  -0.018692219629883766,\n",
              "  0.0031704322900623083,\n",
              "  -0.02661464549601078,\n",
              "  -0.05446098744869232,\n",
              "  0.005672563798725605,\n",
              "  -0.06782015413045883,\n",
              "  0.06845865398645401,\n",
              "  0.035227954387664795,\n",
              "  -0.2620874345302582,\n",
              "  0.02255946397781372,\n",
              "  -0.01696684956550598,\n",
              "  0.05217032879590988,\n",
              "  0.03785490244626999,\n",
              "  0.09291671961545944,\n",
              "  0.13032296299934387,\n",
              "  0.002838815562427044,\n",
              "  -0.026978999376296997,\n",
              "  0.012394639663398266,\n",
              "  0.0251605361700058,\n",
              "  0.0540599562227726,\n",
              "  -0.08285674452781677,\n",
              "  0.05402972549200058,\n",
              "  -0.041146934032440186,\n",
              "  -0.08420943468809128,\n",
              "  -0.09288188815116882,\n",
              "  0.04494056478142738,\n",
              "  -0.006371916271746159,\n",
              "  -0.022662915289402008,\n",
              "  -0.08985769748687744,\n",
              "  -0.13710853457450867,\n",
              "  -0.06788495182991028,\n",
              "  -0.17684273421764374,\n",
              "  0.00788550078868866,\n",
              "  -0.07819344848394394,\n",
              "  -0.053432267159223557,\n",
              "  -0.028904655948281288,\n",
              "  -0.024230442941188812,\n",
              "  0.004646372050046921,\n",
              "  0.02474990114569664,\n",
              "  0.015699367970228195,\n",
              "  0.0036681536585092545,\n",
              "  0.016534673050045967,\n",
              "  0.007841364480555058,\n",
              "  -0.006109943613409996,\n",
              "  -0.047403622418642044,\n",
              "  -0.11882024258375168,\n",
              "  0.017221108078956604,\n",
              "  -0.023894120007753372,\n",
              "  -0.08868738263845444,\n",
              "  -0.010977503843605518,\n",
              "  0.08169420063495636,\n",
              "  -0.07352972775697708,\n",
              "  -0.025333890691399574,\n",
              "  -0.07206620275974274,\n",
              "  0.03271269425749779,\n",
              "  -0.027296332642436028,\n",
              "  0.02979424223303795,\n",
              "  -0.048030827194452286,\n",
              "  -0.0031098653562366962,\n",
              "  0.05386613309383392,\n",
              "  -0.09067574143409729,\n",
              "  -0.0578288733959198,\n",
              "  -0.005433634389191866,\n",
              "  -0.026019496843218803,\n",
              "  0.028935730457305908,\n",
              "  -0.005275640171021223,\n",
              "  0.032589126378297806,\n",
              "  0.0019748888444155455,\n",
              "  0.015154608525335789,\n",
              "  0.04841490462422371,\n",
              "  -0.01059148833155632,\n",
              "  0.10054105520248413,\n",
              "  -0.013484925962984562,\n",
              "  -0.05093277618288994,\n",
              "  0.04446118697524071,\n",
              "  -0.08693622797727585,\n",
              "  0.009936952032148838,\n",
              "  0.03919301927089691,\n",
              "  0.11566601693630219,\n",
              "  0.010783460922539234,\n",
              "  -0.055265605449676514,\n",
              "  -0.002762443386018276,\n",
              "  0.00018523982726037502,\n",
              "  -0.04561563581228256,\n",
              "  0.008624976500868797,\n",
              "  0.043723009526729584,\n",
              "  0.010665307752788067,\n",
              "  -0.05362383648753166,\n",
              "  0.05444909259676933,\n",
              "  -0.0007411176338791847,\n",
              "  0.07857191562652588,\n",
              "  -0.06811365485191345,\n",
              "  0.015845371410250664,\n",
              "  0.05521160364151001,\n",
              "  0.1139732226729393,\n",
              "  0.07737287133932114,\n",
              "  0.05393782630562782,\n",
              "  0.012818434275686741,\n",
              "  0.023267347365617752,\n",
              "  0.044235993176698685,\n",
              "  -0.02065971866250038,\n",
              "  -0.07836290448904037,\n",
              "  -0.051893461495637894,\n",
              "  0.02597918175160885,\n",
              "  -0.000552047451492399,\n",
              "  0.2161315381526947,\n",
              "  -0.011782854795455933,\n",
              "  0.033108144998550415,\n",
              "  -0.03415055572986603,\n",
              "  0.06872664391994476,\n",
              "  0.1269700825214386,\n",
              "  -0.0027734600007534027,\n",
              "  0.16079172492027283,\n",
              "  0.05571512132883072,\n",
              "  0.0335988812148571,\n",
              "  -0.11674067378044128,\n",
              "  -0.009946988895535469,\n",
              "  -0.04445607587695122,\n",
              "  -0.09333594143390656,\n",
              "  0.05255760997533798,\n",
              "  -0.027874592691659927,\n",
              "  0.08233312517404556,\n",
              "  -0.006540406495332718,\n",
              "  -0.00598051305860281,\n",
              "  0.08334404230117798,\n",
              "  0.1775500625371933,\n",
              "  -0.009385193698108196,\n",
              "  0.07076475769281387,\n",
              "  0.01902768388390541,\n",
              "  0.07088261097669601,\n",
              "  -0.12051579356193542,\n",
              "  0.10980631411075592,\n",
              "  0.048723846673965454,\n",
              "  -0.04203860089182854,\n",
              "  -0.003953815437853336,\n",
              "  0.002997311297804117,\n",
              "  -0.08513293415307999,\n",
              "  0.0009345270227640867,\n",
              "  -0.11244940757751465,\n",
              "  -0.07242263853549957,\n",
              "  0.05043106898665428,\n",
              "  -0.10267522931098938,\n",
              "  -0.06584300100803375,\n",
              "  -0.042382605373859406,\n",
              "  0.03986502066254616,\n",
              "  -0.0038880594074726105,\n",
              "  0.02903212048113346,\n",
              "  0.03534971550107002,\n",
              "  -0.04034018889069557,\n",
              "  -0.03227083012461662,\n",
              "  -0.022020993754267693,\n",
              "  -0.014826517552137375,\n",
              "  -0.11182334274053574,\n",
              "  0.030752016231417656,\n",
              "  -0.006705057807266712,\n",
              "  0.13605697453022003,\n",
              "  -0.027650700882077217,\n",
              "  0.026544060558080673,\n",
              "  0.04794543981552124,\n",
              "  -0.08210193365812302,\n",
              "  -0.09729703515768051,\n",
              "  -0.013893374241888523,\n",
              "  -0.056211818009614944,\n",
              "  0.016680900007486343,\n",
              "  -0.05942842364311218,\n",
              "  0.03055763803422451,\n",
              "  0.0363478846848011,\n",
              "  0.015040487051010132,\n",
              "  0.03661341965198517,\n",
              "  0.035026632249355316,\n",
              "  0.04822351410984993,\n",
              "  0.0191519595682621,\n",
              "  -0.11243477463722229,\n",
              "  -0.05222642421722412,\n",
              "  -0.07945289462804794,\n",
              "  0.056113868951797485,\n",
              "  -0.00640150997787714,\n",
              "  0.11698447167873383,\n",
              "  -0.003726058406755328,\n",
              "  0.24002547562122345,\n",
              "  0.19570863246917725,\n",
              "  -0.13510045409202576,\n",
              "  -0.005430843681097031,\n",
              "  -0.01779802143573761,\n",
              "  0.017587866634130478,\n",
              "  0.005213855300098658,\n",
              "  0.12447746843099594,\n",
              "  -0.008594603277742863,\n",
              "  -0.00725890975445509,\n",
              "  0.007847107946872711,\n",
              "  -0.1309034526348114,\n",
              "  -0.07770979404449463,\n",
              "  0.08549337834119797,\n",
              "  -0.07881847769021988,\n",
              "  -0.09377085417509079,\n",
              "  0.028737984597682953,\n",
              "  -0.06320061534643173,\n",
              "  -0.039727259427309036,\n",
              "  0.13859228789806366,\n",
              "  -0.062424156814813614,\n",
              "  -0.1419048011302948,\n",
              "  -0.05535787716507912,\n",
              "  0.07203397154808044,\n",
              "  -0.08717341721057892,\n",
              "  0.06345558911561966,\n",
              "  -0.0036739716306328773,\n",
              "  -0.012202064506709576,\n",
              "  0.03500661998987198,\n",
              "  -0.0628301352262497,\n",
              "  0.005296655464917421,\n",
              "  0.06064259260892868,\n",
              "  0.007232780568301678,\n",
              "  0.004125559236854315,\n",
              "  -0.07391366362571716,\n",
              "  0.14158159494400024,\n",
              "  -0.054727472364902496,\n",
              "  0.22771254181861877,\n",
              "  0.009114794433116913,\n",
              "  0.1603204309940338,\n",
              "  -0.014114199206233025,\n",
              "  -0.10574235022068024,\n",
              "  -0.10792398452758789,\n",
              "  0.007292267866432667,\n",
              "  0.06535002589225769,\n",
              "  0.03997088968753815,\n",
              "  0.07126817852258682,\n",
              "  -0.06780678778886795,\n",
              "  0.042470719665288925,\n",
              "  -0.03632725775241852,\n",
              "  0.06596209853887558,\n",
              "  -0.047423381358385086,\n",
              "  -0.014812046661973,\n",
              "  0.017233286052942276,\n",
              "  0.008904829621315002,\n",
              "  -0.023071233183145523,\n",
              "  0.1320263147354126,\n",
              "  -0.07536918669939041,\n",
              "  0.1106046661734581,\n",
              "  0.07577554881572723,\n",
              "  -0.061257898807525635,\n",
              "  -0.06647275388240814,\n",
              "  -0.009189847856760025,\n",
              "  0.08335856348276138,\n",
              "  -0.011880344711244106,\n",
              "  -0.022655948996543884,\n",
              "  -0.029282134026288986,\n",
              "  -0.06531643867492676,\n",
              "  -0.0495033785700798,\n",
              "  -0.014504389837384224,\n",
              "  -0.013827379792928696,\n",
              "  -0.07085967063903809,\n",
              "  0.04544934630393982,\n",
              "  -0.04881363734602928,\n",
              "  0.005740370135754347,\n",
              "  0.07402035593986511,\n",
              "  -0.03260746970772743,\n",
              "  0.007458822801709175,\n",
              "  0.006321770139038563,\n",
              "  -0.030438721179962158,\n",
              "  0.13374896347522736,\n",
              "  -0.011535496450960636,\n",
              "  -0.01999654807150364,\n",
              "  -0.0693388432264328,\n",
              "  -0.053777389228343964],\n",
              " [0.04274537041783333,\n",
              "  0.06743457168340683,\n",
              "  -0.014445509761571884,\n",
              "  -0.00555559154599905,\n",
              "  -0.013473207131028175,\n",
              "  0.013042490929365158,\n",
              "  0.16893276572227478,\n",
              "  0.05659978836774826,\n",
              "  0.02084706351161003,\n",
              "  -0.0029956060461699963,\n",
              "  0.11528228968381882,\n",
              "  0.02602323330938816,\n",
              "  -0.04461028799414635,\n",
              "  -0.06876171380281448,\n",
              "  0.0007407673401758075,\n",
              "  -0.0749199390411377,\n",
              "  -0.008076781406998634,\n",
              "  0.008938731625676155,\n",
              "  -0.0501260869204998,\n",
              "  0.05470917746424675,\n",
              "  0.0487518310546875,\n",
              "  -0.03999602049589157,\n",
              "  0.010144480504095554,\n",
              "  0.023973586037755013,\n",
              "  0.02833041548728943,\n",
              "  -0.03647406026721001,\n",
              "  -0.08292005956172943,\n",
              "  -0.02956266701221466,\n",
              "  0.03822365403175354,\n",
              "  -0.044732484966516495,\n",
              "  0.032637570053339005,\n",
              "  0.07497666776180267,\n",
              "  0.019237419590353966,\n",
              "  0.013313369825482368,\n",
              "  0.05128154158592224,\n",
              "  -0.048915885388851166,\n",
              "  -0.007773577701300383,\n",
              "  0.00899244099855423,\n",
              "  -0.08535538613796234,\n",
              "  0.057066719979047775,\n",
              "  0.08800406008958817,\n",
              "  0.08693289011716843,\n",
              "  0.04078609496355057,\n",
              "  0.0047616055235266685,\n",
              "  -0.09031310677528381,\n",
              "  -0.00621578935533762,\n",
              "  0.09085272252559662,\n",
              "  -0.08012647181749344,\n",
              "  -0.013763939030468464,\n",
              "  0.07989766448736191,\n",
              "  -0.005509469658136368,\n",
              "  0.08880606293678284,\n",
              "  -0.0080377496778965,\n",
              "  0.019627803936600685,\n",
              "  0.03208409622311592,\n",
              "  -0.0251308623701334,\n",
              "  -0.06138734892010689,\n",
              "  0.04508450627326965,\n",
              "  0.0917593389749527,\n",
              "  0.1071816086769104,\n",
              "  -0.02985437586903572,\n",
              "  0.006178943905979395,\n",
              "  0.06133611127734184,\n",
              "  -0.04698656126856804,\n",
              "  -0.1743663251399994,\n",
              "  -0.0653124749660492,\n",
              "  -0.06226358935236931,\n",
              "  -0.013010740280151367,\n",
              "  -0.11122749745845795,\n",
              "  -0.0033681560307741165,\n",
              "  0.22415094077587128,\n",
              "  -0.025931935757398605,\n",
              "  -0.02399074099957943,\n",
              "  -0.0550948902964592,\n",
              "  -0.006857102271169424,\n",
              "  0.14352935552597046,\n",
              "  0.007772906683385372,\n",
              "  -0.08832881599664688,\n",
              "  -0.04175157845020294,\n",
              "  -0.02512119524180889,\n",
              "  0.085908904671669,\n",
              "  -0.053451791405677795,\n",
              "  -0.012730531394481659,\n",
              "  -0.025997618213295937,\n",
              "  -0.051598548889160156,\n",
              "  0.10198287665843964,\n",
              "  0.02156156487762928,\n",
              "  0.03841304033994675,\n",
              "  -0.06146492436528206,\n",
              "  0.027126919478178024,\n",
              "  0.07925353944301605,\n",
              "  -0.06582234799861908,\n",
              "  -0.022737756371498108,\n",
              "  -0.0583222396671772,\n",
              "  -0.0071516395546495914,\n",
              "  -0.007714821957051754,\n",
              "  0.019892273470759392,\n",
              "  -0.02316146157681942,\n",
              "  0.11377684026956558,\n",
              "  0.0559881255030632,\n",
              "  0.06885193288326263,\n",
              "  0.017452698200941086,\n",
              "  -0.003589168656617403,\n",
              "  -0.007529093883931637,\n",
              "  0.1670757234096527,\n",
              "  0.006323510780930519,\n",
              "  -0.053904078900814056,\n",
              "  0.06547895073890686,\n",
              "  -0.059577904641628265,\n",
              "  0.04694860056042671,\n",
              "  -0.0500008687376976,\n",
              "  -0.04255691543221474,\n",
              "  -0.01899518445134163,\n",
              "  0.00973324291408062,\n",
              "  -0.03626346215605736,\n",
              "  0.08147767186164856,\n",
              "  0.01868353597819805,\n",
              "  0.03883955627679825,\n",
              "  0.01435393001884222,\n",
              "  -0.04879908263683319,\n",
              "  -0.1470094919204712,\n",
              "  0.054837390780448914,\n",
              "  -0.06991163641214371,\n",
              "  0.04691782593727112,\n",
              "  0.011114819906651974,\n",
              "  0.034955643117427826,\n",
              "  -0.09055657684803009,\n",
              "  0.04333774745464325,\n",
              "  -0.008503932505846024,\n",
              "  -0.03233809769153595,\n",
              "  -0.024289920926094055,\n",
              "  -0.07224509119987488,\n",
              "  -0.018784847110509872,\n",
              "  -0.03400513157248497,\n",
              "  -0.025190498679876328,\n",
              "  -0.03891577944159508,\n",
              "  0.04506423696875572,\n",
              "  -0.05281275138258934,\n",
              "  0.017355304211378098,\n",
              "  -0.07297252863645554,\n",
              "  0.045019492506980896,\n",
              "  -0.03233276680111885,\n",
              "  0.015359113924205303,\n",
              "  -0.063258595764637,\n",
              "  -0.01583182066679001,\n",
              "  -0.012277275323867798,\n",
              "  -0.013369640335440636,\n",
              "  0.0524015873670578,\n",
              "  -0.03328977897763252,\n",
              "  -0.0029304849449545145,\n",
              "  -0.036480870097875595,\n",
              "  0.046539306640625,\n",
              "  -0.05343559756875038,\n",
              "  0.013360531069338322,\n",
              "  -0.039690807461738586,\n",
              "  0.0008982031722553074,\n",
              "  0.17452704906463623,\n",
              "  -0.026070140302181244,\n",
              "  -0.05787133052945137,\n",
              "  -0.09836246073246002,\n",
              "  0.0019024708308279514,\n",
              "  -0.04537252336740494,\n",
              "  0.0047715879045426846,\n",
              "  0.03396013751626015,\n",
              "  -0.0020949076861143112,\n",
              "  0.0619511753320694,\n",
              "  -0.0015996567672118545,\n",
              "  0.061031851917505264,\n",
              "  -0.05856600031256676,\n",
              "  -0.027255995199084282,\n",
              "  -0.1412205994129181,\n",
              "  0.08250251412391663,\n",
              "  -0.06400583684444427,\n",
              "  0.18920136988162994,\n",
              "  -0.023648200556635857,\n",
              "  0.0662849098443985,\n",
              "  0.08898691833019257,\n",
              "  -0.007777174934744835,\n",
              "  0.13177409768104553,\n",
              "  -0.011787265539169312,\n",
              "  0.010415992699563503,\n",
              "  0.16194376349449158,\n",
              "  0.021737052127718925,\n",
              "  0.07632701098918915,\n",
              "  -0.09705164283514023,\n",
              "  0.01764569990336895,\n",
              "  -0.06429490447044373,\n",
              "  -0.11211048066616058,\n",
              "  -0.06445592641830444,\n",
              "  -0.04435018450021744,\n",
              "  0.026240184903144836,\n",
              "  -0.0013493278529495,\n",
              "  -0.05191505700349808,\n",
              "  0.06644602119922638,\n",
              "  0.025520507246255875,\n",
              "  -0.019385749474167824,\n",
              "  0.03938715159893036,\n",
              "  -0.08800461143255234,\n",
              "  0.00979236327111721,\n",
              "  -0.01253985520452261,\n",
              "  -0.05546845495700836,\n",
              "  -0.09761538356542587,\n",
              "  0.05837149918079376,\n",
              "  0.06506862491369247,\n",
              "  0.036989156156778336,\n",
              "  -0.11747131496667862,\n",
              "  -0.015602349303662777,\n",
              "  -0.010739069432020187,\n",
              "  0.11352723091840744,\n",
              "  0.10210567712783813,\n",
              "  0.30000776052474976,\n",
              "  -0.021947039291262627,\n",
              "  -0.07989927381277084,\n",
              "  0.044572748243808746,\n",
              "  0.06108507513999939,\n",
              "  -0.028929423540830612,\n",
              "  0.022440768778324127,\n",
              "  -0.014979766681790352,\n",
              "  -0.04815454035997391,\n",
              "  0.12601491808891296,\n",
              "  -0.05469344183802605,\n",
              "  0.0378662534058094,\n",
              "  0.013253062963485718,\n",
              "  -0.016115793958306313,\n",
              "  -0.04508218169212341,\n",
              "  -0.050946034491062164,\n",
              "  -0.0313204787671566,\n",
              "  0.020050348713994026,\n",
              "  0.06601125746965408,\n",
              "  0.02127153053879738,\n",
              "  -0.039582133293151855,\n",
              "  0.06026185303926468,\n",
              "  0.029340380802750587,\n",
              "  -0.024366047233343124,\n",
              "  -0.0016462800558656454,\n",
              "  -0.11061139404773712,\n",
              "  0.006699124816805124,\n",
              "  0.08236438035964966,\n",
              "  0.025723367929458618,\n",
              "  -0.017363840714097023,\n",
              "  -0.02257310226559639,\n",
              "  -0.0212219450622797,\n",
              "  -0.0447569265961647,\n",
              "  0.047148872166872025,\n",
              "  -0.008152787573635578,\n",
              "  0.002517421031370759,\n",
              "  0.1594463735818863,\n",
              "  -0.04823443666100502,\n",
              "  -0.02991386689245701,\n",
              "  -0.0760921835899353,\n",
              "  0.030166756361722946,\n",
              "  -0.009795691817998886,\n",
              "  -0.017981596291065216,\n",
              "  0.028548063710331917,\n",
              "  0.0650063008069992,\n",
              "  0.08892079442739487,\n",
              "  -0.09119830280542374,\n",
              "  0.000758145994041115,\n",
              "  0.09276926517486572,\n",
              "  -0.034729063510894775,\n",
              "  0.12716460227966309,\n",
              "  -0.05387379974126816,\n",
              "  -0.0448882021009922,\n",
              "  -0.01493048295378685,\n",
              "  0.030010756105184555,\n",
              "  -0.021013779565691948,\n",
              "  0.07005321234464645,\n",
              "  -0.1453462690114975,\n",
              "  0.03741617128252983,\n",
              "  0.04022354260087013,\n",
              "  -0.011025014333426952,\n",
              "  0.008277125656604767,\n",
              "  -0.02652900479733944,\n",
              "  -0.038854435086250305,\n",
              "  -0.05283253267407417,\n",
              "  0.0030245138332247734,\n",
              "  -0.09450097382068634,\n",
              "  0.0838337242603302,\n",
              "  -0.017965244129300117,\n",
              "  0.05774699151515961,\n",
              "  -0.028274383395910263,\n",
              "  -0.05433660373091698,\n",
              "  -0.08336810767650604,\n",
              "  -0.04883308336138725,\n",
              "  -0.012832263484597206,\n",
              "  0.05434013158082962,\n",
              "  0.0244737695902586,\n",
              "  -0.021209100261330605,\n",
              "  0.04115544259548187,\n",
              "  0.05902295559644699,\n",
              "  -0.028258616104722023,\n",
              "  0.002776507521048188,\n",
              "  0.04578579589724541,\n",
              "  -0.04364009574055672,\n",
              "  0.0023615711834281683,\n",
              "  -0.004669109359383583,\n",
              "  0.050011057406663895,\n",
              "  -0.035393327474594116,\n",
              "  -0.06051797792315483,\n",
              "  0.06294466555118561,\n",
              "  0.03579217940568924,\n",
              "  -0.061733677983284,\n",
              "  -0.07818739116191864,\n",
              "  0.019587775692343712,\n",
              "  -0.10664309561252594,\n",
              "  -0.04320847615599632,\n",
              "  0.06644031405448914,\n",
              "  -0.08261551707983017,\n",
              "  0.06498091667890549,\n",
              "  0.06742192804813385,\n",
              "  0.006103477440774441,\n",
              "  -0.00951428059488535,\n",
              "  0.0017344079678878188,\n",
              "  0.2147308588027954,\n",
              "  -0.06453075259923935,\n",
              "  -0.017021745443344116,\n",
              "  0.07905278354883194,\n",
              "  -0.06898211687803268,\n",
              "  -0.021878117695450783,\n",
              "  0.09210368245840073,\n",
              "  0.008557094261050224,\n",
              "  -0.0652690902352333,\n",
              "  0.04911654070019722,\n",
              "  0.0023167605977505445,\n",
              "  -0.04755774140357971,\n",
              "  -0.1369355171918869,\n",
              "  -0.018481921404600143,\n",
              "  -0.0022779679857194424,\n",
              "  0.022213952615857124,\n",
              "  0.021915704011917114,\n",
              "  -0.04986925050616264,\n",
              "  0.015607515349984169,\n",
              "  0.09650329500436783,\n",
              "  -0.03150054067373276,\n",
              "  -0.0983123630285263,\n",
              "  0.022811362519860268,\n",
              "  0.053991831839084625,\n",
              "  0.16674061119556427,\n",
              "  -0.039826393127441406,\n",
              "  0.07492855936288834,\n",
              "  -0.013222458772361279,\n",
              "  -0.12981188297271729,\n",
              "  0.0111041609197855,\n",
              "  0.020569223910570145,\n",
              "  0.09137318283319473,\n",
              "  0.05959778279066086,\n",
              "  0.02322966605424881,\n",
              "  0.08117487281560898,\n",
              "  0.0015548160299658775,\n",
              "  0.017484573647379875,\n",
              "  0.0869210734963417,\n",
              "  -0.00974475871771574,\n",
              "  -0.005342460703104734,\n",
              "  -0.09386684000492096,\n",
              "  0.014224262908101082,\n",
              "  -0.009448565542697906,\n",
              "  0.044830355793237686,\n",
              "  0.02474496327340603,\n",
              "  -0.048347681760787964,\n",
              "  -0.012894067913293839,\n",
              "  0.03662017732858658,\n",
              "  0.02334096096456051,\n",
              "  0.026365112513303757,\n",
              "  0.03343118727207184,\n",
              "  0.017842117697000504,\n",
              "  -0.029103130102157593,\n",
              "  0.056510329246520996,\n",
              "  -0.0025005689822137356,\n",
              "  -0.10660602897405624,\n",
              "  0.07996291667222977,\n",
              "  0.027717001736164093,\n",
              "  -0.057635899633169174,\n",
              "  -0.03502248227596283,\n",
              "  0.028138471767306328,\n",
              "  0.11227622628211975,\n",
              "  -0.02391035668551922,\n",
              "  0.07272544503211975,\n",
              "  -0.13457296788692474,\n",
              "  -0.1121283620595932,\n",
              "  0.02154887467622757,\n",
              "  0.07139988243579865,\n",
              "  -0.09772758185863495,\n",
              "  0.1946210116147995,\n",
              "  -0.007447033654898405,\n",
              "  -0.0612088143825531,\n",
              "  -0.1380666196346283,\n",
              "  -0.040124066174030304,\n",
              "  -0.024449054151773453,\n",
              "  -0.0351775623857975,\n",
              "  0.09012584388256073,\n",
              "  -0.05098758637905121,\n",
              "  -0.09270452708005905,\n",
              "  0.10206951200962067,\n",
              "  -0.032920558005571365,\n",
              "  0.10519161820411682,\n",
              "  0.07808259129524231,\n",
              "  -0.06784642487764359,\n",
              "  0.0664326399564743,\n",
              "  -0.0019397982396185398,\n",
              "  0.05898064374923706,\n",
              "  0.013520792126655579,\n",
              "  -0.07722236216068268,\n",
              "  -0.043798670172691345,\n",
              "  -0.06572747975587845,\n",
              "  0.041137341409921646,\n",
              "  0.014160685241222382,\n",
              "  -0.027055639773607254,\n",
              "  0.0343511626124382,\n",
              "  -0.05260612815618515,\n",
              "  -0.012717739678919315,\n",
              "  0.04181898385286331,\n",
              "  -0.05884609371423721,\n",
              "  -0.04519180953502655,\n",
              "  -0.02042483352124691,\n",
              "  0.05840152129530907,\n",
              "  0.07436905056238174,\n",
              "  0.010324988514184952,\n",
              "  -0.10696320235729218,\n",
              "  -0.025096813216805458,\n",
              "  -0.051739323884248734,\n",
              "  0.044920191168785095,\n",
              "  -0.007725878618657589,\n",
              "  0.01470993086695671,\n",
              "  -0.06522320955991745,\n",
              "  -0.09425517171621323,\n",
              "  -0.05048713833093643,\n",
              "  -0.03734400495886803,\n",
              "  0.057709548622369766,\n",
              "  0.03293091058731079,\n",
              "  0.02465304173529148,\n",
              "  -0.0356782004237175,\n",
              "  -0.10577139258384705,\n",
              "  -0.10239344835281372,\n",
              "  -0.019801432266831398,\n",
              "  -0.06902867555618286,\n",
              "  0.049955617636442184,\n",
              "  0.005797091871500015,\n",
              "  -0.07652832567691803,\n",
              "  0.059452153742313385,\n",
              "  -0.052448831498622894,\n",
              "  0.0015017628902569413,\n",
              "  0.0734652727842331,\n",
              "  -0.07640571892261505,\n",
              "  -0.0019384504994377494,\n",
              "  0.025149786844849586,\n",
              "  0.1340462863445282,\n",
              "  -0.020650098100304604,\n",
              "  -0.14019955694675446,\n",
              "  -0.03203396499156952,\n",
              "  0.08379855751991272,\n",
              "  -0.019260220229625702,\n",
              "  -0.002014213940128684,\n",
              "  -0.09491875767707825,\n",
              "  0.057895686477422714,\n",
              "  -0.006656693760305643,\n",
              "  0.010084043256938457,\n",
              "  -0.07550733536481857,\n",
              "  -0.0028310013003647327,\n",
              "  -0.015633810311555862,\n",
              "  0.14095254242420197,\n",
              "  0.015519335865974426,\n",
              "  0.3099782466888428,\n",
              "  -0.09231407195329666,\n",
              "  0.03158240020275116,\n",
              "  0.0009752663318067789,\n",
              "  -0.09491409361362457,\n",
              "  0.09186895191669464,\n",
              "  -0.02261853963136673,\n",
              "  0.030420109629631042,\n",
              "  -0.049798496067523956,\n",
              "  -0.0027431289199739695,\n",
              "  0.029949484393000603,\n",
              "  0.010373279452323914,\n",
              "  0.08388873189687729,\n",
              "  -0.017371421679854393,\n",
              "  0.034389350563287735,\n",
              "  -0.01432611234486103,\n",
              "  -0.07892948389053345,\n",
              "  0.05823785811662674,\n",
              "  0.05107257142663002,\n",
              "  0.028302758932113647,\n",
              "  0.09358182549476624,\n",
              "  0.046024005860090256,\n",
              "  0.004763448610901833,\n",
              "  -0.030350036919116974,\n",
              "  -0.026616279035806656,\n",
              "  -0.04315510764718056,\n",
              "  -0.0061079515144228935,\n",
              "  -0.08793772757053375,\n",
              "  -0.06890520453453064,\n",
              "  0.0036421348340809345,\n",
              "  -0.014535866677761078,\n",
              "  -0.009780354797840118,\n",
              "  0.09615243971347809,\n",
              "  -0.07730823755264282,\n",
              "  0.10486671328544617,\n",
              "  -0.01124095730483532,\n",
              "  0.21730008721351624,\n",
              "  0.007846481166779995,\n",
              "  0.0375082865357399,\n",
              "  0.08868102729320526,\n",
              "  0.009287270717322826,\n",
              "  0.061612628400325775,\n",
              "  -0.0003783020074479282,\n",
              "  -0.0056521473452448845,\n",
              "  0.08977019041776657,\n",
              "  0.004365313332527876,\n",
              "  0.002486366080120206,\n",
              "  0.049968939274549484,\n",
              "  0.007781210355460644,\n",
              "  0.05107927694916725,\n",
              "  0.005222397856414318,\n",
              "  -0.0796322226524353,\n",
              "  -0.1272752285003662,\n",
              "  0.024321798235177994,\n",
              "  0.02282140403985977,\n",
              "  -0.0219789557158947,\n",
              "  0.06026860326528549,\n",
              "  0.0955488532781601,\n",
              "  0.04849192872643471,\n",
              "  -0.0023784288205206394,\n",
              "  0.060945503413677216,\n",
              "  0.010199133306741714,\n",
              "  0.10143312066793442,\n",
              "  0.011706409975886345,\n",
              "  0.04253463074564934,\n",
              "  0.04036223515868187,\n",
              "  -0.030594199895858765,\n",
              "  -0.0708666667342186,\n",
              "  -0.001458256971091032,\n",
              "  0.01499473862349987,\n",
              "  -0.007543221581727266,\n",
              "  -0.14301827549934387,\n",
              "  -0.050303950905799866,\n",
              "  -0.027287323027849197,\n",
              "  -0.0729980319738388,\n",
              "  -0.00959013868123293,\n",
              "  -0.05163256824016571,\n",
              "  -0.029437100514769554,\n",
              "  -0.030896726995706558,\n",
              "  -0.07266568392515182,\n",
              "  -0.04023948684334755,\n",
              "  0.009463959373533726,\n",
              "  0.04690638184547424,\n",
              "  -0.0585835725069046,\n",
              "  -0.034312162548303604,\n",
              "  0.028761889785528183,\n",
              "  0.060420289635658264,\n",
              "  0.012679629027843475,\n",
              "  -0.07904684543609619,\n",
              "  -0.04221334308385849,\n",
              "  0.07334920763969421,\n",
              "  -0.16421958804130554,\n",
              "  -0.060786500573158264,\n",
              "  0.07699766755104065,\n",
              "  -0.07293058931827545,\n",
              "  -0.05388147383928299,\n",
              "  -0.08843899518251419,\n",
              "  0.06272426247596741,\n",
              "  -0.0828075259923935,\n",
              "  0.0008218367584049702,\n",
              "  -0.06136529892683029,\n",
              "  0.010406513698399067,\n",
              "  0.06937805563211441,\n",
              "  -0.12411576509475708,\n",
              "  -0.06211572885513306,\n",
              "  -0.015218106098473072,\n",
              "  -0.016496827825903893,\n",
              "  0.06266634166240692,\n",
              "  0.02378542721271515,\n",
              "  0.0618102103471756,\n",
              "  0.00015622004866600037,\n",
              "  0.031388912349939346,\n",
              "  0.053186655044555664,\n",
              "  -0.004077123943716288,\n",
              "  0.047422777861356735,\n",
              "  0.01152508333325386,\n",
              "  -0.11450866609811783,\n",
              "  0.015157466754317284,\n",
              "  -0.10906684398651123,\n",
              "  0.017703885212540627,\n",
              "  -0.01684490218758583,\n",
              "  0.12746219336986542,\n",
              "  -0.015299559570848942,\n",
              "  -0.06269554048776627,\n",
              "  -0.0002454367931932211,\n",
              "  0.04270435869693756,\n",
              "  0.04982469975948334,\n",
              "  0.0461844727396965,\n",
              "  -0.025203466415405273,\n",
              "  0.03601652756333351,\n",
              "  0.07268039882183075,\n",
              "  -0.003962301649153233,\n",
              "  -0.062407009303569794,\n",
              "  0.006765555590391159,\n",
              "  -0.06506244093179703,\n",
              "  -0.0072237178683280945,\n",
              "  0.04762716218829155,\n",
              "  0.09763002395629883,\n",
              "  0.06033127009868622,\n",
              "  0.058850161731243134,\n",
              "  0.011985709890723228,\n",
              "  0.0334455780684948,\n",
              "  0.04086415097117424,\n",
              "  -0.019089747220277786,\n",
              "  -0.013478963635861874,\n",
              "  -0.09166746586561203,\n",
              "  0.010212890803813934,\n",
              "  -0.012419270351529121,\n",
              "  0.22366225719451904,\n",
              "  -0.05561051517724991,\n",
              "  0.09080397337675095,\n",
              "  -0.0036328653804957867,\n",
              "  0.04405606538057327,\n",
              "  0.04359922185540199,\n",
              "  -0.02291581965982914,\n",
              "  0.034647103399038315,\n",
              "  0.06841396540403366,\n",
              "  0.0038067842833697796,\n",
              "  -0.08331231027841568,\n",
              "  -0.041045866906642914,\n",
              "  -0.07406524568796158,\n",
              "  -0.048927634954452515,\n",
              "  0.05282601714134216,\n",
              "  0.05147882178425789,\n",
              "  0.04609105363488197,\n",
              "  -0.030202575027942657,\n",
              "  0.0432252436876297,\n",
              "  0.08785107731819153,\n",
              "  0.1447809636592865,\n",
              "  0.08544766902923584,\n",
              "  0.0696803629398346,\n",
              "  -0.000747258251067251,\n",
              "  -0.01849696785211563,\n",
              "  -0.09003998339176178,\n",
              "  0.0847138911485672,\n",
              "  0.0649116188287735,\n",
              "  0.004121612291783094,\n",
              "  -0.05631718039512634,\n",
              "  -0.015407705679535866,\n",
              "  -0.1044556275010109,\n",
              "  0.039532870054244995,\n",
              "  -0.06794540584087372,\n",
              "  -0.058536894619464874,\n",
              "  0.04170115292072296,\n",
              "  -0.09653469175100327,\n",
              "  -0.06289063394069672,\n",
              "  -0.031534627079963684,\n",
              "  0.08857665956020355,\n",
              "  -0.03370555117726326,\n",
              "  0.05554626137018204,\n",
              "  0.05925307795405388,\n",
              "  -0.05026678368449211,\n",
              "  0.01983129233121872,\n",
              "  -0.024132851511240005,\n",
              "  0.05429977551102638,\n",
              "  -0.12067576497793198,\n",
              "  0.036420222371816635,\n",
              "  -0.05997777730226517,\n",
              "  0.067310631275177,\n",
              "  -0.008908781222999096,\n",
              "  0.055829696357250214,\n",
              "  -0.030284540727734566,\n",
              "  -0.10547417402267456,\n",
              "  -0.08656620234251022,\n",
              "  0.00476798415184021,\n",
              "  -0.060151636600494385,\n",
              "  0.020024646073579788,\n",
              "  -0.02980353869497776,\n",
              "  0.09937083721160889,\n",
              "  0.01901240088045597,\n",
              "  -0.007853001356124878,\n",
              "  0.031678758561611176,\n",
              "  0.05117560923099518,\n",
              "  0.03789900243282318,\n",
              "  -0.10397033393383026,\n",
              "  -0.09828267246484756,\n",
              "  0.05428711697459221,\n",
              "  -0.064906045794487,\n",
              "  0.05486888438463211,\n",
              "  0.03128015249967575,\n",
              "  0.06390274316072464,\n",
              "  -0.03033606894314289,\n",
              "  0.18189162015914917,\n",
              "  0.19168248772621155,\n",
              "  -0.11585506796836853,\n",
              "  -0.012492499314248562,\n",
              "  0.043132536113262177,\n",
              "  0.025236859917640686,\n",
              "  0.006918368861079216,\n",
              "  0.01661137118935585,\n",
              "  0.02506091073155403,\n",
              "  0.14309991896152496,\n",
              "  0.038718029856681824,\n",
              "  -0.1157725527882576,\n",
              "  -0.019036179408431053,\n",
              "  0.02929772064089775,\n",
              "  0.013722941279411316,\n",
              "  -0.020938875153660774,\n",
              "  0.04779006540775299,\n",
              "  -0.0764487236738205,\n",
              "  -0.0728667825460434,\n",
              "  0.10404268652200699,\n",
              "  -0.09638480842113495,\n",
              "  -0.11190729588270187,\n",
              "  -0.09420210868120193,\n",
              "  -0.0022203975822776556,\n",
              "  -0.0786617249250412,\n",
              "  0.030711529776453972,\n",
              "  -0.024212826043367386,\n",
              "  -0.063526950776577,\n",
              "  0.038135331124067307,\n",
              "  -0.017179051414132118,\n",
              "  -0.04902775213122368,\n",
              "  -0.07894465327262878,\n",
              "  0.03502355515956879,\n",
              "  0.05358037352561951,\n",
              "  0.058607615530490875,\n",
              "  0.1280047744512558,\n",
              "  -0.0060594226233661175,\n",
              "  0.0294224563986063,\n",
              "  0.010163456201553345,\n",
              "  0.10181117802858353,\n",
              "  0.028462963178753853,\n",
              "  -0.04973013326525688,\n",
              "  0.018673943355679512,\n",
              "  0.06317553669214249,\n",
              "  0.11400824785232544,\n",
              "  -0.005452610086649656,\n",
              "  0.009890777058899403,\n",
              "  -0.010434366762638092,\n",
              "  0.0470176562666893,\n",
              "  -0.02124059945344925,\n",
              "  0.15029451251029968,\n",
              "  -0.07971649616956711,\n",
              "  0.02504100278019905,\n",
              "  0.06848170608282089,\n",
              "  -0.029868897050619125,\n",
              "  -0.1067872941493988,\n",
              "  0.10158343613147736,\n",
              "  -0.09115304052829742,\n",
              "  0.13683611154556274,\n",
              "  0.04924570396542549,\n",
              "  -0.019253123551607132,\n",
              "  -0.03895776346325874,\n",
              "  0.06229554861783981,\n",
              "  0.08224622905254364,\n",
              "  -0.0742403194308281,\n",
              "  0.01780368760228157,\n",
              "  -0.007266959175467491,\n",
              "  -0.08098664879798889,\n",
              "  -0.04279899224638939,\n",
              "  -0.06430056691169739,\n",
              "  -0.0016416807193309069,\n",
              "  -0.06827649474143982,\n",
              "  0.004719904623925686,\n",
              "  0.07295851409435272,\n",
              "  0.03522242605686188,\n",
              "  0.05979076027870178,\n",
              "  -0.024380218237638474,\n",
              "  0.06656214594841003,\n",
              "  -0.04649126157164574,\n",
              "  0.005768905393779278,\n",
              "  -0.0723041519522667,\n",
              "  -0.02101227082312107,\n",
              "  0.037432607263326645,\n",
              "  -0.0346454493701458,\n",
              "  -0.034774161875247955]]"
            ]
          },
          "metadata": {},
          "execution_count": 23
        }
      ]
    },
    {
      "cell_type": "code",
      "source": [
        "import numpy as np\n",
        "cosine_similarity = np.dot(docs[0], docs[1]) / (np.linalg.norm(docs[0]) * np.linalg.norm(docs[1]))\n",
        "\n",
        "print(f\"Косинусное сходство: {cosine_similarity}\")"
      ],
      "metadata": {
        "colab": {
          "base_uri": "https://localhost:8080/"
        },
        "id": "MGqwgK1Uq_q8",
        "outputId": "52a816ad-d97a-4bbb-f172-2fcd2156c67d"
      },
      "execution_count": null,
      "outputs": [
        {
          "output_type": "stream",
          "name": "stdout",
          "text": [
            "Косинусное сходство: 0.730230684886262\n"
          ]
        }
      ]
    },
    {
      "cell_type": "markdown",
      "source": [
        "## Создание векторных представлений и векторного хранилища\n",
        "\n",
        "Создадим векторное хранилище, но уже из фрагментов docx-файла. Затем зададим такие же вопросы."
      ],
      "metadata": {
        "id": "pjlyVDUZHnpj"
      }
    },
    {
      "cell_type": "code",
      "source": [
        "vector_store_docx = FAISS.from_documents(splitted_docx, embedding=embedding)"
      ],
      "metadata": {
        "id": "-um_wA8GHxvn"
      },
      "execution_count": null,
      "outputs": []
    },
    {
      "cell_type": "markdown",
      "source": [
        "#### Вопрос 1\n",
        "Какой размер чанков показал наибольшую точность ответов при использовании фреймворка Haystack?\n",
        "\n",
        "#### Правильный ответ\n",
        "Размер чанков 100, 200 и 1000 токенов показал одинаковую наибольшую точность ответов (0.7) при использовании фреймворка Haystack."
      ],
      "metadata": {
        "id": "L6E29tspDBMr"
      }
    },
    {
      "cell_type": "code",
      "source": [
        "vector_store_docx.similarity_search(q1)"
      ],
      "metadata": {
        "colab": {
          "base_uri": "https://localhost:8080/"
        },
        "id": "Xh17EpdoIJbR",
        "outputId": "6c822b67-7159-4543-a5b6-721748e0a614"
      },
      "execution_count": null,
      "outputs": [
        {
          "output_type": "execute_result",
          "data": {
            "text/plain": [
              "[Document(page_content='получить несколько бо́льшую точность ответов, чем использование фреймворка LlamaIndex (0.7 против 0.67 при лучших настройках). 3. Использование фреймворка Haystack более инвариантно относительно точности ответов с точки зрения количества токенов в чанке. 4. В среднем использование фреймворка Haystack более затратно по числу токенов (примерно в 4 раза), чем фреймворка LlamaIndex. 5. Режимы генерации ответа «create and refine» и «tree summarize» для фреймворка LlamaIndex являются примерно одинаковыми с точки зрения точности получаемых ответов, однако для режима «tree summarize» требуется больше токенов.', metadata={'source': 'aspekty-sozdaniya-korporativnoy-voprosno-otvetnoy-sistemy-s-ispolzovaniem-generativnyh-predobuchennyh-yazykovyh-modeley.docx'}),\n",
              " Document(page_content='Рисунок 7: Количество затраченных токенов ответов при различных настройках вопросно-ответной системы (синий цвет – фреймворк Haystack, оранжевый – LlamaIndex, отсутствие штриховки – режим генерации ответа «create and refine», штриховка – режим генерации ответа «tree summarize»)\\n\\nТаким образом, наибольшую точность ответов продемонстрировала вопросно-ответная система, использующая open-source фреймворк Haystack, при количестве токенов в чанке 100, 200, 1000 (для всех трех случаев точность одинаковая и составляет 0.7). При этом, как видим из рисунка 7, чем больше токенов в чанке, тем больше требуется', metadata={'source': 'aspekty-sozdaniya-korporativnoy-voprosno-otvetnoy-sistemy-s-ispolzovaniem-generativnyh-predobuchennyh-yazykovyh-modeley.docx'}),\n",
              " Document(page_content='для построения эмбеддингов не производился. В работе учитывались только токены, задействованные при генерации ответа с использованием более дорогого подвида модели GPT-3 davinci-003». Полученные в ходе анализа данные структурированы в табличный вид, сведение данных в единый блок оправдано. Стандарт оформления выдержан, необходимые пометы сделаны: например, «Рисунок 6: Доля правильных ответов при различных настройках вопросно-ответной системы (синий цвет – фреймворк Haystack, оранжевый – LlamaIndex, отсутствие штриховки – режим генерации ответа «create and refine», штриховка – режим генерации ответа «tree summarize»)» и т.д. Итоги работы сведены к следующему: «генеративные предобученные языковые модели (такие как ChatGPT) произвели революцию в области обработки естественного языка. Однако их существенным ограничением является их лимит по числу входных токенов, который может быть преодолен путем использования индексных структур данных. В работе было рассмотрено создание', metadata={'source': 'aspekty-sozdaniya-korporativnoy-voprosno-otvetnoy-sistemy-s-ispolzovaniem-generativnyh-predobuchennyh-yazykovyh-modeley.docx'}),\n",
              " Document(page_content='технологий, был составлен датасет вопросов и ответов для оценки качества работы вопросно-ответной системы при различных настройках с использованием метрики Exact match…», «применение open source фреймворка Haystack при лучших настройках позволяет получить более точные ответы при построении корпоративной вопросно- ответной системы по сравнению с open source фреймворком LlamaIndex, однако требует использования в среднем несколько бо́льшего числа токенов». Список источников отражен в основном тексте, формат отсылки учтен. Считаю, что работа имеет полновесный вид, тема исследования раскрыта, материал может быть полезен заинтересованным читателям / исследователям указанной проблемы. Рекомендую статью\\n\\n«Аспекты создания корпоративной вопросно-ответной системы с использованием генеративных предобученных языковых моделей» к открытой публикации в научном журнале «Litera» ИД «Nota Bene».', metadata={'source': 'aspekty-sozdaniya-korporativnoy-voprosno-otvetnoy-sistemy-s-ispolzovaniem-generativnyh-predobuchennyh-yazykovyh-modeley.docx'})]"
            ]
          },
          "metadata": {},
          "execution_count": 26
        }
      ]
    },
    {
      "cell_type": "markdown",
      "source": [
        "#### Вопрос 2\n",
        "Какие метрики использовались для оценки эффективности использования генеративных предобученных языковых моделей в статье?\n",
        "\n",
        "#### Правильный ответ\n",
        "Для оценки эффективности использования генеративных предобученных языковых моделей использовалась метрика EM (exact match)."
      ],
      "metadata": {
        "id": "ZSKykgu0DJh9"
      }
    },
    {
      "cell_type": "code",
      "source": [
        "vector_store_docx.similarity_search(q2)"
      ],
      "metadata": {
        "colab": {
          "base_uri": "https://localhost:8080/"
        },
        "id": "tS2kDzmHITcL",
        "outputId": "4ac0d15e-620f-46e7-f02f-fca45d1e0296"
      },
      "execution_count": null,
      "outputs": [
        {
          "output_type": "execute_result",
          "data": {
            "text/plain": [
              "[Document(page_content='бо́льшего числа токенов. В статье использовался сравнительный анализ для оценки эффективности использования генеративных предобученных языковых моделей в корпоративных вопросно-ответных системах с помощью фреймворков Haystack и Llamaindex. Оценка полученных результатов осуществлялась с использованием метрики EM (exact match). Основными выводами проведенного исследования по созданию вопросно-ответных систем с использованием генеративных предобученных языковых моделей являются: 1. Использование иерархической индексации на текущий момент чрезвычайно затратно с точки зрения числа используемых токенов (около 160000 токенов для иерархической индексации против 30000 токенов в среднем для последовательной индексации), поскольку ответ генерируется путем последовательной обработки родительских и дочерних узлов. 2. Обработка информации при помощи фреймворка Haystack при лучших настройках позволяет получить несколько бо́льшую точность ответов, чем использование фреймворка LlamaIndex (0.7 против', metadata={'source': 'aspekty-sozdaniya-korporativnoy-voprosno-otvetnoy-sistemy-s-ispolzovaniem-generativnyh-predobuchennyh-yazykovyh-modeley.docx'}),\n",
              " Document(page_content='объема достаточно для раскрытия темы, обозначения аргументационной базы, манифестации суждений / выводов / умозаключений. Автор подробно рассматривает вопросно-ответный механизм, который является основной генеративных предобученных языковых моделей, таких как ChatGPT, выверяет / систематизирует основной блок критических источников, оценивает продуктивность указанной формы. Стиль работы ориентирован на собственно научный тип; статья дифференцирована на смысловые блоки, общая аналитическая логика выровнена на протяжении всего труда. Материал достаточно информативен: «основным способом построения вопросно-ответных систем является использование ретривера для определения наиболее релевантных запросу частей текста, а затем синтез ответа из найденных частей текста с использованием т.н. ридера (для экстрактивной вопросно- ответной системы) или генератора (для генеративной вопросно-ответной системы)». Цитатный пласт сопровождается комментарием; считаю, что работа может быть полезна при', metadata={'source': 'aspekty-sozdaniya-korporativnoy-voprosno-otvetnoy-sistemy-s-ispolzovaniem-generativnyh-predobuchennyh-yazykovyh-modeley.docx'}),\n",
              " Document(page_content='Аннотация: В статье описаны различные способы использования генеративных предобученных языковых моделей для построения корпоративной вопросно-ответной системы. Существенным ограничением текущих генеративных предобученных языковых моделей является лимит по числу входных токенов, не позволяющий им работать «из коробки» с большим количеством документов или с документом большого размера. Для преодоления данного ограничения в работе рассмотрена индексация документов с последующим поисковым запросом и генерацией ответа на базе двух наиболее популярных на текущий момент open source решений – фреймворков Haystack, LlamaIndex. Было показано, что применение open source фреймворка Haystack при лучших настройках позволяет получить более точные ответы при построении корпоративной вопросно-ответной системы по сравнению с open source фреймворком LlamaIndex, однако требует использования в среднем несколько бо́льшего числа токенов. В статье использовался сравнительный анализ для оценки эффективности', metadata={'source': 'aspekty-sozdaniya-korporativnoy-voprosno-otvetnoy-sistemy-s-ispolzovaniem-generativnyh-predobuchennyh-yazykovyh-modeley.docx'}),\n",
              " Document(page_content='Интерес к генеративным языковым моделям (и генеративным вопросно-ответным системам, в частности) резко возрос после появления больших предобученных моделей GPT-3 и ChatGPT [3], впечатляющих своей «эрудицией» и способностью к сложным рассуждениям. Генеративные вопросно-ответные системы позволяют отвечать более развернуто на более сложные вопросы. Так, на вопрос «что общего у Лермонтова и Байрона?» экстрактивная вопросно-ответная система, скорее всего, не сможет дать ответ, если в поданных ей материалах не приведено подобное сравнение, в то время как модель ChatGPT (которую в данном контексте можно считать генеративной вопросно- ответной системой) дает развернутый ответ на заданный вопрос: «оба были поэтами- романтиками, имели репутацию бунтарей, в какой-то момент были изгнанниками, известны своим лиризмом и умением передать красоту и природы и т.д.».', metadata={'source': 'aspekty-sozdaniya-korporativnoy-voprosno-otvetnoy-sistemy-s-ispolzovaniem-generativnyh-predobuchennyh-yazykovyh-modeley.docx'})]"
            ]
          },
          "metadata": {},
          "execution_count": 27
        }
      ]
    },
    {
      "cell_type": "markdown",
      "source": [
        "#### Вопрос 3\n",
        "Имя какого английского писателя упоминается в статье?\n",
        "\n",
        "#### Правильный ответ\n",
        "В статье упоминается английский писатель Джордж Гордон Байрон (лорд Байрон)."
      ],
      "metadata": {
        "id": "u9OIX7SADPBp"
      }
    },
    {
      "cell_type": "code",
      "source": [
        "vector_store_docx.similarity_search(q3)"
      ],
      "metadata": {
        "colab": {
          "base_uri": "https://localhost:8080/"
        },
        "id": "8FETH0iSIZl_",
        "outputId": "689c240d-69ab-431d-9345-bd9fe8434b15"
      },
      "execution_count": null,
      "outputs": [
        {
          "output_type": "execute_result",
          "data": {
            "text/plain": [
              "[Document(page_content='В связи с политикой двойного слепого рецензирования личность рецензента не раскрывается.\\n\\nСо списком рецензентов издательства можно ознакомиться здесь.\\n\\nТема рецензируемой статьи, безусловно, является актуальной; автор данного труда', metadata={'source': 'aspekty-sozdaniya-korporativnoy-voprosno-otvetnoy-sistemy-s-ispolzovaniem-generativnyh-predobuchennyh-yazykovyh-modeley.docx'}),\n",
              " Document(page_content='Litera\\n\\nПравильная ссылка на статью:\\n\\nГоликов А.А., Акимов Д.А., Романовский М.С., Тращенков С.В. — Аспекты создания корпоративной вопросно-ответной системы с использованием генеративных предобученных языковых моделей // Litera. – 2023. – № 12. – С. 190 - 205. DOI: 10.25136/2409-8698.2023.12.69353 EDN: FSTHRW URL:\\n\\nhttps://nbpublish.com/library_read_article.php?id=69353\\n\\nАспекты создания корпоративной вопросно-ответной системы с использованием генеративных предобученных языковых моделей\\n\\nГоликов Алексей Александрович\\n\\nаспирант, Отделение филологии и литературы, Кафедра русского языка и литературы, Казанский\\n\\n(Приволжский) федеральный университет (Елабужский институт)\\n\\n109316, Россия, Москва, г. Москва, ул. Волгоградский Пр., 42\\n\\nag@mastercr.ru\\n\\nАкимов Дмитрий Андреевич\\n\\nORCID: 0009-0004-2800-4430\\n\\nкандидат технических наук Аналитик, ООО \"Мастерская цифровых решений\" 109316, Россия, Москва, г. Москва, Волгоградский пр., 42\\n\\nakimovdmitry1@mail.ru\\n\\nРомановский Максим Сергеевич', metadata={'source': 'aspekty-sozdaniya-korporativnoy-voprosno-otvetnoy-sistemy-s-ispolzovaniem-generativnyh-predobuchennyh-yazykovyh-modeley.docx'}),\n",
              " Document(page_content='Рисунок 1: У прощенная схема работы вопросно-ответной системы с использованием индексации\\n\\nВ качестве простого примера можно привести индексацию с использованием ключевых\\n\\nслов: для каждой части текста сохраняются ключевые термины, о которых идет речь, и далее при поисковом запросе будет выполнено сопоставление терминов запроса и сохраненных ключевых слов участков текста. Так, при поиске по странице «Википедии», посвященной лорду Байрону, при поисковом запросе «В каком году родился лорд Байрон?» по ключевым словам «рождение», «родиться» ретривером может быть найден участок текста «Джордж Гордон Байрон родился 22 января 1788 года». И далее задача ридера будет заключаться в извлечении из найденного участка текста требуемой информации – т.е. «1788 год» в данном случае.', metadata={'source': 'aspekty-sozdaniya-korporativnoy-voprosno-otvetnoy-sistemy-s-ispolzovaniem-generativnyh-predobuchennyh-yazykovyh-modeley.docx'}),\n",
              " Document(page_content='Стоит отметить, что исследованиям в области вопросно-ответных систем посвящено множество публикаций, однако в большинстве своем они посвящены экстрактивным вопросно-ответным системам, поскольку достаточно качественные генеративные большие языковые модели появились позже. Из наиболее свежих и релевантных научных материалов, касающихся в том числе генеративных вопросно-ответных систем, можно выделить статьи [4-6] и диссертацию [7]. Автор вышеупомянутой диссертации даже создал отдельный сервис (https://demo.caire.ust.hk/), работающий как генеративная вопросно- ответная система по большому количеству статей о коронавирусе. Однако, отдавая должное автору вышеупомянутых диссертации и сервиса, стоит сказать, что в настоящее время, в частности, за счет появившихся уже после релиза ChatGPT фреймворков LlamaIndex, а также возможности использования фреймворка Haystack совместно с GPT- 3 для построения генеративной вопросно-ответной системы, создание подобной системы стало значительно проще и', metadata={'source': 'aspekty-sozdaniya-korporativnoy-voprosno-otvetnoy-sistemy-s-ispolzovaniem-generativnyh-predobuchennyh-yazykovyh-modeley.docx'})]"
            ]
          },
          "metadata": {},
          "execution_count": 28
        }
      ]
    },
    {
      "cell_type": "markdown",
      "source": [
        "## Табличные данные\n",
        "Теперь рассмотрим стандартные форматы табличных файлов: CSV и XLSX.\n",
        "\n",
        "Для этого используем загрузчики `CSVLoader` и `UnstructuredExcelLoader`.\n",
        "\n",
        "В качестве табличного файла используем документ [\"Динамика уровня и структуры затрат организаций на рабочую силу\"](https://rosstat.gov.ru/labour_costs#) с сайта Росстата.\n",
        "\n",
        "Файл представляет собой несколько таблиц в основном с количественными данными. Поскольку файл изначально в формате XLSX, сделаем из него и документы в формате CSV. Так как в XLSX-файле несколько листов, придется создать отдельный CSV-файл под каждый лист."
      ],
      "metadata": {
        "id": "9XdzqDElJzmb"
      }
    },
    {
      "cell_type": "code",
      "source": [
        "import pandas as pd\n",
        "\n",
        "# Загрузите Excel файл\n",
        "file_path = '/content/din-zatrat-rs.xlsx'\n",
        "\n",
        "# Читаем все листы из Excel файла\n",
        "sheets = pd.read_excel(file_path, sheet_name=None)\n",
        "\n",
        "# Сохраняем каждый лист как отдельный CSV файл\n",
        "for sheet_name, df in sheets.items():\n",
        "    csv_file = f\"{sheet_name}.csv\"\n",
        "    df.to_csv(csv_file, index=False)\n",
        "    print(f\"Сохранено: {csv_file}\")\n"
      ],
      "metadata": {
        "colab": {
          "base_uri": "https://localhost:8080/"
        },
        "id": "Q2h8oeTDQp2Z",
        "outputId": "ae240fc7-d4f3-4a37-b789-85eb7ba5ddcf"
      },
      "execution_count": null,
      "outputs": [
        {
          "output_type": "stream",
          "name": "stdout",
          "text": [
            "Сохранено: Содержание.csv\n",
            "Сохранено: 1..csv\n",
            "Сохранено: 2..csv\n",
            "Сохранено: 3..csv\n",
            "Сохранено: 4..csv\n",
            "Сохранено: 5..csv\n",
            "Сохранено: 6..csv\n",
            "Сохранено: Основные понятия и определения.csv\n"
          ]
        }
      ]
    },
    {
      "cell_type": "markdown",
      "source": [
        "### Создание списка csv-файлов и загрузка\n",
        "Поскольку загрузчик `CSVLoader` принимает документы по одному, делаем загрузку в цикле."
      ],
      "metadata": {
        "id": "awN5QjZIDWL2"
      }
    },
    {
      "cell_type": "code",
      "source": [
        "from langchain_community.document_loaders.csv_loader import CSVLoader\n",
        "from glob import glob\n",
        "files = glob('*.csv')\n",
        "\n",
        "splitted_csv = []\n",
        "for f in files:\n",
        "  loader = CSVLoader(f)\n",
        "  splitted_csv.extend(loader.load())"
      ],
      "metadata": {
        "id": "ktSzupicLTLX"
      },
      "execution_count": null,
      "outputs": []
    },
    {
      "cell_type": "markdown",
      "source": [
        "Проверим, сколько фрагментов получилось."
      ],
      "metadata": {
        "id": "rBNswVwvE6d2"
      }
    },
    {
      "cell_type": "code",
      "source": [
        "len(splitted_csv)"
      ],
      "metadata": {
        "colab": {
          "base_uri": "https://localhost:8080/"
        },
        "id": "7GFamqxdsBBR",
        "outputId": "2a3a0311-0671-4ec3-d27d-b0cb723b000f"
      },
      "execution_count": null,
      "outputs": [
        {
          "output_type": "execute_result",
          "data": {
            "text/plain": [
              "140"
            ]
          },
          "metadata": {},
          "execution_count": 31
        }
      ]
    },
    {
      "cell_type": "markdown",
      "source": [
        "Посмотрим отдельный фрагмент."
      ],
      "metadata": {
        "id": "TuCenuFuFAwQ"
      }
    },
    {
      "cell_type": "code",
      "source": [
        "splitted_csv[139]"
      ],
      "metadata": {
        "colab": {
          "base_uri": "https://localhost:8080/"
        },
        "id": "GTTFPiDVtZpl",
        "outputId": "3559b33a-9cda-4f3b-f91f-618f45701797"
      },
      "execution_count": null,
      "outputs": [
        {
          "output_type": "execute_result",
          "data": {
            "text/plain": [
              "Document(page_content='К содержанию: Деятельность административная и сопутствующие дополнительные услуги\\nUnnamed: 1: 36846.5\\nUnnamed: 2: 62926.9\\nUnnamed: 3: 223.5\\nUnnamed: 4: 392.9\\nUnnamed: 5: 247.2\\nUnnamed: 6: 434.9\\nUnnamed: 7: 90.4\\nUnnamed: 8: 90.3\\nUnnamed: 9: 79.4\\nUnnamed: 10: 80.5\\nUnnamed: 11: 20.6\\nUnnamed: 12: 19.5', metadata={'source': '4..csv', 'row': 19})"
            ]
          },
          "metadata": {},
          "execution_count": 32
        }
      ]
    },
    {
      "cell_type": "markdown",
      "source": [
        "### Создание векторных представлений и векторного хранилища\n",
        "Поместим фрагменты в базу данных."
      ],
      "metadata": {
        "id": "QE1ShSgLFFdO"
      }
    },
    {
      "cell_type": "code",
      "source": [
        "vector_store_csv = FAISS.from_documents(splitted_csv, embedding=embedding)"
      ],
      "metadata": {
        "id": "Y3Y8S4JFuUfJ"
      },
      "execution_count": null,
      "outputs": []
    },
    {
      "cell_type": "markdown",
      "source": [
        "### Поиск по векторной БД релевантных фрагментов для запросов пользователя\n",
        "Зададим несколько вопросов по данным таблиц.\n",
        "- Какой процент расходов на социальную защиту работников в добыче полезных ископаемых был зафиксирован в 2021 году?\n",
        "- Какой процент от общих затрат на рабочую силу составляла заработная плата в 2005 году по всем обследованным видам экономической деятельности?\n",
        "- В каком году был зафиксирован наибольший процент заработной платы в обрабатывающей промышленности и чему он равен?"
      ],
      "metadata": {
        "id": "NpFSnp-6FgBX"
      }
    },
    {
      "cell_type": "code",
      "source": [
        "q4 = 'Какой процент расходов на социальную защиту работников в добыче полезных ископаемых был зафиксирован в 2021 году?'\n",
        "q5 = 'Какой процент от общих затрат на рабочую силу составляла заработная плата в 2005 году по всем обследованным видам экономической деятельности?'\n",
        "q6 = 'В каком году был зафиксирован наибольший процент заработной платы в обрабатывающей промышленности и чему он равен?'"
      ],
      "metadata": {
        "id": "1nWCP7fK1s_5"
      },
      "execution_count": null,
      "outputs": []
    },
    {
      "cell_type": "markdown",
      "source": [
        "#### Вопрос 4\n",
        "Какой процент расходов на социальную защиту работников в добыче полезных ископаемых был зафиксирован в 2021 году?\n",
        "\n",
        "#### Правильный ответ\n",
        "В 2021 году расходы на социальную защиту работников в добыче полезных ископаемых составляли 22,6%."
      ],
      "metadata": {
        "id": "zt9LSsnnSShm"
      }
    },
    {
      "cell_type": "code",
      "source": [
        "vector_store_csv.similarity_search(q4)"
      ],
      "metadata": {
        "colab": {
          "base_uri": "https://localhost:8080/"
        },
        "id": "qe23YBo62P9f",
        "outputId": "f43c352e-d16f-467d-b9e1-11eca3f9509a"
      },
      "execution_count": null,
      "outputs": [
        {
          "output_type": "execute_result",
          "data": {
            "text/plain": [
              "[Document(page_content='К содержанию: Затраты организаций на рабочую силу - это сумма вознаграждений работников (среднесписочной численности) в денежной и неденежной формах за отработанное и неотработанное время, расходы организации, связанные с обеспечением работников жильем, профессиональным обучением, культурно-бытовым обслуживанием, социальной защитой, включая расходы на пенсионное, медицинское и другие виды страхования, командировочные расходы, а также налоги и сборы, связанные с использованием наемной рабочей силы. В составе затрат на рабочую силу можно выделить две группы затрат: прямые и косвенные.\\nПрямые затраты включают расходы, направленные организациями непосредственно на удовлетворение потребностей работников: заработная плата, расходы на жилье, выплаты социального характера, расходы на профессиональное обучение и культурно-бытовое обслуживание, оплата проезда и другие расходы, не отнесенные к приведенным классификационным группам.\\nК косвенным затратам относятся средства, которые отчислялись в виде страховых взносов на обязательное пенсионное страхование, обязательное медицинское страхование, обязательное социальное страхование на случай временной нетрудоспособности и в связи с материнством, обязательное социальное страхование от несчастных случаев на производстве и профессиональных заболеваний.\\nСреднемесячные затраты организаций на рабочую силу - сумма затрат организаций на рабочую силу, рассчитанная на одного работника в месяц.\\nВ среднесписочную численность работников включаются работники, работавшие по трудовому договору и выполнявшие постоянную, временную, сезонную работу, как фактически работавшие, так и отсутствовавшие на работе по каким-либо причинам (находившиеся в служебных командировках, не явившиеся на работу по болезни, находившиеся в ежегодных и дополнительных отпусках и др.), а также выполнявшие работу на дому и работавшие собственники организации, получавшие заработную плату в данной организации. Работник, получивший в одной организации две или полторы ставки, учитывается как один человек. \\nРаботники, принятые на работу на неполное рабочее время, учитываются пропорционально отработанному времени.\\nЛица, принятые на работу по совместительству из других организаций, и лица, выполнявшие работу по договорам гражданско-правового характера, не включаются в среднесписочную численность работников.\\nСведения о затратах на рабочую силу собираются от организаций-юридических лиц (кроме микропредприятий) и их обособленных подразделений (на выборочной основе с распространением данных на генеральную совокупность организаций) следующих видов экономической деятельности: добыча полезных ископаемых; обрабатывающие производства; обеспечение электрической энергией, газом и паром; кондиционирование воздуха; водоснабжение; водоотведение, организация сбора и утилизации отходов, деятельность по ликвидации загрязнений; строительство; торговля оптовая и розничная; ремонт автотранспортных средств и мотоциклов; транспортировка и хранение; деятельность гостиниц и предприятий общественного питания; деятельность в области информации и связи; деятельность финансовая и страховая; деятельность по операциям с недвижимым имуществом; деятельность профессиональная, научная и техническая; деятельность административная и сопутствующие дополнительные услуги.', metadata={'source': 'Основные понятия и определения.csv', 'row': 2}),\n",
              " Document(page_content='К содержанию: 1) Затраты приведены в сопоставимой структуре без налогов и сборов, связанных с использованием рабочей силы.\\nРазработка официальной статистической информации о составе затрат организаций на рабочую силу по видам экономической деятельности с 2017 года проводится с использованием Общероссийского классификатора видов экономической деятельности ОК 029-2014 (КДЕС Ред. 2).\\nUnnamed: 1: \\nUnnamed: 2: \\nUnnamed: 3: \\nUnnamed: 4: \\nUnnamed: 5: \\nUnnamed: 6: \\nUnnamed: 7: \\nUnnamed: 8: \\nUnnamed: 9: \\nUnnamed: 10: \\nUnnamed: 11: \\nUnnamed: 12: \\nUnnamed: 13: \\nUnnamed: 14: \\nUnnamed: 15: \\nUnnamed: 16: \\nUnnamed: 17: \\nUnnamed: 18: \\nUnnamed: 19: \\nUnnamed: 20: \\nUnnamed: 21: \\nUnnamed: 22: \\nUnnamed: 23: \\nUnnamed: 24: \\nUnnamed: 25: \\nUnnamed: 26: \\nUnnamed: 27: \\nUnnamed: 28: ', metadata={'source': '3..csv', 'row': 16}),\n",
              " Document(page_content='К содержанию: 1) Затраты приведены в сопоставимой структуре без налогов и сборов, связанных с использованием рабочей силы. \\nРазработка официальной статистической информации о составе затрат организаций на рабочую силу по видам экономической деятельности за 2005, 2007, 2009, 2013 гг. проводилась  с использованием Общероссийского классификатора видов экономической деятельности ОК 029-2007 (КДЕС Ред. 1.1).\\nUnnamed: 1: \\nUnnamed: 2: \\nUnnamed: 3: \\nUnnamed: 4: \\nUnnamed: 5: \\nUnnamed: 6: \\nUnnamed: 7: \\nUnnamed: 8: \\nUnnamed: 9: \\nUnnamed: 10: \\nUnnamed: 11: \\nUnnamed: 12: \\nUnnamed: 13: \\nUnnamed: 14: \\nUnnamed: 15: \\nUnnamed: 16: \\nUnnamed: 17: \\nUnnamed: 18: \\nUnnamed: 19: \\nUnnamed: 20: \\nUnnamed: 21: \\nUnnamed: 22: \\nUnnamed: 23: \\nUnnamed: 24: \\nUnnamed: 25: \\nUnnamed: 26: \\nUnnamed: 27: \\nUnnamed: 28: \\nUnnamed: 29: \\nUnnamed: 30: \\nUnnamed: 31: \\nUnnamed: 32: \\nUnnamed: 33: \\nUnnamed: 34: \\nUnnamed: 35: \\nUnnamed: 36: \\nUnnamed: 37: \\nUnnamed: 38: \\nUnnamed: 39: \\nUnnamed: 40: \\nUnnamed: 41: \\nUnnamed: 42: \\nUnnamed: 43: \\nUnnamed: 44: \\nUnnamed: 45: \\nUnnamed: 46: \\nUnnamed: 47: \\nUnnamed: 48: \\nUnnamed: 49: \\nUnnamed: 50: \\nUnnamed: 51: \\nUnnamed: 52: \\nUnnamed: 53: \\nUnnamed: 54: \\nUnnamed: 55: \\nUnnamed: 56: \\nUnnamed: 57: \\nUnnamed: 58: \\nUnnamed: 59: \\nUnnamed: 60: \\nUnnamed: 61: \\nUnnamed: 62: \\nUnnamed: 63: \\nUnnamed: 64: \\nUnnamed: 65: \\nUnnamed: 66: \\nUnnamed: 67: \\nUnnamed: 68: \\nUnnamed: 69: \\nUnnamed: 70: \\nUnnamed: 71: \\nUnnamed: 72: \\nUnnamed: 73: \\nUnnamed: 74: \\nUnnamed: 75: \\nUnnamed: 76: \\nUnnamed: 77: \\nUnnamed: 78: \\nUnnamed: 79: \\nUnnamed: 80: \\nUnnamed: 81: \\nUnnamed: 82: \\nUnnamed: 83: \\nUnnamed: 84: \\nUnnamed: 85: \\nUnnamed: 86: \\nUnnamed: 87: \\nUnnamed: 88: \\nUnnamed: 89: \\nUnnamed: 90: \\nUnnamed: 91: \\nUnnamed: 92: \\nUnnamed: 93: \\nUnnamed: 94: \\nUnnamed: 95: \\nUnnamed: 96: \\nUnnamed: 97: \\nUnnamed: 98: \\nUnnamed: 99: \\nUnnamed: 100: ', metadata={'source': '2..csv', 'row': 16}),\n",
              " Document(page_content='Содержание:: 6.\\nUnnamed: 1: Структура среднемесячных затрат на рабочую силу в зависимости от размеров организаций по Российской Федерации за 2017 и 2021 гг.', metadata={'source': 'Содержание.csv', 'row': 8})]"
            ]
          },
          "metadata": {},
          "execution_count": 35
        }
      ]
    },
    {
      "cell_type": "markdown",
      "source": [
        "#### Вопрос 5\n",
        "Какой процент от общих затрат на рабочую силу составляла заработная плата в 2005 году по всем обследованным видам экономической деятельности?\n",
        "\n",
        "#### Правильный ответ\n",
        "В 2005 году заработная плата составляла 76,6% от общих затрат на рабочую силу по всем обследованным видам экономической деятельности."
      ],
      "metadata": {
        "id": "bp7FuTOdSXN1"
      }
    },
    {
      "cell_type": "code",
      "source": [
        "vector_store_csv.similarity_search(q5)"
      ],
      "metadata": {
        "colab": {
          "base_uri": "https://localhost:8080/"
        },
        "id": "GSPSH9Ga2qOW",
        "outputId": "21f6e8a5-1a56-4edd-e9fe-d7818f49087a"
      },
      "execution_count": null,
      "outputs": [
        {
          "output_type": "execute_result",
          "data": {
            "text/plain": [
              "[Document(page_content='К содержанию: Затраты организаций на рабочую силу - это сумма вознаграждений работников (среднесписочной численности) в денежной и неденежной формах за отработанное и неотработанное время, расходы организации, связанные с обеспечением работников жильем, профессиональным обучением, культурно-бытовым обслуживанием, социальной защитой, включая расходы на пенсионное, медицинское и другие виды страхования, командировочные расходы, а также налоги и сборы, связанные с использованием наемной рабочей силы. В составе затрат на рабочую силу можно выделить две группы затрат: прямые и косвенные.\\nПрямые затраты включают расходы, направленные организациями непосредственно на удовлетворение потребностей работников: заработная плата, расходы на жилье, выплаты социального характера, расходы на профессиональное обучение и культурно-бытовое обслуживание, оплата проезда и другие расходы, не отнесенные к приведенным классификационным группам.\\nК косвенным затратам относятся средства, которые отчислялись в виде страховых взносов на обязательное пенсионное страхование, обязательное медицинское страхование, обязательное социальное страхование на случай временной нетрудоспособности и в связи с материнством, обязательное социальное страхование от несчастных случаев на производстве и профессиональных заболеваний.\\nСреднемесячные затраты организаций на рабочую силу - сумма затрат организаций на рабочую силу, рассчитанная на одного работника в месяц.\\nВ среднесписочную численность работников включаются работники, работавшие по трудовому договору и выполнявшие постоянную, временную, сезонную работу, как фактически работавшие, так и отсутствовавшие на работе по каким-либо причинам (находившиеся в служебных командировках, не явившиеся на работу по болезни, находившиеся в ежегодных и дополнительных отпусках и др.), а также выполнявшие работу на дому и работавшие собственники организации, получавшие заработную плату в данной организации. Работник, получивший в одной организации две или полторы ставки, учитывается как один человек. \\nРаботники, принятые на работу на неполное рабочее время, учитываются пропорционально отработанному времени.\\nЛица, принятые на работу по совместительству из других организаций, и лица, выполнявшие работу по договорам гражданско-правового характера, не включаются в среднесписочную численность работников.\\nСведения о затратах на рабочую силу собираются от организаций-юридических лиц (кроме микропредприятий) и их обособленных подразделений (на выборочной основе с распространением данных на генеральную совокупность организаций) следующих видов экономической деятельности: добыча полезных ископаемых; обрабатывающие производства; обеспечение электрической энергией, газом и паром; кондиционирование воздуха; водоснабжение; водоотведение, организация сбора и утилизации отходов, деятельность по ликвидации загрязнений; строительство; торговля оптовая и розничная; ремонт автотранспортных средств и мотоциклов; транспортировка и хранение; деятельность гостиниц и предприятий общественного питания; деятельность в области информации и связи; деятельность финансовая и страховая; деятельность по операциям с недвижимым имуществом; деятельность профессиональная, научная и техническая; деятельность административная и сопутствующие дополнительные услуги.', metadata={'source': 'Основные понятия и определения.csv', 'row': 2}),\n",
              " Document(page_content='К содержанию: 1) Затраты приведены в сопоставимой структуре без налогов и сборов, связанных с использованием рабочей силы. \\nРазработка официальной статистической информации о составе затрат организаций на рабочую силу по видам экономической деятельности за 2005, 2007, 2009, 2013 гг. проводилась  с использованием Общероссийского классификатора видов экономической деятельности ОК 029-2007 (КДЕС Ред. 1.1).\\nUnnamed: 1: \\nUnnamed: 2: \\nUnnamed: 3: \\nUnnamed: 4: \\nUnnamed: 5: \\nUnnamed: 6: \\nUnnamed: 7: \\nUnnamed: 8: \\nUnnamed: 9: \\nUnnamed: 10: \\nUnnamed: 11: \\nUnnamed: 12: \\nUnnamed: 13: \\nUnnamed: 14: \\nUnnamed: 15: \\nUnnamed: 16: \\nUnnamed: 17: \\nUnnamed: 18: \\nUnnamed: 19: \\nUnnamed: 20: \\nUnnamed: 21: \\nUnnamed: 22: \\nUnnamed: 23: \\nUnnamed: 24: \\nUnnamed: 25: \\nUnnamed: 26: \\nUnnamed: 27: \\nUnnamed: 28: \\nUnnamed: 29: \\nUnnamed: 30: \\nUnnamed: 31: \\nUnnamed: 32: \\nUnnamed: 33: \\nUnnamed: 34: \\nUnnamed: 35: \\nUnnamed: 36: \\nUnnamed: 37: \\nUnnamed: 38: \\nUnnamed: 39: \\nUnnamed: 40: \\nUnnamed: 41: \\nUnnamed: 42: \\nUnnamed: 43: \\nUnnamed: 44: \\nUnnamed: 45: \\nUnnamed: 46: \\nUnnamed: 47: \\nUnnamed: 48: \\nUnnamed: 49: \\nUnnamed: 50: \\nUnnamed: 51: \\nUnnamed: 52: \\nUnnamed: 53: \\nUnnamed: 54: \\nUnnamed: 55: \\nUnnamed: 56: \\nUnnamed: 57: \\nUnnamed: 58: \\nUnnamed: 59: \\nUnnamed: 60: \\nUnnamed: 61: \\nUnnamed: 62: \\nUnnamed: 63: \\nUnnamed: 64: \\nUnnamed: 65: \\nUnnamed: 66: \\nUnnamed: 67: \\nUnnamed: 68: \\nUnnamed: 69: \\nUnnamed: 70: \\nUnnamed: 71: \\nUnnamed: 72: \\nUnnamed: 73: \\nUnnamed: 74: \\nUnnamed: 75: \\nUnnamed: 76: \\nUnnamed: 77: \\nUnnamed: 78: \\nUnnamed: 79: \\nUnnamed: 80: \\nUnnamed: 81: \\nUnnamed: 82: \\nUnnamed: 83: \\nUnnamed: 84: \\nUnnamed: 85: \\nUnnamed: 86: \\nUnnamed: 87: \\nUnnamed: 88: \\nUnnamed: 89: \\nUnnamed: 90: \\nUnnamed: 91: \\nUnnamed: 92: \\nUnnamed: 93: \\nUnnamed: 94: \\nUnnamed: 95: \\nUnnamed: 96: \\nUnnamed: 97: \\nUnnamed: 98: \\nUnnamed: 99: \\nUnnamed: 100: ', metadata={'source': '2..csv', 'row': 16}),\n",
              " Document(page_content='К содержанию: 1) Затраты приведены в сопоставимой структуре без налогов и сборов, связанных с использованием рабочей силы.\\nРазработка официальной статистической информации о составе затрат организаций на рабочую силу по видам экономической деятельности с 2017 года проводится с использованием Общероссийского классификатора видов экономической деятельности ОК 029-2014 (КДЕС Ред. 2).\\nUnnamed: 1: \\nUnnamed: 2: \\nUnnamed: 3: \\nUnnamed: 4: \\nUnnamed: 5: \\nUnnamed: 6: \\nUnnamed: 7: \\nUnnamed: 8: \\nUnnamed: 9: \\nUnnamed: 10: \\nUnnamed: 11: \\nUnnamed: 12: \\nUnnamed: 13: \\nUnnamed: 14: \\nUnnamed: 15: \\nUnnamed: 16: \\nUnnamed: 17: \\nUnnamed: 18: \\nUnnamed: 19: \\nUnnamed: 20: \\nUnnamed: 21: \\nUnnamed: 22: \\nUnnamed: 23: \\nUnnamed: 24: \\nUnnamed: 25: \\nUnnamed: 26: \\nUnnamed: 27: \\nUnnamed: 28: ', metadata={'source': '3..csv', 'row': 16}),\n",
              " Document(page_content='Содержание:: 5.\\nUnnamed: 1: Структура заработной платы работников по Российской Федерации по формам собственности за 2017 и 2021 гг.', metadata={'source': 'Содержание.csv', 'row': 7})]"
            ]
          },
          "metadata": {},
          "execution_count": 36
        }
      ]
    },
    {
      "cell_type": "markdown",
      "source": [
        "#### Вопрос 6\n",
        "В каком году был зафиксирован наибольший процент заработной платы в обрабатывающей промышленности и чему он равен?\n",
        "\n",
        "#### Правильный ответ\n",
        "Наибольший процент заработной платы в обрабатывающей промышленности был зафиксирован в 2007 году и составил 79,5%."
      ],
      "metadata": {
        "id": "SIt5UsBlSZFj"
      }
    },
    {
      "cell_type": "code",
      "source": [
        "vector_store_csv.similarity_search(q6)"
      ],
      "metadata": {
        "colab": {
          "base_uri": "https://localhost:8080/"
        },
        "id": "xJbewUgA22HS",
        "outputId": "9c01d962-f79e-4f9e-d3a3-6cc8287afa10"
      },
      "execution_count": null,
      "outputs": [
        {
          "output_type": "execute_result",
          "data": {
            "text/plain": [
              "[Document(page_content='К содержанию: Затраты организаций на рабочую силу - это сумма вознаграждений работников (среднесписочной численности) в денежной и неденежной формах за отработанное и неотработанное время, расходы организации, связанные с обеспечением работников жильем, профессиональным обучением, культурно-бытовым обслуживанием, социальной защитой, включая расходы на пенсионное, медицинское и другие виды страхования, командировочные расходы, а также налоги и сборы, связанные с использованием наемной рабочей силы. В составе затрат на рабочую силу можно выделить две группы затрат: прямые и косвенные.\\nПрямые затраты включают расходы, направленные организациями непосредственно на удовлетворение потребностей работников: заработная плата, расходы на жилье, выплаты социального характера, расходы на профессиональное обучение и культурно-бытовое обслуживание, оплата проезда и другие расходы, не отнесенные к приведенным классификационным группам.\\nК косвенным затратам относятся средства, которые отчислялись в виде страховых взносов на обязательное пенсионное страхование, обязательное медицинское страхование, обязательное социальное страхование на случай временной нетрудоспособности и в связи с материнством, обязательное социальное страхование от несчастных случаев на производстве и профессиональных заболеваний.\\nСреднемесячные затраты организаций на рабочую силу - сумма затрат организаций на рабочую силу, рассчитанная на одного работника в месяц.\\nВ среднесписочную численность работников включаются работники, работавшие по трудовому договору и выполнявшие постоянную, временную, сезонную работу, как фактически работавшие, так и отсутствовавшие на работе по каким-либо причинам (находившиеся в служебных командировках, не явившиеся на работу по болезни, находившиеся в ежегодных и дополнительных отпусках и др.), а также выполнявшие работу на дому и работавшие собственники организации, получавшие заработную плату в данной организации. Работник, получивший в одной организации две или полторы ставки, учитывается как один человек. \\nРаботники, принятые на работу на неполное рабочее время, учитываются пропорционально отработанному времени.\\nЛица, принятые на работу по совместительству из других организаций, и лица, выполнявшие работу по договорам гражданско-правового характера, не включаются в среднесписочную численность работников.\\nСведения о затратах на рабочую силу собираются от организаций-юридических лиц (кроме микропредприятий) и их обособленных подразделений (на выборочной основе с распространением данных на генеральную совокупность организаций) следующих видов экономической деятельности: добыча полезных ископаемых; обрабатывающие производства; обеспечение электрической энергией, газом и паром; кондиционирование воздуха; водоснабжение; водоотведение, организация сбора и утилизации отходов, деятельность по ликвидации загрязнений; строительство; торговля оптовая и розничная; ремонт автотранспортных средств и мотоциклов; транспортировка и хранение; деятельность гостиниц и предприятий общественного питания; деятельность в области информации и связи; деятельность финансовая и страховая; деятельность по операциям с недвижимым имуществом; деятельность профессиональная, научная и техническая; деятельность административная и сопутствующие дополнительные услуги.', metadata={'source': 'Основные понятия и определения.csv', 'row': 2}),\n",
              " Document(page_content='Содержание:: 5.\\nUnnamed: 1: Структура заработной платы работников по Российской Федерации по формам собственности за 2017 и 2021 гг.', metadata={'source': 'Содержание.csv', 'row': 7}),\n",
              " Document(page_content='К содержанию: 1) Затраты приведены в сопоставимой структуре без налогов и сборов, связанных с использованием рабочей силы. \\nРазработка официальной статистической информации о составе затрат организаций на рабочую силу по видам экономической деятельности за 2005, 2007, 2009, 2013 гг. проводилась  с использованием Общероссийского классификатора видов экономической деятельности ОК 029-2007 (КДЕС Ред. 1.1).\\nUnnamed: 1: \\nUnnamed: 2: \\nUnnamed: 3: \\nUnnamed: 4: \\nUnnamed: 5: \\nUnnamed: 6: \\nUnnamed: 7: \\nUnnamed: 8: \\nUnnamed: 9: \\nUnnamed: 10: \\nUnnamed: 11: \\nUnnamed: 12: \\nUnnamed: 13: \\nUnnamed: 14: \\nUnnamed: 15: \\nUnnamed: 16: \\nUnnamed: 17: \\nUnnamed: 18: \\nUnnamed: 19: \\nUnnamed: 20: \\nUnnamed: 21: \\nUnnamed: 22: \\nUnnamed: 23: \\nUnnamed: 24: \\nUnnamed: 25: \\nUnnamed: 26: \\nUnnamed: 27: \\nUnnamed: 28: \\nUnnamed: 29: \\nUnnamed: 30: \\nUnnamed: 31: \\nUnnamed: 32: \\nUnnamed: 33: \\nUnnamed: 34: \\nUnnamed: 35: \\nUnnamed: 36: \\nUnnamed: 37: \\nUnnamed: 38: \\nUnnamed: 39: \\nUnnamed: 40: \\nUnnamed: 41: \\nUnnamed: 42: \\nUnnamed: 43: \\nUnnamed: 44: \\nUnnamed: 45: \\nUnnamed: 46: \\nUnnamed: 47: \\nUnnamed: 48: \\nUnnamed: 49: \\nUnnamed: 50: \\nUnnamed: 51: \\nUnnamed: 52: \\nUnnamed: 53: \\nUnnamed: 54: \\nUnnamed: 55: \\nUnnamed: 56: \\nUnnamed: 57: \\nUnnamed: 58: \\nUnnamed: 59: \\nUnnamed: 60: \\nUnnamed: 61: \\nUnnamed: 62: \\nUnnamed: 63: \\nUnnamed: 64: \\nUnnamed: 65: \\nUnnamed: 66: \\nUnnamed: 67: \\nUnnamed: 68: \\nUnnamed: 69: \\nUnnamed: 70: \\nUnnamed: 71: \\nUnnamed: 72: \\nUnnamed: 73: \\nUnnamed: 74: \\nUnnamed: 75: \\nUnnamed: 76: \\nUnnamed: 77: \\nUnnamed: 78: \\nUnnamed: 79: \\nUnnamed: 80: \\nUnnamed: 81: \\nUnnamed: 82: \\nUnnamed: 83: \\nUnnamed: 84: \\nUnnamed: 85: \\nUnnamed: 86: \\nUnnamed: 87: \\nUnnamed: 88: \\nUnnamed: 89: \\nUnnamed: 90: \\nUnnamed: 91: \\nUnnamed: 92: \\nUnnamed: 93: \\nUnnamed: 94: \\nUnnamed: 95: \\nUnnamed: 96: \\nUnnamed: 97: \\nUnnamed: 98: \\nUnnamed: 99: \\nUnnamed: 100: ', metadata={'source': '2..csv', 'row': 16}),\n",
              " Document(page_content='К содержанию: Всего затрат на рабочую силу, процентов\\nUnnamed: 1: 100\\nUnnamed: 2: 100.0\\nUnnamed: 3: 100\\nUnnamed: 4: 100.0\\nUnnamed: 5: 100\\nUnnamed: 6: 100.0\\nUnnamed: 7: 100\\nUnnamed: 8: 100.0\\nUnnamed: 9: 100\\nUnnamed: 10: 100.0\\nUnnamed: 11: 100\\nUnnamed: 12: 100.0\\nUnnamed: 13: 100\\nUnnamed: 14: 100.0', metadata={'source': '6..csv', 'row': 7})]"
            ]
          },
          "metadata": {},
          "execution_count": 37
        }
      ]
    },
    {
      "cell_type": "markdown",
      "source": [
        "### Загрузка табличных данных из xlsx-файла\n",
        "Для сравнения мы выполним разделение на фрагменты тремя способами:\n",
        "- используем сплиттер из текстовых примеров (1000 символов на фрагмент и 100 символов на перекрытие);\n",
        "- применим сплиттер по умолчанию;\n",
        "- зададим параметр `mode='elements'` в загрузчике.\n",
        "\n",
        "При первом варианте настроек загрузчика получаем мелкие фрагменты."
      ],
      "metadata": {
        "id": "96tZhZ0EUOBJ"
      }
    },
    {
      "cell_type": "code",
      "source": [
        "from langchain_community.document_loaders import UnstructuredExcelLoader\n",
        "\n",
        "loader = UnstructuredExcelLoader('din-zatrat-rs.xlsx')\n",
        "splitted_xlsx = loader.load_and_split(text_splitter)"
      ],
      "metadata": {
        "id": "6VXaUjOez3gh"
      },
      "execution_count": null,
      "outputs": []
    },
    {
      "cell_type": "markdown",
      "source": [
        "Посмотрим, сколько всего получилось."
      ],
      "metadata": {
        "id": "WI54puNgYi_G"
      }
    },
    {
      "cell_type": "code",
      "source": [
        "len(splitted_xlsx)"
      ],
      "metadata": {
        "colab": {
          "base_uri": "https://localhost:8080/"
        },
        "id": "Y5RDq2IbYXBJ",
        "outputId": "f31e94e3-a735-437a-ef6f-1c0eaede2702"
      },
      "execution_count": null,
      "outputs": [
        {
          "output_type": "execute_result",
          "data": {
            "text/plain": [
              "24"
            ]
          },
          "metadata": {},
          "execution_count": 39
        }
      ]
    },
    {
      "cell_type": "markdown",
      "source": [
        "И отдельно посмотрим один из них."
      ],
      "metadata": {
        "id": "vFkdxDycYo3C"
      }
    },
    {
      "cell_type": "code",
      "source": [
        "splitted_xlsx[5]"
      ],
      "metadata": {
        "colab": {
          "base_uri": "https://localhost:8080/"
        },
        "id": "kB0Yol4oYfr7",
        "outputId": "1616a28f-1460-4776-fc7b-d6ead27e4ba8"
      },
      "execution_count": null,
      "outputs": [
        {
          "output_type": "execute_result",
          "data": {
            "text/plain": [
              "Document(page_content='Затраты на рабочую силу1)\\n100\\n100.0\\n100.0\\n100.0\\n100\\n100.0\\n100.0\\n100.0\\n100\\n100.0\\n100.0\\n100.0\\n100\\n100.0\\n100.0\\n100.0\\n100\\n100.0\\n100.0\\n100.0\\n100\\n100.0\\n100.0\\n100.0\\n100\\n100.0\\n100.0\\n100.0\\n100\\n100.0\\n100.0\\n100.0\\n100\\n100.0\\n100.0\\n100.0\\n100\\n100.0\\n100.0\\n100.0\\n100\\n100.0\\n100.0\\n100.0\\n100\\n100.0\\n100.0\\n100.0\\n100\\n100.0\\n100.0\\n100.0\\n100\\n100.0\\n100.0\\n100.0\\n100\\n100.0\\n100.0\\n100.0\\n100\\n100.0\\n100.0\\n100.0\\n100\\n100.0\\n100.0\\n100.0\\n100\\n100.0\\n100.0\\n100.0\\n100\\n100.0\\n100.0\\n100.0\\n100\\n100.0\\n100.0\\n100.0\\n100\\n100.0\\n100.0\\n100.0\\n100\\n100.0\\n100.0\\n100.0\\n100\\n100.0\\n100.0\\n100.0\\n100\\n100.0\\n100.0\\n100.0\\n100\\n100.0\\n100.0\\n100.0\\n\\n\\nв том числе:', metadata={'source': 'din-zatrat-rs.xlsx'})"
            ]
          },
          "metadata": {},
          "execution_count": 40
        }
      ]
    },
    {
      "cell_type": "markdown",
      "source": [
        "Теперь используем настройки по умолчанию."
      ],
      "metadata": {
        "id": "x3ErplIjY8Vy"
      }
    },
    {
      "cell_type": "code",
      "source": [
        "splitted_xlsx1 = loader.load_and_split()"
      ],
      "metadata": {
        "id": "jphvbJtB8pm7"
      },
      "execution_count": null,
      "outputs": []
    },
    {
      "cell_type": "markdown",
      "source": [
        "Получим другой список с более крупными фрагментами."
      ],
      "metadata": {
        "id": "ETL9W0QtZJLY"
      }
    },
    {
      "cell_type": "code",
      "source": [
        "len(splitted_xlsx1)"
      ],
      "metadata": {
        "colab": {
          "base_uri": "https://localhost:8080/"
        },
        "id": "A7mGiR0F8vdq",
        "outputId": "2cebdd3f-b9d2-49b4-80af-516be58cbff1"
      },
      "execution_count": null,
      "outputs": [
        {
          "output_type": "execute_result",
          "data": {
            "text/plain": [
              "6"
            ]
          },
          "metadata": {},
          "execution_count": 42
        }
      ]
    },
    {
      "cell_type": "markdown",
      "source": [
        "Посмотрим отдельный фрагмент."
      ],
      "metadata": {
        "id": "coqdufbMZWVM"
      }
    },
    {
      "cell_type": "code",
      "source": [
        "splitted_xlsx1[3]"
      ],
      "metadata": {
        "colab": {
          "base_uri": "https://localhost:8080/"
        },
        "id": "efnvyFOkZb2y",
        "outputId": "9b150d68-7864-4ffc-dced-3bde6970a154"
      },
      "execution_count": null,
      "outputs": [
        {
          "output_type": "execute_result",
          "data": {
            "text/plain": [
              "Document(page_content='Среднемесячные затраты, рублей\\n\\nСредние затраты на один оплаченный час, рублей\\n\\nСредние затраты на один отработанный час, рублей\\n\\nОтношение отработанного времени к оплаченному,  процентов\\n\\nДоля прямых затрат на рабочую силу в общих затратах на рабочую силу, процентов\\n\\nДоля косвенных затрат на рабочую силу в общих затратах на рабочую силу, процентов\\n\\n\\n\\n\\n2017\\n2021.0\\n2017\\n2021.0\\n2017\\n2021.0\\n2017\\n2021.0\\n2017\\n2021.0\\n2017\\n2021.0\\n\\n\\nВсего по обследуемым видам экономической деятельности\\n60234.7\\n90058.9\\n374.3\\n563.3\\n419.4\\n630.4\\n89.2\\n89.4\\n80\\n80.2\\n20\\n19.8\\n\\n\\nДобыча полезных ископаемых\\n104076.1\\n140967.4\\n622.5\\n845.1\\n722.3\\n973.6\\n86.2\\n86.8\\n80.3\\n80.0\\n19.7\\n20.0\\n\\n\\nОбрабатывающие производства\\n54154.2\\n76419.5\\n335.3\\n477.4\\n378.4\\n538.4\\n88.6\\n88.7\\n78.7\\n78.8\\n21.3\\n21.2\\n\\n\\nОбеспечение электрической энергией, газом и паром; кондиционирование воздуха\\n60654.9\\n79318.7\\n370.1\\n489.3\\n415.8\\n549.7\\n89\\n89.0\\n79.3\\n78.9\\n20.7\\n21.1\\n\\n\\nВодоснабжение; водоотведение, организация сбора и утилизации отходов, деятельность по ликвидации загрязнений\\n39596.7\\n56206.1\\n243.6\\n347.4\\n272.1\\n386.9\\n89.5\\n89.8\\n78.9\\n79.0\\n21.1\\n21.0\\n\\n\\nСтроительство\\n52301.7\\n84187.9\\n331.5\\n527.3\\n366.9\\n584.1\\n90.4\\n90.3\\n80\\n80.5\\n20\\n19.5\\n\\n\\nТорговля оптовая и розничная; ремонт автотранспортных средств и мотоциклов\\n47951.3\\n80415.1\\n303.3\\n512.7\\n334.7\\n565.4\\n90.6\\n90.7\\n79.9\\n80.0\\n20.1\\n20.0\\n\\n\\nТранспортировка и хранение\\n66788\\n84314.7\\n407.5\\n522.5\\n461.9\\n590.8\\n88.2\\n88.4\\n80.8\\n79.3\\n19.2\\n20.7\\n\\n\\nДеятельность гостиниц и предприятий общественного питания\\n33927.5\\n55573.7\\n217.2\\n360.2\\n241.2\\n402.1\\n90\\n89.6\\n78.7\\n80.1\\n21.3\\n19.9\\n\\n\\nДеятельность в области информации и связи\\n81080.5\\n131417.0\\n508.6\\n828.3\\n565.4\\n916.6\\n89.9\\n90.4\\n82.5\\n85.5\\n17.5\\n14.5\\n\\n\\nДеятельность финансовая и страховая\\n106237.3\\n175908.9\\n671.6\\n1105.0\\n746.4\\n1222.1\\n90\\n90.4\\n81.5\\n81.8\\n18.5\\n18.2\\n\\n\\nДеятельность по операциям с недвижимым имуществом\\n40254.6\\n68398.7\\n252.5\\n428.2\\n280.3\\n472.6\\n90.1\\n90.6\\n79.7\\n79.9\\n20.3\\n20.1\\n\\n\\nДеятельность профессиональная, научная и техническая\\n83563.8\\n128137.9\\n525.5\\n806.9\\n588.8\\n901.0\\n89.3\\n89.6\\n81\\n81.0\\n19\\n19.0\\n\\n\\nДеятельность административная и сопутствующие дополнительные услуги\\n36846.5\\n62926.9\\n223.5\\n392.9\\n247.2\\n434.9\\n90.4\\n90.3\\n79.4\\n80.5\\n20.6\\n19.5\\n\\n\\n\\n\\nК содержанию\\n\\nСтруктура заработной платы работников по Российской Федерации по формам собственности за 2017 и 2021  гг. \\n\\n(по организациям (без микропредприятий) обследуемых видов экономической деятельности; в процентах)\\n\\nУдельный вес элементов заработной платы в общей сумме заработной платы\\n\\n\\n\\n\\nВсего\\n\\nв том числе по организациям\\n\\n\\n\\n\\n\\n\\n\\n\\n\\n\\nгосударственным и муниципальным\\n\\nнегосударственным\\n\\n\\n\\n\\n2017\\n2021.0\\n2017\\n2021.0\\n2017\\n2021.0\\n\\n\\nЗаработная плата работников - всего\\n100\\n100.0\\n100\\n100.0\\n100\\n100.0\\n\\n\\nв том числе:\\n\\n\\n\\n\\n\\n\\n\\n\\nОплата за отработанное время, всего\\n84.5\\n83.9\\n84.5\\n84.9\\n84.6\\n83.7\\n\\n\\nв том числе:\\n\\n\\n\\n\\n\\n\\n\\n\\nоплата по тарифным ставкам и окладам,сдельным расценкам, среднему заработку\\n48.5\\n47.1\\n42.5\\n40.5\\n49.7\\n48.3\\n\\n\\nдоплаты и надбавки к тарифным ставкам и окладам\\n6.7\\n6.9\\n12\\n12.5\\n5.7\\n5.8\\n\\n\\nпремии и вознаграждения\\n17.9\\n19.1\\n17.7\\n19.8\\n17.9\\n18.9\\n\\n\\nвыплаты по районному регулированию\\n9.5\\n8.6\\n9.6\\n8.8\\n9.5\\n8.6\\n\\n\\nдругие виды оплаты труда\\n2\\n2.2\\n2.7\\n3.3\\n1.8\\n2.1\\n\\n\\nОплата за неотработанное время, всего\\n8.5\\n8.4\\n9.4\\n9.4\\n8.4\\n8.2\\n\\n\\nиз нее:\\n\\n\\n\\n\\n\\n\\n\\n\\nоплата отпусков\\n8\\n7.8\\n8.9\\n8.9\\n7.9\\n7.6\\n\\n\\nоплата времени простоя не по вине работника\\n-\\n0.1\\n-\\n0.1\\n-\\n0.1\\n\\n\\nЕдиновременные поощрительные выплаты, всего\\n6.4\\n7.2\\n5.9\\n5.5\\n6.5\\n7.6\\n\\n\\nОплата питания и проживания, всего\\n0.5\\n0.5\\n0.2\\n0.2\\n0.6\\n0.5\\n\\n\\n\\n\\nК содержанию\\n\\nСтруктура среднемесячных затрат на рабочую силу в зависимости от размеров организаций по Российской Федерации за 2017 и 2021 гг.\\n\\n(по организациям (без микропредприятий) обследуемых видов экономической деятельности; в процентах)\\n\\n\\n\\n\\n\\nПо всем организациям\\n\\nв том числе с численностью работающих, человек\\n\\n\\n\\n\\n\\n\\n\\n\\n\\n\\n\\n\\n\\n\\n\\n\\nдо 50\\n\\n50-99\\n\\n100-199\\n\\n200-499\\n\\n500-999\\n\\n1000 и более\\n\\n\\n\\n\\n2017\\n2021.0\\n2017\\n2021.0\\n2017\\n2021.0\\n2017\\n2021.0\\n2017\\n2021.0\\n2017\\n2021.0\\n2017\\n2021.0', metadata={'source': 'din-zatrat-rs.xlsx'})"
            ]
          },
          "metadata": {},
          "execution_count": 43
        }
      ]
    },
    {
      "cell_type": "markdown",
      "source": [
        "Теперь рассмотрим, как будут нарезаны фрагменты, если установить `mode='elements'`. В [документации](https://api.python.langchain.com/en/latest/document_loaders/langchain_community.document_loaders.excel.UnstructuredExcelLoader.html#langchain_community.document_loaders.excel.UnstructuredExcelLoader.load_and_split) сказано, что в этом случае каждый лист становится отдельным элементом. Но после этого происходит еще нарезка внутри одного листа."
      ],
      "metadata": {
        "id": "t5tzzNSrZiqd"
      }
    },
    {
      "cell_type": "code",
      "source": [
        "loader = UnstructuredExcelLoader('din-zatrat-rs.xlsx', mode='elements')\n",
        "splitted_xlsx2 = loader.load()"
      ],
      "metadata": {
        "id": "tTJ6BR30VRQ_"
      },
      "execution_count": null,
      "outputs": []
    },
    {
      "cell_type": "markdown",
      "source": [
        "Список получился большим."
      ],
      "metadata": {
        "id": "gsLs4TAhaMU6"
      }
    },
    {
      "cell_type": "code",
      "source": [
        "len(splitted_xlsx2)"
      ],
      "metadata": {
        "colab": {
          "base_uri": "https://localhost:8080/"
        },
        "id": "OpB2HrklVa9T",
        "outputId": "870b2ee2-6df0-4fd4-8f75-d4b44f2b6de7"
      },
      "execution_count": null,
      "outputs": [
        {
          "output_type": "execute_result",
          "data": {
            "text/plain": [
              "43"
            ]
          },
          "metadata": {},
          "execution_count": 45
        }
      ]
    },
    {
      "cell_type": "markdown",
      "source": [
        "Соответственно, каждый фрагмент будет маленьким."
      ],
      "metadata": {
        "id": "Y0uXt8_-aQ_4"
      }
    },
    {
      "cell_type": "code",
      "source": [
        "splitted_xlsx2[5]"
      ],
      "metadata": {
        "colab": {
          "base_uri": "https://localhost:8080/"
        },
        "id": "ZlCvRuY8Vk-t",
        "outputId": "9c987853-8467-497d-d3de-f1f73e3e25e5"
      },
      "execution_count": null,
      "outputs": [
        {
          "output_type": "execute_result",
          "data": {
            "text/plain": [
              "Document(page_content='Шалаевская Татьяна Юрьевна', metadata={'source': 'din-zatrat-rs.xlsx', 'filename': 'din-zatrat-rs.xlsx', 'last_modified': '2024-06-01T11:26:49', 'page_name': 'Содержание', 'page_number': 1, 'languages': ['rus'], 'filetype': 'application/vnd.openxmlformats-officedocument.spreadsheetml.sheet', 'category': 'Title'})"
            ]
          },
          "metadata": {},
          "execution_count": 46
        }
      ]
    },
    {
      "cell_type": "markdown",
      "source": [
        "### Создание векторных представлений и векторного хранилища\n",
        "Используем в итоге загрузчик с настройками по умолчанию.\n",
        "\n",
        "Создадим очередное векторное хранилище."
      ],
      "metadata": {
        "id": "XleZCe8iacyJ"
      }
    },
    {
      "cell_type": "code",
      "source": [
        "vector_store_xlsx = FAISS.from_documents(splitted_xlsx1, embedding=embedding)"
      ],
      "metadata": {
        "id": "EH6rVLaWydi6"
      },
      "execution_count": null,
      "outputs": []
    },
    {
      "cell_type": "markdown",
      "source": [
        "Снова зададим вопросы.\n",
        "\n",
        "#### Вопрос 4\n",
        "Какой процент расходов на социальную защиту работников в добыче полезных ископаемых был зафиксирован в 2021 году?\n",
        "\n",
        "#### Правильный ответ\n",
        "В 2021 году расходы на социальную защиту работников в добыче полезных ископаемых составляли 22,6%."
      ],
      "metadata": {
        "id": "QwqiF4MxTb2t"
      }
    },
    {
      "cell_type": "code",
      "source": [
        "vector_store_xlsx.similarity_search(q4)"
      ],
      "metadata": {
        "colab": {
          "base_uri": "https://localhost:8080/"
        },
        "id": "cLdQLYWU94Gz",
        "outputId": "fe89c675-509f-4cef-b9fc-cfb6dc1bc77b"
      },
      "execution_count": null,
      "outputs": [
        {
          "output_type": "execute_result",
          "data": {
            "text/plain": [
              "[Document(page_content='Среднемесячные затраты, рублей\\n\\nСредние затраты на один оплаченный час, рублей\\n\\nСредние затраты на один отработанный час, рублей\\n\\nОтношение отработанного времени к оплаченному,  процентов\\n\\nДоля прямых затрат на рабочую силу в общих затратах на рабочую силу, процентов\\n\\nДоля косвенных затрат на рабочую силу в общих затратах на рабочую силу, процентов\\n\\n\\n\\n\\n2017\\n2021.0\\n2017\\n2021.0\\n2017\\n2021.0\\n2017\\n2021.0\\n2017\\n2021.0\\n2017\\n2021.0\\n\\n\\nВсего по обследуемым видам экономической деятельности\\n60234.7\\n90058.9\\n374.3\\n563.3\\n419.4\\n630.4\\n89.2\\n89.4\\n80\\n80.2\\n20\\n19.8\\n\\n\\nДобыча полезных ископаемых\\n104076.1\\n140967.4\\n622.5\\n845.1\\n722.3\\n973.6\\n86.2\\n86.8\\n80.3\\n80.0\\n19.7\\n20.0\\n\\n\\nОбрабатывающие производства\\n54154.2\\n76419.5\\n335.3\\n477.4\\n378.4\\n538.4\\n88.6\\n88.7\\n78.7\\n78.8\\n21.3\\n21.2\\n\\n\\nОбеспечение электрической энергией, газом и паром; кондиционирование воздуха\\n60654.9\\n79318.7\\n370.1\\n489.3\\n415.8\\n549.7\\n89\\n89.0\\n79.3\\n78.9\\n20.7\\n21.1\\n\\n\\nВодоснабжение; водоотведение, организация сбора и утилизации отходов, деятельность по ликвидации загрязнений\\n39596.7\\n56206.1\\n243.6\\n347.4\\n272.1\\n386.9\\n89.5\\n89.8\\n78.9\\n79.0\\n21.1\\n21.0\\n\\n\\nСтроительство\\n52301.7\\n84187.9\\n331.5\\n527.3\\n366.9\\n584.1\\n90.4\\n90.3\\n80\\n80.5\\n20\\n19.5\\n\\n\\nТорговля оптовая и розничная; ремонт автотранспортных средств и мотоциклов\\n47951.3\\n80415.1\\n303.3\\n512.7\\n334.7\\n565.4\\n90.6\\n90.7\\n79.9\\n80.0\\n20.1\\n20.0\\n\\n\\nТранспортировка и хранение\\n66788\\n84314.7\\n407.5\\n522.5\\n461.9\\n590.8\\n88.2\\n88.4\\n80.8\\n79.3\\n19.2\\n20.7\\n\\n\\nДеятельность гостиниц и предприятий общественного питания\\n33927.5\\n55573.7\\n217.2\\n360.2\\n241.2\\n402.1\\n90\\n89.6\\n78.7\\n80.1\\n21.3\\n19.9\\n\\n\\nДеятельность в области информации и связи\\n81080.5\\n131417.0\\n508.6\\n828.3\\n565.4\\n916.6\\n89.9\\n90.4\\n82.5\\n85.5\\n17.5\\n14.5\\n\\n\\nДеятельность финансовая и страховая\\n106237.3\\n175908.9\\n671.6\\n1105.0\\n746.4\\n1222.1\\n90\\n90.4\\n81.5\\n81.8\\n18.5\\n18.2\\n\\n\\nДеятельность по операциям с недвижимым имуществом\\n40254.6\\n68398.7\\n252.5\\n428.2\\n280.3\\n472.6\\n90.1\\n90.6\\n79.7\\n79.9\\n20.3\\n20.1\\n\\n\\nДеятельность профессиональная, научная и техническая\\n83563.8\\n128137.9\\n525.5\\n806.9\\n588.8\\n901.0\\n89.3\\n89.6\\n81\\n81.0\\n19\\n19.0\\n\\n\\nДеятельность административная и сопутствующие дополнительные услуги\\n36846.5\\n62926.9\\n223.5\\n392.9\\n247.2\\n434.9\\n90.4\\n90.3\\n79.4\\n80.5\\n20.6\\n19.5\\n\\n\\n\\n\\nК содержанию\\n\\nСтруктура заработной платы работников по Российской Федерации по формам собственности за 2017 и 2021  гг. \\n\\n(по организациям (без микропредприятий) обследуемых видов экономической деятельности; в процентах)\\n\\nУдельный вес элементов заработной платы в общей сумме заработной платы\\n\\n\\n\\n\\nВсего\\n\\nв том числе по организациям\\n\\n\\n\\n\\n\\n\\n\\n\\n\\n\\nгосударственным и муниципальным\\n\\nнегосударственным\\n\\n\\n\\n\\n2017\\n2021.0\\n2017\\n2021.0\\n2017\\n2021.0\\n\\n\\nЗаработная плата работников - всего\\n100\\n100.0\\n100\\n100.0\\n100\\n100.0\\n\\n\\nв том числе:\\n\\n\\n\\n\\n\\n\\n\\n\\nОплата за отработанное время, всего\\n84.5\\n83.9\\n84.5\\n84.9\\n84.6\\n83.7\\n\\n\\nв том числе:\\n\\n\\n\\n\\n\\n\\n\\n\\nоплата по тарифным ставкам и окладам,сдельным расценкам, среднему заработку\\n48.5\\n47.1\\n42.5\\n40.5\\n49.7\\n48.3\\n\\n\\nдоплаты и надбавки к тарифным ставкам и окладам\\n6.7\\n6.9\\n12\\n12.5\\n5.7\\n5.8\\n\\n\\nпремии и вознаграждения\\n17.9\\n19.1\\n17.7\\n19.8\\n17.9\\n18.9\\n\\n\\nвыплаты по районному регулированию\\n9.5\\n8.6\\n9.6\\n8.8\\n9.5\\n8.6\\n\\n\\nдругие виды оплаты труда\\n2\\n2.2\\n2.7\\n3.3\\n1.8\\n2.1\\n\\n\\nОплата за неотработанное время, всего\\n8.5\\n8.4\\n9.4\\n9.4\\n8.4\\n8.2\\n\\n\\nиз нее:\\n\\n\\n\\n\\n\\n\\n\\n\\nоплата отпусков\\n8\\n7.8\\n8.9\\n8.9\\n7.9\\n7.6\\n\\n\\nоплата времени простоя не по вине работника\\n-\\n0.1\\n-\\n0.1\\n-\\n0.1\\n\\n\\nЕдиновременные поощрительные выплаты, всего\\n6.4\\n7.2\\n5.9\\n5.5\\n6.5\\n7.6\\n\\n\\nОплата питания и проживания, всего\\n0.5\\n0.5\\n0.2\\n0.2\\n0.6\\n0.5\\n\\n\\n\\n\\nК содержанию\\n\\nСтруктура среднемесячных затрат на рабочую силу в зависимости от размеров организаций по Российской Федерации за 2017 и 2021 гг.\\n\\n(по организациям (без микропредприятий) обследуемых видов экономической деятельности; в процентах)\\n\\n\\n\\n\\n\\nПо всем организациям\\n\\nв том числе с численностью работающих, человек\\n\\n\\n\\n\\n\\n\\n\\n\\n\\n\\n\\n\\n\\n\\n\\n\\nдо 50\\n\\n50-99\\n\\n100-199\\n\\n200-499\\n\\n500-999\\n\\n1000 и более\\n\\n\\n\\n\\n2017\\n2021.0\\n2017\\n2021.0\\n2017\\n2021.0\\n2017\\n2021.0\\n2017\\n2021.0\\n2017\\n2021.0\\n2017\\n2021.0', metadata={'source': 'din-zatrat-rs.xlsx'}),\n",
              " Document(page_content='К содержанию\\n\\nОсновные понятия и определения\\n\\nЗатраты организаций на рабочую силу - это сумма вознаграждений работников (среднесписочной численности) в денежной и неденежной формах за отработанное и неотработанное время, расходы организации, связанные с обеспечением работников жильем, профессиональным обучением, культурно-бытовым обслуживанием, социальной защитой, включая расходы на пенсионное, медицинское и другие виды страхования, командировочные расходы, а также налоги и сборы, связанные с использованием наемной рабочей силы. В составе затрат на рабочую силу можно выделить две группы затрат: прямые и косвенные.\\nПрямые затраты включают расходы, направленные организациями непосредственно на удовлетворение потребностей работников: заработная плата, расходы на жилье, выплаты социального характера, расходы на профессиональное обучение и культурно-бытовое обслуживание, оплата проезда и другие расходы, не отнесенные к приведенным классификационным группам.\\nК косвенным затратам относятся средства, которые отчислялись в виде страховых взносов на обязательное пенсионное страхование, обязательное медицинское страхование, обязательное социальное страхование на случай временной нетрудоспособности и в связи с материнством, обязательное социальное страхование от несчастных случаев на производстве и профессиональных заболеваний.\\nСреднемесячные затраты организаций на рабочую силу - сумма затрат организаций на рабочую силу, рассчитанная на одного работника в месяц.\\nВ среднесписочную численность работников включаются работники, работавшие по трудовому договору и выполнявшие постоянную, временную, сезонную работу, как фактически работавшие, так и отсутствовавшие на работе по каким-либо причинам (находившиеся в служебных командировках, не явившиеся на работу по болезни, находившиеся в ежегодных и дополнительных отпусках и др.), а также выполнявшие работу на дому и работавшие собственники организации, получавшие заработную плату в данной организации. Работник, получивший в одной организации две или полторы ставки, учитывается как один человек. \\nРаботники, принятые на работу на неполное рабочее время, учитываются пропорционально отработанному времени.\\nЛица, принятые на работу по совместительству из других организаций, и лица, выполнявшие работу по договорам гражданско-правового характера, не включаются в среднесписочную численность работников.\\nСведения о затратах на рабочую силу собираются от организаций-юридических лиц (кроме микропредприятий) и их обособленных подразделений (на выборочной основе с распространением данных на генеральную совокупность организаций) следующих видов экономической деятельности: добыча полезных ископаемых; обрабатывающие производства; обеспечение электрической энергией, газом и паром; кондиционирование воздуха; водоснабжение; водоотведение, организация сбора и утилизации отходов, деятельность по ликвидации загрязнений; строительство; торговля оптовая и розничная; ремонт автотранспортных средств и мотоциклов; транспортировка и хранение; деятельность гостиниц и предприятий общественного питания; деятельность в области информации и связи; деятельность финансовая и страховая; деятельность по операциям с недвижимым имуществом; деятельность профессиональная, научная и техническая; деятельность административная и сопутствующие дополнительные услуги.', metadata={'source': 'din-zatrat-rs.xlsx'}),\n",
              " Document(page_content='до 50\\n\\n50-99\\n\\n100-199\\n\\n200-499\\n\\n500-999\\n\\n1000 и более\\n\\n\\n\\n\\n2017\\n2021.0\\n2017\\n2021.0\\n2017\\n2021.0\\n2017\\n2021.0\\n2017\\n2021.0\\n2017\\n2021.0\\n2017\\n2021.0\\n\\n\\nВсего затрат на рабочую силу, процентов\\n100\\n100.0\\n100\\n100.0\\n100\\n100.0\\n100\\n100.0\\n100\\n100.0\\n100\\n100.0\\n100\\n100.0\\n\\n\\nв том числе:\\n\\n\\n\\n\\n\\n\\n\\n\\n\\n\\n\\n\\n\\n\\n\\n\\nЗаработная плата\\n74.6\\n76.4\\n76.5\\n78.3\\n76.3\\n78.5\\n75.5\\n77.7\\n74.8\\n76.2\\n72.1\\n76.3\\n74.1\\n75.0\\n\\n\\nоплата за отработанное время\\n63.1\\n64.0\\n68.4\\n69.5\\n67.8\\n68.5\\n65.2\\n66.8\\n63.5\\n64.3\\n60.5\\n63.8\\n60.2\\n60.5\\n\\n\\nоплата за неотработанное время\\n6.4\\n6.4\\n5.6\\n5.7\\n5.6\\n5.8\\n6\\n6.0\\n6.3\\n6.2\\n6.5\\n6.7\\n6.9\\n6.9\\n\\n\\nединовременные поощрительные выплаты\\n4.8\\n5.5\\n2.3\\n2.9\\n2.6\\n4.0\\n3.8\\n4.6\\n4.6\\n5.2\\n4.7\\n5.4\\n6.6\\n7.2\\n\\n\\nоплата питания и проживания\\n0.4\\n0.4\\n0.2\\n0.2\\n0.2\\n0.3\\n0.5\\n0.4\\n0.4\\n0.5\\n0.4\\n0.4\\n0.4\\n0.4\\n\\n\\nРасходы по обеспечению работников жильем\\n0.1\\n0.1\\n0\\n0.0\\n0.1\\n0.1\\n0.1\\n0.1\\n0.1\\n0.1\\n0.1\\n0.1\\n0.2\\n0.2\\n\\n\\nРасходы на социальную защиту работников\\n22\\n21.5\\n21.3\\n20.1\\n21.5\\n19.8\\n21.6\\n20.3\\n22.3\\n21.6\\n21.4\\n21.8\\n22.5\\n22.6\\n\\n\\nв том числе:\\n\\n\\n\\n\\n\\n\\n\\n\\n\\n\\n\\n\\n\\n\\n\\n\\nстраховые взносы на обязательное страхование,уплаченные в государственные внебюджетные фонды\\n20\\n19.8\\n20.2\\n18.9\\n20.3\\n18.5\\n20\\n18.8\\n20.4\\n20.0\\n19.3\\n20.0\\n19.9\\n20.5\\n\\n\\nдругие обязательные расходы на социальную защиту\\n0.6\\n0.5\\n0.5\\n0.5\\n0.5\\n0.5\\n0.6\\n0.6\\n0.6\\n0.5\\n0.6\\n0.5\\n0.6\\n0.5\\n\\n\\nдобровольные расходы на социальную защиту\\n1.4\\n1.2\\n0.6\\n0.7\\n0.6\\n0.7\\n1\\n1.0\\n1.3\\n1.1\\n1.5\\n1.2\\n2\\n1.6\\n\\n\\nРасходы на профессиональное обучение\\n0.3\\n0.2\\n0.2\\n0.1\\n0.2\\n0.2\\n0.2\\n0.2\\n0.3\\n0.2\\n0.3\\n0.2\\n0.3\\n0.3\\n\\n\\nРасходы на культурно-бытовое обслуживание\\n0.3\\n0.2\\n0\\n0.0\\n0.1\\n0.0\\n0.1\\n0.1\\n0.2\\n0.1\\n0.2\\n0.1\\n0.5\\n0.3\\n\\n\\nРасходы на рабочую силу прочие\\n2.8\\n1.6\\n2\\n1.4\\n1.9\\n1.5\\n2.4\\n1.6\\n2.3\\n1.7\\n5.8\\n1.5\\n2.4\\n1.5\\n\\n\\nСреднемесячные затраты на рабочую силу в среднем на одного работающего, рублей\\n60234.7\\n90058.9\\n39014.4\\n64461.3\\n42972.6\\n71163.7\\n58481.2\\n85004.5\\n62261.8\\n88887.6\\n68515.6\\n97081.5\\n78524\\n108964.0\\n\\n\\nСреднемесячная заработная плата одного работающего, рублей\\n44932.9\\n68782.1\\n29855.7\\n50479.7\\n32785\\n55883.9\\n44156\\n66066.3\\n46586.3\\n67746.8\\n49423.5\\n74045.7\\n58202.1\\n81676.8\\n\\n\\n\\n\\nК содержанию\\n\\nОсновные понятия и определения', metadata={'source': 'din-zatrat-rs.xlsx'}),\n",
              " Document(page_content='Содержание:\\n\\nЗатраты организаций на рабочую силу по Российской Федерации\\n\\n\\n\\n\\n1.\\nДинамика уровня и структуры затрат организаций на рабочую силу по Российской Федерации в 1995, 1996, 1998, 2000, 2002, 2005, 2007, 2009, 2013, 2017, 2021 гг.\\n\\n\\n2.\\nСтруктура затрат организаций на рабочую силу по Российской Федерации по видам экономической деятельности в 2005, 2007, 2009, 2013 гг.\\n\\n\\n3.\\nСтруктура затрат организаций на рабочую силу по Российской Федерации по видам экономической деятельности в 2017 и 2021 гг.\\n\\n\\n4.\\nСреднемесячные и среднечасовые затраты организаций на рабочую силу по Российской Федерации по видам экономической деятельности за 2017 и 2021 гг.\\n\\n\\n5.\\nСтруктура заработной платы работников по Российской Федерации по формам собственности за 2017 и 2021 гг.\\n\\n\\n6.\\nСтруктура среднемесячных затрат на рабочую силу в зависимости от размеров организаций по Российской Федерации за 2017 и 2021 гг.\\n\\n\\n\\n\\nОсновные понятия и определения\\n\\nОтветственный исполнитель:\\n\\nШалаевская Татьяна Юрьевна\\n\\n8 (495) 568-00-42 (доб. 99-560)\\n\\nОбновлено: \\n\\nК содержанию\\n\\nДинамика уровня и структуры затрат на рабочую силу по Российской Федерации\\n\\n(по организациям (без микропредприятий) обследуемых видов экономической деятельности)\\n\\n\\n\\n\\n1995.0\\n1996.0\\n1998.0\\n2000.0\\n2002.0\\n2005.0\\n2007.0\\n2009.0\\n2013.0\\n2017.0\\n2021.0\\n\\n\\n\\n\\nСреднемесячные затраты на рабочую силу\\n\\n\\n\\n\\nрублей1)\\n1275.7\\n1919.6\\n2094.4\\n4358.6\\n7644.0\\n13336.7\\n20683.1\\n28590.4\\n45870.2\\n59902.2\\n90058.90\\n\\n\\nв процентах\\n100.0\\n100.0\\n100.0\\n100.0\\n100.0\\n100.0\\n100.0\\n100.0\\n100.0\\n100.0\\n100.00\\n\\n\\nв том числе:\\n\\n\\n\\n\\n\\n\\n\\n\\n\\n\\n\\n\\n\\nзаработная плата\\n60.5\\n59.7\\n63.2\\n65.8\\n71.8\\n76.6\\n77.9\\n78.1\\n75.4\\n75.0\\n76.37\\n\\n\\nрасходы по обеспечению работников жильем\\n4.6\\n3.5\\n2.0\\n0.7\\n0.5\\n0.4\\n0.3\\n0.3\\n0.2\\n0.1\\n0.13\\n\\n\\nрасходы на социальную защиту\\n28.3\\n29.9\\n30.2\\n29.4\\n24.4\\n19.6\\n18.5\\n18.4\\n21.5\\n22.1\\n21.50\\n\\n\\nрасходы на профессиональное обучение\\n0.3\\n0.4\\n0.3\\n0.3\\n0.3\\n0.3\\n0.3\\n0.3\\n0.3\\n0.3\\n0.23\\n\\n\\nрасходы на культурно-бытовое обслуживание\\n3.3\\n3.5\\n1.5\\n1.1\\n1.0\\n0.7\\n0.5\\n0.4\\n0.3\\n0.3\\n0.17\\n\\n\\nпрочие расходы\\n3.0\\n3.0\\n2.8\\n2.7\\n2.0\\n2.4\\n2.5\\n2.5\\n2.4\\n2.2\\n1.56\\n\\n\\n\\n\\n1) За 1995г. и 1996г. - тыс.рублей.\\xa0\\n\\nК содержанию\\n\\nСтруктура затрат на рабочую силу по Российской Федерации по видам экономической деятельности в 2005, 2007, 2009, 2013 гг.\\n\\n(по организациям (без микропредприятий) обследуемых видов экономической деятельности; в процентах)\\n\\n\\n\\n\\n\\nВсего по обследованным видам экономической деятельности\\n\\n\\n\\nДобыча полезных ископаемых\\n\\n\\n\\nОбрабатывающие производства\\n\\n\\n\\nиз них:\\n\\n\\n\\n\\n\\n\\n\\n\\n\\n\\n\\n\\n\\n\\n\\n\\n\\n\\n\\n\\n\\n\\n\\n\\n\\n\\n\\n\\n\\n\\n\\n\\n\\n\\n\\n\\n\\n\\n\\nПроизводство и распределение электроэнергии, газа и воды\\n\\n\\n\\nСтроительство\\n\\n\\n\\nОптовая и розничная торговля; ремонт автотранспортных средств, мотоциклов, бытовых изделий и предметов личного пользования\\n\\n\\n\\nГостиницы и рестораны\\n\\n\\n\\nТранспорт и связь\\n\\n\\n\\nиз них:\\n\\n\\n\\n\\n\\n\\n\\n\\n\\n\\n\\n\\n\\n\\n\\nФинансовая деятельность\\n\\n\\n\\nОперации с недвижимым имуществом, аренда и предоставление услуг\\n\\n\\n\\nСбор сточных вод, отходов и аналогичная деятельность\\n\\n\\n\\n\\n\\n\\n\\n\\n\\n\\n\\n\\n\\n\\n\\n\\n\\n\\nпроизводство пищевых продуктов, включая напитки, и табака\\n\\n\\n\\nтекстильное и швейное производство\\n\\n\\n\\nпроизводство кожи, изделий из кожи и производство обуви\\n\\n\\n\\nобработка древесины и производство изделий из дерева\\n\\n\\n\\nцеллюлозно-бумажное производство, издательская и полиграфическая деятельность\\n\\n\\n\\nхимическое производство\\n\\n\\n\\nметаллургическое производство и производство готовых металлических изделий\\n\\n\\n\\nпроизводство машин и оборудования\\n\\n\\n\\nпроизводство электрооборудования, электронного и оптическогооборудования\\n\\n\\n\\nпроизводство транспортныхсредств и оборудования\\n\\n\\n\\n\\n\\n\\n\\n\\n\\n\\n\\n\\n\\n\\n\\n\\n\\n\\n\\n\\n\\n\\n\\nдеятельность железно-дорожного транспорта\\n\\n\\n\\nдеятельность прочего сухопутного транспорта\\n\\n\\n\\nдеятельность воздушного и космического транспорта\\n\\n\\n\\nсвязь', metadata={'source': 'din-zatrat-rs.xlsx'})]"
            ]
          },
          "metadata": {},
          "execution_count": 48
        }
      ]
    },
    {
      "cell_type": "markdown",
      "source": [
        "#### Вопрос 5\n",
        "Какой процент от общих затрат на рабочую силу составляла заработная плата в 2005 году по всем обследованным видам экономической деятельности?\n",
        "\n",
        "#### Правильный ответ\n",
        "В 2005 году заработная плата составляла 76,6% от общих затрат на рабочую силу по всем обследованным видам экономической деятельности."
      ],
      "metadata": {
        "id": "m-pAwFEKTWgk"
      }
    },
    {
      "cell_type": "code",
      "source": [
        "vector_store_xlsx.similarity_search(q5)"
      ],
      "metadata": {
        "colab": {
          "base_uri": "https://localhost:8080/"
        },
        "id": "6ZgW-uqp_C6-",
        "outputId": "74d9b3d3-8990-4b38-b9e9-8f95fc60894c"
      },
      "execution_count": null,
      "outputs": [
        {
          "output_type": "execute_result",
          "data": {
            "text/plain": [
              "[Document(page_content='К содержанию\\n\\nОсновные понятия и определения\\n\\nЗатраты организаций на рабочую силу - это сумма вознаграждений работников (среднесписочной численности) в денежной и неденежной формах за отработанное и неотработанное время, расходы организации, связанные с обеспечением работников жильем, профессиональным обучением, культурно-бытовым обслуживанием, социальной защитой, включая расходы на пенсионное, медицинское и другие виды страхования, командировочные расходы, а также налоги и сборы, связанные с использованием наемной рабочей силы. В составе затрат на рабочую силу можно выделить две группы затрат: прямые и косвенные.\\nПрямые затраты включают расходы, направленные организациями непосредственно на удовлетворение потребностей работников: заработная плата, расходы на жилье, выплаты социального характера, расходы на профессиональное обучение и культурно-бытовое обслуживание, оплата проезда и другие расходы, не отнесенные к приведенным классификационным группам.\\nК косвенным затратам относятся средства, которые отчислялись в виде страховых взносов на обязательное пенсионное страхование, обязательное медицинское страхование, обязательное социальное страхование на случай временной нетрудоспособности и в связи с материнством, обязательное социальное страхование от несчастных случаев на производстве и профессиональных заболеваний.\\nСреднемесячные затраты организаций на рабочую силу - сумма затрат организаций на рабочую силу, рассчитанная на одного работника в месяц.\\nВ среднесписочную численность работников включаются работники, работавшие по трудовому договору и выполнявшие постоянную, временную, сезонную работу, как фактически работавшие, так и отсутствовавшие на работе по каким-либо причинам (находившиеся в служебных командировках, не явившиеся на работу по болезни, находившиеся в ежегодных и дополнительных отпусках и др.), а также выполнявшие работу на дому и работавшие собственники организации, получавшие заработную плату в данной организации. Работник, получивший в одной организации две или полторы ставки, учитывается как один человек. \\nРаботники, принятые на работу на неполное рабочее время, учитываются пропорционально отработанному времени.\\nЛица, принятые на работу по совместительству из других организаций, и лица, выполнявшие работу по договорам гражданско-правового характера, не включаются в среднесписочную численность работников.\\nСведения о затратах на рабочую силу собираются от организаций-юридических лиц (кроме микропредприятий) и их обособленных подразделений (на выборочной основе с распространением данных на генеральную совокупность организаций) следующих видов экономической деятельности: добыча полезных ископаемых; обрабатывающие производства; обеспечение электрической энергией, газом и паром; кондиционирование воздуха; водоснабжение; водоотведение, организация сбора и утилизации отходов, деятельность по ликвидации загрязнений; строительство; торговля оптовая и розничная; ремонт автотранспортных средств и мотоциклов; транспортировка и хранение; деятельность гостиниц и предприятий общественного питания; деятельность в области информации и связи; деятельность финансовая и страховая; деятельность по операциям с недвижимым имуществом; деятельность профессиональная, научная и техническая; деятельность административная и сопутствующие дополнительные услуги.', metadata={'source': 'din-zatrat-rs.xlsx'}),\n",
              " Document(page_content='Среднемесячные затраты, рублей\\n\\nСредние затраты на один оплаченный час, рублей\\n\\nСредние затраты на один отработанный час, рублей\\n\\nОтношение отработанного времени к оплаченному,  процентов\\n\\nДоля прямых затрат на рабочую силу в общих затратах на рабочую силу, процентов\\n\\nДоля косвенных затрат на рабочую силу в общих затратах на рабочую силу, процентов\\n\\n\\n\\n\\n2017\\n2021.0\\n2017\\n2021.0\\n2017\\n2021.0\\n2017\\n2021.0\\n2017\\n2021.0\\n2017\\n2021.0\\n\\n\\nВсего по обследуемым видам экономической деятельности\\n60234.7\\n90058.9\\n374.3\\n563.3\\n419.4\\n630.4\\n89.2\\n89.4\\n80\\n80.2\\n20\\n19.8\\n\\n\\nДобыча полезных ископаемых\\n104076.1\\n140967.4\\n622.5\\n845.1\\n722.3\\n973.6\\n86.2\\n86.8\\n80.3\\n80.0\\n19.7\\n20.0\\n\\n\\nОбрабатывающие производства\\n54154.2\\n76419.5\\n335.3\\n477.4\\n378.4\\n538.4\\n88.6\\n88.7\\n78.7\\n78.8\\n21.3\\n21.2\\n\\n\\nОбеспечение электрической энергией, газом и паром; кондиционирование воздуха\\n60654.9\\n79318.7\\n370.1\\n489.3\\n415.8\\n549.7\\n89\\n89.0\\n79.3\\n78.9\\n20.7\\n21.1\\n\\n\\nВодоснабжение; водоотведение, организация сбора и утилизации отходов, деятельность по ликвидации загрязнений\\n39596.7\\n56206.1\\n243.6\\n347.4\\n272.1\\n386.9\\n89.5\\n89.8\\n78.9\\n79.0\\n21.1\\n21.0\\n\\n\\nСтроительство\\n52301.7\\n84187.9\\n331.5\\n527.3\\n366.9\\n584.1\\n90.4\\n90.3\\n80\\n80.5\\n20\\n19.5\\n\\n\\nТорговля оптовая и розничная; ремонт автотранспортных средств и мотоциклов\\n47951.3\\n80415.1\\n303.3\\n512.7\\n334.7\\n565.4\\n90.6\\n90.7\\n79.9\\n80.0\\n20.1\\n20.0\\n\\n\\nТранспортировка и хранение\\n66788\\n84314.7\\n407.5\\n522.5\\n461.9\\n590.8\\n88.2\\n88.4\\n80.8\\n79.3\\n19.2\\n20.7\\n\\n\\nДеятельность гостиниц и предприятий общественного питания\\n33927.5\\n55573.7\\n217.2\\n360.2\\n241.2\\n402.1\\n90\\n89.6\\n78.7\\n80.1\\n21.3\\n19.9\\n\\n\\nДеятельность в области информации и связи\\n81080.5\\n131417.0\\n508.6\\n828.3\\n565.4\\n916.6\\n89.9\\n90.4\\n82.5\\n85.5\\n17.5\\n14.5\\n\\n\\nДеятельность финансовая и страховая\\n106237.3\\n175908.9\\n671.6\\n1105.0\\n746.4\\n1222.1\\n90\\n90.4\\n81.5\\n81.8\\n18.5\\n18.2\\n\\n\\nДеятельность по операциям с недвижимым имуществом\\n40254.6\\n68398.7\\n252.5\\n428.2\\n280.3\\n472.6\\n90.1\\n90.6\\n79.7\\n79.9\\n20.3\\n20.1\\n\\n\\nДеятельность профессиональная, научная и техническая\\n83563.8\\n128137.9\\n525.5\\n806.9\\n588.8\\n901.0\\n89.3\\n89.6\\n81\\n81.0\\n19\\n19.0\\n\\n\\nДеятельность административная и сопутствующие дополнительные услуги\\n36846.5\\n62926.9\\n223.5\\n392.9\\n247.2\\n434.9\\n90.4\\n90.3\\n79.4\\n80.5\\n20.6\\n19.5\\n\\n\\n\\n\\nК содержанию\\n\\nСтруктура заработной платы работников по Российской Федерации по формам собственности за 2017 и 2021  гг. \\n\\n(по организациям (без микропредприятий) обследуемых видов экономической деятельности; в процентах)\\n\\nУдельный вес элементов заработной платы в общей сумме заработной платы\\n\\n\\n\\n\\nВсего\\n\\nв том числе по организациям\\n\\n\\n\\n\\n\\n\\n\\n\\n\\n\\nгосударственным и муниципальным\\n\\nнегосударственным\\n\\n\\n\\n\\n2017\\n2021.0\\n2017\\n2021.0\\n2017\\n2021.0\\n\\n\\nЗаработная плата работников - всего\\n100\\n100.0\\n100\\n100.0\\n100\\n100.0\\n\\n\\nв том числе:\\n\\n\\n\\n\\n\\n\\n\\n\\nОплата за отработанное время, всего\\n84.5\\n83.9\\n84.5\\n84.9\\n84.6\\n83.7\\n\\n\\nв том числе:\\n\\n\\n\\n\\n\\n\\n\\n\\nоплата по тарифным ставкам и окладам,сдельным расценкам, среднему заработку\\n48.5\\n47.1\\n42.5\\n40.5\\n49.7\\n48.3\\n\\n\\nдоплаты и надбавки к тарифным ставкам и окладам\\n6.7\\n6.9\\n12\\n12.5\\n5.7\\n5.8\\n\\n\\nпремии и вознаграждения\\n17.9\\n19.1\\n17.7\\n19.8\\n17.9\\n18.9\\n\\n\\nвыплаты по районному регулированию\\n9.5\\n8.6\\n9.6\\n8.8\\n9.5\\n8.6\\n\\n\\nдругие виды оплаты труда\\n2\\n2.2\\n2.7\\n3.3\\n1.8\\n2.1\\n\\n\\nОплата за неотработанное время, всего\\n8.5\\n8.4\\n9.4\\n9.4\\n8.4\\n8.2\\n\\n\\nиз нее:\\n\\n\\n\\n\\n\\n\\n\\n\\nоплата отпусков\\n8\\n7.8\\n8.9\\n8.9\\n7.9\\n7.6\\n\\n\\nоплата времени простоя не по вине работника\\n-\\n0.1\\n-\\n0.1\\n-\\n0.1\\n\\n\\nЕдиновременные поощрительные выплаты, всего\\n6.4\\n7.2\\n5.9\\n5.5\\n6.5\\n7.6\\n\\n\\nОплата питания и проживания, всего\\n0.5\\n0.5\\n0.2\\n0.2\\n0.6\\n0.5\\n\\n\\n\\n\\nК содержанию\\n\\nСтруктура среднемесячных затрат на рабочую силу в зависимости от размеров организаций по Российской Федерации за 2017 и 2021 гг.\\n\\n(по организациям (без микропредприятий) обследуемых видов экономической деятельности; в процентах)\\n\\n\\n\\n\\n\\nПо всем организациям\\n\\nв том числе с численностью работающих, человек\\n\\n\\n\\n\\n\\n\\n\\n\\n\\n\\n\\n\\n\\n\\n\\n\\nдо 50\\n\\n50-99\\n\\n100-199\\n\\n200-499\\n\\n500-999\\n\\n1000 и более\\n\\n\\n\\n\\n2017\\n2021.0\\n2017\\n2021.0\\n2017\\n2021.0\\n2017\\n2021.0\\n2017\\n2021.0\\n2017\\n2021.0\\n2017\\n2021.0', metadata={'source': 'din-zatrat-rs.xlsx'}),\n",
              " Document(page_content='до 50\\n\\n50-99\\n\\n100-199\\n\\n200-499\\n\\n500-999\\n\\n1000 и более\\n\\n\\n\\n\\n2017\\n2021.0\\n2017\\n2021.0\\n2017\\n2021.0\\n2017\\n2021.0\\n2017\\n2021.0\\n2017\\n2021.0\\n2017\\n2021.0\\n\\n\\nВсего затрат на рабочую силу, процентов\\n100\\n100.0\\n100\\n100.0\\n100\\n100.0\\n100\\n100.0\\n100\\n100.0\\n100\\n100.0\\n100\\n100.0\\n\\n\\nв том числе:\\n\\n\\n\\n\\n\\n\\n\\n\\n\\n\\n\\n\\n\\n\\n\\n\\nЗаработная плата\\n74.6\\n76.4\\n76.5\\n78.3\\n76.3\\n78.5\\n75.5\\n77.7\\n74.8\\n76.2\\n72.1\\n76.3\\n74.1\\n75.0\\n\\n\\nоплата за отработанное время\\n63.1\\n64.0\\n68.4\\n69.5\\n67.8\\n68.5\\n65.2\\n66.8\\n63.5\\n64.3\\n60.5\\n63.8\\n60.2\\n60.5\\n\\n\\nоплата за неотработанное время\\n6.4\\n6.4\\n5.6\\n5.7\\n5.6\\n5.8\\n6\\n6.0\\n6.3\\n6.2\\n6.5\\n6.7\\n6.9\\n6.9\\n\\n\\nединовременные поощрительные выплаты\\n4.8\\n5.5\\n2.3\\n2.9\\n2.6\\n4.0\\n3.8\\n4.6\\n4.6\\n5.2\\n4.7\\n5.4\\n6.6\\n7.2\\n\\n\\nоплата питания и проживания\\n0.4\\n0.4\\n0.2\\n0.2\\n0.2\\n0.3\\n0.5\\n0.4\\n0.4\\n0.5\\n0.4\\n0.4\\n0.4\\n0.4\\n\\n\\nРасходы по обеспечению работников жильем\\n0.1\\n0.1\\n0\\n0.0\\n0.1\\n0.1\\n0.1\\n0.1\\n0.1\\n0.1\\n0.1\\n0.1\\n0.2\\n0.2\\n\\n\\nРасходы на социальную защиту работников\\n22\\n21.5\\n21.3\\n20.1\\n21.5\\n19.8\\n21.6\\n20.3\\n22.3\\n21.6\\n21.4\\n21.8\\n22.5\\n22.6\\n\\n\\nв том числе:\\n\\n\\n\\n\\n\\n\\n\\n\\n\\n\\n\\n\\n\\n\\n\\n\\nстраховые взносы на обязательное страхование,уплаченные в государственные внебюджетные фонды\\n20\\n19.8\\n20.2\\n18.9\\n20.3\\n18.5\\n20\\n18.8\\n20.4\\n20.0\\n19.3\\n20.0\\n19.9\\n20.5\\n\\n\\nдругие обязательные расходы на социальную защиту\\n0.6\\n0.5\\n0.5\\n0.5\\n0.5\\n0.5\\n0.6\\n0.6\\n0.6\\n0.5\\n0.6\\n0.5\\n0.6\\n0.5\\n\\n\\nдобровольные расходы на социальную защиту\\n1.4\\n1.2\\n0.6\\n0.7\\n0.6\\n0.7\\n1\\n1.0\\n1.3\\n1.1\\n1.5\\n1.2\\n2\\n1.6\\n\\n\\nРасходы на профессиональное обучение\\n0.3\\n0.2\\n0.2\\n0.1\\n0.2\\n0.2\\n0.2\\n0.2\\n0.3\\n0.2\\n0.3\\n0.2\\n0.3\\n0.3\\n\\n\\nРасходы на культурно-бытовое обслуживание\\n0.3\\n0.2\\n0\\n0.0\\n0.1\\n0.0\\n0.1\\n0.1\\n0.2\\n0.1\\n0.2\\n0.1\\n0.5\\n0.3\\n\\n\\nРасходы на рабочую силу прочие\\n2.8\\n1.6\\n2\\n1.4\\n1.9\\n1.5\\n2.4\\n1.6\\n2.3\\n1.7\\n5.8\\n1.5\\n2.4\\n1.5\\n\\n\\nСреднемесячные затраты на рабочую силу в среднем на одного работающего, рублей\\n60234.7\\n90058.9\\n39014.4\\n64461.3\\n42972.6\\n71163.7\\n58481.2\\n85004.5\\n62261.8\\n88887.6\\n68515.6\\n97081.5\\n78524\\n108964.0\\n\\n\\nСреднемесячная заработная плата одного работающего, рублей\\n44932.9\\n68782.1\\n29855.7\\n50479.7\\n32785\\n55883.9\\n44156\\n66066.3\\n46586.3\\n67746.8\\n49423.5\\n74045.7\\n58202.1\\n81676.8\\n\\n\\n\\n\\nК содержанию\\n\\nОсновные понятия и определения', metadata={'source': 'din-zatrat-rs.xlsx'}),\n",
              " Document(page_content='Содержание:\\n\\nЗатраты организаций на рабочую силу по Российской Федерации\\n\\n\\n\\n\\n1.\\nДинамика уровня и структуры затрат организаций на рабочую силу по Российской Федерации в 1995, 1996, 1998, 2000, 2002, 2005, 2007, 2009, 2013, 2017, 2021 гг.\\n\\n\\n2.\\nСтруктура затрат организаций на рабочую силу по Российской Федерации по видам экономической деятельности в 2005, 2007, 2009, 2013 гг.\\n\\n\\n3.\\nСтруктура затрат организаций на рабочую силу по Российской Федерации по видам экономической деятельности в 2017 и 2021 гг.\\n\\n\\n4.\\nСреднемесячные и среднечасовые затраты организаций на рабочую силу по Российской Федерации по видам экономической деятельности за 2017 и 2021 гг.\\n\\n\\n5.\\nСтруктура заработной платы работников по Российской Федерации по формам собственности за 2017 и 2021 гг.\\n\\n\\n6.\\nСтруктура среднемесячных затрат на рабочую силу в зависимости от размеров организаций по Российской Федерации за 2017 и 2021 гг.\\n\\n\\n\\n\\nОсновные понятия и определения\\n\\nОтветственный исполнитель:\\n\\nШалаевская Татьяна Юрьевна\\n\\n8 (495) 568-00-42 (доб. 99-560)\\n\\nОбновлено: \\n\\nК содержанию\\n\\nДинамика уровня и структуры затрат на рабочую силу по Российской Федерации\\n\\n(по организациям (без микропредприятий) обследуемых видов экономической деятельности)\\n\\n\\n\\n\\n1995.0\\n1996.0\\n1998.0\\n2000.0\\n2002.0\\n2005.0\\n2007.0\\n2009.0\\n2013.0\\n2017.0\\n2021.0\\n\\n\\n\\n\\nСреднемесячные затраты на рабочую силу\\n\\n\\n\\n\\nрублей1)\\n1275.7\\n1919.6\\n2094.4\\n4358.6\\n7644.0\\n13336.7\\n20683.1\\n28590.4\\n45870.2\\n59902.2\\n90058.90\\n\\n\\nв процентах\\n100.0\\n100.0\\n100.0\\n100.0\\n100.0\\n100.0\\n100.0\\n100.0\\n100.0\\n100.0\\n100.00\\n\\n\\nв том числе:\\n\\n\\n\\n\\n\\n\\n\\n\\n\\n\\n\\n\\n\\nзаработная плата\\n60.5\\n59.7\\n63.2\\n65.8\\n71.8\\n76.6\\n77.9\\n78.1\\n75.4\\n75.0\\n76.37\\n\\n\\nрасходы по обеспечению работников жильем\\n4.6\\n3.5\\n2.0\\n0.7\\n0.5\\n0.4\\n0.3\\n0.3\\n0.2\\n0.1\\n0.13\\n\\n\\nрасходы на социальную защиту\\n28.3\\n29.9\\n30.2\\n29.4\\n24.4\\n19.6\\n18.5\\n18.4\\n21.5\\n22.1\\n21.50\\n\\n\\nрасходы на профессиональное обучение\\n0.3\\n0.4\\n0.3\\n0.3\\n0.3\\n0.3\\n0.3\\n0.3\\n0.3\\n0.3\\n0.23\\n\\n\\nрасходы на культурно-бытовое обслуживание\\n3.3\\n3.5\\n1.5\\n1.1\\n1.0\\n0.7\\n0.5\\n0.4\\n0.3\\n0.3\\n0.17\\n\\n\\nпрочие расходы\\n3.0\\n3.0\\n2.8\\n2.7\\n2.0\\n2.4\\n2.5\\n2.5\\n2.4\\n2.2\\n1.56\\n\\n\\n\\n\\n1) За 1995г. и 1996г. - тыс.рублей.\\xa0\\n\\nК содержанию\\n\\nСтруктура затрат на рабочую силу по Российской Федерации по видам экономической деятельности в 2005, 2007, 2009, 2013 гг.\\n\\n(по организациям (без микропредприятий) обследуемых видов экономической деятельности; в процентах)\\n\\n\\n\\n\\n\\nВсего по обследованным видам экономической деятельности\\n\\n\\n\\nДобыча полезных ископаемых\\n\\n\\n\\nОбрабатывающие производства\\n\\n\\n\\nиз них:\\n\\n\\n\\n\\n\\n\\n\\n\\n\\n\\n\\n\\n\\n\\n\\n\\n\\n\\n\\n\\n\\n\\n\\n\\n\\n\\n\\n\\n\\n\\n\\n\\n\\n\\n\\n\\n\\n\\n\\nПроизводство и распределение электроэнергии, газа и воды\\n\\n\\n\\nСтроительство\\n\\n\\n\\nОптовая и розничная торговля; ремонт автотранспортных средств, мотоциклов, бытовых изделий и предметов личного пользования\\n\\n\\n\\nГостиницы и рестораны\\n\\n\\n\\nТранспорт и связь\\n\\n\\n\\nиз них:\\n\\n\\n\\n\\n\\n\\n\\n\\n\\n\\n\\n\\n\\n\\n\\nФинансовая деятельность\\n\\n\\n\\nОперации с недвижимым имуществом, аренда и предоставление услуг\\n\\n\\n\\nСбор сточных вод, отходов и аналогичная деятельность\\n\\n\\n\\n\\n\\n\\n\\n\\n\\n\\n\\n\\n\\n\\n\\n\\n\\n\\nпроизводство пищевых продуктов, включая напитки, и табака\\n\\n\\n\\nтекстильное и швейное производство\\n\\n\\n\\nпроизводство кожи, изделий из кожи и производство обуви\\n\\n\\n\\nобработка древесины и производство изделий из дерева\\n\\n\\n\\nцеллюлозно-бумажное производство, издательская и полиграфическая деятельность\\n\\n\\n\\nхимическое производство\\n\\n\\n\\nметаллургическое производство и производство готовых металлических изделий\\n\\n\\n\\nпроизводство машин и оборудования\\n\\n\\n\\nпроизводство электрооборудования, электронного и оптическогооборудования\\n\\n\\n\\nпроизводство транспортныхсредств и оборудования\\n\\n\\n\\n\\n\\n\\n\\n\\n\\n\\n\\n\\n\\n\\n\\n\\n\\n\\n\\n\\n\\n\\n\\nдеятельность железно-дорожного транспорта\\n\\n\\n\\nдеятельность прочего сухопутного транспорта\\n\\n\\n\\nдеятельность воздушного и космического транспорта\\n\\n\\n\\nсвязь', metadata={'source': 'din-zatrat-rs.xlsx'})]"
            ]
          },
          "metadata": {},
          "execution_count": 49
        }
      ]
    },
    {
      "cell_type": "markdown",
      "source": [
        "#### Вопрос 6\n",
        "В каком году был зафиксирован наибольший процент заработной платы в обрабатывающей промышленности и чему он равен?\n",
        "\n",
        "#### Правильный ответ\n",
        "Наибольший процент заработной платы в обрабатывающей промышленности был зафиксирован в 2007 году и составил 79,5%."
      ],
      "metadata": {
        "id": "FbUOqUEJTQN2"
      }
    },
    {
      "cell_type": "code",
      "source": [
        "vector_store_xlsx.similarity_search(q6)"
      ],
      "metadata": {
        "id": "YinqTazHNOoE",
        "colab": {
          "base_uri": "https://localhost:8080/"
        },
        "outputId": "20c84d08-f1f3-429b-dd7a-4ce3e709abe2"
      },
      "execution_count": null,
      "outputs": [
        {
          "output_type": "execute_result",
          "data": {
            "text/plain": [
              "[Document(page_content='Среднемесячные затраты, рублей\\n\\nСредние затраты на один оплаченный час, рублей\\n\\nСредние затраты на один отработанный час, рублей\\n\\nОтношение отработанного времени к оплаченному,  процентов\\n\\nДоля прямых затрат на рабочую силу в общих затратах на рабочую силу, процентов\\n\\nДоля косвенных затрат на рабочую силу в общих затратах на рабочую силу, процентов\\n\\n\\n\\n\\n2017\\n2021.0\\n2017\\n2021.0\\n2017\\n2021.0\\n2017\\n2021.0\\n2017\\n2021.0\\n2017\\n2021.0\\n\\n\\nВсего по обследуемым видам экономической деятельности\\n60234.7\\n90058.9\\n374.3\\n563.3\\n419.4\\n630.4\\n89.2\\n89.4\\n80\\n80.2\\n20\\n19.8\\n\\n\\nДобыча полезных ископаемых\\n104076.1\\n140967.4\\n622.5\\n845.1\\n722.3\\n973.6\\n86.2\\n86.8\\n80.3\\n80.0\\n19.7\\n20.0\\n\\n\\nОбрабатывающие производства\\n54154.2\\n76419.5\\n335.3\\n477.4\\n378.4\\n538.4\\n88.6\\n88.7\\n78.7\\n78.8\\n21.3\\n21.2\\n\\n\\nОбеспечение электрической энергией, газом и паром; кондиционирование воздуха\\n60654.9\\n79318.7\\n370.1\\n489.3\\n415.8\\n549.7\\n89\\n89.0\\n79.3\\n78.9\\n20.7\\n21.1\\n\\n\\nВодоснабжение; водоотведение, организация сбора и утилизации отходов, деятельность по ликвидации загрязнений\\n39596.7\\n56206.1\\n243.6\\n347.4\\n272.1\\n386.9\\n89.5\\n89.8\\n78.9\\n79.0\\n21.1\\n21.0\\n\\n\\nСтроительство\\n52301.7\\n84187.9\\n331.5\\n527.3\\n366.9\\n584.1\\n90.4\\n90.3\\n80\\n80.5\\n20\\n19.5\\n\\n\\nТорговля оптовая и розничная; ремонт автотранспортных средств и мотоциклов\\n47951.3\\n80415.1\\n303.3\\n512.7\\n334.7\\n565.4\\n90.6\\n90.7\\n79.9\\n80.0\\n20.1\\n20.0\\n\\n\\nТранспортировка и хранение\\n66788\\n84314.7\\n407.5\\n522.5\\n461.9\\n590.8\\n88.2\\n88.4\\n80.8\\n79.3\\n19.2\\n20.7\\n\\n\\nДеятельность гостиниц и предприятий общественного питания\\n33927.5\\n55573.7\\n217.2\\n360.2\\n241.2\\n402.1\\n90\\n89.6\\n78.7\\n80.1\\n21.3\\n19.9\\n\\n\\nДеятельность в области информации и связи\\n81080.5\\n131417.0\\n508.6\\n828.3\\n565.4\\n916.6\\n89.9\\n90.4\\n82.5\\n85.5\\n17.5\\n14.5\\n\\n\\nДеятельность финансовая и страховая\\n106237.3\\n175908.9\\n671.6\\n1105.0\\n746.4\\n1222.1\\n90\\n90.4\\n81.5\\n81.8\\n18.5\\n18.2\\n\\n\\nДеятельность по операциям с недвижимым имуществом\\n40254.6\\n68398.7\\n252.5\\n428.2\\n280.3\\n472.6\\n90.1\\n90.6\\n79.7\\n79.9\\n20.3\\n20.1\\n\\n\\nДеятельность профессиональная, научная и техническая\\n83563.8\\n128137.9\\n525.5\\n806.9\\n588.8\\n901.0\\n89.3\\n89.6\\n81\\n81.0\\n19\\n19.0\\n\\n\\nДеятельность административная и сопутствующие дополнительные услуги\\n36846.5\\n62926.9\\n223.5\\n392.9\\n247.2\\n434.9\\n90.4\\n90.3\\n79.4\\n80.5\\n20.6\\n19.5\\n\\n\\n\\n\\nК содержанию\\n\\nСтруктура заработной платы работников по Российской Федерации по формам собственности за 2017 и 2021  гг. \\n\\n(по организациям (без микропредприятий) обследуемых видов экономической деятельности; в процентах)\\n\\nУдельный вес элементов заработной платы в общей сумме заработной платы\\n\\n\\n\\n\\nВсего\\n\\nв том числе по организациям\\n\\n\\n\\n\\n\\n\\n\\n\\n\\n\\nгосударственным и муниципальным\\n\\nнегосударственным\\n\\n\\n\\n\\n2017\\n2021.0\\n2017\\n2021.0\\n2017\\n2021.0\\n\\n\\nЗаработная плата работников - всего\\n100\\n100.0\\n100\\n100.0\\n100\\n100.0\\n\\n\\nв том числе:\\n\\n\\n\\n\\n\\n\\n\\n\\nОплата за отработанное время, всего\\n84.5\\n83.9\\n84.5\\n84.9\\n84.6\\n83.7\\n\\n\\nв том числе:\\n\\n\\n\\n\\n\\n\\n\\n\\nоплата по тарифным ставкам и окладам,сдельным расценкам, среднему заработку\\n48.5\\n47.1\\n42.5\\n40.5\\n49.7\\n48.3\\n\\n\\nдоплаты и надбавки к тарифным ставкам и окладам\\n6.7\\n6.9\\n12\\n12.5\\n5.7\\n5.8\\n\\n\\nпремии и вознаграждения\\n17.9\\n19.1\\n17.7\\n19.8\\n17.9\\n18.9\\n\\n\\nвыплаты по районному регулированию\\n9.5\\n8.6\\n9.6\\n8.8\\n9.5\\n8.6\\n\\n\\nдругие виды оплаты труда\\n2\\n2.2\\n2.7\\n3.3\\n1.8\\n2.1\\n\\n\\nОплата за неотработанное время, всего\\n8.5\\n8.4\\n9.4\\n9.4\\n8.4\\n8.2\\n\\n\\nиз нее:\\n\\n\\n\\n\\n\\n\\n\\n\\nоплата отпусков\\n8\\n7.8\\n8.9\\n8.9\\n7.9\\n7.6\\n\\n\\nоплата времени простоя не по вине работника\\n-\\n0.1\\n-\\n0.1\\n-\\n0.1\\n\\n\\nЕдиновременные поощрительные выплаты, всего\\n6.4\\n7.2\\n5.9\\n5.5\\n6.5\\n7.6\\n\\n\\nОплата питания и проживания, всего\\n0.5\\n0.5\\n0.2\\n0.2\\n0.6\\n0.5\\n\\n\\n\\n\\nК содержанию\\n\\nСтруктура среднемесячных затрат на рабочую силу в зависимости от размеров организаций по Российской Федерации за 2017 и 2021 гг.\\n\\n(по организациям (без микропредприятий) обследуемых видов экономической деятельности; в процентах)\\n\\n\\n\\n\\n\\nПо всем организациям\\n\\nв том числе с численностью работающих, человек\\n\\n\\n\\n\\n\\n\\n\\n\\n\\n\\n\\n\\n\\n\\n\\n\\nдо 50\\n\\n50-99\\n\\n100-199\\n\\n200-499\\n\\n500-999\\n\\n1000 и более\\n\\n\\n\\n\\n2017\\n2021.0\\n2017\\n2021.0\\n2017\\n2021.0\\n2017\\n2021.0\\n2017\\n2021.0\\n2017\\n2021.0\\n2017\\n2021.0', metadata={'source': 'din-zatrat-rs.xlsx'}),\n",
              " Document(page_content='К содержанию\\n\\nОсновные понятия и определения\\n\\nЗатраты организаций на рабочую силу - это сумма вознаграждений работников (среднесписочной численности) в денежной и неденежной формах за отработанное и неотработанное время, расходы организации, связанные с обеспечением работников жильем, профессиональным обучением, культурно-бытовым обслуживанием, социальной защитой, включая расходы на пенсионное, медицинское и другие виды страхования, командировочные расходы, а также налоги и сборы, связанные с использованием наемной рабочей силы. В составе затрат на рабочую силу можно выделить две группы затрат: прямые и косвенные.\\nПрямые затраты включают расходы, направленные организациями непосредственно на удовлетворение потребностей работников: заработная плата, расходы на жилье, выплаты социального характера, расходы на профессиональное обучение и культурно-бытовое обслуживание, оплата проезда и другие расходы, не отнесенные к приведенным классификационным группам.\\nК косвенным затратам относятся средства, которые отчислялись в виде страховых взносов на обязательное пенсионное страхование, обязательное медицинское страхование, обязательное социальное страхование на случай временной нетрудоспособности и в связи с материнством, обязательное социальное страхование от несчастных случаев на производстве и профессиональных заболеваний.\\nСреднемесячные затраты организаций на рабочую силу - сумма затрат организаций на рабочую силу, рассчитанная на одного работника в месяц.\\nВ среднесписочную численность работников включаются работники, работавшие по трудовому договору и выполнявшие постоянную, временную, сезонную работу, как фактически работавшие, так и отсутствовавшие на работе по каким-либо причинам (находившиеся в служебных командировках, не явившиеся на работу по болезни, находившиеся в ежегодных и дополнительных отпусках и др.), а также выполнявшие работу на дому и работавшие собственники организации, получавшие заработную плату в данной организации. Работник, получивший в одной организации две или полторы ставки, учитывается как один человек. \\nРаботники, принятые на работу на неполное рабочее время, учитываются пропорционально отработанному времени.\\nЛица, принятые на работу по совместительству из других организаций, и лица, выполнявшие работу по договорам гражданско-правового характера, не включаются в среднесписочную численность работников.\\nСведения о затратах на рабочую силу собираются от организаций-юридических лиц (кроме микропредприятий) и их обособленных подразделений (на выборочной основе с распространением данных на генеральную совокупность организаций) следующих видов экономической деятельности: добыча полезных ископаемых; обрабатывающие производства; обеспечение электрической энергией, газом и паром; кондиционирование воздуха; водоснабжение; водоотведение, организация сбора и утилизации отходов, деятельность по ликвидации загрязнений; строительство; торговля оптовая и розничная; ремонт автотранспортных средств и мотоциклов; транспортировка и хранение; деятельность гостиниц и предприятий общественного питания; деятельность в области информации и связи; деятельность финансовая и страховая; деятельность по операциям с недвижимым имуществом; деятельность профессиональная, научная и техническая; деятельность административная и сопутствующие дополнительные услуги.', metadata={'source': 'din-zatrat-rs.xlsx'}),\n",
              " Document(page_content='до 50\\n\\n50-99\\n\\n100-199\\n\\n200-499\\n\\n500-999\\n\\n1000 и более\\n\\n\\n\\n\\n2017\\n2021.0\\n2017\\n2021.0\\n2017\\n2021.0\\n2017\\n2021.0\\n2017\\n2021.0\\n2017\\n2021.0\\n2017\\n2021.0\\n\\n\\nВсего затрат на рабочую силу, процентов\\n100\\n100.0\\n100\\n100.0\\n100\\n100.0\\n100\\n100.0\\n100\\n100.0\\n100\\n100.0\\n100\\n100.0\\n\\n\\nв том числе:\\n\\n\\n\\n\\n\\n\\n\\n\\n\\n\\n\\n\\n\\n\\n\\n\\nЗаработная плата\\n74.6\\n76.4\\n76.5\\n78.3\\n76.3\\n78.5\\n75.5\\n77.7\\n74.8\\n76.2\\n72.1\\n76.3\\n74.1\\n75.0\\n\\n\\nоплата за отработанное время\\n63.1\\n64.0\\n68.4\\n69.5\\n67.8\\n68.5\\n65.2\\n66.8\\n63.5\\n64.3\\n60.5\\n63.8\\n60.2\\n60.5\\n\\n\\nоплата за неотработанное время\\n6.4\\n6.4\\n5.6\\n5.7\\n5.6\\n5.8\\n6\\n6.0\\n6.3\\n6.2\\n6.5\\n6.7\\n6.9\\n6.9\\n\\n\\nединовременные поощрительные выплаты\\n4.8\\n5.5\\n2.3\\n2.9\\n2.6\\n4.0\\n3.8\\n4.6\\n4.6\\n5.2\\n4.7\\n5.4\\n6.6\\n7.2\\n\\n\\nоплата питания и проживания\\n0.4\\n0.4\\n0.2\\n0.2\\n0.2\\n0.3\\n0.5\\n0.4\\n0.4\\n0.5\\n0.4\\n0.4\\n0.4\\n0.4\\n\\n\\nРасходы по обеспечению работников жильем\\n0.1\\n0.1\\n0\\n0.0\\n0.1\\n0.1\\n0.1\\n0.1\\n0.1\\n0.1\\n0.1\\n0.1\\n0.2\\n0.2\\n\\n\\nРасходы на социальную защиту работников\\n22\\n21.5\\n21.3\\n20.1\\n21.5\\n19.8\\n21.6\\n20.3\\n22.3\\n21.6\\n21.4\\n21.8\\n22.5\\n22.6\\n\\n\\nв том числе:\\n\\n\\n\\n\\n\\n\\n\\n\\n\\n\\n\\n\\n\\n\\n\\n\\nстраховые взносы на обязательное страхование,уплаченные в государственные внебюджетные фонды\\n20\\n19.8\\n20.2\\n18.9\\n20.3\\n18.5\\n20\\n18.8\\n20.4\\n20.0\\n19.3\\n20.0\\n19.9\\n20.5\\n\\n\\nдругие обязательные расходы на социальную защиту\\n0.6\\n0.5\\n0.5\\n0.5\\n0.5\\n0.5\\n0.6\\n0.6\\n0.6\\n0.5\\n0.6\\n0.5\\n0.6\\n0.5\\n\\n\\nдобровольные расходы на социальную защиту\\n1.4\\n1.2\\n0.6\\n0.7\\n0.6\\n0.7\\n1\\n1.0\\n1.3\\n1.1\\n1.5\\n1.2\\n2\\n1.6\\n\\n\\nРасходы на профессиональное обучение\\n0.3\\n0.2\\n0.2\\n0.1\\n0.2\\n0.2\\n0.2\\n0.2\\n0.3\\n0.2\\n0.3\\n0.2\\n0.3\\n0.3\\n\\n\\nРасходы на культурно-бытовое обслуживание\\n0.3\\n0.2\\n0\\n0.0\\n0.1\\n0.0\\n0.1\\n0.1\\n0.2\\n0.1\\n0.2\\n0.1\\n0.5\\n0.3\\n\\n\\nРасходы на рабочую силу прочие\\n2.8\\n1.6\\n2\\n1.4\\n1.9\\n1.5\\n2.4\\n1.6\\n2.3\\n1.7\\n5.8\\n1.5\\n2.4\\n1.5\\n\\n\\nСреднемесячные затраты на рабочую силу в среднем на одного работающего, рублей\\n60234.7\\n90058.9\\n39014.4\\n64461.3\\n42972.6\\n71163.7\\n58481.2\\n85004.5\\n62261.8\\n88887.6\\n68515.6\\n97081.5\\n78524\\n108964.0\\n\\n\\nСреднемесячная заработная плата одного работающего, рублей\\n44932.9\\n68782.1\\n29855.7\\n50479.7\\n32785\\n55883.9\\n44156\\n66066.3\\n46586.3\\n67746.8\\n49423.5\\n74045.7\\n58202.1\\n81676.8\\n\\n\\n\\n\\nК содержанию\\n\\nОсновные понятия и определения', metadata={'source': 'din-zatrat-rs.xlsx'}),\n",
              " Document(page_content='Содержание:\\n\\nЗатраты организаций на рабочую силу по Российской Федерации\\n\\n\\n\\n\\n1.\\nДинамика уровня и структуры затрат организаций на рабочую силу по Российской Федерации в 1995, 1996, 1998, 2000, 2002, 2005, 2007, 2009, 2013, 2017, 2021 гг.\\n\\n\\n2.\\nСтруктура затрат организаций на рабочую силу по Российской Федерации по видам экономической деятельности в 2005, 2007, 2009, 2013 гг.\\n\\n\\n3.\\nСтруктура затрат организаций на рабочую силу по Российской Федерации по видам экономической деятельности в 2017 и 2021 гг.\\n\\n\\n4.\\nСреднемесячные и среднечасовые затраты организаций на рабочую силу по Российской Федерации по видам экономической деятельности за 2017 и 2021 гг.\\n\\n\\n5.\\nСтруктура заработной платы работников по Российской Федерации по формам собственности за 2017 и 2021 гг.\\n\\n\\n6.\\nСтруктура среднемесячных затрат на рабочую силу в зависимости от размеров организаций по Российской Федерации за 2017 и 2021 гг.\\n\\n\\n\\n\\nОсновные понятия и определения\\n\\nОтветственный исполнитель:\\n\\nШалаевская Татьяна Юрьевна\\n\\n8 (495) 568-00-42 (доб. 99-560)\\n\\nОбновлено: \\n\\nК содержанию\\n\\nДинамика уровня и структуры затрат на рабочую силу по Российской Федерации\\n\\n(по организациям (без микропредприятий) обследуемых видов экономической деятельности)\\n\\n\\n\\n\\n1995.0\\n1996.0\\n1998.0\\n2000.0\\n2002.0\\n2005.0\\n2007.0\\n2009.0\\n2013.0\\n2017.0\\n2021.0\\n\\n\\n\\n\\nСреднемесячные затраты на рабочую силу\\n\\n\\n\\n\\nрублей1)\\n1275.7\\n1919.6\\n2094.4\\n4358.6\\n7644.0\\n13336.7\\n20683.1\\n28590.4\\n45870.2\\n59902.2\\n90058.90\\n\\n\\nв процентах\\n100.0\\n100.0\\n100.0\\n100.0\\n100.0\\n100.0\\n100.0\\n100.0\\n100.0\\n100.0\\n100.00\\n\\n\\nв том числе:\\n\\n\\n\\n\\n\\n\\n\\n\\n\\n\\n\\n\\n\\nзаработная плата\\n60.5\\n59.7\\n63.2\\n65.8\\n71.8\\n76.6\\n77.9\\n78.1\\n75.4\\n75.0\\n76.37\\n\\n\\nрасходы по обеспечению работников жильем\\n4.6\\n3.5\\n2.0\\n0.7\\n0.5\\n0.4\\n0.3\\n0.3\\n0.2\\n0.1\\n0.13\\n\\n\\nрасходы на социальную защиту\\n28.3\\n29.9\\n30.2\\n29.4\\n24.4\\n19.6\\n18.5\\n18.4\\n21.5\\n22.1\\n21.50\\n\\n\\nрасходы на профессиональное обучение\\n0.3\\n0.4\\n0.3\\n0.3\\n0.3\\n0.3\\n0.3\\n0.3\\n0.3\\n0.3\\n0.23\\n\\n\\nрасходы на культурно-бытовое обслуживание\\n3.3\\n3.5\\n1.5\\n1.1\\n1.0\\n0.7\\n0.5\\n0.4\\n0.3\\n0.3\\n0.17\\n\\n\\nпрочие расходы\\n3.0\\n3.0\\n2.8\\n2.7\\n2.0\\n2.4\\n2.5\\n2.5\\n2.4\\n2.2\\n1.56\\n\\n\\n\\n\\n1) За 1995г. и 1996г. - тыс.рублей.\\xa0\\n\\nК содержанию\\n\\nСтруктура затрат на рабочую силу по Российской Федерации по видам экономической деятельности в 2005, 2007, 2009, 2013 гг.\\n\\n(по организациям (без микропредприятий) обследуемых видов экономической деятельности; в процентах)\\n\\n\\n\\n\\n\\nВсего по обследованным видам экономической деятельности\\n\\n\\n\\nДобыча полезных ископаемых\\n\\n\\n\\nОбрабатывающие производства\\n\\n\\n\\nиз них:\\n\\n\\n\\n\\n\\n\\n\\n\\n\\n\\n\\n\\n\\n\\n\\n\\n\\n\\n\\n\\n\\n\\n\\n\\n\\n\\n\\n\\n\\n\\n\\n\\n\\n\\n\\n\\n\\n\\n\\nПроизводство и распределение электроэнергии, газа и воды\\n\\n\\n\\nСтроительство\\n\\n\\n\\nОптовая и розничная торговля; ремонт автотранспортных средств, мотоциклов, бытовых изделий и предметов личного пользования\\n\\n\\n\\nГостиницы и рестораны\\n\\n\\n\\nТранспорт и связь\\n\\n\\n\\nиз них:\\n\\n\\n\\n\\n\\n\\n\\n\\n\\n\\n\\n\\n\\n\\n\\nФинансовая деятельность\\n\\n\\n\\nОперации с недвижимым имуществом, аренда и предоставление услуг\\n\\n\\n\\nСбор сточных вод, отходов и аналогичная деятельность\\n\\n\\n\\n\\n\\n\\n\\n\\n\\n\\n\\n\\n\\n\\n\\n\\n\\n\\nпроизводство пищевых продуктов, включая напитки, и табака\\n\\n\\n\\nтекстильное и швейное производство\\n\\n\\n\\nпроизводство кожи, изделий из кожи и производство обуви\\n\\n\\n\\nобработка древесины и производство изделий из дерева\\n\\n\\n\\nцеллюлозно-бумажное производство, издательская и полиграфическая деятельность\\n\\n\\n\\nхимическое производство\\n\\n\\n\\nметаллургическое производство и производство готовых металлических изделий\\n\\n\\n\\nпроизводство машин и оборудования\\n\\n\\n\\nпроизводство электрооборудования, электронного и оптическогооборудования\\n\\n\\n\\nпроизводство транспортныхсредств и оборудования\\n\\n\\n\\n\\n\\n\\n\\n\\n\\n\\n\\n\\n\\n\\n\\n\\n\\n\\n\\n\\n\\n\\n\\nдеятельность железно-дорожного транспорта\\n\\n\\n\\nдеятельность прочего сухопутного транспорта\\n\\n\\n\\nдеятельность воздушного и космического транспорта\\n\\n\\n\\nсвязь', metadata={'source': 'din-zatrat-rs.xlsx'})]"
            ]
          },
          "metadata": {},
          "execution_count": 50
        }
      ]
    },
    {
      "cell_type": "code",
      "source": [],
      "metadata": {
        "id": "ym0E6UKGPLRR"
      },
      "execution_count": null,
      "outputs": []
    }
  ]
}