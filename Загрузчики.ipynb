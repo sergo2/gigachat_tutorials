{
  "nbformat": 4,
  "nbformat_minor": 0,
  "metadata": {
    "colab": {
      "provenance": [],
      "include_colab_link": true
    },
    "kernelspec": {
      "name": "python3",
      "display_name": "Python 3"
    },
    "language_info": {
      "name": "python"
    }
  },
  "cells": [
    {
      "cell_type": "markdown",
      "metadata": {
        "id": "view-in-github",
        "colab_type": "text"
      },
      "source": [
        "<a href=\"https://colab.research.google.com/github/sergo2/gigachat_tutorials/blob/main/%D0%97%D0%B0%D0%B3%D1%80%D1%83%D0%B7%D1%87%D0%B8%D0%BA%D0%B8.ipynb\" target=\"_parent\"><img src=\"https://colab.research.google.com/assets/colab-badge.svg\" alt=\"Open In Colab\"/></a>"
      ]
    },
    {
      "cell_type": "markdown",
      "source": [
        "# Загрузчики документов для RAG и других цепочек GigaChain/LangChain\n",
        "\n",
        "Создание вопросно-ответных систем или иных приложений, где большая языковая модель взаимодействует с контекстом, нужны подготовленные тексты из внешних источников. Очень часто источниками этих текстов являются файлы различных форматов. В этом туториале мы познакомимся с работой некоторых загрузчиков, которые есть в библиотеке GigaChain/LangChain, позволяющих извлекать тексты из файлов. Мы рассмотрим примеры как обычных текстовых файлов, так и табличных документов. Загрузчики представляют собой интеграции внешних библиотек. В результате при работе с любыми источниками используется один и тот же интерфейс и единый формат выдаваемых на выходе данных, что облегчает разработку приложений.\n",
        "\n",
        "На основе извлеченных текстовых данных мы создадим векторные базы данных с эмбеддингами, а затем сделаем ряд запросов к этим базам данных, чтобы проверить, насколько возвращаемые фрагменты релевантны запросам.\n",
        "\n",
        "Давайте приступим!"
      ],
      "metadata": {
        "id": "1vUstIlJXqv7"
      }
    },
    {
      "cell_type": "markdown",
      "source": [
        "## Установим необходимые библиотеки"
      ],
      "metadata": {
        "id": "SdSXDJaAWzmg"
      }
    },
    {
      "cell_type": "code",
      "execution_count": 14,
      "metadata": {
        "id": "2Wtz2wO9JMHc"
      },
      "outputs": [],
      "source": [
        "!pip install gigachain gigachain-community unstructured[all-docs] faiss-cpu sentence-transformers --quiet"
      ]
    },
    {
      "cell_type": "markdown",
      "source": [
        "## Текстовые данные\n",
        "В этом разделе мы рассмотрим загрузчики для текстовых данных: PDF и DOCX файлов.\n",
        "\n",
        "В арсенале GigaChain есть несколько загрузчиков под каждый из этих типов файлов. Мы воспользуемся `UnstructuredWordDocumentLoader` и `UnstructuredPDFLoader` для DOCX и PDF соответственно. Другие варианты загрузчиков можно посмотреть по ссылкам:\n",
        "- [DOCX](https://python.langchain.com/v0.1/docs/integrations/document_loaders/microsoft_word/);\n",
        "- [PDF](https://python.langchain.com/v0.1/docs/modules/data_connection/document_loaders/pdf/).\n",
        "\n",
        "В качестве текстов используем статью:\n",
        "\n",
        "*Голиков А.А., Акимов Д.А., Романовский М.С., Тращенков С.В. — Аспекты создания корпоративной вопросно-ответной системы с использованием генеративных предобученных языковых моделей // Litera. – 2023. – No 12. – С. 190 - 205. DOI: 10.25136/2409-8698.2023.12.69353 EDN: FSTHRW URL: https://nbpublish.com/library_read_article.php?id=69353*\n"
      ],
      "metadata": {
        "id": "WrBSAV6nW-ys"
      }
    },
    {
      "cell_type": "markdown",
      "source": [
        "### Создание фрагментов на основе PDF\n",
        "\n",
        "Для подготовки фрагментов используем `RecursiveCharacterTextSplitter`. Зададим приблизительный размер фрагмента и количество символов перекрытия. Сплиттер можно передать в метод `load_and_split()`. На выходе получим список документов `Document`."
      ],
      "metadata": {
        "id": "KLQrEuJE3Zuc"
      }
    },
    {
      "cell_type": "code",
      "source": [
        "from langchain_community.document_loaders import PyPDFLoader\n",
        "from langchain.text_splitter import RecursiveCharacterTextSplitter\n",
        "\n",
        "text_splitter = RecursiveCharacterTextSplitter(chunk_size=700,\n",
        "                                              chunk_overlap=100)\n",
        "loader = PyPDFLoader(\"https://api.hostize.com/files/IWrHyUJA_M/download/file.pdf\")\n",
        "\n",
        "splitted_data = loader.load_and_split(text_splitter)"
      ],
      "metadata": {
        "id": "RHCxpBtI1E7R"
      },
      "execution_count": 32,
      "outputs": []
    },
    {
      "cell_type": "markdown",
      "source": [
        "Посмотрим сколько фрагментов получилось."
      ],
      "metadata": {
        "id": "Iqexlawv51qE"
      }
    },
    {
      "cell_type": "code",
      "source": [
        "len(splitted_data)"
      ],
      "metadata": {
        "colab": {
          "base_uri": "https://localhost:8080/"
        },
        "id": "_gMkoSUn57Th",
        "outputId": "62031cf1-cb1c-4495-8954-ddebc9dac8e6"
      },
      "execution_count": 33,
      "outputs": [
        {
          "output_type": "execute_result",
          "data": {
            "text/plain": [
              "41"
            ]
          },
          "metadata": {},
          "execution_count": 33
        }
      ]
    },
    {
      "cell_type": "markdown",
      "source": [
        "Выведем на экран два соседних фрагмента, чтобы показать перекрытие."
      ],
      "metadata": {
        "id": "XxD1KOcL6Iwz"
      }
    },
    {
      "cell_type": "code",
      "source": [
        "splitted_data[0]"
      ],
      "metadata": {
        "colab": {
          "base_uri": "https://localhost:8080/"
        },
        "id": "Fftykec16N0o",
        "outputId": "d6c46f1c-e278-4a29-a926-75ec48d60255"
      },
      "execution_count": 38,
      "outputs": [
        {
          "output_type": "execute_result",
          "data": {
            "text/plain": [
              "Document(metadata={'source': 'https://api.hostize.com/files/IWrHyUJA_M/download/file.pdf', 'page': 0}, page_content='1 \\n \\nЦЕННЫЕ БУМАГИ, СОСТАВЛЯЮЩИЕ НАСТОЯЩИЙ ВЫПУСК, ЯВЛЯЮТСЯ ЦЕННЫМИ \\nБУМАГАМИ, ПРЕДНАЗНАЧЕННЫМИ ДЛЯ КВАЛИФИЦИРОВАННЫХ ИНВЕСТОРОВ, И \\nОГРАНИЧЕНЫ В ОБОРОТЕ В СООТВЕТСТВИИ С ЗАКОНОДАТЕЛЬСТВОМ РОССИЙСКОЙ \\nФЕДЕРАЦИИ \\n \\nСООБЩЕНИЕ О КЛЮЧЕВЫХ УСЛОВИЯХ ВЫПУСКА \\nСТРУКТУРНЫХ ОБЛИГАЦИЙ АО «СБЕРБАНК КИБ» \\n \\nДата приказа  Президента АО «Сбербанк КИБ»  об утверждении настоящего Сообщения  о ключевых условиях \\nвыпуска структурных облигаций АО «Сбербанк КИБ» (далее – «Сообщение»): 29 октября 2024 г. \\n \\nВид, категория (тип), серия, номер и дата государственной регистрации выпуска ценных бумаг и иные \\nидентификационные признаки размещаемых ценных бумаг: структурные процентные дисконтные')"
            ]
          },
          "metadata": {},
          "execution_count": 38
        }
      ]
    },
    {
      "cell_type": "code",
      "source": [
        "splitted_data[2]"
      ],
      "metadata": {
        "colab": {
          "base_uri": "https://localhost:8080/"
        },
        "id": "0p5PqXzW61zQ",
        "outputId": "70847b63-b399-4625-e6d7-3638b7a5df92"
      },
      "execution_count": 28,
      "outputs": [
        {
          "output_type": "execute_result",
          "data": {
            "text/plain": [
              "Document(metadata={'source': 'https://file.com.ru/download/zeyT7UoerDfBCoC/qLQ3668KK319j/SKUV.pdf', 'page': 0}, page_content='Интернет исключительно для информирования потенциальных покупателей – квалифицированных инвесторов \\nОблигаций о сведениях о ключевых условиях выпуска структурных облигаций Эмитента (далее – «СО», \\n«Облигации») и не может быть воспроизведен, передан или распространен далее представителям СМИ или любому \\nиному лицу либо опубликован полностью или частично для каких-либо целей. \\nСодержание настоящего Сообщения о ключевых условиях выпуска не является рекламой СО Эмитента или \\nпредложением, обязательств ом, рекомендацией, индивидуальной инвестиционной рекомендацией, побуждением \\nсовершать операции на финансовом рынке. Несмотря на получение информации из Сообщения о ключевых \\nусловиях выпуска, Вы самостоятельно принимаете все инвестиционные решения и обеспеч иваете соответствие \\nтаких решений Вашему инвестиционному профилю в целом и в частности Вашим личным представлениям об \\nожидаемой доходности от операций с СО, о периоде времени, за который определяется такая доходность, а также о')"
            ]
          },
          "metadata": {},
          "execution_count": 28
        }
      ]
    },
    {
      "cell_type": "markdown",
      "source": [
        "### Создание векторных представлений и векторного хранилища\n",
        "\n",
        "В этом туториале опять используем модель [`paraphrase-multilingual-mpnet-base-v2`](https://huggingface.co/sentence-transformers/paraphrase-multilingual-mpnet-base-v2) для векторизации фрагментов.\n",
        "\n",
        "В качестве хранилища опять используем `FAISS`. Помимо этой векторной БД в GigaChain/LangChain есть большое количество интеграций с векторными хранилищами, как локальными так и облачными.\n",
        "Перечень доступных векторных хранилищ можно посмотреть [здесь](https://python.langchain.com/v0.2/docs/integrations/vectorstores/)."
      ],
      "metadata": {
        "id": "MGM698e75TXw"
      }
    },
    {
      "cell_type": "code",
      "source": [
        "from langchain.embeddings import HuggingFaceEmbeddings\n",
        "from langchain.vectorstores.faiss import FAISS"
      ],
      "metadata": {
        "id": "zYVkZulb2vIq"
      },
      "execution_count": 19,
      "outputs": []
    },
    {
      "cell_type": "code",
      "source": [
        "%%time\n",
        "model_name = \"sentence-transformers/paraphrase-multilingual-mpnet-base-v2\"\n",
        "model_kwargs = {'device': 'cpu'}\n",
        "encode_kwargs = {'normalize_embeddings': False}\n",
        "embedding = HuggingFaceEmbeddings(model_name=model_name,\n",
        "                                  model_kwargs=model_kwargs,\n",
        "                                  encode_kwargs=encode_kwargs)\n",
        "\n",
        "vector_store = FAISS.from_documents(splitted_data, embedding=embedding)"
      ],
      "metadata": {
        "colab": {
          "base_uri": "https://localhost:8080/"
        },
        "id": "76dycmMy22OP",
        "outputId": "e5d6748e-6a7a-4756-8785-7fc6ac94d91d",
        "collapsed": true
      },
      "execution_count": 35,
      "outputs": [
        {
          "output_type": "stream",
          "name": "stderr",
          "text": [
            "/usr/local/lib/python3.10/dist-packages/transformers/tokenization_utils_base.py:1601: FutureWarning: `clean_up_tokenization_spaces` was not set. It will be set to `True` by default. This behavior will be depracted in transformers v4.45, and will be then set to `False` by default. For more details check this issue: https://github.com/huggingface/transformers/issues/31884\n",
            "  warnings.warn(\n"
          ]
        },
        {
          "output_type": "stream",
          "name": "stdout",
          "text": [
            "CPU times: user 18.4 s, sys: 1.82 s, total: 20.2 s\n",
            "Wall time: 21.4 s\n"
          ]
        }
      ]
    },
    {
      "cell_type": "markdown",
      "source": [
        "### Поиск по векторной БД релевантных фрагментов для запросов пользователя\n",
        "Зададим несколько вопросов по тексту статьи.\n",
        "\n",
        "- Какой размер чанков показал наибольшую точность ответов при использовании фреймворка Haystack?\n",
        "- Какие метрики использовались для оценки эффективности использования генеративных предобученных языковых моделей в статье?\n",
        "- Имя какого английского писателя упомянается в статье?"
      ],
      "metadata": {
        "id": "Xy92s6gR-Cit"
      }
    },
    {
      "cell_type": "code",
      "source": [
        "q1 = 'Кто эмитент структурной облигации CIB-CO-EQ-001S-09?'\n",
        "q2 = 'Какой базовый актив в структурной облигации CIB-CO-EQ-001S-09?'\n",
        "q3 = 'Какие даты выплаты структурного дохода?'"
      ],
      "metadata": {
        "id": "F7UZ0Fhv-tXf"
      },
      "execution_count": 36,
      "outputs": []
    },
    {
      "cell_type": "markdown",
      "source": [
        "#### Вопрос 1\n",
        "Какой размер чанков показал наибольшую точность ответов при использовании фреймворка Haystack?\n",
        "\n",
        "#### Правильный ответ\n",
        "Размер чанков 100, 200 и 1000 токенов показал одинаковую наибольшую точность ответов (0.7) при использовании фреймворка Haystack."
      ],
      "metadata": {
        "id": "OeoGnhoSA1pG"
      }
    },
    {
      "cell_type": "code",
      "source": [
        "vector_store.similarity_search(q1)"
      ],
      "metadata": {
        "colab": {
          "base_uri": "https://localhost:8080/"
        },
        "id": "TgpSKvGm9aI9",
        "outputId": "b31802c7-ae69-4916-f54d-dfd7109f92e9"
      },
      "execution_count": 22,
      "outputs": [
        {
          "output_type": "execute_result",
          "data": {
            "text/plain": [
              "[Document(metadata={'source': 'https://file.com.ru/download/zeyT7UoerDfBCoC/qLQ3668KK319j/SKUV.pdf', 'page': 1}, page_content='2 \\n \\nСообщение о ключевых условиях выпуска является документом, предназначенным для инфо рмирования \\nпотенциальных покупателей Облигаций  – квалифицированных инвесторов об условиях выпуска СО и решениях, \\nпринятых Эмитентом в отношении выпуска СО. \\nВозврат инвесторам номинальной стоимости СО и/или выплата структурного дохода по СО зависит от наступления \\nили не наступления обстоятельств, указанных в эмиссионной документации СО, такие обстоятельства в частности \\nмогут включать в себя наступление определенных событий (далее – «Барьерное событие») в связи с \\nнеблагоприятным изменением цены (значений) Базовых активов. Таким образом риск инвестора проявляется в \\nнеблагоприятном изменении цены ( значений) Базовых активов - в том числе из -за неблагоприятного изменения \\nполитической ситуации, резкой девальвации национальной валюты, кризиса рынка государственны х долговых \\nобязательств, банковского и валютного кризиса, обстоятельств непреодолимой силы, главным образом стихийного'),\n",
              " Document(metadata={'source': 'https://file.com.ru/download/zeyT7UoerDfBCoC/qLQ3668KK319j/SKUV.pdf', 'page': 0}, page_content='допустимом для Вас риске убы тков от таких операций, принимая во внимание, что структурные облигации в \\nсоответствии с законодательством Российской Федерации являются долговыми ценными бумагами без защиты \\nкапитала, неся в себе таким образом риск полного или частичного невозврата инвест орам номинальной стоимости \\nэтих инструментов и/или структурного дохода по ним. Эмитент не гарантирует доходов от указанных в данном \\nСообщении о ключевых условиях выпуска СО и не несет ответственности за результаты Ваших инвестиционных \\nрешений, принятых на основании предоставленной Эмитентом информации. \\nЛюбое приобретение СО должно осуществляться исключительно на основании сведений, содержащихся в \\nэмиссионной документации СО.'),\n",
              " Document(metadata={'source': 'https://file.com.ru/download/zeyT7UoerDfBCoC/qLQ3668KK319j/SKUV.pdf', 'page': 7}, page_content='Базового актива»), если о таком событии Эмитенту стало известно из \\nобщедоступных источников \\nили \\nb) даты получения Эмитентом уведомления Расчетного агента о \\nнаступлении События нарушения в зависимости от того, какое из событий, \\nуказанных в пунктах a) и b), наступит ранее, но не позднее Даты погашения \\nОблигаций. \\n5.16.  Размер выплат при \\nдосрочном погашении \\nОблигаций в Дату \\nдосрочного погашения \\nв связи с наступлением \\nСобытия нарушения \\nОпределяется Расчётным агентом, действующим в соответствии с разумными \\nкоммерческими принципами (за исключением Биржевого нарушения для целей \\nдосрочного погашения). \\nДля Биржевого нарушения для целей досрочного погашения: по цене, равной \\nЦене размещения Облигаций. \\nСумма выплаты в рублях РФ, выплачиваемая при досрочном погашении на \\nодну Облигацию, округляется до 2 знаков после запятой в соответствии с \\nматематическими правилами округления. \\n \\n6. ИНЫЕ УСЛОВИЯ \\n6.1.  Иные основания для \\nпредъявления \\nтребований о \\nдосрочном погашении'),\n",
              " Document(metadata={'source': 'https://file.com.ru/download/zeyT7UoerDfBCoC/qLQ3668KK319j/SKUV.pdf', 'page': 7}, page_content='8 \\n \\nдосрочного погашения \\nи определения выплат \\nпо Облигациям при \\nпогашении \\n5.13.  Период наблюдения \\nБиржевого нарушения \\nдля целей досрочного \\nпогашения \\nС Даты определения Начальной цены Базового актива по 8-й Рабочий день, \\nследующий за Датой определения Начальной цены Базового актива (обе даты \\nвключительно) \\n5.14.  Период, в течение \\nкоторого Расчётный \\nагент может \\nпредоставить \\nЭмитенту \\nинформацию о факте \\nнаступления События \\nНарушения для целей \\nдосрочного погашения \\nС Даты начала размещения Облигаций по 5-й Рабочий день, предшествующий \\nДате погашения Облигаций (обе даты - включительно). \\n \\n5.15.  Дата досрочного \\nпогашения Облигаций \\nв связи с наступлением \\nСобытия нарушения  \\n5-й Рабочий день после: \\na) даты наступления События нарушения (с учетом положений, \\nописанных в разделе «Дополнительные процедуры определения цены \\nБазового актива»), если о таком событии Эмитенту стало известно из \\nобщедоступных источников \\nили')]"
            ]
          },
          "metadata": {},
          "execution_count": 22
        }
      ]
    },
    {
      "cell_type": "markdown",
      "source": [
        "#### Вопрос 2\n",
        "Какие метрики использовались для оценки эффективности использования генеративных предобученных языковых моделей в статье?\n",
        "\n",
        "#### Правильный ответ\n",
        "Для оценки эффективности использования генеративных предобученных языковых моделей использовалась метрика EM (exact match)."
      ],
      "metadata": {
        "id": "rrciD8VlBQxE"
      }
    },
    {
      "cell_type": "code",
      "source": [
        "vector_store.similarity_search(q2)"
      ],
      "metadata": {
        "colab": {
          "base_uri": "https://localhost:8080/"
        },
        "id": "g9n9aPtu_lzo",
        "outputId": "bd5032bb-d468-43a7-962d-94f6808491f2"
      },
      "execution_count": 23,
      "outputs": [
        {
          "output_type": "execute_result",
          "data": {
            "text/plain": [
              "[Document(metadata={'source': 'https://file.com.ru/download/zeyT7UoerDfBCoC/qLQ3668KK319j/SKUV.pdf', 'page': 2}, page_content='на «Биржу Базового актива» будут считаться ссылками на Новую Биржу \\nБазового актива.  \\nВ случае дробления, консолидации или конвертации Базового актива, цены \\nБазового актива (включая пересмотр Начальной цены Базового актива) \\nопределяются с учётом коэффициента дробления, консолидации или \\nконвертации, указанного в общедоступной информации. \\nВ случае слияния, поглощения или иного события, в результате которого \\nБазовый актив («Заменяемый Базовый актив») перестаёт существовать (кроме \\nбанкротства эмитента Базового актива), делистинга Базового актива, а также в \\nслучае наступления обстоятельств, результатом которых стало отсутствие \\nторгов Базовым активом на Бирже Базового актива в период 8 \\nпоследовательных Рабочих дней, в которые торги Базовым активом должны бы \\nбыли осуществляться в отсутствие указанных в настоящем абзаце \\nобстоятельств, Базовым активом будет считаться обыкновенная акция или иная \\nдолевая ценная бумага, выбранная Расчётным агентом из перечня'),\n",
              " Document(metadata={'source': 'https://file.com.ru/download/zeyT7UoerDfBCoC/qLQ3668KK319j/SKUV.pdf', 'page': 4}, page_content='5 \\n \\n3.8.  Начальная цена \\nБазового актива  \\n Цена Базового актива в Дату определения Начальной цены Базового актива  \\n3.9.  Финальная цена \\nБазового актива  \\n Цена Базового актива в Дату определения Финальной цены Базового актива  \\n4. УСЛОВИЯ О СТРУКТУРНОМ ДОХОДЕ \\n4.1.  Периодичность \\nвыплаты структурного \\nдохода \\nСтруктурный доход выплачивается в соответствующую Дату выплаты \\nструктурного доходаn и только в случае, если по состоянию на Дату выплаты \\nструктурного доходаn (кроме последней)/Дату определения Финальной цены \\nБазового актива Облигации не были погашены досрочно. \\n4.2.  Даты выплаты \\nструктурного дохода \\nПорядковый номер \\nДаты выплаты \\nструктурного дохода, n Дата выплаты структурного доходаn \\n1 4 марта 2025 г. \\n2 2 июня 2025 г. \\n3 1 сентября 2025 г. \\n4 2 декабря 2025 г. \\n \\n4.3.  Размер структурного \\nдохода \\n6.250% \\n4.4.  Порядок определения \\nДат оценки в случае \\nприменения \\nДополнительных \\nпроцедур определения \\nцены Базового актива'),\n",
              " Document(metadata={'source': 'https://file.com.ru/download/zeyT7UoerDfBCoC/qLQ3668KK319j/SKUV.pdf', 'page': 1}, page_content='2 \\n \\nСообщение о ключевых условиях выпуска является документом, предназначенным для инфо рмирования \\nпотенциальных покупателей Облигаций  – квалифицированных инвесторов об условиях выпуска СО и решениях, \\nпринятых Эмитентом в отношении выпуска СО. \\nВозврат инвесторам номинальной стоимости СО и/или выплата структурного дохода по СО зависит от наступления \\nили не наступления обстоятельств, указанных в эмиссионной документации СО, такие обстоятельства в частности \\nмогут включать в себя наступление определенных событий (далее – «Барьерное событие») в связи с \\nнеблагоприятным изменением цены (значений) Базовых активов. Таким образом риск инвестора проявляется в \\nнеблагоприятном изменении цены ( значений) Базовых активов - в том числе из -за неблагоприятного изменения \\nполитической ситуации, резкой девальвации национальной валюты, кризиса рынка государственны х долговых \\nобязательств, банковского и валютного кризиса, обстоятельств непреодолимой силы, главным образом стихийного'),\n",
              " Document(metadata={'source': 'https://file.com.ru/download/zeyT7UoerDfBCoC/qLQ3668KK319j/SKUV.pdf', 'page': 0}, page_content='допустимом для Вас риске убы тков от таких операций, принимая во внимание, что структурные облигации в \\nсоответствии с законодательством Российской Федерации являются долговыми ценными бумагами без защиты \\nкапитала, неся в себе таким образом риск полного или частичного невозврата инвест орам номинальной стоимости \\nэтих инструментов и/или структурного дохода по ним. Эмитент не гарантирует доходов от указанных в данном \\nСообщении о ключевых условиях выпуска СО и не несет ответственности за результаты Ваших инвестиционных \\nрешений, принятых на основании предоставленной Эмитентом информации. \\nЛюбое приобретение СО должно осуществляться исключительно на основании сведений, содержащихся в \\nэмиссионной документации СО.')]"
            ]
          },
          "metadata": {},
          "execution_count": 23
        }
      ]
    },
    {
      "cell_type": "markdown",
      "source": [
        "#### Вопрос 3\n",
        "Имя какого английского писателя упоминается в статье?\n",
        "\n",
        "#### Правильный ответ\n",
        "В статье упоминается английский писатель Джордж Гордон Байрон (лорд Байрон)."
      ],
      "metadata": {
        "id": "onZZn-OZBcrb"
      }
    },
    {
      "cell_type": "code",
      "source": [
        "vector_store.similarity_search(q3)"
      ],
      "metadata": {
        "colab": {
          "base_uri": "https://localhost:8080/"
        },
        "id": "HtRgmETn_qHp",
        "outputId": "47a266eb-7020-40ff-c955-5ea0a218bb7b"
      },
      "execution_count": 39,
      "outputs": [
        {
          "output_type": "execute_result",
          "data": {
            "text/plain": [
              "[Document(metadata={'source': 'https://api.hostize.com/files/IWrHyUJA_M/download/file.pdf', 'page': 4}, page_content='4.2.  Даты выплаты \\nструктурного дохода \\nПорядковый номер \\nДаты выплаты \\nструктурного дохода, n Дата выплаты структурного доходаn \\n1 4 марта 2025 г. \\n2 2 июня 2025 г. \\n3 1 сентября 2025 г. \\n4 2 декабря 2025 г. \\n \\n4.3.  Размер структурного \\nдохода \\n6.250% \\n4.4.  Порядок определения \\nДат оценки в случае \\nприменения \\nДополнительных \\nпроцедур определения \\nцены Базового актива  \\nВ случае применения Дополнительных процедур определения цены Базового \\nактива, соответствующей Датой оценки является дата, в которую цена Базового \\nактива была определена в порядке, изложенном в разделе «Дополнительные \\nпроцедуры определения цены Базового актива. \\n4.5.  Случаи и порядок, \\nкогда Расчетный агент'),\n",
              " Document(metadata={'source': 'https://api.hostize.com/files/IWrHyUJA_M/download/file.pdf', 'page': 4}, page_content='ненаступлении иных событий (обстоятельств) не позднее следующего Рабочего \\nдня после даты, когда Расчётному агенту стало известно о наступлении/ \\nненаступлении иных событий (обстоятельств), имеющих значение для \\nопределения условий выплаты структурного дохода и/или для расчёта суммы \\nструктурного дохода и/или погашения (досрочного погашения) Облигаций \\nи/или наступления основания для досрочного погашения Облигаций \\n4.6.  \\nВыплата структурного \\nдохода при досрочном \\nпогашении Облигаций \\n \\nВ связи с досрочным погашением Облигаций по требованию их владельцев: не \\nвыплачивается \\n4.7.  Выплата \\nдополнительного Не выплачивается'),\n",
              " Document(metadata={'source': 'https://api.hostize.com/files/IWrHyUJA_M/download/file.pdf', 'page': 5}, page_content='6 \\n \\nдохода при погашении \\nОблигаций, в том \\nчисле досрочном, при \\nнаступлении События \\nнарушения \\n \\n5. УСЛОВИЯ ПОГАШЕНИЯ ОБЛИГАЦИЙ \\n5.1. 8 Дата погашения \\nОблигаций  2 декабря 2025 г. \\n5.2.  Применимость \\nБарьерного события \\nдля целей определения \\nвыплат по \\nОблигациям при \\nпогашении  \\nПрименимо \\n5.3.  Дата проверки \\nБарьерного события \\nдля целей определения \\nвыплат по \\nОблигациям при \\nпогашении \\n Дата определения Финальной цены Базового актива \\n5.4.  Барьерное событие для \\nцелей определения \\nвыплат по \\nОблигациям при \\nпогашении в Дату \\nпогашения Облигаций \\nБарьерное событие для целей определения выплат по Облигациям при \\nпогашении считается наступившим, если Финальная цена Базового актива'),\n",
              " Document(metadata={'source': 'https://api.hostize.com/files/IWrHyUJA_M/download/file.pdf', 'page': 4}, page_content='5 \\n \\n3.8.  Начальная цена \\nБазового актива  \\n Цена Базового актива в Дату определения Начальной цены Базового актива  \\n3.9.  Финальная цена \\nБазового актива  \\n Цена Базового актива в Дату определения Финальной цены Базового актива  \\n4. УСЛОВИЯ О СТРУКТУРНОМ ДОХОДЕ \\n4.1.  Периодичность \\nвыплаты структурного \\nдохода \\nСтруктурный доход выплачивается в соответствующую Дату выплаты \\nструктурного доходаn и только в случае, если по состоянию на Дату выплаты \\nструктурного доходаn (кроме последней)/Дату определения Финальной цены \\nБазового актива Облигации не были погашены досрочно. \\n4.2.  Даты выплаты \\nструктурного дохода \\nПорядковый номер \\nДаты выплаты')]"
            ]
          },
          "metadata": {},
          "execution_count": 39
        }
      ]
    },
    {
      "cell_type": "code",
      "source": [],
      "metadata": {
        "id": "9v4aphLIAE8Y"
      },
      "execution_count": 24,
      "outputs": []
    },
    {
      "cell_type": "markdown",
      "source": [
        "### Создание фрагментов на основе DOCX\n",
        "Используем эту же статью, но в формате DOCX. В качестве загрузчика у нас будет `UnstructuredWordDocumentLoader`."
      ],
      "metadata": {
        "id": "l4T_Pc0WAFRs"
      }
    },
    {
      "cell_type": "code",
      "source": [
        "from langchain_community.document_loaders import UnstructuredWordDocumentLoader\n",
        "loader = UnstructuredWordDocumentLoader('aspekty-sozdaniya-korporativnoy-voprosno-otvetnoy-sistemy-s-ispolzovaniem-generativnyh-predobuchennyh-yazykovyh-modeley.docx')\n",
        "splitted_docx = loader.load_and_split(text_splitter)"
      ],
      "metadata": {
        "id": "jEsFNsPCE2cr",
        "colab": {
          "base_uri": "https://localhost:8080/",
          "height": 329
        },
        "outputId": "661b5bca-4e6f-4ce1-a425-d77d57ac08e2"
      },
      "execution_count": 25,
      "outputs": [
        {
          "output_type": "error",
          "ename": "FileNotFoundError",
          "evalue": "no such file aspekty-sozdaniya-korporativnoy-voprosno-otvetnoy-sistemy-s-ispolzovaniem-generativnyh-predobuchennyh-yazykovyh-modeley.docx",
          "traceback": [
            "\u001b[0;31m---------------------------------------------------------------------------\u001b[0m",
            "\u001b[0;31mFileNotFoundError\u001b[0m                         Traceback (most recent call last)",
            "\u001b[0;32m<ipython-input-25-68e6caf36fe7>\u001b[0m in \u001b[0;36m<cell line: 3>\u001b[0;34m()\u001b[0m\n\u001b[1;32m      1\u001b[0m \u001b[0;32mfrom\u001b[0m \u001b[0mlangchain_community\u001b[0m\u001b[0;34m.\u001b[0m\u001b[0mdocument_loaders\u001b[0m \u001b[0;32mimport\u001b[0m \u001b[0mUnstructuredWordDocumentLoader\u001b[0m\u001b[0;34m\u001b[0m\u001b[0;34m\u001b[0m\u001b[0m\n\u001b[1;32m      2\u001b[0m \u001b[0mloader\u001b[0m \u001b[0;34m=\u001b[0m \u001b[0mUnstructuredWordDocumentLoader\u001b[0m\u001b[0;34m(\u001b[0m\u001b[0;34m'aspekty-sozdaniya-korporativnoy-voprosno-otvetnoy-sistemy-s-ispolzovaniem-generativnyh-predobuchennyh-yazykovyh-modeley.docx'\u001b[0m\u001b[0;34m)\u001b[0m\u001b[0;34m\u001b[0m\u001b[0;34m\u001b[0m\u001b[0m\n\u001b[0;32m----> 3\u001b[0;31m \u001b[0msplitted_docx\u001b[0m \u001b[0;34m=\u001b[0m \u001b[0mloader\u001b[0m\u001b[0;34m.\u001b[0m\u001b[0mload_and_split\u001b[0m\u001b[0;34m(\u001b[0m\u001b[0mtext_splitter\u001b[0m\u001b[0;34m)\u001b[0m\u001b[0;34m\u001b[0m\u001b[0;34m\u001b[0m\u001b[0m\n\u001b[0m",
            "\u001b[0;32m/usr/local/lib/python3.10/dist-packages/langchain_core/document_loaders/base.py\u001b[0m in \u001b[0;36mload_and_split\u001b[0;34m(self, text_splitter)\u001b[0m\n\u001b[1;32m     62\u001b[0m         \u001b[0;32melse\u001b[0m\u001b[0;34m:\u001b[0m\u001b[0;34m\u001b[0m\u001b[0;34m\u001b[0m\u001b[0m\n\u001b[1;32m     63\u001b[0m             \u001b[0m_text_splitter\u001b[0m \u001b[0;34m=\u001b[0m \u001b[0mtext_splitter\u001b[0m\u001b[0;34m\u001b[0m\u001b[0;34m\u001b[0m\u001b[0m\n\u001b[0;32m---> 64\u001b[0;31m         \u001b[0mdocs\u001b[0m \u001b[0;34m=\u001b[0m \u001b[0mself\u001b[0m\u001b[0;34m.\u001b[0m\u001b[0mload\u001b[0m\u001b[0;34m(\u001b[0m\u001b[0;34m)\u001b[0m\u001b[0;34m\u001b[0m\u001b[0;34m\u001b[0m\u001b[0m\n\u001b[0m\u001b[1;32m     65\u001b[0m         \u001b[0;32mreturn\u001b[0m \u001b[0m_text_splitter\u001b[0m\u001b[0;34m.\u001b[0m\u001b[0msplit_documents\u001b[0m\u001b[0;34m(\u001b[0m\u001b[0mdocs\u001b[0m\u001b[0;34m)\u001b[0m\u001b[0;34m\u001b[0m\u001b[0;34m\u001b[0m\u001b[0m\n\u001b[1;32m     66\u001b[0m \u001b[0;34m\u001b[0m\u001b[0m\n",
            "\u001b[0;32m/usr/local/lib/python3.10/dist-packages/langchain_core/document_loaders/base.py\u001b[0m in \u001b[0;36mload\u001b[0;34m(self)\u001b[0m\n\u001b[1;32m     28\u001b[0m     \u001b[0;32mdef\u001b[0m \u001b[0mload\u001b[0m\u001b[0;34m(\u001b[0m\u001b[0mself\u001b[0m\u001b[0;34m)\u001b[0m \u001b[0;34m->\u001b[0m \u001b[0mList\u001b[0m\u001b[0;34m[\u001b[0m\u001b[0mDocument\u001b[0m\u001b[0;34m]\u001b[0m\u001b[0;34m:\u001b[0m\u001b[0;34m\u001b[0m\u001b[0;34m\u001b[0m\u001b[0m\n\u001b[1;32m     29\u001b[0m         \u001b[0;34m\"\"\"Load data into Document objects.\"\"\"\u001b[0m\u001b[0;34m\u001b[0m\u001b[0;34m\u001b[0m\u001b[0m\n\u001b[0;32m---> 30\u001b[0;31m         \u001b[0;32mreturn\u001b[0m \u001b[0mlist\u001b[0m\u001b[0;34m(\u001b[0m\u001b[0mself\u001b[0m\u001b[0;34m.\u001b[0m\u001b[0mlazy_load\u001b[0m\u001b[0;34m(\u001b[0m\u001b[0;34m)\u001b[0m\u001b[0;34m)\u001b[0m\u001b[0;34m\u001b[0m\u001b[0;34m\u001b[0m\u001b[0m\n\u001b[0m\u001b[1;32m     31\u001b[0m \u001b[0;34m\u001b[0m\u001b[0m\n\u001b[1;32m     32\u001b[0m     \u001b[0;32masync\u001b[0m \u001b[0;32mdef\u001b[0m \u001b[0maload\u001b[0m\u001b[0;34m(\u001b[0m\u001b[0mself\u001b[0m\u001b[0;34m)\u001b[0m \u001b[0;34m->\u001b[0m \u001b[0mList\u001b[0m\u001b[0;34m[\u001b[0m\u001b[0mDocument\u001b[0m\u001b[0;34m]\u001b[0m\u001b[0;34m:\u001b[0m\u001b[0;34m\u001b[0m\u001b[0;34m\u001b[0m\u001b[0m\n",
            "\u001b[0;32m/usr/local/lib/python3.10/dist-packages/langchain_community/document_loaders/unstructured.py\u001b[0m in \u001b[0;36mlazy_load\u001b[0;34m(self)\u001b[0m\n\u001b[1;32m    105\u001b[0m     \u001b[0;32mdef\u001b[0m \u001b[0mlazy_load\u001b[0m\u001b[0;34m(\u001b[0m\u001b[0mself\u001b[0m\u001b[0;34m)\u001b[0m \u001b[0;34m->\u001b[0m \u001b[0mIterator\u001b[0m\u001b[0;34m[\u001b[0m\u001b[0mDocument\u001b[0m\u001b[0;34m]\u001b[0m\u001b[0;34m:\u001b[0m\u001b[0;34m\u001b[0m\u001b[0;34m\u001b[0m\u001b[0m\n\u001b[1;32m    106\u001b[0m         \u001b[0;34m\"\"\"Load file.\"\"\"\u001b[0m\u001b[0;34m\u001b[0m\u001b[0;34m\u001b[0m\u001b[0m\n\u001b[0;32m--> 107\u001b[0;31m         \u001b[0melements\u001b[0m \u001b[0;34m=\u001b[0m \u001b[0mself\u001b[0m\u001b[0;34m.\u001b[0m\u001b[0m_get_elements\u001b[0m\u001b[0;34m(\u001b[0m\u001b[0;34m)\u001b[0m\u001b[0;34m\u001b[0m\u001b[0;34m\u001b[0m\u001b[0m\n\u001b[0m\u001b[1;32m    108\u001b[0m         \u001b[0mself\u001b[0m\u001b[0;34m.\u001b[0m\u001b[0m_post_process_elements\u001b[0m\u001b[0;34m(\u001b[0m\u001b[0melements\u001b[0m\u001b[0;34m)\u001b[0m\u001b[0;34m\u001b[0m\u001b[0;34m\u001b[0m\u001b[0m\n\u001b[1;32m    109\u001b[0m         \u001b[0;32mif\u001b[0m \u001b[0mself\u001b[0m\u001b[0;34m.\u001b[0m\u001b[0mmode\u001b[0m \u001b[0;34m==\u001b[0m \u001b[0;34m\"elements\"\u001b[0m\u001b[0;34m:\u001b[0m\u001b[0;34m\u001b[0m\u001b[0;34m\u001b[0m\u001b[0m\n",
            "\u001b[0;32m/usr/local/lib/python3.10/dist-packages/langchain_community/document_loaders/word_document.py\u001b[0m in \u001b[0;36m_get_elements\u001b[0;34m(self)\u001b[0m\n\u001b[1;32m    105\u001b[0m             \u001b[0;32mimport\u001b[0m \u001b[0mmagic\u001b[0m  \u001b[0;31m# noqa: F401\u001b[0m\u001b[0;34m\u001b[0m\u001b[0;34m\u001b[0m\u001b[0m\n\u001b[1;32m    106\u001b[0m \u001b[0;34m\u001b[0m\u001b[0m\n\u001b[0;32m--> 107\u001b[0;31m             \u001b[0mis_doc\u001b[0m \u001b[0;34m=\u001b[0m \u001b[0mdetect_filetype\u001b[0m\u001b[0;34m(\u001b[0m\u001b[0mself\u001b[0m\u001b[0;34m.\u001b[0m\u001b[0mfile_path\u001b[0m\u001b[0;34m)\u001b[0m \u001b[0;34m==\u001b[0m \u001b[0mFileType\u001b[0m\u001b[0;34m.\u001b[0m\u001b[0mDOC\u001b[0m\u001b[0;34m\u001b[0m\u001b[0;34m\u001b[0m\u001b[0m\n\u001b[0m\u001b[1;32m    108\u001b[0m         \u001b[0;32mexcept\u001b[0m \u001b[0mImportError\u001b[0m\u001b[0;34m:\u001b[0m\u001b[0;34m\u001b[0m\u001b[0;34m\u001b[0m\u001b[0m\n\u001b[1;32m    109\u001b[0m             \u001b[0m_\u001b[0m\u001b[0;34m,\u001b[0m \u001b[0mextension\u001b[0m \u001b[0;34m=\u001b[0m \u001b[0mos\u001b[0m\u001b[0;34m.\u001b[0m\u001b[0mpath\u001b[0m\u001b[0;34m.\u001b[0m\u001b[0msplitext\u001b[0m\u001b[0;34m(\u001b[0m\u001b[0mstr\u001b[0m\u001b[0;34m(\u001b[0m\u001b[0mself\u001b[0m\u001b[0;34m.\u001b[0m\u001b[0mfile_path\u001b[0m\u001b[0;34m)\u001b[0m\u001b[0;34m)\u001b[0m\u001b[0;34m\u001b[0m\u001b[0;34m\u001b[0m\u001b[0m\n",
            "\u001b[0;32m/usr/local/lib/python3.10/dist-packages/unstructured/file_utils/filetype.py\u001b[0m in \u001b[0;36mdetect_filetype\u001b[0;34m(file_path, file, encoding, content_type, metadata_file_path)\u001b[0m\n\u001b[1;32m     89\u001b[0m         \u001b[0;34m-\u001b[0m \u001b[0mNeither\u001b[0m\u001b[0;31m \u001b[0m\u001b[0;31m`\u001b[0m\u001b[0mfile_path\u001b[0m\u001b[0;31m`\u001b[0m \u001b[0mnor\u001b[0m\u001b[0;31m \u001b[0m\u001b[0;31m`\u001b[0m\u001b[0mfile\u001b[0m\u001b[0;31m`\u001b[0m \u001b[0mwere\u001b[0m \u001b[0mspecified\u001b[0m\u001b[0;34m.\u001b[0m\u001b[0;34m\u001b[0m\u001b[0;34m\u001b[0m\u001b[0m\n\u001b[1;32m     90\u001b[0m     \"\"\"\n\u001b[0;32m---> 91\u001b[0;31m     ctx = _FileTypeDetectionContext.new(\n\u001b[0m\u001b[1;32m     92\u001b[0m         \u001b[0mfile_path\u001b[0m\u001b[0;34m=\u001b[0m\u001b[0mfile_path\u001b[0m\u001b[0;34m,\u001b[0m\u001b[0;34m\u001b[0m\u001b[0;34m\u001b[0m\u001b[0m\n\u001b[1;32m     93\u001b[0m         \u001b[0mfile\u001b[0m\u001b[0;34m=\u001b[0m\u001b[0mfile\u001b[0m\u001b[0;34m,\u001b[0m\u001b[0;34m\u001b[0m\u001b[0;34m\u001b[0m\u001b[0m\n",
            "\u001b[0;32m/usr/local/lib/python3.10/dist-packages/unstructured/file_utils/filetype.py\u001b[0m in \u001b[0;36mnew\u001b[0;34m(cls, file_path, file, encoding, content_type, metadata_file_path)\u001b[0m\n\u001b[1;32m    274\u001b[0m             \u001b[0mmetadata_file_path\u001b[0m\u001b[0;34m=\u001b[0m\u001b[0mmetadata_file_path\u001b[0m\u001b[0;34m,\u001b[0m\u001b[0;34m\u001b[0m\u001b[0;34m\u001b[0m\u001b[0m\n\u001b[1;32m    275\u001b[0m         )\n\u001b[0;32m--> 276\u001b[0;31m         \u001b[0mself\u001b[0m\u001b[0;34m.\u001b[0m\u001b[0m_validate\u001b[0m\u001b[0;34m(\u001b[0m\u001b[0;34m)\u001b[0m\u001b[0;34m\u001b[0m\u001b[0;34m\u001b[0m\u001b[0m\n\u001b[0m\u001b[1;32m    277\u001b[0m         \u001b[0;32mreturn\u001b[0m \u001b[0mself\u001b[0m\u001b[0;34m\u001b[0m\u001b[0;34m\u001b[0m\u001b[0m\n\u001b[1;32m    278\u001b[0m \u001b[0;34m\u001b[0m\u001b[0m\n",
            "\u001b[0;32m/usr/local/lib/python3.10/dist-packages/unstructured/file_utils/filetype.py\u001b[0m in \u001b[0;36m_validate\u001b[0;34m(self)\u001b[0m\n\u001b[1;32m    436\u001b[0m         \u001b[0;34m\"\"\"Raise if the context is invalid.\"\"\"\u001b[0m\u001b[0;34m\u001b[0m\u001b[0;34m\u001b[0m\u001b[0m\n\u001b[1;32m    437\u001b[0m         \u001b[0;32mif\u001b[0m \u001b[0mself\u001b[0m\u001b[0;34m.\u001b[0m\u001b[0mfile_path\u001b[0m \u001b[0;32mand\u001b[0m \u001b[0;32mnot\u001b[0m \u001b[0mos\u001b[0m\u001b[0;34m.\u001b[0m\u001b[0mpath\u001b[0m\u001b[0;34m.\u001b[0m\u001b[0misfile\u001b[0m\u001b[0;34m(\u001b[0m\u001b[0mself\u001b[0m\u001b[0;34m.\u001b[0m\u001b[0mfile_path\u001b[0m\u001b[0;34m)\u001b[0m\u001b[0;34m:\u001b[0m\u001b[0;34m\u001b[0m\u001b[0;34m\u001b[0m\u001b[0m\n\u001b[0;32m--> 438\u001b[0;31m             \u001b[0;32mraise\u001b[0m \u001b[0mFileNotFoundError\u001b[0m\u001b[0;34m(\u001b[0m\u001b[0;34mf\"no such file {self._file_path_arg}\"\u001b[0m\u001b[0;34m)\u001b[0m\u001b[0;34m\u001b[0m\u001b[0;34m\u001b[0m\u001b[0m\n\u001b[0m\u001b[1;32m    439\u001b[0m         \u001b[0;32mif\u001b[0m \u001b[0;32mnot\u001b[0m \u001b[0mself\u001b[0m\u001b[0;34m.\u001b[0m\u001b[0mfile_path\u001b[0m \u001b[0;32mand\u001b[0m \u001b[0;32mnot\u001b[0m \u001b[0mself\u001b[0m\u001b[0;34m.\u001b[0m\u001b[0m_file_arg\u001b[0m\u001b[0;34m:\u001b[0m\u001b[0;34m\u001b[0m\u001b[0;34m\u001b[0m\u001b[0m\n\u001b[1;32m    440\u001b[0m             \u001b[0;32mraise\u001b[0m \u001b[0mValueError\u001b[0m\u001b[0;34m(\u001b[0m\u001b[0;34m\"either `file_path` or `file` argument must be provided\"\u001b[0m\u001b[0;34m)\u001b[0m\u001b[0;34m\u001b[0m\u001b[0;34m\u001b[0m\u001b[0m\n",
            "\u001b[0;31mFileNotFoundError\u001b[0m: no such file aspekty-sozdaniya-korporativnoy-voprosno-otvetnoy-sistemy-s-ispolzovaniem-generativnyh-predobuchennyh-yazykovyh-modeley.docx"
          ]
        }
      ]
    },
    {
      "cell_type": "markdown",
      "source": [
        "Проверим, сколько вышло фрагментов."
      ],
      "metadata": {
        "id": "jYiv0DiWHTOA"
      }
    },
    {
      "cell_type": "code",
      "source": [
        "len(splitted_docx)"
      ],
      "metadata": {
        "id": "74a15Z5uCV5s"
      },
      "execution_count": null,
      "outputs": []
    },
    {
      "cell_type": "markdown",
      "source": [
        "Видим, что количество фрагментов не совпадает. Сравним содержимое фрагментов из pdf и docx."
      ],
      "metadata": {
        "id": "mlcIQC3HHcrU"
      }
    },
    {
      "cell_type": "code",
      "source": [
        "splitted_data[10]"
      ],
      "metadata": {
        "id": "mDevCzCADTU5"
      },
      "execution_count": null,
      "outputs": []
    },
    {
      "cell_type": "code",
      "source": [
        "splitted_docx[10]"
      ],
      "metadata": {
        "id": "nsOhnlpnDUaq"
      },
      "execution_count": null,
      "outputs": []
    },
    {
      "cell_type": "code",
      "source": [
        "splitted_docx[12]"
      ],
      "metadata": {
        "id": "bKcpKj-JDgeA"
      },
      "execution_count": null,
      "outputs": []
    },
    {
      "cell_type": "code",
      "source": [
        "docs = embedding.embed_documents([splitted_data[10].page_content, splitted_docx[12].page_content])"
      ],
      "metadata": {
        "id": "q_F-WRhG7IbX"
      },
      "execution_count": null,
      "outputs": []
    },
    {
      "cell_type": "code",
      "source": [
        "docs"
      ],
      "metadata": {
        "id": "OmFMajO-qK2s"
      },
      "execution_count": null,
      "outputs": []
    },
    {
      "cell_type": "code",
      "source": [
        "import numpy as np\n",
        "cosine_similarity = np.dot(docs[0], docs[1]) / (np.linalg.norm(docs[0]) * np.linalg.norm(docs[1]))\n",
        "\n",
        "print(f\"Косинусное сходство: {cosine_similarity}\")"
      ],
      "metadata": {
        "id": "MGqwgK1Uq_q8"
      },
      "execution_count": null,
      "outputs": []
    },
    {
      "cell_type": "markdown",
      "source": [
        "## Создание векторных представлений и векторного хранилища\n",
        "\n",
        "Создадим векторное хранилище, но уже из фрагментов docx-файла. Затем зададим такие же вопросы."
      ],
      "metadata": {
        "id": "pjlyVDUZHnpj"
      }
    },
    {
      "cell_type": "code",
      "source": [
        "vector_store_docx = FAISS.from_documents(splitted_docx, embedding=embedding)"
      ],
      "metadata": {
        "id": "-um_wA8GHxvn"
      },
      "execution_count": null,
      "outputs": []
    },
    {
      "cell_type": "markdown",
      "source": [
        "#### Вопрос 1\n",
        "Какой размер чанков показал наибольшую точность ответов при использовании фреймворка Haystack?\n",
        "\n",
        "#### Правильный ответ\n",
        "Размер чанков 100, 200 и 1000 токенов показал одинаковую наибольшую точность ответов (0.7) при использовании фреймворка Haystack."
      ],
      "metadata": {
        "id": "L6E29tspDBMr"
      }
    },
    {
      "cell_type": "code",
      "source": [
        "vector_store_docx.similarity_search(q1)"
      ],
      "metadata": {
        "id": "Xh17EpdoIJbR"
      },
      "execution_count": null,
      "outputs": []
    },
    {
      "cell_type": "markdown",
      "source": [
        "#### Вопрос 2\n",
        "Какие метрики использовались для оценки эффективности использования генеративных предобученных языковых моделей в статье?\n",
        "\n",
        "#### Правильный ответ\n",
        "Для оценки эффективности использования генеративных предобученных языковых моделей использовалась метрика EM (exact match)."
      ],
      "metadata": {
        "id": "ZSKykgu0DJh9"
      }
    },
    {
      "cell_type": "code",
      "source": [
        "vector_store_docx.similarity_search(q2)"
      ],
      "metadata": {
        "id": "tS2kDzmHITcL"
      },
      "execution_count": null,
      "outputs": []
    },
    {
      "cell_type": "markdown",
      "source": [
        "#### Вопрос 3\n",
        "Имя какого английского писателя упоминается в статье?\n",
        "\n",
        "#### Правильный ответ\n",
        "В статье упоминается английский писатель Джордж Гордон Байрон (лорд Байрон)."
      ],
      "metadata": {
        "id": "u9OIX7SADPBp"
      }
    },
    {
      "cell_type": "code",
      "source": [
        "vector_store_docx.similarity_search(q3)"
      ],
      "metadata": {
        "id": "8FETH0iSIZl_"
      },
      "execution_count": null,
      "outputs": []
    },
    {
      "cell_type": "markdown",
      "source": [
        "## Табличные данные\n",
        "Теперь рассмотрим стандартные форматы табличных файлов: CSV и XLSX.\n",
        "\n",
        "Для этого используем загрузчики `CSVLoader` и `UnstructuredExcelLoader`.\n",
        "\n",
        "В качестве табличного файла используем документ [\"Динамика уровня и структуры затрат организаций на рабочую силу\"](https://rosstat.gov.ru/labour_costs#) с сайта Росстата.\n",
        "\n",
        "Файл представляет собой несколько таблиц в основном с количественными данными. Поскольку файл изначально в формате XLSX, сделаем из него и документы в формате CSV. Так как в XLSX-файле несколько листов, придется создать отдельный CSV-файл под каждый лист."
      ],
      "metadata": {
        "id": "9XdzqDElJzmb"
      }
    },
    {
      "cell_type": "code",
      "source": [
        "import pandas as pd\n",
        "\n",
        "# Загрузите Excel файл\n",
        "file_path = '/content/din-zatrat-rs.xlsx'\n",
        "\n",
        "# Читаем все листы из Excel файла\n",
        "sheets = pd.read_excel(file_path, sheet_name=None)\n",
        "\n",
        "# Сохраняем каждый лист как отдельный CSV файл\n",
        "for sheet_name, df in sheets.items():\n",
        "    csv_file = f\"{sheet_name}.csv\"\n",
        "    df.to_csv(csv_file, index=False)\n",
        "    print(f\"Сохранено: {csv_file}\")\n"
      ],
      "metadata": {
        "id": "Q2h8oeTDQp2Z"
      },
      "execution_count": null,
      "outputs": []
    },
    {
      "cell_type": "markdown",
      "source": [
        "### Создание списка csv-файлов и загрузка\n",
        "Поскольку загрузчик `CSVLoader` принимает документы по одному, делаем загрузку в цикле."
      ],
      "metadata": {
        "id": "awN5QjZIDWL2"
      }
    },
    {
      "cell_type": "code",
      "source": [
        "from langchain_community.document_loaders.csv_loader import CSVLoader\n",
        "from glob import glob\n",
        "files = glob('*.csv')\n",
        "\n",
        "splitted_csv = []\n",
        "for f in files:\n",
        "  loader = CSVLoader(f)\n",
        "  splitted_csv.extend(loader.load())"
      ],
      "metadata": {
        "id": "ktSzupicLTLX"
      },
      "execution_count": null,
      "outputs": []
    },
    {
      "cell_type": "markdown",
      "source": [
        "Проверим, сколько фрагментов получилось."
      ],
      "metadata": {
        "id": "rBNswVwvE6d2"
      }
    },
    {
      "cell_type": "code",
      "source": [
        "len(splitted_csv)"
      ],
      "metadata": {
        "id": "7GFamqxdsBBR"
      },
      "execution_count": null,
      "outputs": []
    },
    {
      "cell_type": "markdown",
      "source": [
        "Посмотрим отдельный фрагмент."
      ],
      "metadata": {
        "id": "TuCenuFuFAwQ"
      }
    },
    {
      "cell_type": "code",
      "source": [
        "splitted_csv[139]"
      ],
      "metadata": {
        "id": "GTTFPiDVtZpl"
      },
      "execution_count": null,
      "outputs": []
    },
    {
      "cell_type": "markdown",
      "source": [
        "### Создание векторных представлений и векторного хранилища\n",
        "Поместим фрагменты в базу данных."
      ],
      "metadata": {
        "id": "QE1ShSgLFFdO"
      }
    },
    {
      "cell_type": "code",
      "source": [
        "vector_store_csv = FAISS.from_documents(splitted_csv, embedding=embedding)"
      ],
      "metadata": {
        "id": "Y3Y8S4JFuUfJ"
      },
      "execution_count": null,
      "outputs": []
    },
    {
      "cell_type": "markdown",
      "source": [
        "### Поиск по векторной БД релевантных фрагментов для запросов пользователя\n",
        "Зададим несколько вопросов по данным таблиц.\n",
        "- Какой процент расходов на социальную защиту работников в добыче полезных ископаемых был зафиксирован в 2021 году?\n",
        "- Какой процент от общих затрат на рабочую силу составляла заработная плата в 2005 году по всем обследованным видам экономической деятельности?\n",
        "- В каком году был зафиксирован наибольший процент заработной платы в обрабатывающей промышленности и чему он равен?"
      ],
      "metadata": {
        "id": "NpFSnp-6FgBX"
      }
    },
    {
      "cell_type": "code",
      "source": [
        "q4 = 'Какой процент расходов на социальную защиту работников в добыче полезных ископаемых был зафиксирован в 2021 году?'\n",
        "q5 = 'Какой процент от общих затрат на рабочую силу составляла заработная плата в 2005 году по всем обследованным видам экономической деятельности?'\n",
        "q6 = 'В каком году был зафиксирован наибольший процент заработной платы в обрабатывающей промышленности и чему он равен?'"
      ],
      "metadata": {
        "id": "1nWCP7fK1s_5"
      },
      "execution_count": null,
      "outputs": []
    },
    {
      "cell_type": "markdown",
      "source": [
        "#### Вопрос 4\n",
        "Какой процент расходов на социальную защиту работников в добыче полезных ископаемых был зафиксирован в 2021 году?\n",
        "\n",
        "#### Правильный ответ\n",
        "В 2021 году расходы на социальную защиту работников в добыче полезных ископаемых составляли 22,6%."
      ],
      "metadata": {
        "id": "zt9LSsnnSShm"
      }
    },
    {
      "cell_type": "code",
      "source": [
        "vector_store_csv.similarity_search(q4)"
      ],
      "metadata": {
        "id": "qe23YBo62P9f"
      },
      "execution_count": null,
      "outputs": []
    },
    {
      "cell_type": "markdown",
      "source": [
        "#### Вопрос 5\n",
        "Какой процент от общих затрат на рабочую силу составляла заработная плата в 2005 году по всем обследованным видам экономической деятельности?\n",
        "\n",
        "#### Правильный ответ\n",
        "В 2005 году заработная плата составляла 76,6% от общих затрат на рабочую силу по всем обследованным видам экономической деятельности."
      ],
      "metadata": {
        "id": "bp7FuTOdSXN1"
      }
    },
    {
      "cell_type": "code",
      "source": [
        "vector_store_csv.similarity_search(q5)"
      ],
      "metadata": {
        "id": "GSPSH9Ga2qOW"
      },
      "execution_count": null,
      "outputs": []
    },
    {
      "cell_type": "markdown",
      "source": [
        "#### Вопрос 6\n",
        "В каком году был зафиксирован наибольший процент заработной платы в обрабатывающей промышленности и чему он равен?\n",
        "\n",
        "#### Правильный ответ\n",
        "Наибольший процент заработной платы в обрабатывающей промышленности был зафиксирован в 2007 году и составил 79,5%."
      ],
      "metadata": {
        "id": "SIt5UsBlSZFj"
      }
    },
    {
      "cell_type": "code",
      "source": [
        "vector_store_csv.similarity_search(q6)"
      ],
      "metadata": {
        "id": "xJbewUgA22HS"
      },
      "execution_count": null,
      "outputs": []
    },
    {
      "cell_type": "markdown",
      "source": [
        "### Загрузка табличных данных из xlsx-файла\n",
        "Для сравнения мы выполним разделение на фрагменты тремя способами:\n",
        "- используем сплиттер из текстовых примеров (1000 символов на фрагмент и 100 символов на перекрытие);\n",
        "- применим сплиттер по умолчанию;\n",
        "- зададим параметр `mode='elements'` в загрузчике.\n",
        "\n",
        "При первом варианте настроек загрузчика получаем мелкие фрагменты."
      ],
      "metadata": {
        "id": "96tZhZ0EUOBJ"
      }
    },
    {
      "cell_type": "code",
      "source": [
        "from langchain_community.document_loaders import UnstructuredExcelLoader\n",
        "\n",
        "loader = UnstructuredExcelLoader('din-zatrat-rs.xlsx')\n",
        "splitted_xlsx = loader.load_and_split(text_splitter)"
      ],
      "metadata": {
        "id": "6VXaUjOez3gh"
      },
      "execution_count": null,
      "outputs": []
    },
    {
      "cell_type": "markdown",
      "source": [
        "Посмотрим, сколько всего получилось."
      ],
      "metadata": {
        "id": "WI54puNgYi_G"
      }
    },
    {
      "cell_type": "code",
      "source": [
        "len(splitted_xlsx)"
      ],
      "metadata": {
        "id": "Y5RDq2IbYXBJ"
      },
      "execution_count": null,
      "outputs": []
    },
    {
      "cell_type": "markdown",
      "source": [
        "И отдельно посмотрим один из них."
      ],
      "metadata": {
        "id": "vFkdxDycYo3C"
      }
    },
    {
      "cell_type": "code",
      "source": [
        "splitted_xlsx[5]"
      ],
      "metadata": {
        "id": "kB0Yol4oYfr7"
      },
      "execution_count": null,
      "outputs": []
    },
    {
      "cell_type": "markdown",
      "source": [
        "Теперь используем настройки по умолчанию."
      ],
      "metadata": {
        "id": "x3ErplIjY8Vy"
      }
    },
    {
      "cell_type": "code",
      "source": [
        "splitted_xlsx1 = loader.load_and_split()"
      ],
      "metadata": {
        "id": "jphvbJtB8pm7"
      },
      "execution_count": null,
      "outputs": []
    },
    {
      "cell_type": "markdown",
      "source": [
        "Получим другой список с более крупными фрагментами."
      ],
      "metadata": {
        "id": "ETL9W0QtZJLY"
      }
    },
    {
      "cell_type": "code",
      "source": [
        "len(splitted_xlsx1)"
      ],
      "metadata": {
        "id": "A7mGiR0F8vdq"
      },
      "execution_count": null,
      "outputs": []
    },
    {
      "cell_type": "markdown",
      "source": [
        "Посмотрим отдельный фрагмент."
      ],
      "metadata": {
        "id": "coqdufbMZWVM"
      }
    },
    {
      "cell_type": "code",
      "source": [
        "splitted_xlsx1[3]"
      ],
      "metadata": {
        "id": "efnvyFOkZb2y"
      },
      "execution_count": null,
      "outputs": []
    },
    {
      "cell_type": "markdown",
      "source": [
        "Теперь рассмотрим, как будут нарезаны фрагменты, если установить `mode='elements'`. В [документации](https://api.python.langchain.com/en/latest/document_loaders/langchain_community.document_loaders.excel.UnstructuredExcelLoader.html#langchain_community.document_loaders.excel.UnstructuredExcelLoader.load_and_split) сказано, что в этом случае каждый лист становится отдельным элементом. Но после этого происходит еще нарезка внутри одного листа."
      ],
      "metadata": {
        "id": "t5tzzNSrZiqd"
      }
    },
    {
      "cell_type": "code",
      "source": [
        "loader = UnstructuredExcelLoader('din-zatrat-rs.xlsx', mode='elements')\n",
        "splitted_xlsx2 = loader.load()"
      ],
      "metadata": {
        "id": "tTJ6BR30VRQ_"
      },
      "execution_count": null,
      "outputs": []
    },
    {
      "cell_type": "markdown",
      "source": [
        "Список получился большим."
      ],
      "metadata": {
        "id": "gsLs4TAhaMU6"
      }
    },
    {
      "cell_type": "code",
      "source": [
        "len(splitted_xlsx2)"
      ],
      "metadata": {
        "id": "OpB2HrklVa9T"
      },
      "execution_count": null,
      "outputs": []
    },
    {
      "cell_type": "markdown",
      "source": [
        "Соответственно, каждый фрагмент будет маленьким."
      ],
      "metadata": {
        "id": "Y0uXt8_-aQ_4"
      }
    },
    {
      "cell_type": "code",
      "source": [
        "splitted_xlsx2[5]"
      ],
      "metadata": {
        "id": "ZlCvRuY8Vk-t"
      },
      "execution_count": null,
      "outputs": []
    },
    {
      "cell_type": "markdown",
      "source": [
        "### Создание векторных представлений и векторного хранилища\n",
        "Используем в итоге загрузчик с настройками по умолчанию.\n",
        "\n",
        "Создадим очередное векторное хранилище."
      ],
      "metadata": {
        "id": "XleZCe8iacyJ"
      }
    },
    {
      "cell_type": "code",
      "source": [
        "vector_store_xlsx = FAISS.from_documents(splitted_xlsx1, embedding=embedding)"
      ],
      "metadata": {
        "id": "EH6rVLaWydi6"
      },
      "execution_count": null,
      "outputs": []
    },
    {
      "cell_type": "markdown",
      "source": [
        "Снова зададим вопросы.\n",
        "\n",
        "#### Вопрос 4\n",
        "Какой процент расходов на социальную защиту работников в добыче полезных ископаемых был зафиксирован в 2021 году?\n",
        "\n",
        "#### Правильный ответ\n",
        "В 2021 году расходы на социальную защиту работников в добыче полезных ископаемых составляли 22,6%."
      ],
      "metadata": {
        "id": "QwqiF4MxTb2t"
      }
    },
    {
      "cell_type": "code",
      "source": [
        "vector_store_xlsx.similarity_search(q4)"
      ],
      "metadata": {
        "id": "cLdQLYWU94Gz"
      },
      "execution_count": null,
      "outputs": []
    },
    {
      "cell_type": "markdown",
      "source": [
        "#### Вопрос 5\n",
        "Какой процент от общих затрат на рабочую силу составляла заработная плата в 2005 году по всем обследованным видам экономической деятельности?\n",
        "\n",
        "#### Правильный ответ\n",
        "В 2005 году заработная плата составляла 76,6% от общих затрат на рабочую силу по всем обследованным видам экономической деятельности."
      ],
      "metadata": {
        "id": "m-pAwFEKTWgk"
      }
    },
    {
      "cell_type": "code",
      "source": [
        "vector_store_xlsx.similarity_search(q5)"
      ],
      "metadata": {
        "id": "6ZgW-uqp_C6-"
      },
      "execution_count": null,
      "outputs": []
    },
    {
      "cell_type": "markdown",
      "source": [
        "#### Вопрос 6\n",
        "В каком году был зафиксирован наибольший процент заработной платы в обрабатывающей промышленности и чему он равен?\n",
        "\n",
        "#### Правильный ответ\n",
        "Наибольший процент заработной платы в обрабатывающей промышленности был зафиксирован в 2007 году и составил 79,5%."
      ],
      "metadata": {
        "id": "FbUOqUEJTQN2"
      }
    },
    {
      "cell_type": "code",
      "source": [
        "vector_store_xlsx.similarity_search(q6)"
      ],
      "metadata": {
        "id": "YinqTazHNOoE"
      },
      "execution_count": null,
      "outputs": []
    },
    {
      "cell_type": "code",
      "source": [],
      "metadata": {
        "id": "ym0E6UKGPLRR"
      },
      "execution_count": null,
      "outputs": []
    }
  ]
}